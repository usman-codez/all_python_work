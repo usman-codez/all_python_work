{
  "nbformat": 4,
  "nbformat_minor": 0,
  "metadata": {
    "colab": {
      "provenance": [],
      "gpuType": "T4",
      "authorship_tag": "ABX9TyMDLiCrUeU6bBYdA1UK5pX9",
      "include_colab_link": true
    },
    "kernelspec": {
      "name": "python3",
      "display_name": "Python 3"
    },
    "language_info": {
      "name": "python"
    },
    "widgets": {
      "application/vnd.jupyter.widget-state+json": {
        "c1aa78ab821b4e02a4a9f2d7df8f51d0": {
          "model_module": "@jupyter-widgets/controls",
          "model_name": "HBoxModel",
          "model_module_version": "1.5.0",
          "state": {
            "_dom_classes": [],
            "_model_module": "@jupyter-widgets/controls",
            "_model_module_version": "1.5.0",
            "_model_name": "HBoxModel",
            "_view_count": null,
            "_view_module": "@jupyter-widgets/controls",
            "_view_module_version": "1.5.0",
            "_view_name": "HBoxView",
            "box_style": "",
            "children": [
              "IPY_MODEL_a9dfe59f6218467e9f9f784bb21ba9e7",
              "IPY_MODEL_70d86a5055504e1b929d46ac021e0546",
              "IPY_MODEL_bfc13573f0da4bb2b4fd64a23ca89fd5"
            ],
            "layout": "IPY_MODEL_d29999d16cb64709a678ca824cc42ac2"
          }
        },
        "a9dfe59f6218467e9f9f784bb21ba9e7": {
          "model_module": "@jupyter-widgets/controls",
          "model_name": "HTMLModel",
          "model_module_version": "1.5.0",
          "state": {
            "_dom_classes": [],
            "_model_module": "@jupyter-widgets/controls",
            "_model_module_version": "1.5.0",
            "_model_name": "HTMLModel",
            "_view_count": null,
            "_view_module": "@jupyter-widgets/controls",
            "_view_module_version": "1.5.0",
            "_view_name": "HTMLView",
            "description": "",
            "description_tooltip": null,
            "layout": "IPY_MODEL_d4fd398c1eca488d8422d1a027c18fcc",
            "placeholder": "​",
            "style": "IPY_MODEL_22db1a194c6a4c80849fe28d9337abb8",
            "value": "config.json: 100%"
          }
        },
        "70d86a5055504e1b929d46ac021e0546": {
          "model_module": "@jupyter-widgets/controls",
          "model_name": "FloatProgressModel",
          "model_module_version": "1.5.0",
          "state": {
            "_dom_classes": [],
            "_model_module": "@jupyter-widgets/controls",
            "_model_module_version": "1.5.0",
            "_model_name": "FloatProgressModel",
            "_view_count": null,
            "_view_module": "@jupyter-widgets/controls",
            "_view_module_version": "1.5.0",
            "_view_name": "ProgressView",
            "bar_style": "success",
            "description": "",
            "description_tooltip": null,
            "layout": "IPY_MODEL_cdfa41fe3cae482d831003853c28dc08",
            "max": 1230,
            "min": 0,
            "orientation": "horizontal",
            "style": "IPY_MODEL_f282b413b12a42048089bca9dbd1cdad",
            "value": 1230
          }
        },
        "bfc13573f0da4bb2b4fd64a23ca89fd5": {
          "model_module": "@jupyter-widgets/controls",
          "model_name": "HTMLModel",
          "model_module_version": "1.5.0",
          "state": {
            "_dom_classes": [],
            "_model_module": "@jupyter-widgets/controls",
            "_model_module_version": "1.5.0",
            "_model_name": "HTMLModel",
            "_view_count": null,
            "_view_module": "@jupyter-widgets/controls",
            "_view_module_version": "1.5.0",
            "_view_name": "HTMLView",
            "description": "",
            "description_tooltip": null,
            "layout": "IPY_MODEL_928f1e8ba90c48d599e6ddb159153ab5",
            "placeholder": "​",
            "style": "IPY_MODEL_815c8b87e3254fb79a042a3a748dd62c",
            "value": " 1.23k/1.23k [00:00&lt;00:00, 63.6kB/s]"
          }
        },
        "d29999d16cb64709a678ca824cc42ac2": {
          "model_module": "@jupyter-widgets/base",
          "model_name": "LayoutModel",
          "model_module_version": "1.2.0",
          "state": {
            "_model_module": "@jupyter-widgets/base",
            "_model_module_version": "1.2.0",
            "_model_name": "LayoutModel",
            "_view_count": null,
            "_view_module": "@jupyter-widgets/base",
            "_view_module_version": "1.2.0",
            "_view_name": "LayoutView",
            "align_content": null,
            "align_items": null,
            "align_self": null,
            "border": null,
            "bottom": null,
            "display": null,
            "flex": null,
            "flex_flow": null,
            "grid_area": null,
            "grid_auto_columns": null,
            "grid_auto_flow": null,
            "grid_auto_rows": null,
            "grid_column": null,
            "grid_gap": null,
            "grid_row": null,
            "grid_template_areas": null,
            "grid_template_columns": null,
            "grid_template_rows": null,
            "height": null,
            "justify_content": null,
            "justify_items": null,
            "left": null,
            "margin": null,
            "max_height": null,
            "max_width": null,
            "min_height": null,
            "min_width": null,
            "object_fit": null,
            "object_position": null,
            "order": null,
            "overflow": null,
            "overflow_x": null,
            "overflow_y": null,
            "padding": null,
            "right": null,
            "top": null,
            "visibility": null,
            "width": null
          }
        },
        "d4fd398c1eca488d8422d1a027c18fcc": {
          "model_module": "@jupyter-widgets/base",
          "model_name": "LayoutModel",
          "model_module_version": "1.2.0",
          "state": {
            "_model_module": "@jupyter-widgets/base",
            "_model_module_version": "1.2.0",
            "_model_name": "LayoutModel",
            "_view_count": null,
            "_view_module": "@jupyter-widgets/base",
            "_view_module_version": "1.2.0",
            "_view_name": "LayoutView",
            "align_content": null,
            "align_items": null,
            "align_self": null,
            "border": null,
            "bottom": null,
            "display": null,
            "flex": null,
            "flex_flow": null,
            "grid_area": null,
            "grid_auto_columns": null,
            "grid_auto_flow": null,
            "grid_auto_rows": null,
            "grid_column": null,
            "grid_gap": null,
            "grid_row": null,
            "grid_template_areas": null,
            "grid_template_columns": null,
            "grid_template_rows": null,
            "height": null,
            "justify_content": null,
            "justify_items": null,
            "left": null,
            "margin": null,
            "max_height": null,
            "max_width": null,
            "min_height": null,
            "min_width": null,
            "object_fit": null,
            "object_position": null,
            "order": null,
            "overflow": null,
            "overflow_x": null,
            "overflow_y": null,
            "padding": null,
            "right": null,
            "top": null,
            "visibility": null,
            "width": null
          }
        },
        "22db1a194c6a4c80849fe28d9337abb8": {
          "model_module": "@jupyter-widgets/controls",
          "model_name": "DescriptionStyleModel",
          "model_module_version": "1.5.0",
          "state": {
            "_model_module": "@jupyter-widgets/controls",
            "_model_module_version": "1.5.0",
            "_model_name": "DescriptionStyleModel",
            "_view_count": null,
            "_view_module": "@jupyter-widgets/base",
            "_view_module_version": "1.2.0",
            "_view_name": "StyleView",
            "description_width": ""
          }
        },
        "cdfa41fe3cae482d831003853c28dc08": {
          "model_module": "@jupyter-widgets/base",
          "model_name": "LayoutModel",
          "model_module_version": "1.2.0",
          "state": {
            "_model_module": "@jupyter-widgets/base",
            "_model_module_version": "1.2.0",
            "_model_name": "LayoutModel",
            "_view_count": null,
            "_view_module": "@jupyter-widgets/base",
            "_view_module_version": "1.2.0",
            "_view_name": "LayoutView",
            "align_content": null,
            "align_items": null,
            "align_self": null,
            "border": null,
            "bottom": null,
            "display": null,
            "flex": null,
            "flex_flow": null,
            "grid_area": null,
            "grid_auto_columns": null,
            "grid_auto_flow": null,
            "grid_auto_rows": null,
            "grid_column": null,
            "grid_gap": null,
            "grid_row": null,
            "grid_template_areas": null,
            "grid_template_columns": null,
            "grid_template_rows": null,
            "height": null,
            "justify_content": null,
            "justify_items": null,
            "left": null,
            "margin": null,
            "max_height": null,
            "max_width": null,
            "min_height": null,
            "min_width": null,
            "object_fit": null,
            "object_position": null,
            "order": null,
            "overflow": null,
            "overflow_x": null,
            "overflow_y": null,
            "padding": null,
            "right": null,
            "top": null,
            "visibility": null,
            "width": null
          }
        },
        "f282b413b12a42048089bca9dbd1cdad": {
          "model_module": "@jupyter-widgets/controls",
          "model_name": "ProgressStyleModel",
          "model_module_version": "1.5.0",
          "state": {
            "_model_module": "@jupyter-widgets/controls",
            "_model_module_version": "1.5.0",
            "_model_name": "ProgressStyleModel",
            "_view_count": null,
            "_view_module": "@jupyter-widgets/base",
            "_view_module_version": "1.2.0",
            "_view_name": "StyleView",
            "bar_color": null,
            "description_width": ""
          }
        },
        "928f1e8ba90c48d599e6ddb159153ab5": {
          "model_module": "@jupyter-widgets/base",
          "model_name": "LayoutModel",
          "model_module_version": "1.2.0",
          "state": {
            "_model_module": "@jupyter-widgets/base",
            "_model_module_version": "1.2.0",
            "_model_name": "LayoutModel",
            "_view_count": null,
            "_view_module": "@jupyter-widgets/base",
            "_view_module_version": "1.2.0",
            "_view_name": "LayoutView",
            "align_content": null,
            "align_items": null,
            "align_self": null,
            "border": null,
            "bottom": null,
            "display": null,
            "flex": null,
            "flex_flow": null,
            "grid_area": null,
            "grid_auto_columns": null,
            "grid_auto_flow": null,
            "grid_auto_rows": null,
            "grid_column": null,
            "grid_gap": null,
            "grid_row": null,
            "grid_template_areas": null,
            "grid_template_columns": null,
            "grid_template_rows": null,
            "height": null,
            "justify_content": null,
            "justify_items": null,
            "left": null,
            "margin": null,
            "max_height": null,
            "max_width": null,
            "min_height": null,
            "min_width": null,
            "object_fit": null,
            "object_position": null,
            "order": null,
            "overflow": null,
            "overflow_x": null,
            "overflow_y": null,
            "padding": null,
            "right": null,
            "top": null,
            "visibility": null,
            "width": null
          }
        },
        "815c8b87e3254fb79a042a3a748dd62c": {
          "model_module": "@jupyter-widgets/controls",
          "model_name": "DescriptionStyleModel",
          "model_module_version": "1.5.0",
          "state": {
            "_model_module": "@jupyter-widgets/controls",
            "_model_module_version": "1.5.0",
            "_model_name": "DescriptionStyleModel",
            "_view_count": null,
            "_view_module": "@jupyter-widgets/base",
            "_view_module_version": "1.2.0",
            "_view_name": "StyleView",
            "description_width": ""
          }
        },
        "c396445f8f694338b10b1a2b79b6fff2": {
          "model_module": "@jupyter-widgets/controls",
          "model_name": "HBoxModel",
          "model_module_version": "1.5.0",
          "state": {
            "_dom_classes": [],
            "_model_module": "@jupyter-widgets/controls",
            "_model_module_version": "1.5.0",
            "_model_name": "HBoxModel",
            "_view_count": null,
            "_view_module": "@jupyter-widgets/controls",
            "_view_module_version": "1.5.0",
            "_view_name": "HBoxView",
            "box_style": "",
            "children": [
              "IPY_MODEL_156445edcbbf484fbafef714e3668551",
              "IPY_MODEL_d47fc4ed605042d489ea6cda5a48672a",
              "IPY_MODEL_ebc17924cc8a49af9145ee306fc11e3a"
            ],
            "layout": "IPY_MODEL_5ab16a8ed5fb44b985b7f10bb59eff7c"
          }
        },
        "156445edcbbf484fbafef714e3668551": {
          "model_module": "@jupyter-widgets/controls",
          "model_name": "HTMLModel",
          "model_module_version": "1.5.0",
          "state": {
            "_dom_classes": [],
            "_model_module": "@jupyter-widgets/controls",
            "_model_module_version": "1.5.0",
            "_model_name": "HTMLModel",
            "_view_count": null,
            "_view_module": "@jupyter-widgets/controls",
            "_view_module_version": "1.5.0",
            "_view_name": "HTMLView",
            "description": "",
            "description_tooltip": null,
            "layout": "IPY_MODEL_701d592cdeb043fe8a8062e97dffe9a5",
            "placeholder": "​",
            "style": "IPY_MODEL_ff73043d11b847678e31669cb583f4ce",
            "value": "model.safetensors: 100%"
          }
        },
        "d47fc4ed605042d489ea6cda5a48672a": {
          "model_module": "@jupyter-widgets/controls",
          "model_name": "FloatProgressModel",
          "model_module_version": "1.5.0",
          "state": {
            "_dom_classes": [],
            "_model_module": "@jupyter-widgets/controls",
            "_model_module_version": "1.5.0",
            "_model_name": "FloatProgressModel",
            "_view_count": null,
            "_view_module": "@jupyter-widgets/controls",
            "_view_module_version": "1.5.0",
            "_view_name": "ProgressView",
            "bar_style": "success",
            "description": "",
            "description_tooltip": null,
            "layout": "IPY_MODEL_a60f1eac83f145d0a498e71603a44d15",
            "max": 1187738330,
            "min": 0,
            "orientation": "horizontal",
            "style": "IPY_MODEL_f9081f8946d24e759a89376829651597",
            "value": 1187738330
          }
        },
        "ebc17924cc8a49af9145ee306fc11e3a": {
          "model_module": "@jupyter-widgets/controls",
          "model_name": "HTMLModel",
          "model_module_version": "1.5.0",
          "state": {
            "_dom_classes": [],
            "_model_module": "@jupyter-widgets/controls",
            "_model_module_version": "1.5.0",
            "_model_name": "HTMLModel",
            "_view_count": null,
            "_view_module": "@jupyter-widgets/controls",
            "_view_module_version": "1.5.0",
            "_view_name": "HTMLView",
            "description": "",
            "description_tooltip": null,
            "layout": "IPY_MODEL_e3de89f8a4f444e19703eff82b386cd1",
            "placeholder": "​",
            "style": "IPY_MODEL_913cf10c68f14a659cddd8c9ac9d2c18",
            "value": " 1.19G/1.19G [00:04&lt;00:00, 238MB/s]"
          }
        },
        "5ab16a8ed5fb44b985b7f10bb59eff7c": {
          "model_module": "@jupyter-widgets/base",
          "model_name": "LayoutModel",
          "model_module_version": "1.2.0",
          "state": {
            "_model_module": "@jupyter-widgets/base",
            "_model_module_version": "1.2.0",
            "_model_name": "LayoutModel",
            "_view_count": null,
            "_view_module": "@jupyter-widgets/base",
            "_view_module_version": "1.2.0",
            "_view_name": "LayoutView",
            "align_content": null,
            "align_items": null,
            "align_self": null,
            "border": null,
            "bottom": null,
            "display": null,
            "flex": null,
            "flex_flow": null,
            "grid_area": null,
            "grid_auto_columns": null,
            "grid_auto_flow": null,
            "grid_auto_rows": null,
            "grid_column": null,
            "grid_gap": null,
            "grid_row": null,
            "grid_template_areas": null,
            "grid_template_columns": null,
            "grid_template_rows": null,
            "height": null,
            "justify_content": null,
            "justify_items": null,
            "left": null,
            "margin": null,
            "max_height": null,
            "max_width": null,
            "min_height": null,
            "min_width": null,
            "object_fit": null,
            "object_position": null,
            "order": null,
            "overflow": null,
            "overflow_x": null,
            "overflow_y": null,
            "padding": null,
            "right": null,
            "top": null,
            "visibility": null,
            "width": null
          }
        },
        "701d592cdeb043fe8a8062e97dffe9a5": {
          "model_module": "@jupyter-widgets/base",
          "model_name": "LayoutModel",
          "model_module_version": "1.2.0",
          "state": {
            "_model_module": "@jupyter-widgets/base",
            "_model_module_version": "1.2.0",
            "_model_name": "LayoutModel",
            "_view_count": null,
            "_view_module": "@jupyter-widgets/base",
            "_view_module_version": "1.2.0",
            "_view_name": "LayoutView",
            "align_content": null,
            "align_items": null,
            "align_self": null,
            "border": null,
            "bottom": null,
            "display": null,
            "flex": null,
            "flex_flow": null,
            "grid_area": null,
            "grid_auto_columns": null,
            "grid_auto_flow": null,
            "grid_auto_rows": null,
            "grid_column": null,
            "grid_gap": null,
            "grid_row": null,
            "grid_template_areas": null,
            "grid_template_columns": null,
            "grid_template_rows": null,
            "height": null,
            "justify_content": null,
            "justify_items": null,
            "left": null,
            "margin": null,
            "max_height": null,
            "max_width": null,
            "min_height": null,
            "min_width": null,
            "object_fit": null,
            "object_position": null,
            "order": null,
            "overflow": null,
            "overflow_x": null,
            "overflow_y": null,
            "padding": null,
            "right": null,
            "top": null,
            "visibility": null,
            "width": null
          }
        },
        "ff73043d11b847678e31669cb583f4ce": {
          "model_module": "@jupyter-widgets/controls",
          "model_name": "DescriptionStyleModel",
          "model_module_version": "1.5.0",
          "state": {
            "_model_module": "@jupyter-widgets/controls",
            "_model_module_version": "1.5.0",
            "_model_name": "DescriptionStyleModel",
            "_view_count": null,
            "_view_module": "@jupyter-widgets/base",
            "_view_module_version": "1.2.0",
            "_view_name": "StyleView",
            "description_width": ""
          }
        },
        "a60f1eac83f145d0a498e71603a44d15": {
          "model_module": "@jupyter-widgets/base",
          "model_name": "LayoutModel",
          "model_module_version": "1.2.0",
          "state": {
            "_model_module": "@jupyter-widgets/base",
            "_model_module_version": "1.2.0",
            "_model_name": "LayoutModel",
            "_view_count": null,
            "_view_module": "@jupyter-widgets/base",
            "_view_module_version": "1.2.0",
            "_view_name": "LayoutView",
            "align_content": null,
            "align_items": null,
            "align_self": null,
            "border": null,
            "bottom": null,
            "display": null,
            "flex": null,
            "flex_flow": null,
            "grid_area": null,
            "grid_auto_columns": null,
            "grid_auto_flow": null,
            "grid_auto_rows": null,
            "grid_column": null,
            "grid_gap": null,
            "grid_row": null,
            "grid_template_areas": null,
            "grid_template_columns": null,
            "grid_template_rows": null,
            "height": null,
            "justify_content": null,
            "justify_items": null,
            "left": null,
            "margin": null,
            "max_height": null,
            "max_width": null,
            "min_height": null,
            "min_width": null,
            "object_fit": null,
            "object_position": null,
            "order": null,
            "overflow": null,
            "overflow_x": null,
            "overflow_y": null,
            "padding": null,
            "right": null,
            "top": null,
            "visibility": null,
            "width": null
          }
        },
        "f9081f8946d24e759a89376829651597": {
          "model_module": "@jupyter-widgets/controls",
          "model_name": "ProgressStyleModel",
          "model_module_version": "1.5.0",
          "state": {
            "_model_module": "@jupyter-widgets/controls",
            "_model_module_version": "1.5.0",
            "_model_name": "ProgressStyleModel",
            "_view_count": null,
            "_view_module": "@jupyter-widgets/base",
            "_view_module_version": "1.2.0",
            "_view_name": "StyleView",
            "bar_color": null,
            "description_width": ""
          }
        },
        "e3de89f8a4f444e19703eff82b386cd1": {
          "model_module": "@jupyter-widgets/base",
          "model_name": "LayoutModel",
          "model_module_version": "1.2.0",
          "state": {
            "_model_module": "@jupyter-widgets/base",
            "_model_module_version": "1.2.0",
            "_model_name": "LayoutModel",
            "_view_count": null,
            "_view_module": "@jupyter-widgets/base",
            "_view_module_version": "1.2.0",
            "_view_name": "LayoutView",
            "align_content": null,
            "align_items": null,
            "align_self": null,
            "border": null,
            "bottom": null,
            "display": null,
            "flex": null,
            "flex_flow": null,
            "grid_area": null,
            "grid_auto_columns": null,
            "grid_auto_flow": null,
            "grid_auto_rows": null,
            "grid_column": null,
            "grid_gap": null,
            "grid_row": null,
            "grid_template_areas": null,
            "grid_template_columns": null,
            "grid_template_rows": null,
            "height": null,
            "justify_content": null,
            "justify_items": null,
            "left": null,
            "margin": null,
            "max_height": null,
            "max_width": null,
            "min_height": null,
            "min_width": null,
            "object_fit": null,
            "object_position": null,
            "order": null,
            "overflow": null,
            "overflow_x": null,
            "overflow_y": null,
            "padding": null,
            "right": null,
            "top": null,
            "visibility": null,
            "width": null
          }
        },
        "913cf10c68f14a659cddd8c9ac9d2c18": {
          "model_module": "@jupyter-widgets/controls",
          "model_name": "DescriptionStyleModel",
          "model_module_version": "1.5.0",
          "state": {
            "_model_module": "@jupyter-widgets/controls",
            "_model_module_version": "1.5.0",
            "_model_name": "DescriptionStyleModel",
            "_view_count": null,
            "_view_module": "@jupyter-widgets/base",
            "_view_module_version": "1.2.0",
            "_view_name": "StyleView",
            "description_width": ""
          }
        },
        "bc1f5896df8a4dd4a24166f900f93ebf": {
          "model_module": "@jupyter-widgets/controls",
          "model_name": "HBoxModel",
          "model_module_version": "1.5.0",
          "state": {
            "_dom_classes": [],
            "_model_module": "@jupyter-widgets/controls",
            "_model_module_version": "1.5.0",
            "_model_name": "HBoxModel",
            "_view_count": null,
            "_view_module": "@jupyter-widgets/controls",
            "_view_module_version": "1.5.0",
            "_view_name": "HBoxView",
            "box_style": "",
            "children": [
              "IPY_MODEL_780a16cfaff440a0bfa7c6e575f0b793",
              "IPY_MODEL_09e70899e2fe44169da88147c67eeb06",
              "IPY_MODEL_94f53ca61c914d66bd1f00558ba72ead"
            ],
            "layout": "IPY_MODEL_a247135a336e44568201a5bd3a3e8bea"
          }
        },
        "780a16cfaff440a0bfa7c6e575f0b793": {
          "model_module": "@jupyter-widgets/controls",
          "model_name": "HTMLModel",
          "model_module_version": "1.5.0",
          "state": {
            "_dom_classes": [],
            "_model_module": "@jupyter-widgets/controls",
            "_model_module_version": "1.5.0",
            "_model_name": "HTMLModel",
            "_view_count": null,
            "_view_module": "@jupyter-widgets/controls",
            "_view_module_version": "1.5.0",
            "_view_name": "HTMLView",
            "description": "",
            "description_tooltip": null,
            "layout": "IPY_MODEL_adb20793bb58472680db4fcdf264d97a",
            "placeholder": "​",
            "style": "IPY_MODEL_525634222f5245929485ac43e8059f0a",
            "value": "tokenizer_config.json: 100%"
          }
        },
        "09e70899e2fe44169da88147c67eeb06": {
          "model_module": "@jupyter-widgets/controls",
          "model_name": "FloatProgressModel",
          "model_module_version": "1.5.0",
          "state": {
            "_dom_classes": [],
            "_model_module": "@jupyter-widgets/controls",
            "_model_module_version": "1.5.0",
            "_model_name": "FloatProgressModel",
            "_view_count": null,
            "_view_module": "@jupyter-widgets/controls",
            "_view_module_version": "1.5.0",
            "_view_name": "ProgressView",
            "bar_style": "success",
            "description": "",
            "description_tooltip": null,
            "layout": "IPY_MODEL_86b06c7526b74841b80b8a8b62a008ac",
            "max": 25,
            "min": 0,
            "orientation": "horizontal",
            "style": "IPY_MODEL_94814b8218404b36895094415141c509",
            "value": 25
          }
        },
        "94f53ca61c914d66bd1f00558ba72ead": {
          "model_module": "@jupyter-widgets/controls",
          "model_name": "HTMLModel",
          "model_module_version": "1.5.0",
          "state": {
            "_dom_classes": [],
            "_model_module": "@jupyter-widgets/controls",
            "_model_module_version": "1.5.0",
            "_model_name": "HTMLModel",
            "_view_count": null,
            "_view_module": "@jupyter-widgets/controls",
            "_view_module_version": "1.5.0",
            "_view_name": "HTMLView",
            "description": "",
            "description_tooltip": null,
            "layout": "IPY_MODEL_4805f94575df4ee68a6bf4d6de5669e4",
            "placeholder": "​",
            "style": "IPY_MODEL_6576d659cdce47c1aa3f12954af04dfa",
            "value": " 25.0/25.0 [00:00&lt;00:00, 1.40kB/s]"
          }
        },
        "a247135a336e44568201a5bd3a3e8bea": {
          "model_module": "@jupyter-widgets/base",
          "model_name": "LayoutModel",
          "model_module_version": "1.2.0",
          "state": {
            "_model_module": "@jupyter-widgets/base",
            "_model_module_version": "1.2.0",
            "_model_name": "LayoutModel",
            "_view_count": null,
            "_view_module": "@jupyter-widgets/base",
            "_view_module_version": "1.2.0",
            "_view_name": "LayoutView",
            "align_content": null,
            "align_items": null,
            "align_self": null,
            "border": null,
            "bottom": null,
            "display": null,
            "flex": null,
            "flex_flow": null,
            "grid_area": null,
            "grid_auto_columns": null,
            "grid_auto_flow": null,
            "grid_auto_rows": null,
            "grid_column": null,
            "grid_gap": null,
            "grid_row": null,
            "grid_template_areas": null,
            "grid_template_columns": null,
            "grid_template_rows": null,
            "height": null,
            "justify_content": null,
            "justify_items": null,
            "left": null,
            "margin": null,
            "max_height": null,
            "max_width": null,
            "min_height": null,
            "min_width": null,
            "object_fit": null,
            "object_position": null,
            "order": null,
            "overflow": null,
            "overflow_x": null,
            "overflow_y": null,
            "padding": null,
            "right": null,
            "top": null,
            "visibility": null,
            "width": null
          }
        },
        "adb20793bb58472680db4fcdf264d97a": {
          "model_module": "@jupyter-widgets/base",
          "model_name": "LayoutModel",
          "model_module_version": "1.2.0",
          "state": {
            "_model_module": "@jupyter-widgets/base",
            "_model_module_version": "1.2.0",
            "_model_name": "LayoutModel",
            "_view_count": null,
            "_view_module": "@jupyter-widgets/base",
            "_view_module_version": "1.2.0",
            "_view_name": "LayoutView",
            "align_content": null,
            "align_items": null,
            "align_self": null,
            "border": null,
            "bottom": null,
            "display": null,
            "flex": null,
            "flex_flow": null,
            "grid_area": null,
            "grid_auto_columns": null,
            "grid_auto_flow": null,
            "grid_auto_rows": null,
            "grid_column": null,
            "grid_gap": null,
            "grid_row": null,
            "grid_template_areas": null,
            "grid_template_columns": null,
            "grid_template_rows": null,
            "height": null,
            "justify_content": null,
            "justify_items": null,
            "left": null,
            "margin": null,
            "max_height": null,
            "max_width": null,
            "min_height": null,
            "min_width": null,
            "object_fit": null,
            "object_position": null,
            "order": null,
            "overflow": null,
            "overflow_x": null,
            "overflow_y": null,
            "padding": null,
            "right": null,
            "top": null,
            "visibility": null,
            "width": null
          }
        },
        "525634222f5245929485ac43e8059f0a": {
          "model_module": "@jupyter-widgets/controls",
          "model_name": "DescriptionStyleModel",
          "model_module_version": "1.5.0",
          "state": {
            "_model_module": "@jupyter-widgets/controls",
            "_model_module_version": "1.5.0",
            "_model_name": "DescriptionStyleModel",
            "_view_count": null,
            "_view_module": "@jupyter-widgets/base",
            "_view_module_version": "1.2.0",
            "_view_name": "StyleView",
            "description_width": ""
          }
        },
        "86b06c7526b74841b80b8a8b62a008ac": {
          "model_module": "@jupyter-widgets/base",
          "model_name": "LayoutModel",
          "model_module_version": "1.2.0",
          "state": {
            "_model_module": "@jupyter-widgets/base",
            "_model_module_version": "1.2.0",
            "_model_name": "LayoutModel",
            "_view_count": null,
            "_view_module": "@jupyter-widgets/base",
            "_view_module_version": "1.2.0",
            "_view_name": "LayoutView",
            "align_content": null,
            "align_items": null,
            "align_self": null,
            "border": null,
            "bottom": null,
            "display": null,
            "flex": null,
            "flex_flow": null,
            "grid_area": null,
            "grid_auto_columns": null,
            "grid_auto_flow": null,
            "grid_auto_rows": null,
            "grid_column": null,
            "grid_gap": null,
            "grid_row": null,
            "grid_template_areas": null,
            "grid_template_columns": null,
            "grid_template_rows": null,
            "height": null,
            "justify_content": null,
            "justify_items": null,
            "left": null,
            "margin": null,
            "max_height": null,
            "max_width": null,
            "min_height": null,
            "min_width": null,
            "object_fit": null,
            "object_position": null,
            "order": null,
            "overflow": null,
            "overflow_x": null,
            "overflow_y": null,
            "padding": null,
            "right": null,
            "top": null,
            "visibility": null,
            "width": null
          }
        },
        "94814b8218404b36895094415141c509": {
          "model_module": "@jupyter-widgets/controls",
          "model_name": "ProgressStyleModel",
          "model_module_version": "1.5.0",
          "state": {
            "_model_module": "@jupyter-widgets/controls",
            "_model_module_version": "1.5.0",
            "_model_name": "ProgressStyleModel",
            "_view_count": null,
            "_view_module": "@jupyter-widgets/base",
            "_view_module_version": "1.2.0",
            "_view_name": "StyleView",
            "bar_color": null,
            "description_width": ""
          }
        },
        "4805f94575df4ee68a6bf4d6de5669e4": {
          "model_module": "@jupyter-widgets/base",
          "model_name": "LayoutModel",
          "model_module_version": "1.2.0",
          "state": {
            "_model_module": "@jupyter-widgets/base",
            "_model_module_version": "1.2.0",
            "_model_name": "LayoutModel",
            "_view_count": null,
            "_view_module": "@jupyter-widgets/base",
            "_view_module_version": "1.2.0",
            "_view_name": "LayoutView",
            "align_content": null,
            "align_items": null,
            "align_self": null,
            "border": null,
            "bottom": null,
            "display": null,
            "flex": null,
            "flex_flow": null,
            "grid_area": null,
            "grid_auto_columns": null,
            "grid_auto_flow": null,
            "grid_auto_rows": null,
            "grid_column": null,
            "grid_gap": null,
            "grid_row": null,
            "grid_template_areas": null,
            "grid_template_columns": null,
            "grid_template_rows": null,
            "height": null,
            "justify_content": null,
            "justify_items": null,
            "left": null,
            "margin": null,
            "max_height": null,
            "max_width": null,
            "min_height": null,
            "min_width": null,
            "object_fit": null,
            "object_position": null,
            "order": null,
            "overflow": null,
            "overflow_x": null,
            "overflow_y": null,
            "padding": null,
            "right": null,
            "top": null,
            "visibility": null,
            "width": null
          }
        },
        "6576d659cdce47c1aa3f12954af04dfa": {
          "model_module": "@jupyter-widgets/controls",
          "model_name": "DescriptionStyleModel",
          "model_module_version": "1.5.0",
          "state": {
            "_model_module": "@jupyter-widgets/controls",
            "_model_module_version": "1.5.0",
            "_model_name": "DescriptionStyleModel",
            "_view_count": null,
            "_view_module": "@jupyter-widgets/base",
            "_view_module_version": "1.2.0",
            "_view_name": "StyleView",
            "description_width": ""
          }
        },
        "4ea231a42d8c493881570660e9104574": {
          "model_module": "@jupyter-widgets/controls",
          "model_name": "HBoxModel",
          "model_module_version": "1.5.0",
          "state": {
            "_dom_classes": [],
            "_model_module": "@jupyter-widgets/controls",
            "_model_module_version": "1.5.0",
            "_model_name": "HBoxModel",
            "_view_count": null,
            "_view_module": "@jupyter-widgets/controls",
            "_view_module_version": "1.5.0",
            "_view_name": "HBoxView",
            "box_style": "",
            "children": [
              "IPY_MODEL_a6ef88be60f64866a3172f425abfa9a5",
              "IPY_MODEL_019f340272ec4667af8b4769b3aacc2b",
              "IPY_MODEL_e27e00881a144936ab8d5de810919090"
            ],
            "layout": "IPY_MODEL_d0282543f5e04a319fbb7b28bcf38c6e"
          }
        },
        "a6ef88be60f64866a3172f425abfa9a5": {
          "model_module": "@jupyter-widgets/controls",
          "model_name": "HTMLModel",
          "model_module_version": "1.5.0",
          "state": {
            "_dom_classes": [],
            "_model_module": "@jupyter-widgets/controls",
            "_model_module_version": "1.5.0",
            "_model_name": "HTMLModel",
            "_view_count": null,
            "_view_module": "@jupyter-widgets/controls",
            "_view_module_version": "1.5.0",
            "_view_name": "HTMLView",
            "description": "",
            "description_tooltip": null,
            "layout": "IPY_MODEL_20cd753ce32c4a209f52cb2a7a3fb4fd",
            "placeholder": "​",
            "style": "IPY_MODEL_6dda30e39c98403ab4e40edf6b4e18b3",
            "value": "spiece.model: 100%"
          }
        },
        "019f340272ec4667af8b4769b3aacc2b": {
          "model_module": "@jupyter-widgets/controls",
          "model_name": "FloatProgressModel",
          "model_module_version": "1.5.0",
          "state": {
            "_dom_classes": [],
            "_model_module": "@jupyter-widgets/controls",
            "_model_module_version": "1.5.0",
            "_model_name": "FloatProgressModel",
            "_view_count": null,
            "_view_module": "@jupyter-widgets/controls",
            "_view_module_version": "1.5.0",
            "_view_name": "ProgressView",
            "bar_style": "success",
            "description": "",
            "description_tooltip": null,
            "layout": "IPY_MODEL_ef65d44ef3a442c39d45201490efa38f",
            "max": 791656,
            "min": 0,
            "orientation": "horizontal",
            "style": "IPY_MODEL_7fe0cb7372fc4985b81da288d5860d53",
            "value": 791656
          }
        },
        "e27e00881a144936ab8d5de810919090": {
          "model_module": "@jupyter-widgets/controls",
          "model_name": "HTMLModel",
          "model_module_version": "1.5.0",
          "state": {
            "_dom_classes": [],
            "_model_module": "@jupyter-widgets/controls",
            "_model_module_version": "1.5.0",
            "_model_name": "HTMLModel",
            "_view_count": null,
            "_view_module": "@jupyter-widgets/controls",
            "_view_module_version": "1.5.0",
            "_view_name": "HTMLView",
            "description": "",
            "description_tooltip": null,
            "layout": "IPY_MODEL_4cb0ebd010714ee093a78aed9db89564",
            "placeholder": "​",
            "style": "IPY_MODEL_4ab10bc732b04e668c3e9d391a633901",
            "value": " 792k/792k [00:00&lt;00:00, 1.54MB/s]"
          }
        },
        "d0282543f5e04a319fbb7b28bcf38c6e": {
          "model_module": "@jupyter-widgets/base",
          "model_name": "LayoutModel",
          "model_module_version": "1.2.0",
          "state": {
            "_model_module": "@jupyter-widgets/base",
            "_model_module_version": "1.2.0",
            "_model_name": "LayoutModel",
            "_view_count": null,
            "_view_module": "@jupyter-widgets/base",
            "_view_module_version": "1.2.0",
            "_view_name": "LayoutView",
            "align_content": null,
            "align_items": null,
            "align_self": null,
            "border": null,
            "bottom": null,
            "display": null,
            "flex": null,
            "flex_flow": null,
            "grid_area": null,
            "grid_auto_columns": null,
            "grid_auto_flow": null,
            "grid_auto_rows": null,
            "grid_column": null,
            "grid_gap": null,
            "grid_row": null,
            "grid_template_areas": null,
            "grid_template_columns": null,
            "grid_template_rows": null,
            "height": null,
            "justify_content": null,
            "justify_items": null,
            "left": null,
            "margin": null,
            "max_height": null,
            "max_width": null,
            "min_height": null,
            "min_width": null,
            "object_fit": null,
            "object_position": null,
            "order": null,
            "overflow": null,
            "overflow_x": null,
            "overflow_y": null,
            "padding": null,
            "right": null,
            "top": null,
            "visibility": null,
            "width": null
          }
        },
        "20cd753ce32c4a209f52cb2a7a3fb4fd": {
          "model_module": "@jupyter-widgets/base",
          "model_name": "LayoutModel",
          "model_module_version": "1.2.0",
          "state": {
            "_model_module": "@jupyter-widgets/base",
            "_model_module_version": "1.2.0",
            "_model_name": "LayoutModel",
            "_view_count": null,
            "_view_module": "@jupyter-widgets/base",
            "_view_module_version": "1.2.0",
            "_view_name": "LayoutView",
            "align_content": null,
            "align_items": null,
            "align_self": null,
            "border": null,
            "bottom": null,
            "display": null,
            "flex": null,
            "flex_flow": null,
            "grid_area": null,
            "grid_auto_columns": null,
            "grid_auto_flow": null,
            "grid_auto_rows": null,
            "grid_column": null,
            "grid_gap": null,
            "grid_row": null,
            "grid_template_areas": null,
            "grid_template_columns": null,
            "grid_template_rows": null,
            "height": null,
            "justify_content": null,
            "justify_items": null,
            "left": null,
            "margin": null,
            "max_height": null,
            "max_width": null,
            "min_height": null,
            "min_width": null,
            "object_fit": null,
            "object_position": null,
            "order": null,
            "overflow": null,
            "overflow_x": null,
            "overflow_y": null,
            "padding": null,
            "right": null,
            "top": null,
            "visibility": null,
            "width": null
          }
        },
        "6dda30e39c98403ab4e40edf6b4e18b3": {
          "model_module": "@jupyter-widgets/controls",
          "model_name": "DescriptionStyleModel",
          "model_module_version": "1.5.0",
          "state": {
            "_model_module": "@jupyter-widgets/controls",
            "_model_module_version": "1.5.0",
            "_model_name": "DescriptionStyleModel",
            "_view_count": null,
            "_view_module": "@jupyter-widgets/base",
            "_view_module_version": "1.2.0",
            "_view_name": "StyleView",
            "description_width": ""
          }
        },
        "ef65d44ef3a442c39d45201490efa38f": {
          "model_module": "@jupyter-widgets/base",
          "model_name": "LayoutModel",
          "model_module_version": "1.2.0",
          "state": {
            "_model_module": "@jupyter-widgets/base",
            "_model_module_version": "1.2.0",
            "_model_name": "LayoutModel",
            "_view_count": null,
            "_view_module": "@jupyter-widgets/base",
            "_view_module_version": "1.2.0",
            "_view_name": "LayoutView",
            "align_content": null,
            "align_items": null,
            "align_self": null,
            "border": null,
            "bottom": null,
            "display": null,
            "flex": null,
            "flex_flow": null,
            "grid_area": null,
            "grid_auto_columns": null,
            "grid_auto_flow": null,
            "grid_auto_rows": null,
            "grid_column": null,
            "grid_gap": null,
            "grid_row": null,
            "grid_template_areas": null,
            "grid_template_columns": null,
            "grid_template_rows": null,
            "height": null,
            "justify_content": null,
            "justify_items": null,
            "left": null,
            "margin": null,
            "max_height": null,
            "max_width": null,
            "min_height": null,
            "min_width": null,
            "object_fit": null,
            "object_position": null,
            "order": null,
            "overflow": null,
            "overflow_x": null,
            "overflow_y": null,
            "padding": null,
            "right": null,
            "top": null,
            "visibility": null,
            "width": null
          }
        },
        "7fe0cb7372fc4985b81da288d5860d53": {
          "model_module": "@jupyter-widgets/controls",
          "model_name": "ProgressStyleModel",
          "model_module_version": "1.5.0",
          "state": {
            "_model_module": "@jupyter-widgets/controls",
            "_model_module_version": "1.5.0",
            "_model_name": "ProgressStyleModel",
            "_view_count": null,
            "_view_module": "@jupyter-widgets/base",
            "_view_module_version": "1.2.0",
            "_view_name": "StyleView",
            "bar_color": null,
            "description_width": ""
          }
        },
        "4cb0ebd010714ee093a78aed9db89564": {
          "model_module": "@jupyter-widgets/base",
          "model_name": "LayoutModel",
          "model_module_version": "1.2.0",
          "state": {
            "_model_module": "@jupyter-widgets/base",
            "_model_module_version": "1.2.0",
            "_model_name": "LayoutModel",
            "_view_count": null,
            "_view_module": "@jupyter-widgets/base",
            "_view_module_version": "1.2.0",
            "_view_name": "LayoutView",
            "align_content": null,
            "align_items": null,
            "align_self": null,
            "border": null,
            "bottom": null,
            "display": null,
            "flex": null,
            "flex_flow": null,
            "grid_area": null,
            "grid_auto_columns": null,
            "grid_auto_flow": null,
            "grid_auto_rows": null,
            "grid_column": null,
            "grid_gap": null,
            "grid_row": null,
            "grid_template_areas": null,
            "grid_template_columns": null,
            "grid_template_rows": null,
            "height": null,
            "justify_content": null,
            "justify_items": null,
            "left": null,
            "margin": null,
            "max_height": null,
            "max_width": null,
            "min_height": null,
            "min_width": null,
            "object_fit": null,
            "object_position": null,
            "order": null,
            "overflow": null,
            "overflow_x": null,
            "overflow_y": null,
            "padding": null,
            "right": null,
            "top": null,
            "visibility": null,
            "width": null
          }
        },
        "4ab10bc732b04e668c3e9d391a633901": {
          "model_module": "@jupyter-widgets/controls",
          "model_name": "DescriptionStyleModel",
          "model_module_version": "1.5.0",
          "state": {
            "_model_module": "@jupyter-widgets/controls",
            "_model_module_version": "1.5.0",
            "_model_name": "DescriptionStyleModel",
            "_view_count": null,
            "_view_module": "@jupyter-widgets/base",
            "_view_module_version": "1.2.0",
            "_view_name": "StyleView",
            "description_width": ""
          }
        },
        "4750379a0b3a4ac38ffed7541b69753e": {
          "model_module": "@jupyter-widgets/controls",
          "model_name": "HBoxModel",
          "model_module_version": "1.5.0",
          "state": {
            "_dom_classes": [],
            "_model_module": "@jupyter-widgets/controls",
            "_model_module_version": "1.5.0",
            "_model_name": "HBoxModel",
            "_view_count": null,
            "_view_module": "@jupyter-widgets/controls",
            "_view_module_version": "1.5.0",
            "_view_name": "HBoxView",
            "box_style": "",
            "children": [
              "IPY_MODEL_c3d9a610eae44c85ba3663c00be8e2f0",
              "IPY_MODEL_ca797def91234b76add5818d5a5b323f",
              "IPY_MODEL_da93c292ccae406cbfab12a4d60de362"
            ],
            "layout": "IPY_MODEL_a6198c68685c4141b1dd0f221a3ddcc2"
          }
        },
        "c3d9a610eae44c85ba3663c00be8e2f0": {
          "model_module": "@jupyter-widgets/controls",
          "model_name": "HTMLModel",
          "model_module_version": "1.5.0",
          "state": {
            "_dom_classes": [],
            "_model_module": "@jupyter-widgets/controls",
            "_model_module_version": "1.5.0",
            "_model_name": "HTMLModel",
            "_view_count": null,
            "_view_module": "@jupyter-widgets/controls",
            "_view_module_version": "1.5.0",
            "_view_name": "HTMLView",
            "description": "",
            "description_tooltip": null,
            "layout": "IPY_MODEL_0551276981564dd89f35107b9ad2bebe",
            "placeholder": "​",
            "style": "IPY_MODEL_e049a86c474846f78481b00224cb7321",
            "value": "special_tokens_map.json: 100%"
          }
        },
        "ca797def91234b76add5818d5a5b323f": {
          "model_module": "@jupyter-widgets/controls",
          "model_name": "FloatProgressModel",
          "model_module_version": "1.5.0",
          "state": {
            "_dom_classes": [],
            "_model_module": "@jupyter-widgets/controls",
            "_model_module_version": "1.5.0",
            "_model_name": "FloatProgressModel",
            "_view_count": null,
            "_view_module": "@jupyter-widgets/controls",
            "_view_module_version": "1.5.0",
            "_view_name": "ProgressView",
            "bar_style": "success",
            "description": "",
            "description_tooltip": null,
            "layout": "IPY_MODEL_da34efc3a8cc4c89ad798fd0b5170fba",
            "max": 1786,
            "min": 0,
            "orientation": "horizontal",
            "style": "IPY_MODEL_0a6895b6bd304160b66b71a45fb42c87",
            "value": 1786
          }
        },
        "da93c292ccae406cbfab12a4d60de362": {
          "model_module": "@jupyter-widgets/controls",
          "model_name": "HTMLModel",
          "model_module_version": "1.5.0",
          "state": {
            "_dom_classes": [],
            "_model_module": "@jupyter-widgets/controls",
            "_model_module_version": "1.5.0",
            "_model_name": "HTMLModel",
            "_view_count": null,
            "_view_module": "@jupyter-widgets/controls",
            "_view_module_version": "1.5.0",
            "_view_name": "HTMLView",
            "description": "",
            "description_tooltip": null,
            "layout": "IPY_MODEL_347a1c5fdd534aed91601e4a805a8970",
            "placeholder": "​",
            "style": "IPY_MODEL_30d87f4e855f4717a194bf18516b16f4",
            "value": " 1.79k/1.79k [00:00&lt;00:00, 101kB/s]"
          }
        },
        "a6198c68685c4141b1dd0f221a3ddcc2": {
          "model_module": "@jupyter-widgets/base",
          "model_name": "LayoutModel",
          "model_module_version": "1.2.0",
          "state": {
            "_model_module": "@jupyter-widgets/base",
            "_model_module_version": "1.2.0",
            "_model_name": "LayoutModel",
            "_view_count": null,
            "_view_module": "@jupyter-widgets/base",
            "_view_module_version": "1.2.0",
            "_view_name": "LayoutView",
            "align_content": null,
            "align_items": null,
            "align_self": null,
            "border": null,
            "bottom": null,
            "display": null,
            "flex": null,
            "flex_flow": null,
            "grid_area": null,
            "grid_auto_columns": null,
            "grid_auto_flow": null,
            "grid_auto_rows": null,
            "grid_column": null,
            "grid_gap": null,
            "grid_row": null,
            "grid_template_areas": null,
            "grid_template_columns": null,
            "grid_template_rows": null,
            "height": null,
            "justify_content": null,
            "justify_items": null,
            "left": null,
            "margin": null,
            "max_height": null,
            "max_width": null,
            "min_height": null,
            "min_width": null,
            "object_fit": null,
            "object_position": null,
            "order": null,
            "overflow": null,
            "overflow_x": null,
            "overflow_y": null,
            "padding": null,
            "right": null,
            "top": null,
            "visibility": null,
            "width": null
          }
        },
        "0551276981564dd89f35107b9ad2bebe": {
          "model_module": "@jupyter-widgets/base",
          "model_name": "LayoutModel",
          "model_module_version": "1.2.0",
          "state": {
            "_model_module": "@jupyter-widgets/base",
            "_model_module_version": "1.2.0",
            "_model_name": "LayoutModel",
            "_view_count": null,
            "_view_module": "@jupyter-widgets/base",
            "_view_module_version": "1.2.0",
            "_view_name": "LayoutView",
            "align_content": null,
            "align_items": null,
            "align_self": null,
            "border": null,
            "bottom": null,
            "display": null,
            "flex": null,
            "flex_flow": null,
            "grid_area": null,
            "grid_auto_columns": null,
            "grid_auto_flow": null,
            "grid_auto_rows": null,
            "grid_column": null,
            "grid_gap": null,
            "grid_row": null,
            "grid_template_areas": null,
            "grid_template_columns": null,
            "grid_template_rows": null,
            "height": null,
            "justify_content": null,
            "justify_items": null,
            "left": null,
            "margin": null,
            "max_height": null,
            "max_width": null,
            "min_height": null,
            "min_width": null,
            "object_fit": null,
            "object_position": null,
            "order": null,
            "overflow": null,
            "overflow_x": null,
            "overflow_y": null,
            "padding": null,
            "right": null,
            "top": null,
            "visibility": null,
            "width": null
          }
        },
        "e049a86c474846f78481b00224cb7321": {
          "model_module": "@jupyter-widgets/controls",
          "model_name": "DescriptionStyleModel",
          "model_module_version": "1.5.0",
          "state": {
            "_model_module": "@jupyter-widgets/controls",
            "_model_module_version": "1.5.0",
            "_model_name": "DescriptionStyleModel",
            "_view_count": null,
            "_view_module": "@jupyter-widgets/base",
            "_view_module_version": "1.2.0",
            "_view_name": "StyleView",
            "description_width": ""
          }
        },
        "da34efc3a8cc4c89ad798fd0b5170fba": {
          "model_module": "@jupyter-widgets/base",
          "model_name": "LayoutModel",
          "model_module_version": "1.2.0",
          "state": {
            "_model_module": "@jupyter-widgets/base",
            "_model_module_version": "1.2.0",
            "_model_name": "LayoutModel",
            "_view_count": null,
            "_view_module": "@jupyter-widgets/base",
            "_view_module_version": "1.2.0",
            "_view_name": "LayoutView",
            "align_content": null,
            "align_items": null,
            "align_self": null,
            "border": null,
            "bottom": null,
            "display": null,
            "flex": null,
            "flex_flow": null,
            "grid_area": null,
            "grid_auto_columns": null,
            "grid_auto_flow": null,
            "grid_auto_rows": null,
            "grid_column": null,
            "grid_gap": null,
            "grid_row": null,
            "grid_template_areas": null,
            "grid_template_columns": null,
            "grid_template_rows": null,
            "height": null,
            "justify_content": null,
            "justify_items": null,
            "left": null,
            "margin": null,
            "max_height": null,
            "max_width": null,
            "min_height": null,
            "min_width": null,
            "object_fit": null,
            "object_position": null,
            "order": null,
            "overflow": null,
            "overflow_x": null,
            "overflow_y": null,
            "padding": null,
            "right": null,
            "top": null,
            "visibility": null,
            "width": null
          }
        },
        "0a6895b6bd304160b66b71a45fb42c87": {
          "model_module": "@jupyter-widgets/controls",
          "model_name": "ProgressStyleModel",
          "model_module_version": "1.5.0",
          "state": {
            "_model_module": "@jupyter-widgets/controls",
            "_model_module_version": "1.5.0",
            "_model_name": "ProgressStyleModel",
            "_view_count": null,
            "_view_module": "@jupyter-widgets/base",
            "_view_module_version": "1.2.0",
            "_view_name": "StyleView",
            "bar_color": null,
            "description_width": ""
          }
        },
        "347a1c5fdd534aed91601e4a805a8970": {
          "model_module": "@jupyter-widgets/base",
          "model_name": "LayoutModel",
          "model_module_version": "1.2.0",
          "state": {
            "_model_module": "@jupyter-widgets/base",
            "_model_module_version": "1.2.0",
            "_model_name": "LayoutModel",
            "_view_count": null,
            "_view_module": "@jupyter-widgets/base",
            "_view_module_version": "1.2.0",
            "_view_name": "LayoutView",
            "align_content": null,
            "align_items": null,
            "align_self": null,
            "border": null,
            "bottom": null,
            "display": null,
            "flex": null,
            "flex_flow": null,
            "grid_area": null,
            "grid_auto_columns": null,
            "grid_auto_flow": null,
            "grid_auto_rows": null,
            "grid_column": null,
            "grid_gap": null,
            "grid_row": null,
            "grid_template_areas": null,
            "grid_template_columns": null,
            "grid_template_rows": null,
            "height": null,
            "justify_content": null,
            "justify_items": null,
            "left": null,
            "margin": null,
            "max_height": null,
            "max_width": null,
            "min_height": null,
            "min_width": null,
            "object_fit": null,
            "object_position": null,
            "order": null,
            "overflow": null,
            "overflow_x": null,
            "overflow_y": null,
            "padding": null,
            "right": null,
            "top": null,
            "visibility": null,
            "width": null
          }
        },
        "30d87f4e855f4717a194bf18516b16f4": {
          "model_module": "@jupyter-widgets/controls",
          "model_name": "DescriptionStyleModel",
          "model_module_version": "1.5.0",
          "state": {
            "_model_module": "@jupyter-widgets/controls",
            "_model_module_version": "1.5.0",
            "_model_name": "DescriptionStyleModel",
            "_view_count": null,
            "_view_module": "@jupyter-widgets/base",
            "_view_module_version": "1.2.0",
            "_view_name": "StyleView",
            "description_width": ""
          }
        }
      }
    }
  },
  "cells": [
    {
      "cell_type": "markdown",
      "metadata": {
        "id": "view-in-github",
        "colab_type": "text"
      },
      "source": [
        "<a href=\"https://colab.research.google.com/github/usman-codez/all_python_work/blob/main/Crashcourse.ipynb\" target=\"_parent\"><img src=\"https://colab.research.google.com/assets/colab-badge.svg\" alt=\"Open In Colab\"/></a>"
      ]
    },
    {
      "cell_type": "markdown",
      "source": [
        "String\n"
      ],
      "metadata": {
        "id": "YzObMy-cnL5G"
      }
    },
    {
      "cell_type": "code",
      "source": [
        "\n",
        "import numpy as np\n",
        "from scipy.integrate import solve_ivp\n",
        "import matplotlib.pyplot as plt\n",
        "\n",
        "# Define the system of equations\n",
        "def predator_prey(t, z):\n",
        "    x, y = z\n",
        "    dxdt = -0.16 * x + 0.08 * x * y\n",
        "    dydt = 4.5 * y - 0.9 * x * y\n",
        "    return [dxdt, dydt]\n",
        "\n",
        "# Initial conditions and time span\n",
        "z0 = [5, 2]\n",
        "t_span = (0, 50)\n",
        "\n",
        "# Solve the system\n",
        "sol = solve_ivp(predator_prey, t_span, z0, t_eval=np.linspace(0, 50, 1000))\n",
        "\n",
        "# Plot the results\n",
        "plt.plot(sol.t, sol.y[0], label='Predator (x)')\n",
        "plt.plot(sol.t, sol.y[1], label='Prey (y)')\n",
        "plt.xlabel('Time')\n",
        "plt.ylabel('Population')\n",
        "plt.legend()\n",
        "plt.title('Predator-Prey Dynamics')\n",
        "plt.show()"
      ],
      "metadata": {
        "colab": {
          "base_uri": "https://localhost:8080/",
          "height": 472
        },
        "id": "K027eqrFilty",
        "outputId": "ca731d09-4e6b-435d-baa7-752983b430fc"
      },
      "execution_count": null,
      "outputs": [
        {
          "output_type": "display_data",
          "data": {
            "text/plain": [
              "<Figure size 640x480 with 1 Axes>"
            ],
            "image/png": "[encoded data removed]"
          },
          "metadata": {}
        }
      ]
    },
    {
      "cell_type": "code",
      "source": [
        "#string to list\n",
        "my_string = \"Pakistan won the match\"\n",
        "my_string.split(' ')"
      ],
      "metadata": {
        "colab": {
          "base_uri": "https://localhost:8080/"
        },
        "id": "fxwlzY_ksEXZ",
        "outputId": "40d656e6-aa45-4224-f0dc-5a945cfff353"
      },
      "execution_count": null,
      "outputs": [
        {
          "output_type": "execute_result",
          "data": {
            "text/plain": [
              "['Pakistan', 'won', 'the', 'match']"
            ]
          },
          "metadata": {},
          "execution_count": 7
        }
      ]
    },
    {
      "cell_type": "code",
      "source": [
        "#list to string\n",
        "my_list = ['Pakistan', 'won', 'the', 'match']\n",
        "print(' '.join(my_list))"
      ],
      "metadata": {
        "colab": {
          "base_uri": "https://localhost:8080/"
        },
        "id": "43ziRu-OtM9A",
        "outputId": "76dcbc99-df43-48ba-9210-7f7158308bce"
      },
      "execution_count": null,
      "outputs": [
        {
          "output_type": "stream",
          "name": "stdout",
          "text": [
            "Pakistan won the match\n"
          ]
        }
      ]
    },
    {
      "cell_type": "code",
      "source": [
        "print('Hello World')"
      ],
      "metadata": {
        "colab": {
          "base_uri": "https://localhost:8080/"
        },
        "id": "DbVXc4ITA1Ke",
        "outputId": "560e3504-6511-4a55-a590-580f7249c9f1"
      },
      "execution_count": null,
      "outputs": [
        {
          "output_type": "stream",
          "name": "stdout",
          "text": [
            "Hello World\n"
          ]
        }
      ]
    },
    {
      "cell_type": "code",
      "source": [
        "a = 4\n",
        "b = 5\n",
        "print(a+b)"
      ],
      "metadata": {
        "colab": {
          "base_uri": "https://localhost:8080/"
        },
        "id": "OER48sAkBA_i",
        "outputId": "dbd759f3-02e7-4d73-df57-d96947564c93"
      },
      "execution_count": null,
      "outputs": [
        {
          "output_type": "stream",
          "name": "stdout",
          "text": [
            "9\n"
          ]
        }
      ]
    },
    {
      "cell_type": "code",
      "source": [
        "sports = ['Cricket', 'Football', 'Hockey', 'Badminton']\n",
        "print(sports)"
      ],
      "metadata": {
        "colab": {
          "base_uri": "https://localhost:8080/"
        },
        "id": "IPsJVk8o_WIg",
        "outputId": "3b20c84c-2213-4308-8aff-efdd5e926f22"
      },
      "execution_count": null,
      "outputs": [
        {
          "output_type": "stream",
          "name": "stdout",
          "text": [
            "['Cricket', 'Football', 'Hockey', 'Badminton']\n"
          ]
        }
      ]
    },
    {
      "cell_type": "code",
      "source": [
        "print(sports[2])\n"
      ],
      "metadata": {
        "colab": {
          "base_uri": "https://localhost:8080/"
        },
        "id": "Bsu0UJ7-_ntx",
        "outputId": "9e6dc090-8729-43bf-a77e-46a29a6f2345"
      },
      "execution_count": null,
      "outputs": [
        {
          "output_type": "stream",
          "name": "stdout",
          "text": [
            "Hockey\n"
          ]
        }
      ]
    },
    {
      "cell_type": "code",
      "source": [
        "print(sports[2:4])"
      ],
      "metadata": {
        "colab": {
          "base_uri": "https://localhost:8080/"
        },
        "id": "F_3uRi_b_vYi",
        "outputId": "f49ed08c-42da-4069-b382-fd1e6e910450"
      },
      "execution_count": null,
      "outputs": [
        {
          "output_type": "stream",
          "name": "stdout",
          "text": [
            "['Hockey', 'Badminton']\n"
          ]
        }
      ]
    },
    {
      "cell_type": "code",
      "source": [
        "sports[2] = 'Volyball'\n",
        "sports"
      ],
      "metadata": {
        "colab": {
          "base_uri": "https://localhost:8080/"
        },
        "id": "GW79iiQu__2Z",
        "outputId": "ec34312d-24c1-4660-bd08-79383f3a1f44"
      },
      "execution_count": null,
      "outputs": [
        {
          "output_type": "execute_result",
          "data": {
            "text/plain": [
              "['Cricket', 'Football', 'Volyball', 'Badminton']"
            ]
          },
          "metadata": {},
          "execution_count": 6
        }
      ]
    },
    {
      "cell_type": "code",
      "source": [
        "sports.insert(2, 'Hockey')\n",
        "print(sports)"
      ],
      "metadata": {
        "colab": {
          "base_uri": "https://localhost:8080/"
        },
        "id": "1E8RUWx6D6Se",
        "outputId": "eb0c5b63-533f-44f0-bdb8-538c54bde458"
      },
      "execution_count": null,
      "outputs": [
        {
          "output_type": "stream",
          "name": "stdout",
          "text": [
            "['Cricket', 'Football', 'Hockey', 'Volyball', 'Badminton']\n"
          ]
        }
      ]
    },
    {
      "cell_type": "code",
      "source": [
        "sports.remove('Hockey')\n",
        "print(sports)"
      ],
      "metadata": {
        "colab": {
          "base_uri": "https://localhost:8080/"
        },
        "id": "_kZ5Mi8yEJ1k",
        "outputId": "7324ce3f-40e5-4868-cb31-db09885f0d8b"
      },
      "execution_count": null,
      "outputs": [
        {
          "output_type": "stream",
          "name": "stdout",
          "text": [
            "['Cricket', 'Football', 'Volyball', 'Badminton']\n"
          ]
        }
      ]
    },
    {
      "cell_type": "code",
      "source": [
        "cube_Num = [x**3 for x in range(5)]\n",
        "print(cube_Num)"
      ],
      "metadata": {
        "colab": {
          "base_uri": "https://localhost:8080/"
        },
        "id": "Lcuq_wBSFtsP",
        "outputId": "b05e3cda-d8b4-4d5d-b463-93b8bea7fc1e"
      },
      "execution_count": null,
      "outputs": [
        {
          "output_type": "stream",
          "name": "stdout",
          "text": [
            "[0, 1, 8, 27, 64]\n"
          ]
        }
      ]
    },
    {
      "cell_type": "code",
      "execution_count": null,
      "metadata": {
        "colab": {
          "base_uri": "https://localhost:8080/"
        },
        "id": "NL_XvdQjXJM1",
        "outputId": "45dbce1c-19c2-42c0-9631-dc0ba23fcbcb"
      },
      "outputs": [
        {
          "output_type": "stream",
          "name": "stdout",
          "text": [
            "Hello,Gul! How are you doing\n",
            "Hello,Tyb! How are you doing\n",
            "Hello,Hsn! How are you doing\n",
            "Hello,Shah! How are you doing\n",
            "Hello,Hammad! How are you doing\n"
          ]
        }
      ],
      "source": [
        "names=['gul','tyb','hsn','shah','hammad']\n",
        "\n",
        "print(f'Hello,{names[0].title()}! How are you doing')\n",
        "print(f'Hello,{names[1].title()}! How are you doing')\n",
        "print(f'Hello,{names[2].title()}! How are you doing')\n",
        "print(f'Hello,{names[3].title()}! How are you doing')\n",
        "print(f'Hello,{names[4].title()}! How are you doing')"
      ]
    },
    {
      "cell_type": "code",
      "source": [
        "#list of my likes of transportation and argument about them\n",
        "transportations=['bike','car','plane','bus']\n",
        "print(f'I want a Honda 70 {transportations[0].title()} to buy ')\n",
        "print(f'I want a hundai Civic {transportations[1].title()} to buy ')"
      ],
      "metadata": {
        "colab": {
          "base_uri": "https://localhost:8080/"
        },
        "id": "eBKvH29iYlCy",
        "outputId": "38b9cb40-c8f3-4d31-8eba-3b9e19f982cc"
      },
      "execution_count": null,
      "outputs": [
        {
          "output_type": "stream",
          "name": "stdout",
          "text": [
            "I want a Honda 70 Bike to buy \n",
            "I want a hundai Civic Car to buy \n"
          ]
        }
      ]
    },
    {
      "cell_type": "code",
      "source": [
        "#To change the value in list\n",
        "bikes=['honda','yamaha','united']\n",
        "print(bikes)\n",
        "bikes[2]='prince'\n",
        "print(bikes)"
      ],
      "metadata": {
        "colab": {
          "base_uri": "https://localhost:8080/"
        },
        "id": "5hW3eAtkakzb",
        "outputId": "ecf30018-9d87-46f1-bc83-e7dde8063361"
      },
      "execution_count": null,
      "outputs": [
        {
          "output_type": "stream",
          "name": "stdout",
          "text": [
            "['honda', 'yamaha', 'united']\n",
            "['honda', 'yamaha', 'prince']\n"
          ]
        }
      ]
    },
    {
      "cell_type": "code",
      "source": [
        "del bikes[0]\n",
        "print(bikes)"
      ],
      "metadata": {
        "colab": {
          "base_uri": "https://localhost:8080/"
        },
        "id": "gfj2oHF2jBSQ",
        "outputId": "0f75cb7b-038c-4939-8006-67a7426a8875"
      },
      "execution_count": null,
      "outputs": [
        {
          "output_type": "stream",
          "name": "stdout",
          "text": [
            "['yamaha', 'prince']\n"
          ]
        }
      ]
    },
    {
      "cell_type": "markdown",
      "source": [
        "**Exercise of list**"
      ],
      "metadata": {
        "id": "6WEWBu1znWTy"
      }
    },
    {
      "cell_type": "code",
      "source": [
        "invitition=['Tayyab','Gulsher','Hassan']\n",
        "invitition[0]='Hammad'\n",
        "print(f'{invitition[0]} your presence at the dinner will be very benifial for me')\n",
        "print(f'{invitition[1]} your presence at the dinner will be very benifial for me')\n",
        "print(f'{invitition[2]} your presence at the dinner will be very benifial for me')"
      ],
      "metadata": {
        "colab": {
          "base_uri": "https://localhost:8080/"
        },
        "id": "RyPv2Av_nVzT",
        "outputId": "d41b3318-d191-4336-ccc3-831fdad942a9"
      },
      "execution_count": null,
      "outputs": [
        {
          "output_type": "stream",
          "name": "stdout",
          "text": [
            "Hammad your presence at the dinner will be very benifial for me\n",
            "Gulsher your presence at the dinner will be very benifial for me\n",
            "Hassan your presence at the dinner will be very benifial for me\n"
          ]
        }
      ]
    },
    {
      "cell_type": "code",
      "source": [
        "locations=['mecca','madina','new zealand','dubai','hunza']\n",
        "for i in locations:\n",
        "  print(f'{i.title()} is my dream place to visit')\n",
        "  print(f'I am working hard to visit {i.title()}.\\n')\n"
      ],
      "metadata": {
        "colab": {
          "base_uri": "https://localhost:8080/"
        },
        "id": "ha3FmhHwpcEN",
        "outputId": "9648800d-1633-41b8-e990-733b0ff3a4af"
      },
      "execution_count": null,
      "outputs": [
        {
          "output_type": "stream",
          "name": "stdout",
          "text": [
            "Mecca is my dream place to visit\n",
            "I am working hard to visit Mecca.\n",
            "\n",
            "Madina is my dream place to visit\n",
            "I am working hard to visit Madina.\n",
            "\n",
            "New Zealand is my dream place to visit\n",
            "I am working hard to visit New Zealand.\n",
            "\n",
            "Dubai is my dream place to visit\n",
            "I am working hard to visit Dubai.\n",
            "\n",
            "Hunza is my dream place to visit\n",
            "I am working hard to visit Hunza.\n",
            "\n"
          ]
        }
      ]
    },
    {
      "cell_type": "code",
      "source": [
        "pizzas=['fijita','tikka','chicken spicy']\n",
        "for pizza in pizzas:\n",
        "  print(f'I like {pizza} pizza.')\n",
        "print('\\nI really like pizza because there taste always make me hungry. there are differrent kinds of pizzas but i like which are mentioned at above.')\n",
        "print('I really love pizza')"
      ],
      "metadata": {
        "colab": {
          "base_uri": "https://localhost:8080/"
        },
        "id": "rzsANzvI0H_w",
        "outputId": "0c02a858-1bfb-44dc-92eb-8b15e567f500"
      },
      "execution_count": null,
      "outputs": [
        {
          "output_type": "stream",
          "name": "stdout",
          "text": [
            "I like fijita pizza.\n",
            "I like tikka pizza.\n",
            "I like chicken spicy pizza.\n",
            "\n",
            "I really like pizza because there taste always make me hungry. there are differrent kinds of pizzas but i like which are mentioned at above.\n",
            "I really love pizza\n"
          ]
        }
      ]
    },
    {
      "cell_type": "code",
      "source": [
        "animals=['dog','cat','cow']\n",
        "for animal in animals:\n",
        "  print(f'{animal} is a animal')"
      ],
      "metadata": {
        "colab": {
          "base_uri": "https://localhost:8080/"
        },
        "id": "hM369M3B2Ayt",
        "outputId": "abe18eb7-76b5-4ff6-e56c-0f74d857fa35"
      },
      "execution_count": null,
      "outputs": [
        {
          "output_type": "stream",
          "name": "stdout",
          "text": [
            "dog is a animal\n",
            "cat is a animal\n",
            "cow is a animal\n"
          ]
        }
      ]
    },
    {
      "cell_type": "code",
      "source": [
        "squires=[]\n",
        "for value in range(1,11):\n",
        "  squire=value**2\n",
        "  squires.append(squire)\n",
        "print(squires)\n",
        "print(min(squires))\n",
        "print(max(squires))\n",
        "print(sum(squires))"
      ],
      "metadata": {
        "colab": {
          "base_uri": "https://localhost:8080/"
        },
        "id": "JFhw30schUp0",
        "outputId": "f8200d20-38ca-466c-eb45-47ea9f3b90c7"
      },
      "execution_count": null,
      "outputs": [
        {
          "output_type": "stream",
          "name": "stdout",
          "text": [
            "[1, 4, 9, 16, 25, 36, 49, 64, 81, 100]\n",
            "1\n",
            "100\n",
            "385\n"
          ]
        }
      ]
    },
    {
      "cell_type": "code",
      "source": [
        "squires=[value**2 for value in range(1,11)]\n",
        "print(squires)"
      ],
      "metadata": {
        "colab": {
          "base_uri": "https://localhost:8080/"
        },
        "id": "WVUqWgKVmHWU",
        "outputId": "fbf064ed-a695-4e78-c6f5-15d279acb399"
      },
      "execution_count": null,
      "outputs": [
        {
          "output_type": "stream",
          "name": "stdout",
          "text": [
            "[1, 4, 9, 16, 25, 36, 49, 64, 81, 100]\n"
          ]
        }
      ]
    },
    {
      "cell_type": "code",
      "source": [
        "for i in range(1,21):\n",
        "  print(i)"
      ],
      "metadata": {
        "colab": {
          "base_uri": "https://localhost:8080/"
        },
        "id": "pTFKsXjEnVpU",
        "outputId": "b67c197c-33f0-448b-89f8-0a871e52e223"
      },
      "execution_count": null,
      "outputs": [
        {
          "output_type": "stream",
          "name": "stdout",
          "text": [
            "1\n",
            "2\n",
            "3\n",
            "4\n",
            "5\n",
            "6\n",
            "7\n",
            "8\n",
            "9\n",
            "10\n",
            "11\n",
            "12\n",
            "13\n",
            "14\n",
            "15\n",
            "16\n",
            "17\n",
            "18\n",
            "19\n",
            "20\n"
          ]
        }
      ]
    },
    {
      "cell_type": "code",
      "source": [
        "millions=list(range(1,1000000))\n",
        "\n",
        "print(min(millions))\n",
        "print(max(millions))\n",
        "print(sum(millions))\n"
      ],
      "metadata": {
        "colab": {
          "base_uri": "https://localhost:8080/"
        },
        "id": "8QDTsSsYnpX5",
        "outputId": "e445ee75-c639-4745-fb77-2529266b2965"
      },
      "execution_count": null,
      "outputs": [
        {
          "output_type": "stream",
          "name": "stdout",
          "text": [
            "1\n",
            "999999\n",
            "499999500000\n"
          ]
        }
      ]
    },
    {
      "cell_type": "code",
      "source": [
        "odd=list(range(1,21,2))\n",
        "for i in odd:\n",
        "  print(i)"
      ],
      "metadata": {
        "colab": {
          "base_uri": "https://localhost:8080/"
        },
        "id": "ecU4YfNWq5KY",
        "outputId": "4e1e52e2-481e-4950-d257-27bea86a54a3"
      },
      "execution_count": null,
      "outputs": [
        {
          "output_type": "stream",
          "name": "stdout",
          "text": [
            "1\n",
            "3\n",
            "5\n",
            "7\n",
            "9\n",
            "11\n",
            "13\n",
            "15\n",
            "17\n",
            "19\n"
          ]
        }
      ]
    },
    {
      "cell_type": "code",
      "source": [
        "threes=list(range(3,31,3))\n",
        "for three in threes:\n",
        "  print(three)"
      ],
      "metadata": {
        "colab": {
          "base_uri": "https://localhost:8080/"
        },
        "id": "Iik54abKrjTX",
        "outputId": "14d7a3b4-cb59-4ad8-cd0b-b28e9d9f4f3f"
      },
      "execution_count": null,
      "outputs": [
        {
          "output_type": "stream",
          "name": "stdout",
          "text": [
            "3\n",
            "6\n",
            "9\n",
            "12\n",
            "15\n",
            "18\n",
            "21\n",
            "24\n",
            "27\n",
            "30\n"
          ]
        }
      ]
    },
    {
      "cell_type": "code",
      "source": [
        "list=[]\n",
        "for i in range(1,11):\n",
        "  list.append(i**3)\n",
        "print(list)\n",
        "for j in list:\n",
        "  print(j)\n"
      ],
      "metadata": {
        "colab": {
          "base_uri": "https://localhost:8080/"
        },
        "id": "7H7RzH7QsRpi",
        "outputId": "6c1207a1-474b-4391-fddc-7a36ae3c69b4"
      },
      "execution_count": null,
      "outputs": [
        {
          "output_type": "stream",
          "name": "stdout",
          "text": [
            "[1, 8, 27, 64, 125, 216, 343, 512, 729, 1000]\n",
            "1\n",
            "8\n",
            "27\n",
            "64\n",
            "125\n",
            "216\n",
            "343\n",
            "512\n",
            "729\n",
            "1000\n"
          ]
        }
      ]
    },
    {
      "cell_type": "code",
      "source": [
        "list=[value**3 for value in range(1,11)]\n",
        "print(list)"
      ],
      "metadata": {
        "colab": {
          "base_uri": "https://localhost:8080/"
        },
        "id": "GfGc4k_-qhdh",
        "outputId": "7999856d-454a-4764-e28c-43c11fbb4c04"
      },
      "execution_count": null,
      "outputs": [
        {
          "output_type": "stream",
          "name": "stdout",
          "text": [
            "[1, 8, 27, 64, 125, 216, 343, 512, 729, 1000]\n"
          ]
        }
      ]
    },
    {
      "cell_type": "code",
      "source": [
        "list=['a','b','c','d','e','f','g','h']\n",
        "print('The 1st three items are : ')\n",
        "print(list[0:3])\n",
        "print('The middle three items are : ')\n",
        "print(list[3:6])\n",
        "print('The last three items are : ')\n",
        "print(list[-3:])\n",
        "\n"
      ],
      "metadata": {
        "colab": {
          "base_uri": "https://localhost:8080/"
        },
        "id": "Qt4muMSDtUT0",
        "outputId": "5849bc68-9422-4ec4-8c40-ae9de4ac42f8"
      },
      "execution_count": null,
      "outputs": [
        {
          "output_type": "stream",
          "name": "stdout",
          "text": [
            "The 1st three items are : \n",
            "['a', 'b', 'c']\n",
            "The middle three items are : \n",
            "['d', 'e', 'f']\n",
            "The last three items are : \n",
            "['f', 'g', 'h']\n"
          ]
        }
      ]
    },
    {
      "cell_type": "code",
      "source": [
        "pizza=['fajita','tikka','spicy']\n",
        "frind=pizza[:]\n",
        "pizza.append('vegetable')\n",
        "frind.append('kabab')\n",
        "print(\"My favourite pizza are : \")\n",
        "for i in pizza:\n",
        "  print(i)\n",
        "print('My frind favt are : ')\n",
        "for j in frind:\n",
        "  print(j)"
      ],
      "metadata": {
        "colab": {
          "base_uri": "https://localhost:8080/"
        },
        "id": "rGqHTKbs3_AZ",
        "outputId": "3594d637-64f5-4abe-e0dd-e3898e9cd665"
      },
      "execution_count": null,
      "outputs": [
        {
          "output_type": "stream",
          "name": "stdout",
          "text": [
            "My favourite pizza are : \n",
            "fajita\n",
            "tikka\n",
            "spicy\n",
            "vegetable\n",
            "My frind favt are : \n",
            "fajita\n",
            "tikka\n",
            "spicy\n",
            "kabab\n"
          ]
        }
      ]
    },
    {
      "cell_type": "markdown",
      "source": [
        "# ***Tuples***\n"
      ],
      "metadata": {
        "id": "nsSEbAMpBYI4"
      }
    },
    {
      "cell_type": "code",
      "source": [
        "tup=('Hammad',23,45)\n",
        "for i in tup:\n",
        "  print(i)"
      ],
      "metadata": {
        "colab": {
          "base_uri": "https://localhost:8080/"
        },
        "id": "UjyBxc2WB8M3",
        "outputId": "dd5bb7dc-8191-4528-a54f-0477f2535216"
      },
      "execution_count": null,
      "outputs": [
        {
          "output_type": "stream",
          "name": "stdout",
          "text": [
            "Hammad\n",
            "23\n",
            "45\n"
          ]
        }
      ]
    },
    {
      "cell_type": "code",
      "source": [
        "dimen=(200,50)\n",
        "print('Original Dimensions: ')\n",
        "for i in dimen:\n",
        "  print(i)\n",
        "\n",
        "dimen=(201,51)\n",
        "print('\\nModofied Dimensions : ')\n",
        "for i in dimen:\n",
        "  print(i)"
      ],
      "metadata": {
        "colab": {
          "base_uri": "https://localhost:8080/"
        },
        "id": "YvkNSZeCI_jB",
        "outputId": "a8d96365-5143-42eb-c14a-50df6ad6a365"
      },
      "execution_count": null,
      "outputs": [
        {
          "output_type": "stream",
          "name": "stdout",
          "text": [
            "Original Dimensions: \n",
            "200\n",
            "50\n",
            "\n",
            "Modofied Dimensions : \n",
            "201\n",
            "51\n"
          ]
        }
      ]
    },
    {
      "cell_type": "code",
      "source": [
        "menu=('karahi','kabab','kheer','biryani','zarda')\n",
        "for i in menu:\n",
        "  print(i)\n",
        "\n",
        "print('\\nRevised menu')\n",
        "menu=('karahi','tikka','kheer','biryani','zarda')\n",
        "for i in menu:\n",
        "  print(i)"
      ],
      "metadata": {
        "colab": {
          "base_uri": "https://localhost:8080/"
        },
        "id": "FPsi1c5TKQJE",
        "outputId": "d6385b2c-df44-45d7-92f0-a061fd5245c3"
      },
      "execution_count": null,
      "outputs": [
        {
          "output_type": "stream",
          "name": "stdout",
          "text": [
            "karahi\n",
            "kabab\n",
            "kheer\n",
            "biryani\n",
            "zarda\n",
            "\n",
            "Revised menu\n",
            "karahi\n",
            "tikka\n",
            "kheer\n",
            "biryani\n",
            "zarda\n"
          ]
        }
      ]
    },
    {
      "cell_type": "markdown",
      "source": [
        "# ***IF STATMENTS***"
      ],
      "metadata": {
        "id": "qfg9o4IcjpkE"
      }
    },
    {
      "cell_type": "code",
      "source": [
        "cars=['tyota','hundai','bmw']\n",
        "for i in cars:\n",
        "  if i=='bmw':\n",
        "    print(i.upper())\n",
        "  else:\n",
        "    print(i.title())"
      ],
      "metadata": {
        "colab": {
          "base_uri": "https://localhost:8080/"
        },
        "id": "ujIRD6n_jvdw",
        "outputId": "60714ae1-dc89-4c17-abb0-b9762e3e83f6"
      },
      "execution_count": null,
      "outputs": [
        {
          "output_type": "stream",
          "name": "stdout",
          "text": [
            "Tyota\n",
            "Hundai\n",
            "BMW\n"
          ]
        }
      ]
    },
    {
      "cell_type": "code",
      "source": [
        "cars='Tyota'\n",
        "cars.lower()=='tyota'"
      ],
      "metadata": {
        "colab": {
          "base_uri": "https://localhost:8080/"
        },
        "id": "6stGetLM6gj9",
        "outputId": "80425832-3499-493d-90f2-84ded3c7a11f"
      },
      "execution_count": null,
      "outputs": [
        {
          "output_type": "execute_result",
          "data": {
            "text/plain": [
              "True"
            ]
          },
          "metadata": {},
          "execution_count": 9
        }
      ]
    },
    {
      "cell_type": "code",
      "source": [
        "pizza= ['fijita','tikka','kabab']\n",
        "'fijita' in pizza\n"
      ],
      "metadata": {
        "colab": {
          "base_uri": "https://localhost:8080/"
        },
        "id": "5sbFF3aQAHe0",
        "outputId": "3013b00c-04ec-43a7-ce8c-520b4a8ec61e"
      },
      "execution_count": null,
      "outputs": [
        {
          "output_type": "execute_result",
          "data": {
            "text/plain": [
              "True"
            ]
          },
          "metadata": {},
          "execution_count": 13
        }
      ]
    },
    {
      "cell_type": "code",
      "source": [
        "'vegetable' in pizza"
      ],
      "metadata": {
        "colab": {
          "base_uri": "https://localhost:8080/"
        },
        "id": "Qna5YAKTAYkK",
        "outputId": "3469f51d-0ea1-48d4-a62c-ded3da510ffe"
      },
      "execution_count": null,
      "outputs": [
        {
          "output_type": "execute_result",
          "data": {
            "text/plain": [
              "False"
            ]
          },
          "metadata": {},
          "execution_count": 14
        }
      ]
    },
    {
      "cell_type": "code",
      "source": [
        "banned=['tayyab','hasnain','gulsher','ali']\n",
        "user='Hammad'\n",
        "if user not in banned:\n",
        "  print(f'{user.title()} You can comment')\n",
        "else:\n",
        "  print('Sorry you are banned')"
      ],
      "metadata": {
        "colab": {
          "base_uri": "https://localhost:8080/"
        },
        "id": "Gk1fBovnAuVk",
        "outputId": "1e5c818a-f1df-4c2a-b46e-6843d5b97335"
      },
      "execution_count": null,
      "outputs": [
        {
          "output_type": "stream",
          "name": "stdout",
          "text": [
            "Hammad You can comment\n"
          ]
        }
      ]
    },
    {
      "cell_type": "code",
      "source": [
        "string='slam!'\n",
        "string=='slam!'"
      ],
      "metadata": {
        "colab": {
          "base_uri": "https://localhost:8080/"
        },
        "id": "LwVgeWBBCUgk",
        "outputId": "c261371e-57c5-4603-e7ce-cf8d5ec2229c"
      },
      "execution_count": null,
      "outputs": [
        {
          "output_type": "execute_result",
          "data": {
            "text/plain": [
              "True"
            ]
          },
          "metadata": {},
          "execution_count": 18
        }
      ]
    },
    {
      "cell_type": "code",
      "source": [
        "age=12\n",
        "if age<4:\n",
        "  price=0\n",
        "elif age<18:\n",
        "  price=25\n",
        "else:\n",
        "  price=40\n",
        "\n",
        "print(f'Your fee for this is {price} ')"
      ],
      "metadata": {
        "colab": {
          "base_uri": "https://localhost:8080/"
        },
        "id": "p5l3_zgYFpMQ",
        "outputId": "249da677-5068-4d2a-e39d-01558c31c85e"
      },
      "execution_count": null,
      "outputs": [
        {
          "output_type": "stream",
          "name": "stdout",
          "text": [
            "Your fee for this is 25 \n"
          ]
        }
      ]
    },
    {
      "cell_type": "code",
      "source": [
        "alien_color='yellow'\n",
        "if alien_color=='green':\n",
        "  print('The player got 5 points')\n",
        "elif alien_color=='red':\n",
        "  print('The player got 10 points')\n",
        "elif alien_color=='yellow':\n",
        "  print('The player got 15 points')"
      ],
      "metadata": {
        "colab": {
          "base_uri": "https://localhost:8080/"
        },
        "id": "H91cMdnbPkL_",
        "outputId": "8152ccd6-62fa-4c53-a6ea-eaf1f0d99c60"
      },
      "execution_count": null,
      "outputs": [
        {
          "output_type": "stream",
          "name": "stdout",
          "text": [
            "The player got 15 points\n"
          ]
        }
      ]
    },
    {
      "cell_type": "code",
      "source": [
        "age=20\n",
        "if age<2:\n",
        "  print('Person is baby')\n",
        "elif 2<=age<4:\n",
        "  print('Person is toddler')\n",
        "elif 4<=age<13:\n",
        "  print('Person is kid')\n",
        "elif 13<=age<20:\n",
        "  print('Person is teenager')\n",
        "elif 20<=age<65:\n",
        "  print('Person is adult')\n",
        "else:\n",
        "  print('Person is elder')"
      ],
      "metadata": {
        "colab": {
          "base_uri": "https://localhost:8080/"
        },
        "id": "VoDPyt3gUx_8",
        "outputId": "58b1776c-972f-4e78-c2a1-85e505bfa30a"
      },
      "execution_count": null,
      "outputs": [
        {
          "output_type": "stream",
          "name": "stdout",
          "text": [
            "Person is adult\n"
          ]
        }
      ]
    },
    {
      "cell_type": "code",
      "source": [
        "fvt_fruits=['Apple','Banana','Mango']\n",
        "if 'cherry' in fvt_fruits:\n",
        "  print(f'You really like cherry')\n",
        "if 'Mango' in fvt_fruits:\n",
        "  print(f'You really like cherry')\n",
        "if 'guava' in fvt_fruits:\n",
        "  print(f'You really like cherry')"
      ],
      "metadata": {
        "colab": {
          "base_uri": "https://localhost:8080/"
        },
        "id": "dfeZXZHbWTKB",
        "outputId": "49b68267-c6cb-48e5-89a3-a93d26de2c8b"
      },
      "execution_count": null,
      "outputs": [
        {
          "output_type": "stream",
          "name": "stdout",
          "text": [
            "You really like cherry\n"
          ]
        }
      ]
    },
    {
      "cell_type": "code",
      "source": [
        "toppings=['cheese','masala','kabab']\n",
        "for i in toppings:\n",
        "  if i=='kabab':\n",
        "    print('Sorry! kabab ran out')\n",
        "  else:\n",
        "    print(f'adding {i}')"
      ],
      "metadata": {
        "colab": {
          "base_uri": "https://localhost:8080/"
        },
        "id": "svTga6u2X1aG",
        "outputId": "dd63ebda-4a4d-41f2-e9fe-e32ed9bc6f0f"
      },
      "execution_count": null,
      "outputs": [
        {
          "output_type": "stream",
          "name": "stdout",
          "text": [
            "adding cheese\n",
            "adding masala\n",
            "Sorry! kabab ran out\n"
          ]
        }
      ]
    },
    {
      "cell_type": "code",
      "source": [
        "toppings=[]\n",
        "if toppings:\n",
        "  for i in toppings:\n",
        "    print(f'Adding {i}')\n",
        "  print('Making pizza')\n",
        "else:\n",
        "  print(\"Are you sure you want plain pizza\")"
      ],
      "metadata": {
        "colab": {
          "base_uri": "https://localhost:8080/"
        },
        "id": "rcHR19ARabCr",
        "outputId": "0bc78a85-bfeb-4f46-f28f-0ac158122ecd"
      },
      "execution_count": null,
      "outputs": [
        {
          "output_type": "stream",
          "name": "stdout",
          "text": [
            "Adding ali\n",
            "Making pizza\n"
          ]
        }
      ]
    },
    {
      "cell_type": "code",
      "source": [
        "available_toppings = ['mushrooms', 'olives', 'green peppers', 'pepperoni', 'pineapple', 'extra cheese']\n",
        "requested_toppings = ['mushrooms', 'french fries', 'extra cheese']\n",
        "for i in requested_toppings:\n",
        "  if i in available_toppings:\n",
        "    print(f'Adding {i}')\n",
        "  else:\n",
        "    print(f'Sorry! {i} is not available right now')"
      ],
      "metadata": {
        "colab": {
          "base_uri": "https://localhost:8080/"
        },
        "id": "PyaX2KskcOyo",
        "outputId": "458dbb65-e473-4a0d-eeb7-8fc49e150e28"
      },
      "execution_count": null,
      "outputs": [
        {
          "output_type": "stream",
          "name": "stdout",
          "text": [
            "Adding mushrooms\n",
            "Sorry! french fries is not available right now\n",
            "Adding extra cheese\n"
          ]
        }
      ]
    },
    {
      "cell_type": "code",
      "source": [
        "username=['Hammad','tayyab','Usman','hsn','kami']\n",
        "for i in username:\n",
        "  if i=='Hammad':\n",
        "    print(f'Hello {i}! Would you like monthly report')\n",
        "  else:\n",
        "    print(f'Hello {i}! Thank you for logging again')"
      ],
      "metadata": {
        "colab": {
          "base_uri": "https://localhost:8080/"
        },
        "id": "vx9cMm33f5ov",
        "outputId": "dcf3544f-1e60-4436-b6a1-96d205638b3a"
      },
      "execution_count": null,
      "outputs": [
        {
          "output_type": "stream",
          "name": "stdout",
          "text": [
            "Hello Hammad! Would you like monthly report\n",
            "Hello tayyab! Thank you for logging again\n",
            "Hello Usman! Thank you for logging again\n",
            "Hello hsn! Thank you for logging again\n",
            "Hello kami! Thank you for logging again\n"
          ]
        }
      ]
    },
    {
      "cell_type": "code",
      "source": [
        "username=[]\n",
        "if username:\n",
        "  for i in username:\n",
        "    print(f'Hello {i}! Would you like monthly report')\n",
        "else:\n",
        "  print('We need to find some users!')"
      ],
      "metadata": {
        "colab": {
          "base_uri": "https://localhost:8080/"
        },
        "id": "vh5HEi2lgveH",
        "outputId": "9be67b62-da41-46d1-f72c-6fea2649747c"
      },
      "execution_count": null,
      "outputs": [
        {
          "output_type": "stream",
          "name": "stdout",
          "text": [
            "We need to find some users!\n"
          ]
        }
      ]
    },
    {
      "cell_type": "code",
      "source": [
        "current_users=['Hammad','usman','tayyab','shan','hassan']\n",
        "new_users=['shah','usman','mudassar','shan','gul']\n",
        "for i in new_users:\n",
        "    if i in current_users:\n",
        "      print(f\"{i} Enter another username\")\n",
        "    else:\n",
        "      print(f'{i} username is available')"
      ],
      "metadata": {
        "colab": {
          "base_uri": "https://localhost:8080/"
        },
        "id": "_jNnePq2xZ8A",
        "outputId": "f1af67db-f320-4fed-a2b0-85193c405117"
      },
      "execution_count": null,
      "outputs": [
        {
          "output_type": "stream",
          "name": "stdout",
          "text": [
            "shah username is available\n",
            "usman Enter another username\n",
            "mudassar username is available\n",
            "shan Enter another username\n",
            "gul username is available\n"
          ]
        }
      ]
    },
    {
      "cell_type": "code",
      "source": [
        "number=[1,2,3,4,5,6,7,8,9]\n",
        "for i in number:\n",
        "  if i==1:\n",
        "    print(f'{i}st')\n",
        "  elif i==2:\n",
        "    print(f'{i}nd')\n",
        "  elif i==3:\n",
        "    print(f'{i}rd')\n",
        "  else:\n",
        "    print(f'{i}th')"
      ],
      "metadata": {
        "colab": {
          "base_uri": "https://localhost:8080/"
        },
        "id": "bao7860PzrQu",
        "outputId": "9f715cae-b721-4da8-be2a-f2677efd9c1d"
      },
      "execution_count": null,
      "outputs": [
        {
          "output_type": "stream",
          "name": "stdout",
          "text": [
            "1st\n",
            "2nd\n",
            "3rd\n",
            "4th\n",
            "5th\n",
            "6th\n",
            "7th\n",
            "8th\n",
            "9th\n"
          ]
        }
      ]
    },
    {
      "cell_type": "code",
      "source": [
        "def check(userpassword):\n",
        "  if userpassword=='ali786':\n",
        "    print('Correct!')\n",
        "  else:\n",
        "    print('Incorrect!')\n",
        "\n",
        "check('ali786')"
      ],
      "metadata": {
        "colab": {
          "base_uri": "https://localhost:8080/"
        },
        "id": "PONGqxOhCils",
        "outputId": "5e7263ac-55dc-4ba7-dc3c-d29715997121"
      },
      "execution_count": null,
      "outputs": [
        {
          "output_type": "stream",
          "name": "stdout",
          "text": [
            "Correct!\n"
          ]
        }
      ]
    },
    {
      "cell_type": "markdown",
      "source": [
        "# ***DICTIONARIES***"
      ],
      "metadata": {
        "id": "2hmc1oXZtsLA"
      }
    },
    {
      "cell_type": "code",
      "source": [
        "alien_0={'color':'green','points':5}\n",
        "points=alien_0['points']\n",
        "print(f'You just earned {points} points' )"
      ],
      "metadata": {
        "colab": {
          "base_uri": "https://localhost:8080/"
        },
        "id": "L8abXxU_ohwF",
        "outputId": "0d91cec0-554b-4010-df66-c74739b989fb"
      },
      "execution_count": null,
      "outputs": [
        {
          "output_type": "stream",
          "name": "stdout",
          "text": [
            "You just earned 5 points\n"
          ]
        }
      ]
    },
    {
      "cell_type": "code",
      "source": [
        "alien_0['x_position']=0\n",
        "alien_0['y_position']=25\n",
        "print(alien_0)"
      ],
      "metadata": {
        "colab": {
          "base_uri": "https://localhost:8080/"
        },
        "id": "lLqITsCep-Nc",
        "outputId": "efb126a5-7b05-417a-bcd0-6414e7c18132"
      },
      "execution_count": null,
      "outputs": [
        {
          "output_type": "stream",
          "name": "stdout",
          "text": [
            "{'color': 'green', 'points': 5, 'x_position': 0, 'y_position': 25}\n"
          ]
        }
      ]
    },
    {
      "cell_type": "code",
      "source": [
        "alien_0={'color':'green'}\n",
        "print(f\"The alien is {alien_0['color']}\")\n",
        "alien_0['color']='yellow'\n",
        "print(f\"Now the alien is {alien_0['color']}\")"
      ],
      "metadata": {
        "colab": {
          "base_uri": "https://localhost:8080/"
        },
        "id": "WrNBLmlWrMea",
        "outputId": "1b02fbcf-99ce-4a60-b1cb-ba6ee20f65e4"
      },
      "execution_count": null,
      "outputs": [
        {
          "output_type": "stream",
          "name": "stdout",
          "text": [
            "The alien is green\n",
            "Now the alien is yellow\n"
          ]
        }
      ]
    },
    {
      "cell_type": "code",
      "source": [
        "alien_0={'x_position':0,'y_position':25,'speed':'fast'}\n",
        "print(f\"original position: {alien_0['x_position']}\")\n",
        "\n",
        "if alien_0['speed']=='slow':\n",
        "  x_increment=1\n",
        "elif alien_0['speed']=='medium':\n",
        "  x_increment=2\n",
        "else:\n",
        "  x_increment=3\n",
        "\n",
        "alien_0['x_position']=alien_0['x_position']+x_increment\n",
        "print(f\"New position: {alien_0['x_position']}\")"
      ],
      "metadata": {
        "colab": {
          "base_uri": "https://localhost:8080/"
        },
        "id": "5-_K4Fz6sMUw",
        "outputId": "935f9de8-9a81-4d60-a2c9-6266f86759ff"
      },
      "execution_count": null,
      "outputs": [
        {
          "output_type": "stream",
          "name": "stdout",
          "text": [
            "original position: 0\n",
            "New position: 3\n"
          ]
        }
      ]
    },
    {
      "cell_type": "code",
      "source": [
        "favt_language={\n",
        "    'hammad':'python',\n",
        "    'tyb':'c++',\n",
        "    'gul':'matlab',\n",
        "    'shah':'c'\n",
        "}\n",
        "#language=favt_language['ali'].tilte()\n",
        "print(f\"Hammad's favourite language is {favt_language['hammad']}\")"
      ],
      "metadata": {
        "colab": {
          "base_uri": "https://localhost:8080/"
        },
        "id": "ITrvrHNXzDBF",
        "outputId": "d2c3ed0e-c8fb-48f4-cfc7-3a4cdaf36b9a"
      },
      "execution_count": null,
      "outputs": [
        {
          "output_type": "stream",
          "name": "stdout",
          "text": [
            "Hammad's favourite language is python\n"
          ]
        }
      ]
    },
    {
      "cell_type": "code",
      "source": [
        "alien_0={'color':'green','speed':'fast'}\n",
        "point_value=alien_0.get('point','No point is assigned')\n",
        "print(point_value)\n"
      ],
      "metadata": {
        "colab": {
          "base_uri": "https://localhost:8080/"
        },
        "id": "rHdoLYSb10PS",
        "outputId": "e4e9242f-4848-4fbc-d75a-4334dfac6519"
      },
      "execution_count": null,
      "outputs": [
        {
          "output_type": "stream",
          "name": "stdout",
          "text": [
            "No point is assigned\n"
          ]
        }
      ]
    },
    {
      "cell_type": "code",
      "source": [
        "friend={\n",
        "    'fname':'Hammad',\n",
        "    'lname':'Hassan',\n",
        "    'age':20,\n",
        "    'city':'Lahore'\n",
        "}\n",
        "print(friend['fname'])\n",
        "print(friend['lname'])\n",
        "print(friend['age'])\n",
        "print(friend['city'])"
      ],
      "metadata": {
        "colab": {
          "base_uri": "https://localhost:8080/"
        },
        "id": "kh3i47jo43t5",
        "outputId": "a789301b-d09a-4b96-e3cf-2c13a0fe9ae2"
      },
      "execution_count": null,
      "outputs": [
        {
          "output_type": "stream",
          "name": "stdout",
          "text": [
            "Hammad\n",
            "Hassan\n",
            "20\n",
            "Lahore\n"
          ]
        }
      ]
    },
    {
      "cell_type": "code",
      "source": [
        "user={\n",
        "    'username':'hh',\n",
        "    'fname':'Hammad',\n",
        "    'lname':'Hassan'\n",
        "}\n",
        "print(user)"
      ],
      "metadata": {
        "id": "xqN8l1bb696K",
        "colab": {
          "base_uri": "https://localhost:8080/"
        },
        "outputId": "cfb11dcc-f5e1-4f0e-fda0-b7d030b73183"
      },
      "execution_count": null,
      "outputs": [
        {
          "output_type": "stream",
          "name": "stdout",
          "text": [
            "{'username': 'hh', 'fname': 'Hammad', 'lname': 'Hassan'}\n"
          ]
        }
      ]
    },
    {
      "cell_type": "code",
      "source": [
        "for key,value in user.items():\n",
        "  print('Key:',key,'\\nvalue:',value)"
      ],
      "metadata": {
        "colab": {
          "base_uri": "https://localhost:8080/"
        },
        "id": "_T-MOvYgS_qY",
        "outputId": "54947b7f-c0a6-485e-dacb-c9de64dcb88e"
      },
      "execution_count": null,
      "outputs": [
        {
          "output_type": "stream",
          "name": "stdout",
          "text": [
            "Key: username \n",
            "value: hh\n",
            "Key: fname \n",
            "value: Hammad\n",
            "Key: lname \n",
            "value: Hassan\n"
          ]
        }
      ]
    },
    {
      "cell_type": "code",
      "source": [
        "languages={\n",
        "   'Hammad':'python',\n",
        "    'tyb':'c++',\n",
        "    'gul':'matlab',\n",
        "    'shah':'c'\n",
        "}\n",
        "for k,v in languages.items():\n",
        "  print(f'{k.title()} favourite language is {v.title()}')"
      ],
      "metadata": {
        "colab": {
          "base_uri": "https://localhost:8080/"
        },
        "id": "G7sEorgJp2N2",
        "outputId": "dd9dec23-0038-4688-afef-06a2751f776a"
      },
      "execution_count": null,
      "outputs": [
        {
          "output_type": "stream",
          "name": "stdout",
          "text": [
            "Hammad favourite language is Python\n",
            "Tyb favourite language is C++\n",
            "Gul favourite language is Matlab\n",
            "Shah favourite language is C\n"
          ]
        }
      ]
    },
    {
      "cell_type": "code",
      "source": [
        "for name in languages.keys():\n",
        "  print(name)"
      ],
      "metadata": {
        "colab": {
          "base_uri": "https://localhost:8080/"
        },
        "id": "9rDlfGFZrFBZ",
        "outputId": "188c5c99-12de-41c8-9bda-05d01b71bad6"
      },
      "execution_count": null,
      "outputs": [
        {
          "output_type": "stream",
          "name": "stdout",
          "text": [
            "Hammad\n",
            "tyb\n",
            "gul\n",
            "shah\n"
          ]
        }
      ]
    },
    {
      "cell_type": "code",
      "source": [
        "friends=['hammad','tyb']\n",
        "for name in languages.keys():\n",
        "  print(name.title())\n",
        "  if name in friends:\n",
        "    language=languages[name].title()\n",
        "    print(f'{name.title()}, I see your favourite language is {language}')"
      ],
      "metadata": {
        "colab": {
          "base_uri": "https://localhost:8080/"
        },
        "id": "Ps351LYwr6ct",
        "outputId": "d36d687a-0def-4c6b-dccd-11dd07150a3b"
      },
      "execution_count": null,
      "outputs": [
        {
          "output_type": "stream",
          "name": "stdout",
          "text": [
            "Hammad\n",
            "Tyb\n",
            "Tyb, I see your favourite language is C++\n",
            "Gul\n",
            "Shah\n"
          ]
        }
      ]
    },
    {
      "cell_type": "code",
      "source": [
        "for name in sorted(languages.keys()):\n",
        "  print(f'{name} Thank you for taling the poll')\n"
      ],
      "metadata": {
        "colab": {
          "base_uri": "https://localhost:8080/"
        },
        "id": "0eJfSPmmtRc0",
        "outputId": "6c8f22b8-ffe2-4f40-b344-b67dec2814e0"
      },
      "execution_count": null,
      "outputs": [
        {
          "output_type": "stream",
          "name": "stdout",
          "text": [
            "Hammad Thank you for taling the poll\n",
            "gul Thank you for taling the poll\n",
            "shah Thank you for taling the poll\n",
            "tyb Thank you for taling the poll\n"
          ]
        }
      ]
    },
    {
      "cell_type": "code",
      "source": [
        "dictionary={\n",
        "    'unity':'oneness',\n",
        "    'faith':'yaqeen',\n",
        "    'dicipline':'zabt',\n",
        "    'firm':'determine',\n",
        "    'strong':'mazboot'\n",
        "}\n",
        "dictionary['weak']='kamzoor'\n",
        "dictionary['high']='buland'\n",
        "for k,v in dictionary.items():\n",
        "  print('\\n',k)\n",
        "  print(v)"
      ],
      "metadata": {
        "id": "Q4EmoumsyxAV",
        "colab": {
          "base_uri": "https://localhost:8080/"
        },
        "outputId": "2f4ff149-c3e3-4d82-dcc6-32f2d409bae0"
      },
      "execution_count": null,
      "outputs": [
        {
          "output_type": "stream",
          "name": "stdout",
          "text": [
            "\n",
            " unity\n",
            "oneness\n",
            "\n",
            " faith\n",
            "yaqeen\n",
            "\n",
            " dicipline\n",
            "zabt\n",
            "\n",
            " firm\n",
            "determine\n",
            "\n",
            " strong\n",
            "mazboot\n",
            "\n",
            " weak\n",
            "kamzoor\n",
            "\n",
            " high\n",
            "buland\n"
          ]
        }
      ]
    },
    {
      "cell_type": "code",
      "source": [
        "rivers={\n",
        "    'nile':'egypt',\n",
        "    'indus':'pakistan',\n",
        "    'amazon':'brazil'\n",
        "}\n",
        "for r,c in rivers.items():\n",
        "  print(f'{r.title()} runs through {c.title()}')\n",
        "for r in rivers.keys():\n",
        "  print(r.title())\n",
        "for c in rivers.values():\n",
        "  print(c.title())"
      ],
      "metadata": {
        "colab": {
          "base_uri": "https://localhost:8080/"
        },
        "id": "78NmnkYwBLGk",
        "outputId": "dbc11435-462f-4f50-8d9e-1f51f0711993"
      },
      "execution_count": null,
      "outputs": [
        {
          "output_type": "stream",
          "name": "stdout",
          "text": [
            "Nile runs through Egypt\n",
            "Indus runs through Pakistan\n",
            "Amazon runs through Brazil\n",
            "Nile\n",
            "Indus\n",
            "Amazon\n",
            "Egypt\n",
            "Pakistan\n",
            "Brazil\n"
          ]
        }
      ]
    },
    {
      "cell_type": "code",
      "source": [
        "langu={\n",
        "    'ali':'python',\n",
        "    'tyb':'c++',\n",
        "    'gul':'matlab',\n",
        "    'shah':'c'\n",
        "}\n",
        "li=['ali','hsn','shah','mud']\n",
        "for k in langu.keys():\n",
        "  if k in li:\n",
        "    print(f'{k} thanks for giving your response')\n",
        "  else:\n",
        "    print(f'{k} kindly give your response')"
      ],
      "metadata": {
        "colab": {
          "base_uri": "https://localhost:8080/"
        },
        "id": "YHBXNdczCVEM",
        "outputId": "ce9fd630-a3a5-4aa5-e1ea-78c6d25a3f9c"
      },
      "execution_count": null,
      "outputs": [
        {
          "output_type": "stream",
          "name": "stdout",
          "text": [
            "ali thanks for giving your response\n",
            "tyb kindly give your response\n",
            "gul kindly give your response\n",
            "shah thanks for giving your response\n"
          ]
        }
      ]
    },
    {
      "cell_type": "code",
      "source": [
        "aliens=[]\n",
        "for alien_ in range(30):\n",
        "  new={'color':'green','points':5,'speed':'slow'}\n",
        "  aliens.append(new)\n",
        "for alien in aliens[:5]:\n",
        "  print(alien)\n",
        "\n",
        "print(f'Total aliens: {len(aliens)}')\n",
        "\n"
      ],
      "metadata": {
        "colab": {
          "base_uri": "https://localhost:8080/"
        },
        "id": "1T8ftDXxDy94",
        "outputId": "21207c6f-7720-4d08-96cf-c786613fe566"
      },
      "execution_count": null,
      "outputs": [
        {
          "output_type": "stream",
          "name": "stdout",
          "text": [
            "{'color': 'green', 'points': 5, 'speed': 'slow'}\n",
            "{'color': 'green', 'points': 5, 'speed': 'slow'}\n",
            "{'color': 'green', 'points': 5, 'speed': 'slow'}\n",
            "{'color': 'green', 'points': 5, 'speed': 'slow'}\n",
            "{'color': 'green', 'points': 5, 'speed': 'slow'}\n",
            "Total aliens: 30\n"
          ]
        }
      ]
    },
    {
      "cell_type": "code",
      "source": [
        "pizza={\n",
        "    'crust':'thick',\n",
        "    'toppings':['mushrooms','extra cheese']\n",
        "}\n",
        "print(f\"You order the {pizza['crust']} pizza\"\n",
        "       \" With the following Toppings: \")\n",
        "for i in pizza['toppings']:\n",
        "  print(i)"
      ],
      "metadata": {
        "colab": {
          "base_uri": "https://localhost:8080/"
        },
        "id": "uIGQn8UGGwxa",
        "outputId": "7ddfe967-af1c-41e0-a9ca-37fcf5bcb10d"
      },
      "execution_count": null,
      "outputs": [
        {
          "output_type": "stream",
          "name": "stdout",
          "text": [
            "You order the thick pizzaWith the following Toppings: \n",
            "mushrooms\n",
            "extra cheese\n"
          ]
        }
      ]
    },
    {
      "cell_type": "code",
      "source": [
        "favorite_languages = {\n",
        "       'ali': ['python', 'ruby'],\n",
        "       'tyb': ['c'],\n",
        "       'gul': ['ruby', 'go'],\n",
        "       'shah': ['python', 'haskell'],\n",
        "       }\n",
        "for name,languages in favorite_languages.items():\n",
        "  print(f'{name.title()} favourite language are')\n",
        "  for language in languages:\n",
        "    print(language)\n",
        "\n"
      ],
      "metadata": {
        "colab": {
          "base_uri": "https://localhost:8080/"
        },
        "id": "jwH0XQrRJ3bn",
        "outputId": "e52a04d9-933f-4cb6-cb6e-f0c94252a3f7"
      },
      "execution_count": null,
      "outputs": [
        {
          "output_type": "stream",
          "name": "stdout",
          "text": [
            "Ali favourite language are\n",
            "python\n",
            "ruby\n",
            "Tyb favourite language are\n",
            "c\n",
            "Gul favourite language are\n",
            "ruby\n",
            "go\n",
            "Shah favourite language are\n",
            "python\n",
            "haskell\n"
          ]
        }
      ]
    },
    {
      "cell_type": "code",
      "source": [
        "users = {\n",
        "    'aeinstein': {\n",
        "        'first': 'albert',\n",
        "        'last': 'einstein',\n",
        "           'location': 'princeton',\n",
        "           },\n",
        "       'mcurie': {\n",
        "           'first': 'marie',\n",
        "           'last': 'curie',\n",
        "           'location': 'paris',\n",
        "           },\n",
        "}\n",
        "for username,user_info in users.items():\n",
        "  print(f\"\\nUsername: {username}\")\n",
        "  fullname=f\"{user_info['first']} {user_info['last']}\"\n",
        "  location=user_info['location']\n",
        "  print(f'\\t{fullname}')\n",
        "  print(f'\\t{location}')"
      ],
      "metadata": {
        "colab": {
          "base_uri": "https://localhost:8080/"
        },
        "id": "vyhWptVWZk-H",
        "outputId": "23fa404d-ef94-42d8-ea7d-047dc12172d6"
      },
      "execution_count": null,
      "outputs": [
        {
          "output_type": "stream",
          "name": "stdout",
          "text": [
            "\n",
            "Username: aeinstein\n",
            "\talbert einstein\n",
            "\tprinceton\n",
            "\n",
            "Username: mcurie\n",
            "\tmarie curie\n",
            "\tparis\n"
          ]
        }
      ]
    },
    {
      "cell_type": "code",
      "source": [
        "pets=[jac:={'animal':'dog','owner':'ali'},billo:={'animal':'cow','owner':'peer'}]\n",
        "for pet in pets:\n",
        "  print(pet)\n"
      ],
      "metadata": {
        "colab": {
          "base_uri": "https://localhost:8080/"
        },
        "id": "pxfNsWbLcnQ-",
        "outputId": "6d5201bb-7f15-4f33-a6cd-3c8b184a2593"
      },
      "execution_count": null,
      "outputs": [
        {
          "output_type": "stream",
          "name": "stdout",
          "text": [
            "{'animal': 'dog', 'owner': 'ali'}\n",
            "{'animal': 'cow', 'owner': 'peer'}\n"
          ]
        }
      ]
    },
    {
      "cell_type": "markdown",
      "source": [
        "# ***Ch#7: User input and while loop***"
      ],
      "metadata": {
        "id": "MocVwmVajj7v"
      }
    },
    {
      "cell_type": "code",
      "source": [
        "prompt = \"If you tell us who you are, we can personalize the messages you see.\"\n",
        "prompt += \"\\nWhat is your first name? \"\n",
        "name=input(prompt)\n",
        "print(name)\n"
      ],
      "metadata": {
        "colab": {
          "base_uri": "https://localhost:8080/"
        },
        "id": "ibK8B5NFjtNQ",
        "outputId": "1aa10e31-4f5a-4c98-83f6-c582e9b41b48"
      },
      "execution_count": null,
      "outputs": [
        {
          "output_type": "stream",
          "name": "stdout",
          "text": [
            "If you tell us who you are, we can personalize the messages you see.\n",
            "What is your first name? Hammad\n",
            "Hammad\n"
          ]
        }
      ]
    },
    {
      "cell_type": "code",
      "source": [
        "car=input('What kind of rental car: ')\n",
        "print(f'Let me see if I can find a {car.title()}')"
      ],
      "metadata": {
        "colab": {
          "base_uri": "https://localhost:8080/"
        },
        "id": "0gf5STLdx2vg",
        "outputId": "3ea3dc39-aa55-43ad-b76d-e517c361363c"
      },
      "execution_count": null,
      "outputs": [
        {
          "output_type": "stream",
          "name": "stdout",
          "text": [
            "What kind of rental car: Audi\n",
            "Let me see if I can find a Audi\n"
          ]
        }
      ]
    },
    {
      "cell_type": "code",
      "source": [
        "member=int(input('How many people there in your group: '))\n",
        "if member>8:\n",
        "  print('You have to wait for a table to get free')\n",
        "else:\n",
        "  print('Your table is ready')\n"
      ],
      "metadata": {
        "colab": {
          "base_uri": "https://localhost:8080/"
        },
        "id": "j944LLsTyUg2",
        "outputId": "965e1e2d-0b0c-4123-dd5e-ff798f38e709"
      },
      "execution_count": null,
      "outputs": [
        {
          "output_type": "stream",
          "name": "stdout",
          "text": [
            "How many people there in your group: 4\n",
            "Your table is ready\n"
          ]
        }
      ]
    },
    {
      "cell_type": "code",
      "source": [
        "number=int(input('Enter your number: '))\n",
        "if number%10==0:\n",
        "  print(f'{number} is a multiple of 10')\n",
        "else:\n",
        "  print('Not a multiple of 10')"
      ],
      "metadata": {
        "colab": {
          "base_uri": "https://localhost:8080/"
        },
        "id": "P14uvvF_yzQ3",
        "outputId": "debfc1eb-c1bb-4ac8-8d0c-3ce258a5596a"
      },
      "execution_count": null,
      "outputs": [
        {
          "output_type": "stream",
          "name": "stdout",
          "text": [
            "Enter your number: 100\n",
            "100 is a multiple of 10\n"
          ]
        }
      ]
    },
    {
      "cell_type": "code",
      "source": [
        "i=1\n",
        "while i<=10:\n",
        "  print(i)\n",
        "  i+=2"
      ],
      "metadata": {
        "colab": {
          "base_uri": "https://localhost:8080/"
        },
        "id": "HsEJXCHy6We1",
        "outputId": "1b16ccde-ccd2-4fae-f5e7-ae7eb91e15a3"
      },
      "execution_count": null,
      "outputs": [
        {
          "output_type": "stream",
          "name": "stdout",
          "text": [
            "1\n",
            "3\n",
            "5\n",
            "7\n",
            "9\n"
          ]
        }
      ]
    },
    {
      "cell_type": "code",
      "source": [
        "prompt='Tell me something: '\n",
        "prompt+=\"\\nEnter 'quit' to close program\"\n",
        "message=''\n",
        "while message!='quit':\n",
        "  message=(input(prompt))\n",
        "  print(message)\n"
      ],
      "metadata": {
        "colab": {
          "base_uri": "https://localhost:8080/"
        },
        "id": "TXMCFWgD96HX",
        "outputId": "c62224cb-faa0-4a50-f61e-e8b3df9924f7"
      },
      "execution_count": null,
      "outputs": [
        {
          "output_type": "stream",
          "name": "stdout",
          "text": [
            "Tell me something: \n",
            "Enter 'quit' to close programali\n",
            "ali\n",
            "Tell me something: \n",
            "Enter 'quit' to close programhammad\n",
            "hammad\n",
            "Tell me something: \n",
            "Enter 'quit' to close programquit\n",
            "quit\n"
          ]
        }
      ]
    },
    {
      "cell_type": "code",
      "source": [
        "prompt='Tell me something: '\n",
        "prompt+=\"\\nEnter 'quit' to close program \"\n",
        "active=True\n",
        "while active:\n",
        "  message=input(prompt)\n",
        "  if message=='quit':\n",
        "    active=False\n",
        "  else:\n",
        "    print(message)"
      ],
      "metadata": {
        "colab": {
          "base_uri": "https://localhost:8080/"
        },
        "id": "8TQBf_wcERvg",
        "outputId": "40c93c13-c70e-4ef0-8d7f-ec26aaac2287"
      },
      "execution_count": null,
      "outputs": [
        {
          "name": "stdout",
          "output_type": "stream",
          "text": [
            "Tell me something: \n",
            "Enter 'quit' to close program ali\n",
            "ali\n",
            "Tell me something: \n",
            "Enter 'quit' to close program aaa\n",
            "aaa\n",
            "Tell me something: \n",
            "Enter 'quit' to close program quit\n"
          ]
        }
      ]
    },
    {
      "cell_type": "code",
      "source": [
        "prompt='Enter the city you visited'\n",
        "prompt+=\"\\nEnter 'quit' to pull out: \"\n",
        "while True:\n",
        "  message=input(prompt)\n",
        "  if message=='quit':\n",
        "    break\n",
        "  else:\n",
        "    print(f\"I'd love to go to {message.title()}\")"
      ],
      "metadata": {
        "colab": {
          "base_uri": "https://localhost:8080/"
        },
        "id": "nOeCjjtYKpkp",
        "outputId": "db451fc2-b73c-4fb1-ff1c-bd9efb56e398"
      },
      "execution_count": null,
      "outputs": [
        {
          "name": "stdout",
          "output_type": "stream",
          "text": [
            "Enter the city you visited\n",
            "Enter 'quit' to pull out: hh\n",
            "I'd love to go to Hh\n",
            "Enter the city you visited\n",
            "Enter 'quit' to pull out: lahore\n",
            "I'd love to go to Lahore\n",
            "Enter the city you visited\n",
            "Enter 'quit' to pull out: quit\n"
          ]
        }
      ]
    },
    {
      "cell_type": "code",
      "source": [
        "n=0\n",
        "while n<10:\n",
        "  n+=1\n",
        "  if n%2==0:\n",
        "    continue\n",
        "\n",
        "  print(n)"
      ],
      "metadata": {
        "colab": {
          "base_uri": "https://localhost:8080/"
        },
        "id": "6jpQwzEP8205",
        "outputId": "4306f6bb-e73a-4b50-d16d-83f48323c726"
      },
      "execution_count": null,
      "outputs": [
        {
          "output_type": "stream",
          "name": "stdout",
          "text": [
            "1\n",
            "3\n",
            "5\n",
            "7\n",
            "9\n"
          ]
        }
      ]
    },
    {
      "cell_type": "code",
      "source": [
        "active=True\n",
        "while active:\n",
        "  topping=input('Enter your Topping you want: ')\n",
        "  if topping=='quit':\n",
        "    active=False\n",
        "  else:\n",
        "    print(f'{topping} is added on your pizza')"
      ],
      "metadata": {
        "colab": {
          "base_uri": "https://localhost:8080/"
        },
        "id": "-Z9Nnmk8_NIs",
        "outputId": "9b215640-00df-4a48-c72f-a048e62abc87"
      },
      "execution_count": null,
      "outputs": [
        {
          "name": "stdout",
          "output_type": "stream",
          "text": [
            "Enter your Topping you want: usman\n",
            "usman is added on your pizza\n",
            "Enter your Topping you want: quit\n"
          ]
        }
      ]
    },
    {
      "cell_type": "code",
      "source": [
        "active = True\n",
        "while active:\n",
        "  price=input('Enter your age: ')\n",
        "  if price=='end':\n",
        "    active = False\n",
        "  elif int(price)<(3):\n",
        "    print('Your ticket is free')\n",
        "  elif int(price)<(13):\n",
        "    print('$10')\n",
        "  else:\n",
        "    print('$15')\n"
      ],
      "metadata": {
        "colab": {
          "base_uri": "https://localhost:8080/"
        },
        "id": "aM_eCSOmBVqT",
        "outputId": "aa1ca4f0-dcc3-4334-a14f-6027f72082ac"
      },
      "execution_count": null,
      "outputs": [
        {
          "name": "stdout",
          "output_type": "stream",
          "text": [
            "Enter your age: 22\n",
            "$15\n",
            "Enter your age: 90\n",
            "$15\n",
            "Enter your age: 9\n",
            "$10\n",
            "Enter your age: 4\n",
            "$10\n",
            "Enter your age: end\n"
          ]
        }
      ]
    },
    {
      "cell_type": "code",
      "source": [
        "un=['hammad','tyb','ali']\n",
        "c=[]\n",
        "while un:\n",
        "  new=un.pop()\n",
        "  print(f'Verifying users: {new}')\n",
        "  c.append(new)\n",
        "print(c)"
      ],
      "metadata": {
        "colab": {
          "base_uri": "https://localhost:8080/"
        },
        "id": "qUjsJg7FJiHr",
        "outputId": "84bf2908-f077-4532-9a6d-3cfe7ca33aa9"
      },
      "execution_count": null,
      "outputs": [
        {
          "output_type": "stream",
          "name": "stdout",
          "text": [
            "Verifying users: ali\n",
            "Verifying users: tyb\n",
            "Verifying users: hammad\n",
            "['ali', 'tyb', 'hammad']\n"
          ]
        }
      ]
    },
    {
      "cell_type": "code",
      "source": [
        "pets = ['dog', 'cat', 'dog', 'goldfish', 'cat', 'rabbit', 'cat']\n",
        "while 'cat' in pets:\n",
        "  pets.remove('cat')\n",
        "print(pets)"
      ],
      "metadata": {
        "colab": {
          "base_uri": "https://localhost:8080/"
        },
        "id": "RIwL4bvSKkqd",
        "outputId": "675976ba-1156-4825-cb96-aabdd3b8e9a6"
      },
      "execution_count": null,
      "outputs": [
        {
          "output_type": "stream",
          "name": "stdout",
          "text": [
            "['dog', 'dog', 'goldfish', 'rabbit']\n"
          ]
        }
      ]
    },
    {
      "cell_type": "code",
      "source": [
        "responses={}\n",
        "active=True\n",
        "while active:\n",
        "  name=input('Enter your name: ')\n",
        "  response=input('How old are you? ')\n",
        "\n",
        "  responses[name]=response\n",
        "  repeat=input('Do you want another entry y/n: ')\n",
        "  if repeat=='n':\n",
        "    break\n",
        "for name,response in responses.items():\n",
        "  print(f'{name} has {responses}')\n"
      ],
      "metadata": {
        "colab": {
          "base_uri": "https://localhost:8080/"
        },
        "id": "265o2dfbK7SU",
        "outputId": "3bf30cb5-4835-41b9-a2c3-631383e2c198"
      },
      "execution_count": null,
      "outputs": [
        {
          "output_type": "stream",
          "name": "stdout",
          "text": [
            "Enter your name: hammad\n",
            "How old are you? 22\n",
            "Do you want another entry y/n: y\n",
            "Enter your name: usman\n",
            "How old are you? 21\n",
            "Do you want another entry y/n: n\n",
            "hammad has {'hammad': '22', 'usman': '21'}\n",
            "usman has {'hammad': '22', 'usman': '21'}\n"
          ]
        }
      ]
    },
    {
      "cell_type": "code",
      "source": [
        "sandwich=['club','simple','shami','chicken']\n",
        "finished=[]\n",
        "while sandwich:\n",
        "  made=sandwich.pop()\n",
        "  print(f'I made your {made} sandwich')\n",
        "  finished.append(made)\n",
        "\n",
        "for f in finished:\n",
        "  print(f'\\nYour {f} has been made')\n",
        "\n"
      ],
      "metadata": {
        "colab": {
          "base_uri": "https://localhost:8080/"
        },
        "id": "UtW3I7w96Dmx",
        "outputId": "6e9b3cbf-b823-4f10-e442-dab4db8e8647"
      },
      "execution_count": null,
      "outputs": [
        {
          "output_type": "stream",
          "name": "stdout",
          "text": [
            "I made your chicken sandwich\n",
            "I made your shami sandwich\n",
            "I made your simple sandwich\n",
            "I made your club sandwich\n",
            "\n",
            "Your chicken has been made\n",
            "\n",
            "Your shami has been made\n",
            "\n",
            "Your simple has been made\n",
            "\n",
            "Your club has been made\n"
          ]
        }
      ]
    },
    {
      "cell_type": "code",
      "source": [
        "vacation={}\n",
        "flag=True\n",
        "while flag:\n",
        "  name=input('Enter your name: ')\n",
        "  place=input('Which place do you want to visit? ')\n",
        "  vacation[name]=place\n",
        "\n",
        "  repeat=input('Do you want another user y/n? ')\n",
        "  if repeat=='n':\n",
        "    flag=False\n",
        "print('\\nPoll result')\n",
        "for name,place in vacation.items():\n",
        "  print(f'{name.title()} want to visit {place.title()}')\n"
      ],
      "metadata": {
        "colab": {
          "base_uri": "https://localhost:8080/"
        },
        "id": "cDRVH5mn8lTY",
        "outputId": "30a98192-c5da-42d3-d789-3ff92feb7f1a"
      },
      "execution_count": null,
      "outputs": [
        {
          "output_type": "stream",
          "name": "stdout",
          "text": [
            "Enter your name: hammad\n",
            "Which place do you want to visit? karbala\n",
            "Do you want another user y/n? y\n",
            "Enter your name: usman\n",
            "Which place do you want to visit? mecca\n",
            "Do you want another user y/n? n\n",
            "\n",
            "Poll result\n",
            "Hammad want to visit Karbala\n",
            "Usman want to visit Mecca\n"
          ]
        }
      ]
    },
    {
      "cell_type": "markdown",
      "source": [
        "# ***Functions***"
      ],
      "metadata": {
        "id": "p_N2zyTgDpAy"
      }
    },
    {
      "cell_type": "code",
      "source": [
        "def greet(username):\n",
        "  print(f'Hello! {username.title()}')\n",
        "greet('Hammad')\n",
        "greet('usman')\n",
        "greet('tyb')"
      ],
      "metadata": {
        "colab": {
          "base_uri": "https://localhost:8080/"
        },
        "id": "cvCEDwhSDvKs",
        "outputId": "e71036b7-15ee-4500-da6c-87221cf9a518"
      },
      "execution_count": null,
      "outputs": [
        {
          "output_type": "stream",
          "name": "stdout",
          "text": [
            "Hello! Hammad\n",
            "Hello! Usman\n",
            "Hello! Tyb\n"
          ]
        }
      ]
    },
    {
      "cell_type": "code",
      "source": [
        "def message():\n",
        "  print(\"I'm learning functions in this chapter.\")\n",
        "message()\n"
      ],
      "metadata": {
        "colab": {
          "base_uri": "https://localhost:8080/"
        },
        "id": "CwB7hnsrERM6",
        "outputId": "8a850ecd-c5dc-4199-dbe7-fd435fd7915f"
      },
      "execution_count": null,
      "outputs": [
        {
          "output_type": "stream",
          "name": "stdout",
          "text": [
            "I'm learning functions in this chapter.\n"
          ]
        }
      ]
    },
    {
      "cell_type": "code",
      "source": [
        "def book(title):\n",
        "  print(f\"One of my favourite book is {title.title()}\")\n",
        "book('rich dad poor dad')"
      ],
      "metadata": {
        "colab": {
          "base_uri": "https://localhost:8080/"
        },
        "id": "DT0u1avfGyvH",
        "outputId": "a5bd715e-e238-4ecc-ebe2-12a260682567"
      },
      "execution_count": null,
      "outputs": [
        {
          "output_type": "stream",
          "name": "stdout",
          "text": [
            "One of my favourite book is Rich Dad Poor Dad\n"
          ]
        }
      ]
    },
    {
      "cell_type": "code",
      "source": [
        "def animal(type,name):\n",
        "  print(f'I have a {type}')\n",
        "  print(f\"My {type}'s name is {name.title()}\")\n",
        "animal(type='dog',name='jacky')\n",
        "animal(name='lolo',type='donkey')"
      ],
      "metadata": {
        "colab": {
          "base_uri": "https://localhost:8080/"
        },
        "id": "aEiCF0r3LqQH",
        "outputId": "5302e80c-7b87-477b-f38f-c9c9fe8d620f"
      },
      "execution_count": null,
      "outputs": [
        {
          "output_type": "stream",
          "name": "stdout",
          "text": [
            "I have a dog\n",
            "My dog's name is Jacky\n",
            "I have a donkey\n",
            "My donkey's name is Lolo\n"
          ]
        }
      ]
    },
    {
      "cell_type": "code",
      "source": [
        "def animal(name,type='dog'):\n",
        "  print(f'I have a {type}')\n",
        "  print(f\"My {type}'s name is {name.title()}\")\n",
        "animal(name='jacky')\n",
        "animal(name='lolo')"
      ],
      "metadata": {
        "colab": {
          "base_uri": "https://localhost:8080/"
        },
        "id": "bOdgIWxGSxp0",
        "outputId": "301f6787-54c9-45d3-8785-661fc851f86e"
      },
      "execution_count": null,
      "outputs": [
        {
          "output_type": "stream",
          "name": "stdout",
          "text": [
            "I have a dog\n",
            "My dog's name is Jacky\n",
            "I have a dog\n",
            "My dog's name is Lolo\n"
          ]
        }
      ]
    },
    {
      "cell_type": "code",
      "source": [
        "def shirt(size,text):\n",
        "  print(f\"The size of the shirt is {size} and the text is {text}\")\n",
        "shirt(size='M',text='Pakistan')"
      ],
      "metadata": {
        "colab": {
          "base_uri": "https://localhost:8080/"
        },
        "id": "IxdXDlNwdV-E",
        "outputId": "9ca50c7f-a03e-433d-ce75-a7df480c648c"
      },
      "execution_count": null,
      "outputs": [
        {
          "output_type": "stream",
          "name": "stdout",
          "text": [
            "The size of the shirt is M and the text is Pakistan\n"
          ]
        }
      ]
    },
    {
      "cell_type": "code",
      "source": [
        "def shirt(size='Larger',text='I love Python'):\n",
        "  print(f\"The size of the shirt is {size} and the text is {text}\")\n",
        "shirt()"
      ],
      "metadata": {
        "colab": {
          "base_uri": "https://localhost:8080/"
        },
        "id": "PfXRLnojeA9A",
        "outputId": "cc2b6d7b-8ff0-4891-c789-060bad8103b9"
      },
      "execution_count": null,
      "outputs": [
        {
          "output_type": "stream",
          "name": "stdout",
          "text": [
            "The size of the shirt is Larger and the text is I love Python\n"
          ]
        }
      ]
    },
    {
      "cell_type": "code",
      "source": [
        "def shirt(size='Larger',text='I love Python'):\n",
        "  print(f\"The size of the shirt is {size} and the text is {text}\")\n",
        "shirt(size='small')"
      ],
      "metadata": {
        "colab": {
          "base_uri": "https://localhost:8080/"
        },
        "id": "N4k6xfYsec_e",
        "outputId": "58a930c1-f002-4a7c-e911-8a93d11c024d"
      },
      "execution_count": null,
      "outputs": [
        {
          "output_type": "stream",
          "name": "stdout",
          "text": [
            "The size of the shirt is small and the text is I love Python\n"
          ]
        }
      ]
    },
    {
      "cell_type": "code",
      "source": [
        "def fullname(first,last):\n",
        "  name=f\"{first.title()} {last.title()}\"\n",
        "  return name\n",
        "\n",
        "a=fullname('Hammad','Hassan')\n",
        "print(a)\n",
        "\n"
      ],
      "metadata": {
        "colab": {
          "base_uri": "https://localhost:8080/"
        },
        "id": "n3nAyqpnGEbz",
        "outputId": "a7013b7d-9849-434c-aea5-d966b54f7323"
      },
      "execution_count": null,
      "outputs": [
        {
          "output_type": "stream",
          "name": "stdout",
          "text": [
            "Hammad Hassan\n"
          ]
        }
      ]
    },
    {
      "cell_type": "code",
      "source": [
        "def fullname(first,last,middle=''):\n",
        "  if middle:\n",
        "    name=f'{first} {middle} {last}'\n",
        "  else:\n",
        "    name=f'{first} {last}'\n",
        "\n",
        "  return name\n",
        "fullname('ali','usman','peer')"
      ],
      "metadata": {
        "colab": {
          "base_uri": "https://localhost:8080/",
          "height": 35
        },
        "id": "nrN7uDEXH2gf",
        "outputId": "237ee994-2eaf-4502-c48c-840891d94b5f"
      },
      "execution_count": null,
      "outputs": [
        {
          "output_type": "execute_result",
          "data": {
            "text/plain": [
              "'ali peer usman'"
            ],
            "application/vnd.google.colaboratory.intrinsic+json": {
              "type": "string"
            }
          },
          "metadata": {},
          "execution_count": 9
        }
      ]
    },
    {
      "cell_type": "code",
      "source": [
        "fullname('ali','usman')"
      ],
      "metadata": {
        "colab": {
          "base_uri": "https://localhost:8080/",
          "height": 35
        },
        "id": "jfkO_94eI_S0",
        "outputId": "4258235b-ddff-48a8-d71e-7f213244501a"
      },
      "execution_count": null,
      "outputs": [
        {
          "output_type": "execute_result",
          "data": {
            "text/plain": [
              "'ali usman'"
            ],
            "application/vnd.google.colaboratory.intrinsic+json": {
              "type": "string"
            }
          },
          "metadata": {},
          "execution_count": 10
        }
      ]
    },
    {
      "cell_type": "code",
      "source": [
        "def name(first,last):\n",
        "  full={'firstname':first.title(),'lastname':last.title()}\n",
        "  return full\n",
        "a=name('ali','usman')\n",
        "print(a)"
      ],
      "metadata": {
        "colab": {
          "base_uri": "https://localhost:8080/"
        },
        "id": "t2lQMrtRK9HS",
        "outputId": "2ff022f3-0f21-4382-9ef1-88d85a09409f"
      },
      "execution_count": null,
      "outputs": [
        {
          "output_type": "stream",
          "name": "stdout",
          "text": [
            "{'firstname': 'Ali', 'lastname': 'Usman'}\n"
          ]
        }
      ]
    },
    {
      "cell_type": "code",
      "source": [
        "def person(first,last,age=None):\n",
        "  if age:\n",
        "    full={'firstname':first.title(),'lastname':last.title(),'age':age}\n",
        "  else:\n",
        "    full={'firstname':first.title(),'lastname':last.title()}\n",
        "  return full\n",
        "person('ali','usman',20)\n"
      ],
      "metadata": {
        "colab": {
          "base_uri": "https://localhost:8080/"
        },
        "id": "8OsspMZULqW9",
        "outputId": "8db8c490-f8e5-4a0b-9580-81f7b2f05e0b"
      },
      "execution_count": null,
      "outputs": [
        {
          "output_type": "execute_result",
          "data": {
            "text/plain": [
              "{'firstname': 'Ali', 'lastname': 'Usman', 'age': 20}"
            ]
          },
          "metadata": {},
          "execution_count": 15
        }
      ]
    },
    {
      "cell_type": "code",
      "source": [
        "def full(first,last):\n",
        "  name=f'{first} {last}'\n",
        "  return name\n",
        "flag=True\n",
        "while flag:\n",
        "  print('(Enter q to quit)')\n",
        "  f=input('Enter your first name: ')\n",
        "  l=input('Enter your last name: ')\n",
        "  if f=='q' or l=='q':\n",
        "    flag=False\n",
        "  else:\n",
        "   a=full(f.title(),l.title())\n",
        "   print(f'Hello {a}')"
      ],
      "metadata": {
        "colab": {
          "base_uri": "https://localhost:8080/"
        },
        "id": "RNLQ8Tf9PMQZ",
        "outputId": "52f67286-c657-4094-d12c-72a1da932518"
      },
      "execution_count": null,
      "outputs": [
        {
          "name": "stdout",
          "output_type": "stream",
          "text": [
            "(Enter q to quit)\n",
            "Enter your first name: q\n",
            "Enter your last name: q\n"
          ]
        }
      ]
    },
    {
      "cell_type": "code",
      "source": [
        "def country(city,coun):\n",
        "  name=f\"'{city.title()}', '{coun.title()}'\"\n",
        "  print(name)\n",
        "country('lahore','pakistan')\n",
        "country('dehli','india')\n",
        "country('londan','england')"
      ],
      "metadata": {
        "colab": {
          "base_uri": "https://localhost:8080/"
        },
        "id": "-zrDArRaW6gS",
        "outputId": "5a9943ea-22b8-49df-ab32-7cd1f622afac"
      },
      "execution_count": null,
      "outputs": [
        {
          "output_type": "stream",
          "name": "stdout",
          "text": [
            "'Lahore', 'Pakistan'\n",
            "'Dehli', 'India'\n",
            "'Londan', 'England'\n"
          ]
        }
      ]
    },
    {
      "cell_type": "code",
      "source": [
        "def song(name,singer,year=None):\n",
        "  if year:\n",
        "    full={\"Song Name\":name.title(),\"Singer\":singer.title(),\"Year\":year}\n",
        "  else:\n",
        "    full={\"Song Name\":name.title(),\"Singer\":singer.title()}\n",
        "  print(full)\n",
        "song('husn','anuv',2023)\n",
        "song('52 Bars','karan aujla')"
      ],
      "metadata": {
        "colab": {
          "base_uri": "https://localhost:8080/"
        },
        "id": "HV6UUeGUYViJ",
        "outputId": "fb3ee6c5-4606-48ff-cefe-0b1717e389ec"
      },
      "execution_count": null,
      "outputs": [
        {
          "output_type": "stream",
          "name": "stdout",
          "text": [
            "{'Song Name': 'Husn', 'Singer': 'Anuv', 'Year': 2023}\n",
            "{'Song Name': '52 Bars', 'Singer': 'Karan Aujla'}\n"
          ]
        }
      ]
    },
    {
      "cell_type": "code",
      "source": [
        "def song(name,singer,year=None):\n",
        "  if year:\n",
        "    full={\"Name\":name.title(),\"Singer\":singer.title(),\"Year\":year}\n",
        "  else:\n",
        "    full={\"Name\":name.title(),\"Singer\":singer.title()}\n",
        "  return(full)\n",
        "\n",
        "while True:\n",
        "  print('(Enter n to quit)')\n",
        "  name=input('Enter the song name: ')\n",
        "  if name=='n':\n",
        "    break\n",
        "  singer=input('Enter the singer: ')\n",
        "  if singer=='n':\n",
        "    break\n",
        "  a=song(name,singer)\n",
        "  print(a)\n",
        "\n"
      ],
      "metadata": {
        "colab": {
          "base_uri": "https://localhost:8080/"
        },
        "id": "MDxqWCYubKSR",
        "outputId": "ead4ce02-6be5-4ff5-cd28-3cdf4fb4dea2"
      },
      "execution_count": null,
      "outputs": [
        {
          "name": "stdout",
          "output_type": "stream",
          "text": [
            "(Enter n to quit)\n",
            "Enter the song name: husn\n",
            "Enter the singer: anuv\n",
            "{'Name': 'Husn', 'Singer': 'Anuv'}\n",
            "(Enter n to quit)\n",
            "Enter the song name: n\n"
          ]
        }
      ]
    },
    {
      "cell_type": "code",
      "source": [
        "def greeting(names):\n",
        "  for name in names:\n",
        "    greet=f'Hello {name.title()}'\n",
        "    print(greet)\n",
        "usernames=['ali','usman','me']\n",
        "greeting(usernames)\n",
        "greeting(['zaman','arslan','peer'])"
      ],
      "metadata": {
        "colab": {
          "base_uri": "https://localhost:8080/"
        },
        "id": "ARr2QXdkjItM",
        "outputId": "78eb3a3b-c293-4e90-d66e-be52e1032cb4"
      },
      "execution_count": null,
      "outputs": [
        {
          "output_type": "stream",
          "name": "stdout",
          "text": [
            "Hello Ali\n",
            "Hello Usman\n",
            "Hello Me\n",
            "Hello Zaman\n",
            "Hello Arslan\n",
            "Hello Peer\n"
          ]
        }
      ]
    },
    {
      "cell_type": "code",
      "source": [
        "def models(unprinted,complete):\n",
        "  while unprinted:\n",
        "    done=unprinted.pop()\n",
        "    print(f'Printing model: {done}')\n",
        "    complete.append(done)\n",
        "def show(complete):\n",
        "  print('\\nAfter printing')\n",
        "  for i in complete:\n",
        "    print(i)\n",
        "\n",
        "unprinted = ['phone case', 'robot pendant', 'alpha']\n",
        "complete=[]\n",
        "models(unprinted,complete)\n",
        "show(complete)"
      ],
      "metadata": {
        "colab": {
          "base_uri": "https://localhost:8080/"
        },
        "id": "g-YWLNahm0KD",
        "outputId": "0eb03b1a-c398-417c-f467-845164d5ff98"
      },
      "execution_count": null,
      "outputs": [
        {
          "output_type": "stream",
          "name": "stdout",
          "text": [
            "Printing model: alpha\n",
            "Printing model: robot pendant\n",
            "Printing model: phone case\n",
            "\n",
            "After printing\n",
            "alpha\n",
            "robot pendant\n",
            "phone case\n"
          ]
        }
      ]
    },
    {
      "cell_type": "code",
      "source": [
        "fruits=['apple','banana','peech']\n",
        "complete=[]\n",
        "models(fruits,complete)\n",
        "show(complete)"
      ],
      "metadata": {
        "colab": {
          "base_uri": "https://localhost:8080/"
        },
        "id": "eVV7bIoCsg-B",
        "outputId": "47ff2c69-69ba-4341-c83b-ce56b8b14161"
      },
      "execution_count": null,
      "outputs": [
        {
          "output_type": "stream",
          "name": "stdout",
          "text": [
            "Printing model: peech\n",
            "Printing model: banana\n",
            "Printing model: apple\n",
            "\n",
            "After printing\n",
            "peech\n",
            "banana\n",
            "apple\n"
          ]
        }
      ]
    },
    {
      "cell_type": "code",
      "source": [
        "models(fruits[:],complete)\n",
        "show (complete)"
      ],
      "metadata": {
        "colab": {
          "base_uri": "https://localhost:8080/"
        },
        "id": "045B61cMkjCZ",
        "outputId": "c2e2c9f8-a6ee-4b49-dda3-d4d4d08d71e2"
      },
      "execution_count": null,
      "outputs": [
        {
          "output_type": "stream",
          "name": "stdout",
          "text": [
            "\n",
            "After printing\n",
            "peech\n",
            "banana\n",
            "apple\n"
          ]
        }
      ]
    },
    {
      "cell_type": "code",
      "source": [
        "def show_text(messages):\n",
        "  for i in messages:\n",
        "    print(i)\n",
        "messages=['Hello','How are you','can i help you','Doing great']\n",
        "show_text(messages)"
      ],
      "metadata": {
        "colab": {
          "base_uri": "https://localhost:8080/"
        },
        "id": "ZqF-8mavlh6f",
        "outputId": "bee05321-f790-42cf-ade8-4f014798c7fa"
      },
      "execution_count": null,
      "outputs": [
        {
          "output_type": "stream",
          "name": "stdout",
          "text": [
            "Hello\n",
            "How are you\n",
            "can i help you\n",
            "Doing great\n"
          ]
        }
      ]
    },
    {
      "cell_type": "code",
      "source": [
        "def show_text(messages):\n",
        "  for i in messages:\n",
        "    print(i)\n",
        "def send_text(messages,sent):\n",
        "  while messages:\n",
        "    done=messages.pop()\n",
        "    print(f'Sending message: {done}')\n",
        "    sent.append(done)\n",
        "messages=['Hello','How are you','can i help you','Doing great']\n",
        "sent=[]\n",
        "show_text(messages)\n",
        "send_text(messages,sent)\n",
        "print(f'\\n{messages}')\n",
        "print(f'\\n{sent}')"
      ],
      "metadata": {
        "colab": {
          "base_uri": "https://localhost:8080/"
        },
        "id": "nAhsbVHJnC1a",
        "outputId": "dd4f7fc1-5daf-4f9d-b125-f51d5413a4c0"
      },
      "execution_count": null,
      "outputs": [
        {
          "output_type": "stream",
          "name": "stdout",
          "text": [
            "Hello\n",
            "How are you\n",
            "can i help you\n",
            "Doing great\n",
            "Sending message: Doing great\n",
            "Sending message: can i help you\n",
            "Sending message: How are you\n",
            "Sending message: Hello\n",
            "\n",
            "[]\n",
            "\n",
            "['Doing great', 'can i help you', 'How are you', 'Hello']\n"
          ]
        }
      ]
    },
    {
      "cell_type": "code",
      "source": [
        "def show_text(messages):\n",
        "  for i in messages:\n",
        "    print(i)\n",
        "def send_text(messages,sent):\n",
        "  while messages:\n",
        "    done=messages.pop()\n",
        "    print(f'Sending message: {done}')\n",
        "    sent.append(done)\n",
        "messages=['Hello','How are you','can i help you','Doing great']\n",
        "sent=[]\n",
        "show_text(messages)\n",
        "send_text(messages[:],sent)\n",
        "print(f'\\n{messages}')\n",
        "print(f'\\n{sent}')"
      ],
      "metadata": {
        "colab": {
          "base_uri": "https://localhost:8080/"
        },
        "id": "o2FKNVWSJI8a",
        "outputId": "8c380997-5210-4f7f-e96a-3dfaac8656a9"
      },
      "execution_count": null,
      "outputs": [
        {
          "output_type": "stream",
          "name": "stdout",
          "text": [
            "Hello\n",
            "How are you\n",
            "can i help you\n",
            "Doing great\n",
            "Sending message: Doing great\n",
            "Sending message: can i help you\n",
            "Sending message: How are you\n",
            "Sending message: Hello\n",
            "\n",
            "['Hello', 'How are you', 'can i help you', 'Doing great']\n",
            "\n",
            "['Doing great', 'can i help you', 'How are you', 'Hello']\n"
          ]
        }
      ]
    },
    {
      "cell_type": "code",
      "source": [
        "def pizza(*toppings):\n",
        "  print(toppings)\n",
        "pizza('slice','fries','kabab')"
      ],
      "metadata": {
        "colab": {
          "base_uri": "https://localhost:8080/"
        },
        "id": "Ai2g5ficLbqO",
        "outputId": "79c2c6a4-7cfc-4e49-8eb5-be0259ea27f6"
      },
      "execution_count": null,
      "outputs": [
        {
          "output_type": "stream",
          "name": "stdout",
          "text": [
            "('slice', 'fries', 'kabab')\n"
          ]
        }
      ]
    },
    {
      "cell_type": "code",
      "source": [
        "def pizza(size,*toppings):\n",
        "  print(f'The {size}-inch pizza is making with the following toppings: ')\n",
        "  for topping in toppings:\n",
        "    print(topping)\n",
        "pizza(22,'slice','fries','kabab')"
      ],
      "metadata": {
        "colab": {
          "base_uri": "https://localhost:8080/"
        },
        "id": "5Z_1WbBKMK23",
        "outputId": "eaf9c883-1c34-4aac-f3d6-a317792f60d9"
      },
      "execution_count": null,
      "outputs": [
        {
          "output_type": "stream",
          "name": "stdout",
          "text": [
            "The 22-inch pizza is making with the following toppings: \n",
            "slice\n",
            "fries\n",
            "kabab\n"
          ]
        }
      ]
    },
    {
      "cell_type": "code",
      "source": [
        "def user_profile(first,last,**user_info):\n",
        "  user_info['first_']=first\n",
        "  user_info['last_']=last\n",
        "  return user_info\n",
        "\n",
        "user=user_profile('ali','usman',location='lahore',contact=123,field='DS')\n",
        "print(user)"
      ],
      "metadata": {
        "colab": {
          "base_uri": "https://localhost:8080/"
        },
        "id": "55d4CejDPV-m",
        "outputId": "800b8239-21c0-42ab-9018-f9ef01f4eff4"
      },
      "execution_count": null,
      "outputs": [
        {
          "output_type": "stream",
          "name": "stdout",
          "text": [
            "{'location': 'lahore', 'contact': 123, 'field': 'DS', 'first_': 'ali', 'last_': 'usman'}\n"
          ]
        }
      ]
    },
    {
      "cell_type": "code",
      "source": [
        "def sandwitches(*things):\n",
        "  print(f' the following things on sand {things}')\n",
        "sandwitches('slices','chicken','cheese')\n",
        "sandwitches('X','Y','Z')\n",
        "sandwitches('A','B','C')"
      ],
      "metadata": {
        "colab": {
          "base_uri": "https://localhost:8080/"
        },
        "id": "W_cFx5PiXI04",
        "outputId": "b0847699-ed49-4128-d730-2ea1efd69e25"
      },
      "execution_count": null,
      "outputs": [
        {
          "output_type": "stream",
          "name": "stdout",
          "text": [
            " the following things on sand ('slices', 'chicken', 'cheese')\n",
            " the following things on sand ('X', 'Y', 'Z')\n",
            " the following things on sand ('A', 'B', 'C')\n"
          ]
        }
      ]
    },
    {
      "cell_type": "code",
      "source": [
        "def build_profile(first,last,**info):\n",
        "  info['First_name']=first\n",
        "  info['last_name']=last\n",
        "  return info\n",
        "myself=build_profile('Hammad','Hassan',Uni='GCU',Aim=\"DS\",Country='PAKISTAN')\n",
        "print(myself)"
      ],
      "metadata": {
        "colab": {
          "base_uri": "https://localhost:8080/"
        },
        "id": "3ehmalZQYBT0",
        "outputId": "a31c6949-839b-4beb-e687-a2a09294e53e"
      },
      "execution_count": null,
      "outputs": [
        {
          "output_type": "stream",
          "name": "stdout",
          "text": [
            "{'Uni': 'GCU', 'Aim': 'DS', 'Country': 'PAKISTAN', 'First_name': 'Hammad', 'last_name': 'Hassan'}\n"
          ]
        }
      ]
    },
    {
      "cell_type": "code",
      "source": [
        "def features(manufacturere,model,**car_info):\n",
        "  car_info['manufacturere']=manufacturere\n",
        "  car_info['Model']=model\n",
        "  return car_info\n",
        "car=features('Hundai','Civic',Color='Black',headlights='High')\n",
        "print(car)"
      ],
      "metadata": {
        "colab": {
          "base_uri": "https://localhost:8080/"
        },
        "id": "XGYycxMoZtV7",
        "outputId": "788d14f7-4fdd-49ad-ec27-14363a01198f"
      },
      "execution_count": null,
      "outputs": [
        {
          "output_type": "stream",
          "name": "stdout",
          "text": [
            "{'Color': 'Black', 'headlights': 'High', 'manufacturere': 'Hundai', 'Model': 'Civic'}\n"
          ]
        }
      ]
    },
    {
      "cell_type": "code",
      "source": [
        "n = int(input())\n",
        "i=1\n",
        "while i<=n:\n",
        "  print(str(i),end='')\n",
        "  i+=1"
      ],
      "metadata": {
        "colab": {
          "base_uri": "https://localhost:8080/"
        },
        "id": "oXYMd61BsrG5",
        "outputId": "f1940918-0a9d-42cd-997f-108af6689909"
      },
      "execution_count": null,
      "outputs": [
        {
          "output_type": "stream",
          "name": "stdout",
          "text": [
            "5\n",
            "12345"
          ]
        }
      ]
    },
    {
      "cell_type": "markdown",
      "source": [
        "# ***Chapter#9 Classes***"
      ],
      "metadata": {
        "id": "Bgs5AYSnJfQl"
      }
    },
    {
      "cell_type": "code",
      "source": [
        "class Dog:\n",
        "  def init(self,name,age):\n",
        "    self.name='Jacky'\n",
        "    self.age=3\n",
        "\n",
        "  def sit(self):\n",
        "    print(f'{self.name} is sitting')\n",
        "\n",
        "  def roll_over(self):\n",
        "    print(f'{self.name} rolled over')\n",
        "\n",
        "my_dog = Dog()\n",
        "  #print(f\"My dog's name is {my_dog.name}.\")\n",
        "  #print(f\"My dog is {my_dog.age} years old.\")\n",
        "my_dog.init('Jacjy',2)\n",
        "my_dog.sit()\n",
        "my_dog.roll_over()"
      ],
      "metadata": {
        "id": "g56V4rAnJmMb",
        "colab": {
          "base_uri": "https://localhost:8080/"
        },
        "outputId": "68243971-44a7-44cc-e237-27d17c2de633"
      },
      "execution_count": null,
      "outputs": [
        {
          "output_type": "stream",
          "name": "stdout",
          "text": [
            "Jacky is sitting\n",
            "Jacky rolled over\n"
          ]
        }
      ]
    },
    {
      "cell_type": "code",
      "source": [
        "class Faculty:\n",
        "  def data(self):\n",
        "    self.name=input('Enter employee name: ')\n",
        "    self.id=int(input('Enter its Id: '))\n",
        "    self.salary=float(input('Enter employee salary: '))\n",
        "\n",
        "  def display(self):\n",
        "    print('Name:',self.name)\n",
        "    print('Id:',self.id)\n",
        "    print('Salary:',self.salary)\n",
        "\n",
        "a=Faculty()\n",
        "a.data()\n",
        "a.display()\n"
      ],
      "metadata": {
        "colab": {
          "base_uri": "https://localhost:8080/"
        },
        "id": "4mYH3b6IMgWk",
        "outputId": "ab25da5d-160c-414e-8675-da6161157141"
      },
      "execution_count": null,
      "outputs": [
        {
          "output_type": "stream",
          "name": "stdout",
          "text": [
            "Enter employee name: Ali\n",
            "Enter its Id: 1\n",
            "Enter employee salary: 10000\n",
            "Name: Ali\n",
            "Id: 1\n",
            "Salary: 10000.0\n"
          ]
        }
      ]
    },
    {
      "cell_type": "code",
      "source": [
        "class Student:\n",
        "  def __init__(self,name,roll_num,grades):\n",
        "    self.name=name\n",
        "    self.roll=roll_num\n",
        "    self.num=grades\n",
        "\n",
        "  def avg(self):\n",
        "    avg=sum(self.num)/len(self.num)\n",
        "    return avg\n",
        "\n",
        "first_std=Student('ali',1009,[88,87,90])\n",
        "secnd_std=Student('Hammad',1041,[100,100,100])\n",
        "print(first_std.name)\n",
        "print(first_std.avg())\n",
        "print(secnd_std.name)\n",
        "print(secnd_std.avg())\n"
      ],
      "metadata": {
        "colab": {
          "base_uri": "https://localhost:8080/"
        },
        "id": "XFYSFr_hBWX4",
        "outputId": "5c2b780d-59b2-4012-c509-1adc714701ad"
      },
      "execution_count": null,
      "outputs": [
        {
          "output_type": "stream",
          "name": "stdout",
          "text": [
            "ali\n",
            "88.33333333333333\n",
            "Hammad\n",
            "100.0\n"
          ]
        }
      ]
    },
    {
      "cell_type": "code",
      "source": [
        "class Resturant:\n",
        "  def __init__(self,restaurant_name,cuisine_type):\n",
        "    self.name=restaurant_name\n",
        "    self.cuisine=cuisine_type\n",
        "\n",
        "  def describe_resturant(self):\n",
        "    print(f'{self.name} has only {self.cuisine} cuisine')\n",
        "\n",
        "  def open_restaurant(self):\n",
        "    print(f'{self.name} is open now')\n",
        "\n",
        "rest=Resturant('PC','Pakistani')\n",
        "print(rest.name)\n",
        "print(rest.cuisine)\n",
        "rest.describe_resturant()\n",
        "rest.open_restaurant()"
      ],
      "metadata": {
        "colab": {
          "base_uri": "https://localhost:8080/"
        },
        "id": "u0N2EwCUD-_n",
        "outputId": "80e13b08-dcaf-4bfb-a205-c691d1bd677d"
      },
      "execution_count": null,
      "outputs": [
        {
          "output_type": "stream",
          "name": "stdout",
          "text": [
            "PC\n",
            "Pakistani\n",
            "PC has only Pakistani cuisine\n",
            "PC is open now\n"
          ]
        }
      ]
    },
    {
      "cell_type": "code",
      "source": [
        "class Resturant:\n",
        "  def __init__(self,restaurant_name,cuisine_type):\n",
        "    self.name=restaurant_name\n",
        "    self.cuisine=cuisine_type\n",
        "\n",
        "  def describe_resturant(self):\n",
        "    print(f'{self.name} has only {self.cuisine} cuisine')\n",
        "\n",
        "  def open_restaurant(self):\n",
        "    print(f'{self.name} is open now')\n",
        "\n",
        "rest1 = Resturant('PC', 'Pakistani')\n",
        "rest2 = Resturant('Dhbi', 'Indian')\n",
        "rest3 = Resturant('Yamm', 'Italian')\n",
        "\n",
        "rest1.describe_resturant()\n",
        "rest2.describe_resturant()\n",
        "rest3.describe_resturant()\n",
        "\n"
      ],
      "metadata": {
        "colab": {
          "base_uri": "https://localhost:8080/"
        },
        "id": "QPkrPAIcIIig",
        "outputId": "f434a87c-d2a5-4a34-bc02-042fe452fd0c"
      },
      "execution_count": null,
      "outputs": [
        {
          "output_type": "stream",
          "name": "stdout",
          "text": [
            "PC has only Pakistani cuisine\n",
            "Dhbi has only Indian cuisine\n",
            "Yamm has only Italian cuisine\n"
          ]
        }
      ]
    },
    {
      "cell_type": "code",
      "source": [
        "class User:\n",
        "  def __init__(self,first_name,last_name,id,app):\n",
        "    self.fname=first_name\n",
        "    self.lname=last_name\n",
        "    self.id=id\n",
        "    self.application=app\n",
        "\n",
        "  def describe_user(self):\n",
        "    print(f'User named with {self.fname} {self.lname} has id {self.id} and use mostly {self.application}')\n",
        "\n",
        "  def greet_user(self):\n",
        "    print(f'Hello! {self.fname} {self.lname} welcome to our website')\n",
        "\n",
        "user1=User('Ali','Usman',1,'youtube')\n",
        "user2=User('Tayyab','Hassan',2,'whatsapp')\n",
        "user3=User('Mudassar','shah',3,'tiktok')\n",
        "\n",
        "user1.describe_user()\n",
        "user1.greet_user()\n",
        "\n",
        "user2.describe_user()\n",
        "user2.greet_user()\n",
        "\n",
        "user3.describe_user()\n",
        "user3.greet_user()"
      ],
      "metadata": {
        "colab": {
          "base_uri": "https://localhost:8080/"
        },
        "id": "ds0CVVoQJt_x",
        "outputId": "f2fe961e-1f45-49b2-e6d1-64340beb9545"
      },
      "execution_count": null,
      "outputs": [
        {
          "output_type": "stream",
          "name": "stdout",
          "text": [
            "User named with Ali Usman has id 1 and use mostly youtube\n",
            "Hello! Ali Usman welcome to our website\n",
            "User named with Tayyab Hassan has id 2 and use mostly whatsapp\n",
            "Hello! Tayyab Hassan welcome to our website\n",
            "User named with Mudassar shah has id 3 and use mostly tiktok\n",
            "Hello! Mudassar shah welcome to our website\n"
          ]
        }
      ]
    },
    {
      "cell_type": "code",
      "source": [
        "class Car:\n",
        "  def __init__(self,make,model,year):\n",
        "    self.manufacturere=make\n",
        "    self.model=model\n",
        "    self.year=year\n",
        "    self.odometer=0\n",
        "\n",
        "  def get_descriptive_name(self):\n",
        "    long_name=f'{self.year} {self.manufacturere} {self.model}'\n",
        "    return long_name.title()\n",
        "\n",
        "  def read_odometer(self):\n",
        "    print(f'This car has {self.odometer} miles on it.')\n",
        "\n",
        "  def updated_odometer(self,milage):\n",
        "    self.odometer=milage\n",
        "\n",
        "  def incremented(self,miles):\n",
        "    self.odometer+=miles\n",
        "\n",
        "\n",
        "car=Car('audi','a4',2021)\n",
        "print(car.get_descriptive_name())\n",
        "car.updated_odometer(25)\n",
        "car.read_odometer()\n",
        "\n",
        "car.incremented(10)\n",
        "car.read_odometer()\n"
      ],
      "metadata": {
        "colab": {
          "base_uri": "https://localhost:8080/"
        },
        "id": "dNY2L8PkRbYG",
        "outputId": "b6760ad6-5f10-426c-b600-843530007f54"
      },
      "execution_count": null,
      "outputs": [
        {
          "output_type": "stream",
          "name": "stdout",
          "text": [
            "2021 Audi A4\n",
            "This car has 25 miles on it.\n",
            "This car has 35 miles on it.\n"
          ]
        }
      ]
    },
    {
      "cell_type": "code",
      "source": [
        "#Change Attribute directly in instance\n",
        "car.odometer=23\n",
        "car.read_odometer()"
      ],
      "metadata": {
        "colab": {
          "base_uri": "https://localhost:8080/"
        },
        "id": "LnC24lLVXptZ",
        "outputId": "e49f1f54-5ecb-4cd2-c57f-0fab5f839526"
      },
      "execution_count": null,
      "outputs": [
        {
          "output_type": "stream",
          "name": "stdout",
          "text": [
            "This car has 23 miles on it.\n"
          ]
        }
      ]
    },
    {
      "cell_type": "code",
      "source": [
        "#Updating value thorough method\n",
        "def updated_odometer(self,milage):\n",
        "  self.odometer=milage\n",
        "\n",
        "  car.updated_odometer(25)\n",
        "  car.read_odometer()\n"
      ],
      "metadata": {
        "id": "w_NIHV86YIrX"
      },
      "execution_count": null,
      "outputs": []
    },
    {
      "cell_type": "code",
      "source": [
        "class Resturant:\n",
        "  def __init__(self,restaurant_name,cuisine_type):\n",
        "    self.name=restaurant_name\n",
        "    self.cuisine=cuisine_type\n",
        "    self.served=0\n",
        "\n",
        "  def service(self):\n",
        "    print(f'This restaurant has {self.served} customers')\n",
        "\n",
        "  def describe_resturant(self):\n",
        "    print(f'{self.name} has only {self.cuisine} cuisine')\n",
        "\n",
        "  def open_restaurant(self):\n",
        "    print(f'{self.name} is open now')\n",
        "\n",
        "  def customer_served(self,num):\n",
        "    self.served=num\n",
        "\n",
        "  def increment_number_served(self,number):\n",
        "    self.served+=number\n",
        "\n",
        "\n",
        "restaurant=Resturant('PC','Pakistani')\n",
        "print(restaurant.describe_resturant())\n",
        "print(restaurant.open_restaurant())\n",
        "\n",
        "restaurant.service()\n",
        "restaurant.served=10\n",
        "restaurant.service()\n",
        "\n",
        "restaurant.customer_served(20)\n",
        "restaurant.service()\n",
        "\n",
        "restaurant.increment_number_served(10)\n",
        "restaurant.service()\n",
        "\n",
        "\n"
      ],
      "metadata": {
        "colab": {
          "base_uri": "https://localhost:8080/"
        },
        "id": "LFdQ19naYrCo",
        "outputId": "42344655-e8ba-4731-82b0-7513bfb2f9c3"
      },
      "execution_count": null,
      "outputs": [
        {
          "output_type": "stream",
          "name": "stdout",
          "text": [
            "PC has only Pakistani cuisine\n",
            "None\n",
            "PC is open now\n",
            "None\n",
            "This restaurant has 0 customers\n",
            "This restaurant has 10 customers\n",
            "This restaurant has 20 customers\n",
            "This restaurant has 30 customers\n"
          ]
        }
      ]
    },
    {
      "cell_type": "code",
      "source": [
        "class User:\n",
        "  def __init__(self,first_name,last_name,id,app):\n",
        "    self.fname=first_name\n",
        "    self.lname=last_name\n",
        "    self.id=id\n",
        "    self.application=app\n",
        "    self.login_attempts=0\n",
        "\n",
        "  def describe_user(self):\n",
        "    print(f'User named with {self.fname} {self.lname} has id {self.id} and use mostly {self.application}')\n",
        "\n",
        "  def greet_user(self):\n",
        "    print(f'Hello! {self.fname} {self.lname} welcome to our website')\n",
        "\n",
        "  def increment_login_attempts(self):\n",
        "    self.login_attempts+=1\n",
        "\n",
        "  def reset_login_attempts(self):\n",
        "    self.login_attempts=0\n",
        "\n",
        "user=User('ali','usman',1,'whatsapp')\n",
        "user.increment_login_attempts()\n",
        "print(user.login_attempts)\n",
        "user.increment_login_attempts()\n",
        "print(user.login_attempts)\n",
        "user.reset_login_attempts()\n",
        "print(user.login_attempts)\n",
        "\n",
        "\n"
      ],
      "metadata": {
        "colab": {
          "base_uri": "https://localhost:8080/"
        },
        "id": "H3GDeGHVa5xP",
        "outputId": "3d8a2c7f-8519-4ab1-ad92-8476964ff474"
      },
      "execution_count": null,
      "outputs": [
        {
          "output_type": "stream",
          "name": "stdout",
          "text": [
            "1\n",
            "2\n",
            "0\n"
          ]
        }
      ]
    },
    {
      "cell_type": "markdown",
      "source": [
        "# ***Inheritence***"
      ],
      "metadata": {
        "id": "K8wAJAtIc3dw"
      }
    },
    {
      "cell_type": "code",
      "source": [
        "class Car:\n",
        "  def __init__(self,make,model,year):\n",
        "    self.manufacturere=make\n",
        "    self.model=model\n",
        "    self.year=year\n",
        "    self.odometer=0\n",
        "\n",
        "  def get_descriptive_name(self):\n",
        "    long_name=f'{self.year} {self.manufacturere} {self.model}'\n",
        "    return long_name.title()\n",
        "\n",
        "  def read_odometer(self):\n",
        "    print(f'This car has {self.odometer} miles on it.')\n",
        "\n",
        "  def updated_odometer(self,milage):\n",
        "    self.odometer=milage\n",
        "\n",
        "  def incremented(self,miles):\n",
        "    self.odometer+=miles\n",
        "\n",
        "class ElectricCar(Car):\n",
        "  def __init__(self,make,model,year):\n",
        "    super().__init__(make,model,year)\n",
        "    self.battery=75\n",
        "\n",
        "  def define_battery(self):\n",
        "    print(f'This car has {self.battery}-Kwh battery')\n",
        "\n",
        "my_tesla=ElectricCar('Tesla','t1',2021)\n",
        "print(my_tesla.get_descriptive_name())\n",
        "my_tesla.define_battery()\n"
      ],
      "metadata": {
        "colab": {
          "base_uri": "https://localhost:8080/"
        },
        "id": "4_b9uI_Ec74t",
        "outputId": "a96f4996-1605-44e1-c0f5-052a8326477e"
      },
      "execution_count": null,
      "outputs": [
        {
          "output_type": "stream",
          "name": "stdout",
          "text": [
            "2021 Tesla T1\n",
            "This car has 75-Kwh battery\n"
          ]
        }
      ]
    },
    {
      "cell_type": "code",
      "source": [
        "class Car:\n",
        "  def __init__(self,make,model,year):\n",
        "    self.manu=make\n",
        "    self.model=model\n",
        "    self.year=year\n",
        "    self.odometer=0\n",
        "\n",
        "  def describe_car(self):\n",
        "    long_name=(f'{self.year} {self.manu} {self.model}')\n",
        "    return long_name\n",
        "\n",
        "\n",
        "class Battery:\n",
        "  def __init__(self,battery_size=75):\n",
        "    self.battery=battery_size\n",
        "\n",
        "  def describe_battery(self):\n",
        "    print(f'The size of the battery is {self.battery}')\n",
        "\n",
        "  def range(self):\n",
        "    if self.battery==75:\n",
        "      range=260\n",
        "    elif self.battery==100:\n",
        "      range=300\n",
        "\n",
        "    print(f'This car can go about {range} miles on a full charge.')\n",
        "\n",
        "  def upgrade_battery(self):\n",
        "    if self.battery!=100:\n",
        "      self.battery=100\n",
        "\n",
        "\n",
        "class ElectricCar(Car):\n",
        "  def __init__(self,make,model,year):\n",
        "    super().__init__(make,model,year)\n",
        "    self.battery=Battery()\n",
        "\n",
        "my_tesla=ElectricCar('Tesla','T1',2021)\n",
        "print(my_tesla.describe_car())\n",
        "my_tesla.battery.describe_battery()\n",
        "my_tesla.battery.range()\n",
        "my_tesla.battery.upgrade_battery()\n",
        "my_tesla.battery.range()\n"
      ],
      "metadata": {
        "colab": {
          "base_uri": "https://localhost:8080/"
        },
        "id": "v_vYtrVFbRUO",
        "outputId": "1f930c87-a4fe-44e4-94c9-a735fdb72b92"
      },
      "execution_count": null,
      "outputs": [
        {
          "output_type": "stream",
          "name": "stdout",
          "text": [
            "2021 Tesla T1\n",
            "The size of the battery is 75\n",
            "This car can go about 260 miles on a full charge.\n",
            "This car can go about 300 miles on a full charge.\n"
          ]
        }
      ]
    },
    {
      "cell_type": "code",
      "source": [
        "class Resturant:\n",
        "  def __init__(self,restaurant_name,cuisine_type):\n",
        "    self.name=restaurant_name\n",
        "    self.cuisine=cuisine_type\n",
        "    self.served=0\n",
        "\n",
        "  def service(self):\n",
        "    print(f'This restaurant has {self.served} customers')\n",
        "\n",
        "  def describe_resturant(self):\n",
        "    print(f'{self.name} has only {self.cuisine} cuisine')\n",
        "\n",
        "  def open_restaurant(self):\n",
        "    print(f'{self.name} is open now')\n",
        "\n",
        "  def customer_served(self,num):\n",
        "    self.served=num\n",
        "\n",
        "  def increment_number_served(self,number):\n",
        "    self.served+=number\n",
        "\n",
        "class IceCreamStand(Resturant):\n",
        "  def __init__(self,restaurant_name,cuisine_type):\n",
        "    super().__init__(restaurant_name,cuisine_type)\n",
        "    self.flavors=['vanila','choclate','strawberry']\n",
        "\n",
        "  def flavors1(self):\n",
        "    for i in self.flavors:\n",
        "      print(f'We have available flavor is {i}')\n",
        "\n",
        "fav_flav=IceCreamStand(\"PC\",\"Pak\")\n",
        "fav_flav.flavors1()"
      ],
      "metadata": {
        "colab": {
          "base_uri": "https://localhost:8080/"
        },
        "id": "Jaf_tNxd7ZAw",
        "outputId": "262fb2c2-898e-40fd-b73a-804d8ada539b"
      },
      "execution_count": null,
      "outputs": [
        {
          "output_type": "stream",
          "name": "stdout",
          "text": [
            "We have available flavor is vanila\n",
            "We have available flavor is choclate\n",
            "We have available flavor is strawberry\n"
          ]
        }
      ]
    },
    {
      "cell_type": "code",
      "source": [
        "class User:\n",
        "  def __init__(self,first_name,last_name,id,app):\n",
        "    self.fname=first_name\n",
        "    self.lname=last_name\n",
        "    self.id=id\n",
        "    self.application=app\n",
        "    self.login_attempts=0\n",
        "\n",
        "  def describe_user(self):\n",
        "    print(f'User named with {self.fname} {self.lname} has id {self.id} and use mostly {self.application}')\n",
        "\n",
        "  def greet_user(self):\n",
        "    print(f'Hello! {self.fname} {self.lname} welcome to our website')\n",
        "\n",
        "  def increment_login_attempts(self):\n",
        "    self.login_attempts+=1\n",
        "\n",
        "  def reset_login_attempts(self):\n",
        "    self.login_attempts=0\n",
        "\n",
        "class Admin(User):\n",
        "  def __init__(self,first_name,last_name,id,app):\n",
        "    super().__init__(first_name,last_name,id,app)\n",
        "    self.privileges=[\"can add post\", \"can delete post\", \"can ban user\",\"can remove users\"]\n",
        "\n",
        "  def show_privilege(self):\n",
        "    for i in self.privileges:\n",
        "      print(f'Admin {i}')\n",
        "\n",
        "Administrator=Admin('Ali','Usman',1,'whatsapp')\n",
        "Administrator.show_privilege()\n"
      ],
      "metadata": {
        "colab": {
          "base_uri": "https://localhost:8080/"
        },
        "id": "iSK8npI1_Qb7",
        "outputId": "4f41b90d-760f-4994-896a-f04c9445704d"
      },
      "execution_count": null,
      "outputs": [
        {
          "output_type": "stream",
          "name": "stdout",
          "text": [
            "Admin can add post\n",
            "Admin can delete post\n",
            "Admin can ban user\n",
            "Admin can remove users\n"
          ]
        }
      ]
    },
    {
      "cell_type": "code",
      "source": [
        "class Privileges:\n",
        "  def __init__(self,privileges=None):\n",
        "    if privileges is None:\n",
        "      self.privileges = [\"can add post\", \"can delete post\", \"can ban user\",\"can remove users\"]\n",
        "    else:\n",
        "      self.privileges = privileges\n",
        "\n",
        "  def show_privilege(self):\n",
        "    for i in self.privileges:\n",
        "      print(f'Admin {i}')\n",
        "\n",
        "\n",
        "class Admin(User):\n",
        "  def __init__(self,first_name,last_name,id,app):\n",
        "    super().__init__(first_name,last_name,id,app)\n",
        "    self.privileges = Privileges()\n",
        "    #self.privileges=[\"can add post\", \"can delete post\", \"can ban user\",\"can remove users\"]\n",
        "\n",
        "\n",
        "adm=Admin('Ali','uSman',1,'what')\n",
        "adm.privileges.show_privilege()\n"
      ],
      "metadata": {
        "colab": {
          "base_uri": "https://localhost:8080/"
        },
        "id": "22SeJT-qCieG",
        "outputId": "fb5f488e-fdd7-4e6e-c006-bff51cfe10b1"
      },
      "execution_count": null,
      "outputs": [
        {
          "output_type": "stream",
          "name": "stdout",
          "text": [
            "Admin can add post\n",
            "Admin can delete post\n",
            "Admin can ban user\n",
            "Admin can remove users\n"
          ]
        }
      ]
    },
    {
      "cell_type": "markdown",
      "source": [
        "***Python Library***"
      ],
      "metadata": {
        "id": "1LiQ-l7gQ8aW"
      }
    },
    {
      "cell_type": "code",
      "source": [
        "from random import randint\n",
        "class Dice:\n",
        "  def __init__(self,sides=6):\n",
        "    self.sides=sides\n",
        "\n",
        "  def roll_die(self):\n",
        "    return randint(1,self.sides)\n",
        "\n",
        "dice=Dice()\n",
        "for i in range(10):\n",
        "  print(dice.roll_die())\n",
        "\n",
        "print('-------------------')\n",
        "\n",
        "dice.sides=10\n",
        "for i in range(10):\n",
        "  print(dice.roll_die())\n",
        "\n",
        "print('-------------------')\n",
        "\n",
        "dice.sides=20\n",
        "for i in range(10):\n",
        "  print(dice.roll_die())\n",
        "\n"
      ],
      "metadata": {
        "colab": {
          "base_uri": "https://localhost:8080/"
        },
        "id": "ByKbZyEyI7CW",
        "outputId": "2664ca7f-a993-4fd3-f394-e9018aac831f"
      },
      "execution_count": null,
      "outputs": [
        {
          "output_type": "stream",
          "name": "stdout",
          "text": [
            "1\n",
            "4\n",
            "3\n",
            "5\n",
            "4\n",
            "5\n",
            "4\n",
            "3\n",
            "5\n",
            "4\n",
            "-------------------\n",
            "2\n",
            "5\n",
            "4\n",
            "6\n",
            "9\n",
            "7\n",
            "9\n",
            "3\n",
            "8\n",
            "2\n",
            "-------------------\n",
            "19\n",
            "18\n",
            "11\n",
            "1\n",
            "5\n",
            "9\n",
            "11\n",
            "6\n",
            "5\n",
            "1\n"
          ]
        }
      ]
    },
    {
      "cell_type": "code",
      "source": [
        "from random import choice\n",
        "lst=[1,2,3,4,5,6,7,8,9,10,'hero','shs','kmall','uhu','oko']\n",
        "\n",
        "winners=[]\n",
        "for i in range(4):\n",
        "  lucky=choice(lst)\n",
        "  winners.append(lucky)\n",
        "\n",
        "print(f\"The lucky ones who have these {winners} tickts win prizes.\")\n",
        "\n"
      ],
      "metadata": {
        "colab": {
          "base_uri": "https://localhost:8080/"
        },
        "id": "HZNxu9ZOUXPw",
        "outputId": "f47306ff-0491-417b-bdf1-24c4623525fe"
      },
      "execution_count": null,
      "outputs": [
        {
          "output_type": "stream",
          "name": "stdout",
          "text": [
            "The lucky ones who have these [10, 3, 'kmall', 6] tickts win prizes.\n"
          ]
        }
      ]
    },
    {
      "cell_type": "code",
      "source": [],
      "metadata": {
        "id": "_TB8ISnXZLKZ"
      },
      "execution_count": null,
      "outputs": []
    },
    {
      "cell_type": "markdown",
      "source": [
        "# ***Chapter#10 Files and Exceptions***"
      ],
      "metadata": {
        "id": "0czWJtxUcBib"
      }
    },
    {
      "cell_type": "code",
      "source": [
        "try:\n",
        "  print(5/0)\n",
        "except ZeroDivisionError:\n",
        "  print(\"You can't divide by zero!\")\n",
        "\n"
      ],
      "metadata": {
        "colab": {
          "base_uri": "https://localhost:8080/"
        },
        "id": "EZbWKIsOcIhg",
        "outputId": "876ea39f-b4f8-4dd9-db2f-5535c47a6556"
      },
      "execution_count": null,
      "outputs": [
        {
          "output_type": "stream",
          "name": "stdout",
          "text": [
            "You can't divide by zero!\n"
          ]
        }
      ]
    },
    {
      "cell_type": "code",
      "source": [
        "print('Give me two number and I\"ll divide them')\n",
        "print('Enter q to quit: ')\n",
        "while True:\n",
        "  num1=input('\\nEnter your num1: ')\n",
        "  if num1=='q':\n",
        "    break\n",
        "\n",
        "  num2=input('Enter your num2: ')\n",
        "  if num2=='q':\n",
        "    break\n",
        "  try:\n",
        "    res=int(num1)/int(num2)\n",
        "  except:\n",
        "    print('You cant divide with 0')\n",
        "\n",
        "  else:\n",
        "    print(res)"
      ],
      "metadata": {
        "colab": {
          "base_uri": "https://localhost:8080/"
        },
        "id": "uPaNYZrqDKCD",
        "outputId": "0092e164-3210-477b-ded8-a76dcf032ac1"
      },
      "execution_count": null,
      "outputs": [
        {
          "name": "stdout",
          "output_type": "stream",
          "text": [
            "Give me two number and I\"ll divide them\n",
            "Enter q to quit: \n",
            "\n",
            "Enter your num1: 12\n",
            "Enter your num2: 0\n",
            "You cant divide with 0\n",
            "\n",
            "Enter your num1: 12\n",
            "Enter your num2: 3\n",
            "4.0\n",
            "\n",
            "Enter your num1: q\n"
          ]
        }
      ]
    },
    {
      "cell_type": "code",
      "source": [
        "try:\n",
        "  with open('alice.txt','r') as f:\n",
        "    f.read()\n",
        "except FileNotFoundError:\n",
        "  print(f'file does not exist')"
      ],
      "metadata": {
        "colab": {
          "base_uri": "https://localhost:8080/"
        },
        "id": "EO4impPxfNzg",
        "outputId": "53e6f2d7-a6a1-44ab-a06d-446289043a44"
      },
      "execution_count": null,
      "outputs": [
        {
          "output_type": "stream",
          "name": "stdout",
          "text": [
            "file does not exist\n"
          ]
        }
      ]
    },
    {
      "cell_type": "code",
      "source": [
        "while True:\n",
        "  try:\n",
        "    num1=int(input('Enter your 1st number: '))\n",
        "    num2=int(input('Enter your 2nd number: '))\n",
        "    sum = num1+num2\n",
        "    print(sum)\n",
        "  except ValueError:\n",
        "    print('Kindly enter integer')"
      ],
      "metadata": {
        "colab": {
          "base_uri": "https://localhost:8080/",
          "height": 460
        },
        "id": "24c7gjQLoqdy",
        "outputId": "ca77f9b0-520a-4b93-a0ed-ec3291c1cca4"
      },
      "execution_count": null,
      "outputs": [
        {
          "output_type": "stream",
          "name": "stdout",
          "text": [
            "Enter your 1st number: 2\n",
            "Enter your 2nd number: ss\n",
            "Kindly enter integer\n",
            "Enter your 1st number: 2\n",
            "Enter your 2nd number: 4\n",
            "6\n"
          ]
        },
        {
          "output_type": "error",
          "ename": "KeyboardInterrupt",
          "evalue": "Interrupted by user",
          "traceback": [
            "\u001b[0;31m---------------------------------------------------------------------------\u001b[0m",
            "\u001b[0;31mKeyboardInterrupt\u001b[0m                         Traceback (most recent call last)",
            "\u001b[0;32m<ipython-input-12-1a01ae8f637a>\u001b[0m in \u001b[0;36m<cell line: 1>\u001b[0;34m()\u001b[0m\n\u001b[1;32m      1\u001b[0m \u001b[0;32mwhile\u001b[0m \u001b[0;32mTrue\u001b[0m\u001b[0;34m:\u001b[0m\u001b[0;34m\u001b[0m\u001b[0;34m\u001b[0m\u001b[0m\n\u001b[1;32m      2\u001b[0m   \u001b[0;32mtry\u001b[0m\u001b[0;34m:\u001b[0m\u001b[0;34m\u001b[0m\u001b[0;34m\u001b[0m\u001b[0m\n\u001b[0;32m----> 3\u001b[0;31m     \u001b[0mnum1\u001b[0m\u001b[0;34m=\u001b[0m\u001b[0mint\u001b[0m\u001b[0;34m(\u001b[0m\u001b[0minput\u001b[0m\u001b[0;34m(\u001b[0m\u001b[0;34m'Enter your 1st number: '\u001b[0m\u001b[0;34m)\u001b[0m\u001b[0;34m)\u001b[0m\u001b[0;34m\u001b[0m\u001b[0;34m\u001b[0m\u001b[0m\n\u001b[0m\u001b[1;32m      4\u001b[0m     \u001b[0mnum2\u001b[0m\u001b[0;34m=\u001b[0m\u001b[0mint\u001b[0m\u001b[0;34m(\u001b[0m\u001b[0minput\u001b[0m\u001b[0;34m(\u001b[0m\u001b[0;34m'Enter your 2nd number: '\u001b[0m\u001b[0;34m)\u001b[0m\u001b[0;34m)\u001b[0m\u001b[0;34m\u001b[0m\u001b[0;34m\u001b[0m\u001b[0m\n\u001b[1;32m      5\u001b[0m     \u001b[0msum\u001b[0m \u001b[0;34m=\u001b[0m \u001b[0mnum1\u001b[0m\u001b[0;34m+\u001b[0m\u001b[0mnum2\u001b[0m\u001b[0;34m\u001b[0m\u001b[0;34m\u001b[0m\u001b[0m\n",
            "\u001b[0;32m/usr/local/lib/python3.10/dist-packages/ipykernel/kernelbase.py\u001b[0m in \u001b[0;36mraw_input\u001b[0;34m(self, prompt)\u001b[0m\n\u001b[1;32m    849\u001b[0m                 \u001b[0;34m\"raw_input was called, but this frontend does not support input requests.\"\u001b[0m\u001b[0;34m\u001b[0m\u001b[0;34m\u001b[0m\u001b[0m\n\u001b[1;32m    850\u001b[0m             )\n\u001b[0;32m--> 851\u001b[0;31m         return self._input_request(str(prompt),\n\u001b[0m\u001b[1;32m    852\u001b[0m             \u001b[0mself\u001b[0m\u001b[0;34m.\u001b[0m\u001b[0m_parent_ident\u001b[0m\u001b[0;34m,\u001b[0m\u001b[0;34m\u001b[0m\u001b[0;34m\u001b[0m\u001b[0m\n\u001b[1;32m    853\u001b[0m             \u001b[0mself\u001b[0m\u001b[0;34m.\u001b[0m\u001b[0m_parent_header\u001b[0m\u001b[0;34m,\u001b[0m\u001b[0;34m\u001b[0m\u001b[0;34m\u001b[0m\u001b[0m\n",
            "\u001b[0;32m/usr/local/lib/python3.10/dist-packages/ipykernel/kernelbase.py\u001b[0m in \u001b[0;36m_input_request\u001b[0;34m(self, prompt, ident, parent, password)\u001b[0m\n\u001b[1;32m    893\u001b[0m             \u001b[0;32mexcept\u001b[0m \u001b[0mKeyboardInterrupt\u001b[0m\u001b[0;34m:\u001b[0m\u001b[0;34m\u001b[0m\u001b[0;34m\u001b[0m\u001b[0m\n\u001b[1;32m    894\u001b[0m                 \u001b[0;31m# re-raise KeyboardInterrupt, to truncate traceback\u001b[0m\u001b[0;34m\u001b[0m\u001b[0;34m\u001b[0m\u001b[0m\n\u001b[0;32m--> 895\u001b[0;31m                 \u001b[0;32mraise\u001b[0m \u001b[0mKeyboardInterrupt\u001b[0m\u001b[0;34m(\u001b[0m\u001b[0;34m\"Interrupted by user\"\u001b[0m\u001b[0;34m)\u001b[0m \u001b[0;32mfrom\u001b[0m \u001b[0;32mNone\u001b[0m\u001b[0;34m\u001b[0m\u001b[0;34m\u001b[0m\u001b[0m\n\u001b[0m\u001b[1;32m    896\u001b[0m             \u001b[0;32mexcept\u001b[0m \u001b[0mException\u001b[0m \u001b[0;32mas\u001b[0m \u001b[0me\u001b[0m\u001b[0;34m:\u001b[0m\u001b[0;34m\u001b[0m\u001b[0;34m\u001b[0m\u001b[0m\n\u001b[1;32m    897\u001b[0m                 \u001b[0mself\u001b[0m\u001b[0;34m.\u001b[0m\u001b[0mlog\u001b[0m\u001b[0;34m.\u001b[0m\u001b[0mwarning\u001b[0m\u001b[0;34m(\u001b[0m\u001b[0;34m\"Invalid Message:\"\u001b[0m\u001b[0;34m,\u001b[0m \u001b[0mexc_info\u001b[0m\u001b[0;34m=\u001b[0m\u001b[0;32mTrue\u001b[0m\u001b[0;34m)\u001b[0m\u001b[0;34m\u001b[0m\u001b[0;34m\u001b[0m\u001b[0m\n",
            "\u001b[0;31mKeyboardInterrupt\u001b[0m: Interrupted by user"
          ]
        }
      ]
    },
    {
      "cell_type": "code",
      "source": [
        "import json\n",
        "numbers=[2, 3, 5, 7, 11, 13]\n",
        "filename='numbers.json'\n",
        "with open(filename,'w') as f:\n",
        "  json.dump(numbers,f)"
      ],
      "metadata": {
        "id": "fS4de4P48O2D"
      },
      "execution_count": null,
      "outputs": []
    },
    {
      "cell_type": "code",
      "source": [
        "import json\n",
        "filename='numbers.json'\n",
        "with open(filename) as f:\n",
        "  numbers=json.load(f)\n",
        "  print(numbers)"
      ],
      "metadata": {
        "colab": {
          "base_uri": "https://localhost:8080/"
        },
        "id": "G6iLPxbg9jeF",
        "outputId": "0859f74b-4ffa-4ccb-f396-c427d1e5f734"
      },
      "execution_count": null,
      "outputs": [
        {
          "output_type": "stream",
          "name": "stdout",
          "text": [
            "[2, 3, 5, 7, 11, 13]\n"
          ]
        }
      ]
    },
    {
      "cell_type": "code",
      "source": [
        "import json\n",
        "\n",
        "username=input('Enter your nmae: ')\n",
        "filename='numbers.json'\n",
        "with open(filename,'w') as f:\n",
        "  json.dump(username,f)\n",
        "  print(f'We remember you {username}')\n"
      ],
      "metadata": {
        "colab": {
          "base_uri": "https://localhost:8080/"
        },
        "id": "6mNr2Qmx4ocn",
        "outputId": "72e02e9f-14ff-4257-dc7e-b5be45603b96"
      },
      "execution_count": null,
      "outputs": [
        {
          "output_type": "stream",
          "name": "stdout",
          "text": [
            "Enter your nmae: ali\n",
            "We remember you ali\n"
          ]
        }
      ]
    },
    {
      "cell_type": "code",
      "source": [
        "import json\n",
        "filename='numbers.json'\n",
        "with open(filename) as f:\n",
        "  # numbers=\n",
        "  print(f'Welcome {json.load(f)}')"
      ],
      "metadata": {
        "colab": {
          "base_uri": "https://localhost:8080/"
        },
        "id": "5yIFp9X75jNt",
        "outputId": "0a2d1ba6-58ed-4c53-9797-2bc6a9260c73"
      },
      "execution_count": null,
      "outputs": [
        {
          "output_type": "stream",
          "name": "stdout",
          "text": [
            "Welcome ali\n"
          ]
        }
      ]
    },
    {
      "cell_type": "code",
      "source": [
        "import json\n",
        "def greet_user():\n",
        "  \"\"\"Greet user by its name\"\"\"\n",
        "\n",
        "  filename='username.txt'\n",
        "  try:\n",
        "    with open(filename) as f:\n",
        "      username=json.load(f)\n",
        "  except FileNotFoundError:\n",
        "    with open(filename,'w') as f:\n",
        "      username=input('enter your name: ')\n",
        "      json.dump(username,f)\n",
        "      print(f\"We'll remember you {username}\")\n",
        "  else:\n",
        "    print(f'Welcome {username}')\n",
        "\n",
        "greet_user()"
      ],
      "metadata": {
        "colab": {
          "base_uri": "https://localhost:8080/"
        },
        "id": "Z_DI4xbd6Z_b",
        "outputId": "959e7704-4048-40a7-ff85-2d20c11c7fc1"
      },
      "execution_count": null,
      "outputs": [
        {
          "output_type": "stream",
          "name": "stdout",
          "text": [
            "Welcome ali\n"
          ]
        }
      ]
    },
    {
      "cell_type": "code",
      "source": [
        "import json\n",
        "filename = 'favrt_num'\n",
        "num=input('Enter your number: ')\n",
        "with open(filename,'w') as f:\n",
        "  json.dump(num,f)"
      ],
      "metadata": {
        "colab": {
          "base_uri": "https://localhost:8080/"
        },
        "id": "MLkCZqCv-lDL",
        "outputId": "ef15d87a-8e0d-452e-8b94-d345e0735cc1"
      },
      "execution_count": null,
      "outputs": [
        {
          "name": "stdout",
          "output_type": "stream",
          "text": [
            "Enter your number: 18\n"
          ]
        }
      ]
    },
    {
      "cell_type": "code",
      "source": [
        "import json\n",
        "filename = 'favrt_num'\n",
        "with open(filename) as f:\n",
        "  number=json.load(f)\n",
        "  print(f'I remember your favrt number is {number}')"
      ],
      "metadata": {
        "colab": {
          "base_uri": "https://localhost:8080/"
        },
        "id": "6TOXbpnu_IBw",
        "outputId": "9015ef56-5800-471e-e038-2ed1cbc73122"
      },
      "execution_count": null,
      "outputs": [
        {
          "output_type": "stream",
          "name": "stdout",
          "text": [
            "I remember your favrt number is 18\n"
          ]
        }
      ]
    },
    {
      "cell_type": "code",
      "source": [
        "import json\n",
        "filename = 'favrt_num'\n",
        "try:\n",
        "  with open(filename) as f:\n",
        "    number=json.load(f)\n",
        "except FileNotFoundError:\n",
        "  number=input('Enter your favrt number: ')\n",
        "  with open(filename,'w') as f:\n",
        "    json.dump(number,f)\n",
        "    print(f'Ill remember your favrt number {number}')\n",
        "else:\n",
        "  print(f'I know your favrt number is {number}')"
      ],
      "metadata": {
        "colab": {
          "base_uri": "https://localhost:8080/"
        },
        "id": "MnRGV5amAP25",
        "outputId": "29fdcf0f-d9a2-429f-cc72-d8c6bdd15d65"
      },
      "execution_count": null,
      "outputs": [
        {
          "output_type": "stream",
          "name": "stdout",
          "text": [
            "I know your favrt number is 18\n"
          ]
        }
      ]
    },
    {
      "cell_type": "code",
      "source": [
        "import json\n",
        "\n",
        "filename = 'username.json'\n",
        "\n",
        "def get_stored_username():\n",
        "    \"\"\"Get the stored username if available.\"\"\"\n",
        "    try:\n",
        "        with open(filename) as f:\n",
        "            username = json.load(f)\n",
        "    except FileNotFoundError:\n",
        "        return None\n",
        "    return username\n",
        "\n",
        "def get_new_username():\n",
        "    \"\"\"Prompt for a new username.\"\"\"\n",
        "    username = input(\"What is your name? \")\n",
        "    with open(filename, 'w') as f:\n",
        "        json.dump(username, f)\n",
        "    return username\n",
        "\n",
        "def greet_user():\n",
        "    \"\"\"Greet the user by name.\"\"\"\n",
        "    username = get_stored_username()\n",
        "    if username:\n",
        "        is_correct = input(f\"Is this your username: {username}? (yes/no) \").lower()\n",
        "        if is_correct == 'yes':\n",
        "            print(f\"Welcome back, {username}!\")\n",
        "        else:\n",
        "            username = get_new_username()\n",
        "            print(f\"We'll remember you when you come back, {username}!\")\n",
        "    else:\n",
        "        username = get_new_username()\n",
        "        print(f\"We'll remember you when you come back, {username}!\")\n",
        "\n",
        "greet_user()\n"
      ],
      "metadata": {
        "colab": {
          "base_uri": "https://localhost:8080/"
        },
        "id": "2cVlbzbJClxV",
        "outputId": "4377e336-8764-47fb-d759-fb78479cf14d"
      },
      "execution_count": null,
      "outputs": [
        {
          "output_type": "stream",
          "name": "stdout",
          "text": [
            "What is your name? ali\n",
            "We'll remember you when you come back, ali!\n"
          ]
        }
      ]
    },
    {
      "cell_type": "markdown",
      "source": [
        "# ***CH#Project***"
      ],
      "metadata": {
        "id": "KQdpRGtMxczq"
      }
    },
    {
      "cell_type": "code",
      "source": [
        "import matplotlib.pyplot as plt\n",
        "x_values = [1, 2, 3, 4, 5]\n",
        "y_values = [1, 4, 9, 16, 25]\n",
        "input = [1,2,3,4,5]\n",
        "sq = [1,4,9,16,25]\n",
        "plt.style.use('seaborn-v0_8') #For styling\n",
        "fig,ax = plt.subplots() #To make a charts\n",
        "ax.plot(input,sq,linewidth = 3) #Making its figure\n",
        "ax.scatter(x_values, y_values, c='green' , s=100) #For plotting single plots on the graph\n",
        "\n",
        "#Labling axes and giving Title\n",
        "ax.set_title('Square Numbers',fontsize = 24)\n",
        "ax.set_xlabel('Value',fontsize = 14)\n",
        "ax.set_ylabel('Squares',fontsize = 14)\n",
        "\n",
        "#Size of tick lables\n",
        "ax.tick_params(axis='both',which = 'major',labelsize = 10)\n",
        "plt.show()"
      ],
      "metadata": {
        "id": "w_KpYyESxipU",
        "colab": {
          "base_uri": "https://localhost:8080/",
          "height": 621
        },
        "outputId": "5ddcee80-3630-4982-ea1e-892c8662c0ab"
      },
      "execution_count": null,
      "outputs": [
        {
          "output_type": "display_data",
          "data": {
            "text/plain": [
              "<Figure size 800x550 with 1 Axes>"
            ],
            "image/png": "[encoded data removed]"
          },
          "metadata": {}
        }
      ]
    },
    {
      "cell_type": "code",
      "source": [
        "#If you want to draw too many points so we'll use loop\n",
        "\n",
        "import matplotlib.pyplot as plt\n",
        "x_values = range(1,1001)\n",
        "y_values = [x**2 for x in x_values]\n",
        "input = [1,2,3,4,5]\n",
        "sq = [1,4,9,16,25]\n",
        "plt.style.use('seaborn-v0_8') #For styling\n",
        "fig,ax = plt.subplots() #To make a charts\n",
        "ax.plot(input,sq,linewidth = 3) #Making its figure\n",
        "ax.scatter(x_values, y_values, c=y_values, cmap=plt.cm.Reds , s=10) #For plotting single plots on the graph\n",
        "\n",
        "#Labling axes and giving Title\n",
        "ax.set_title('Square Numbers',fontsize = 24)\n",
        "ax.set_xlabel('Value',fontsize = 14)\n",
        "ax.set_ylabel('Squares',fontsize = 14)\n",
        "\n",
        "#Size of tick lables\n",
        "ax.tick_params(axis='both',which = 'major',labelsize = 10)\n",
        "\n",
        "#set range for each axis\n",
        "ax.axis([0, 1100, 0, 1100000])\n",
        "plt.show()"
      ],
      "metadata": {
        "colab": {
          "base_uri": "https://localhost:8080/",
          "height": 621
        },
        "id": "xPOJxWDIPNFD",
        "outputId": "ec035423-cb3b-4cc2-995b-f3305c6e7747"
      },
      "execution_count": null,
      "outputs": [
        {
          "output_type": "display_data",
          "data": {
            "text/plain": [
              "<Figure size 800x550 with 1 Axes>"
            ],
            "image/png": "[encoded data removed]"
          },
          "metadata": {}
        }
      ]
    },
    {
      "cell_type": "code",
      "source": [
        "import matplotlib.pyplot as plt\n",
        "x_values = range(1,5001)\n",
        "y_values = [x**3 for x in x_values]\n",
        "fig,ax = plt.subplots()\n",
        "ax.plot(x_values,y_values)\n",
        "ax.scatter(x_values,y_values, c=y_values, cmap = plt.cm.Greens , s=10)\n",
        "#Showing there title and lables\n",
        "ax.set_title('Cubes of num',fontsize=24)\n",
        "ax.set_xlabel('Numbers',fontsize=14)\n",
        "ax.set_ylabel('Cubes',fontsize=14)\n",
        "plt.show()"
      ],
      "metadata": {
        "colab": {
          "base_uri": "https://localhost:8080/",
          "height": 621
        },
        "id": "LhGyShN8dFyO",
        "outputId": "5c3fcb3c-c850-4355-85af-53bde601e021"
      },
      "execution_count": null,
      "outputs": [
        {
          "output_type": "display_data",
          "data": {
            "text/plain": [
              "<Figure size 800x550 with 1 Axes>"
            ],
            "image/png": "[encoded data removed]"
          },
          "metadata": {}
        }
      ]
    },
    {
      "cell_type": "markdown",
      "source": [
        "***Random Walk***"
      ],
      "metadata": {
        "id": "Dd1TCne-QN7R"
      }
    },
    {
      "cell_type": "code",
      "source": [
        "from random import choice\n",
        "class RandomWalk:\n",
        "  '''A class to generate random walks'''\n",
        "  def __init__(self,num_points=5000):\n",
        "    self.num_points = num_points\n",
        "    self.x_values = [0]\n",
        "    self.y_values = [0]\n",
        "\n",
        "  def fill_walk(self):\n",
        "    while len(self.x_values)<self.num_points:\n",
        "      x_direction = choice([1,-1])\n",
        "      x_distance = ([0,1,2,3,4])\n",
        "      x_step = x_direction * x_direction\n",
        "\n",
        "      y_direction = choice([1,-1])\n",
        "      y_distance = ([0,1,2,3,4])\n",
        "      y_step = y_direction * y_direction\n",
        "\n",
        "      if x_step==0 or y_step==0:\n",
        "        continue\n",
        "\n",
        "      #Calculate new position\n",
        "      x = self.x_values[-1] + x_step\n",
        "      y = self.y_values[-1] + y_step\n",
        "\n",
        "      self.x_values.append(x)\n",
        "      self.y_values.append(y)"
      ],
      "metadata": {
        "id": "8j6mZH_uQSr2"
      },
      "execution_count": null,
      "outputs": []
    },
    {
      "cell_type": "code",
      "source": [
        "import matplotlib.pyplot as plt\n",
        "\n",
        "rw = RandomWalk()\n",
        "rw.fill_walk()\n",
        "\n",
        "plt.style.use('classic')\n",
        "fig,ax = plt.subplots()\n",
        "ax.scatter(rw.x_values,rw.y_values,s=15)\n",
        "plt.show()"
      ],
      "metadata": {
        "colab": {
          "base_uri": "https://localhost:8080/",
          "height": 440
        },
        "id": "OsRGCHNJelxC",
        "outputId": "70ab722a-63c3-45dd-95b9-962e4df34d5d"
      },
      "execution_count": null,
      "outputs": [
        {
          "output_type": "display_data",
          "data": {
            "text/plain": [
              "<Figure size 640x480 with 1 Axes>"
            ],
            "image/png": "[encoded data removed]"
          },
          "metadata": {}
        }
      ]
    },
    {
      "cell_type": "code",
      "source": [
        "!pip install transformers datasets"
      ],
      "metadata": {
        "colab": {
          "base_uri": "https://localhost:8080/"
        },
        "id": "qrtPcxEloxx3",
        "outputId": "6d61e655-4e7a-4b9c-81c5-7d06d9d52cf1"
      },
      "execution_count": null,
      "outputs": [
        {
          "output_type": "stream",
          "name": "stdout",
          "text": [
            "Requirement already satisfied: transformers in /usr/local/lib/python3.11/dist-packages (4.50.3)\n",
            "Requirement already satisfied: datasets in /usr/local/lib/python3.11/dist-packages (3.5.0)\n",
            "Requirement already satisfied: filelock in /usr/local/lib/python3.11/dist-packages (from transformers) (3.18.0)\n",
            "Requirement already satisfied: huggingface-hub<1.0,>=0.26.0 in /usr/local/lib/python3.11/dist-packages (from transformers) (0.30.1)\n",
            "Requirement already satisfied: numpy>=1.17 in /usr/local/lib/python3.11/dist-packages (from transformers) (2.0.2)\n",
            "Requirement already satisfied: packaging>=20.0 in /usr/local/lib/python3.11/dist-packages (from transformers) (24.2)\n",
            "Requirement already satisfied: pyyaml>=5.1 in /usr/local/lib/python3.11/dist-packages (from transformers) (6.0.2)\n",
            "Requirement already satisfied: regex!=2019.12.17 in /usr/local/lib/python3.11/dist-packages (from transformers) (2024.11.6)\n",
            "Requirement already satisfied: requests in /usr/local/lib/python3.11/dist-packages (from transformers) (2.32.3)\n",
            "Requirement already satisfied: tokenizers<0.22,>=0.21 in /usr/local/lib/python3.11/dist-packages (from transformers) (0.21.1)\n",
            "Requirement already satisfied: safetensors>=0.4.3 in /usr/local/lib/python3.11/dist-packages (from transformers) (0.5.3)\n",
            "Requirement already satisfied: tqdm>=4.27 in /usr/local/lib/python3.11/dist-packages (from transformers) (4.67.1)\n",
            "Requirement already satisfied: pyarrow>=15.0.0 in /usr/local/lib/python3.11/dist-packages (from datasets) (18.1.0)\n",
            "Requirement already satisfied: dill<0.3.9,>=0.3.0 in /usr/local/lib/python3.11/dist-packages (from datasets) (0.3.8)\n",
            "Requirement already satisfied: pandas in /usr/local/lib/python3.11/dist-packages (from datasets) (2.2.2)\n",
            "Requirement already satisfied: xxhash in /usr/local/lib/python3.11/dist-packages (from datasets) (3.5.0)\n",
            "Requirement already satisfied: multiprocess<0.70.17 in /usr/local/lib/python3.11/dist-packages (from datasets) (0.70.16)\n",
            "Requirement already satisfied: fsspec<=2024.12.0,>=2023.1.0 in /usr/local/lib/python3.11/dist-packages (from fsspec[http]<=2024.12.0,>=2023.1.0->datasets) (2024.12.0)\n",
            "Requirement already satisfied: aiohttp in /usr/local/lib/python3.11/dist-packages (from datasets) (3.11.15)\n",
            "Requirement already satisfied: aiohappyeyeballs>=2.3.0 in /usr/local/lib/python3.11/dist-packages (from aiohttp->datasets) (2.6.1)\n",
            "Requirement already satisfied: aiosignal>=1.1.2 in /usr/local/lib/python3.11/dist-packages (from aiohttp->datasets) (1.3.2)\n",
            "Requirement already satisfied: attrs>=17.3.0 in /usr/local/lib/python3.11/dist-packages (from aiohttp->datasets) (25.3.0)\n",
            "Requirement already satisfied: frozenlist>=1.1.1 in /usr/local/lib/python3.11/dist-packages (from aiohttp->datasets) (1.5.0)\n",
            "Requirement already satisfied: multidict<7.0,>=4.5 in /usr/local/lib/python3.11/dist-packages (from aiohttp->datasets) (6.2.0)\n",
            "Requirement already satisfied: propcache>=0.2.0 in /usr/local/lib/python3.11/dist-packages (from aiohttp->datasets) (0.3.1)\n",
            "Requirement already satisfied: yarl<2.0,>=1.17.0 in /usr/local/lib/python3.11/dist-packages (from aiohttp->datasets) (1.18.3)\n",
            "Requirement already satisfied: typing-extensions>=3.7.4.3 in /usr/local/lib/python3.11/dist-packages (from huggingface-hub<1.0,>=0.26.0->transformers) (4.13.1)\n",
            "Requirement already satisfied: charset-normalizer<4,>=2 in /usr/local/lib/python3.11/dist-packages (from requests->transformers) (3.4.1)\n",
            "Requirement already satisfied: idna<4,>=2.5 in /usr/local/lib/python3.11/dist-packages (from requests->transformers) (3.10)\n",
            "Requirement already satisfied: urllib3<3,>=1.21.1 in /usr/local/lib/python3.11/dist-packages (from requests->transformers) (2.3.0)\n",
            "Requirement already satisfied: certifi>=2017.4.17 in /usr/local/lib/python3.11/dist-packages (from requests->transformers) (2025.1.31)\n",
            "Requirement already satisfied: python-dateutil>=2.8.2 in /usr/local/lib/python3.11/dist-packages (from pandas->datasets) (2.8.2)\n",
            "Requirement already satisfied: pytz>=2020.1 in /usr/local/lib/python3.11/dist-packages (from pandas->datasets) (2025.2)\n",
            "Requirement already satisfied: tzdata>=2022.7 in /usr/local/lib/python3.11/dist-packages (from pandas->datasets) (2025.2)\n",
            "Requirement already satisfied: six>=1.5 in /usr/local/lib/python3.11/dist-packages (from python-dateutil>=2.8.2->pandas->datasets) (1.17.0)\n"
          ]
        }
      ]
    },
    {
      "cell_type": "code",
      "source": [
        "from datasets import load_dataset\n",
        "\n",
        "# Load the RACE dataset (test split for simplicity)\n",
        "dataset = load_dataset(\"ehovy/race\", \"all\", split=\"test\")\n",
        "\n",
        "# Print a sample passage and question\n",
        "sample = dataset[5]\n",
        "print(\"Passage:\\n\", sample[\"article\"])\n",
        "print(\"\\nQuestion:\", sample[\"question\"][0])\n",
        "print(\"Options:\", sample[\"options\"][0])\n",
        "print(\"Correct Answer:\", sample[\"answer\"][0])"
      ],
      "metadata": {
        "colab": {
          "base_uri": "https://localhost:8080/"
        },
        "id": "P8G5Xxuuo3bg",
        "outputId": "66fadf7e-4fc0-44e6-ef3b-a37c1f5f6ee6"
      },
      "execution_count": null,
      "outputs": [
        {
          "output_type": "stream",
          "name": "stdout",
          "text": [
            "Passage:\n",
            " There is probably no field of human activity in which our values and lifestyles are shown more clearly and strongly than they are in the clothes that we choose to wear.The dress of an individual is a kind of \"sign language\" that communicates a set of information and is usually the basis on which immediate impressions are formed.Traditionally,a concern for clothes was considered to be an affair of females,while men took pride in the fact that they were completely lacking in clothes consciousness .\n",
            "This type of American culture is by degrees changing as man dress takes on greater variety and color.Even as early as 1955,a researcher in Michigan said that _ White collar workers in particular viewed dress as a symbol of ability,which could be used to impress or influence others,especially in the work situation.The white collar worker was described as extremely concerned about the impression his clothing made on his superiors .Although blue collar workers were less aware that they might be judged on the basis of their clothing,they recognized that any difference from the accepted pattern of dress would be made fun of by fellow workers.\n",
            "Since that time,of course,the patterns have changed:the typical office worker may now be wearing the blue shirt,and the laborer a white shirt;but the importance of dress has not become less.Other researchers in recent years have helped to prove its importance in the lives of individuals at various age levels and in different social and economic status groups .\n",
            "\n",
            "Question: B\n",
            "Options: they are concerned about the impression their clothes make on their superiors\n",
            "Correct Answer: D\n"
          ]
        }
      ]
    },
    {
      "cell_type": "code",
      "source": [
        "from transformers import pipeline\n",
        "\n",
        "# Load a question-generation model (no training needed!)\n",
        "question_generator = pipeline(\n",
        "    \"text2text-generation\",\n",
        "    model=\"mrm8488/t5-base-finetuned-question-generation-ap\"\n",
        ")"
      ],
      "metadata": {
        "colab": {
          "base_uri": "https://localhost:8080/",
          "height": 318,
          "referenced_widgets": [
            "c1aa78ab821b4e02a4a9f2d7df8f51d0",
            "a9dfe59f6218467e9f9f784bb21ba9e7",
            "70d86a5055504e1b929d46ac021e0546",
            "bfc13573f0da4bb2b4fd64a23ca89fd5",
            "d29999d16cb64709a678ca824cc42ac2",
            "d4fd398c1eca488d8422d1a027c18fcc",
            "22db1a194c6a4c80849fe28d9337abb8",
            "cdfa41fe3cae482d831003853c28dc08",
            "f282b413b12a42048089bca9dbd1cdad",
            "928f1e8ba90c48d599e6ddb159153ab5",
            "815c8b87e3254fb79a042a3a748dd62c",
            "c396445f8f694338b10b1a2b79b6fff2",
            "156445edcbbf484fbafef714e3668551",
            "d47fc4ed605042d489ea6cda5a48672a",
            "ebc17924cc8a49af9145ee306fc11e3a",
            "5ab16a8ed5fb44b985b7f10bb59eff7c",
            "701d592cdeb043fe8a8062e97dffe9a5",
            "ff73043d11b847678e31669cb583f4ce",
            "a60f1eac83f145d0a498e71603a44d15",
            "f9081f8946d24e759a89376829651597",
            "e3de89f8a4f444e19703eff82b386cd1",
            "913cf10c68f14a659cddd8c9ac9d2c18",
            "bc1f5896df8a4dd4a24166f900f93ebf",
            "780a16cfaff440a0bfa7c6e575f0b793",
            "09e70899e2fe44169da88147c67eeb06",
            "94f53ca61c914d66bd1f00558ba72ead",
            "a247135a336e44568201a5bd3a3e8bea",
            "adb20793bb58472680db4fcdf264d97a",
            "525634222f5245929485ac43e8059f0a",
            "86b06c7526b74841b80b8a8b62a008ac",
            "94814b8218404b36895094415141c509",
            "4805f94575df4ee68a6bf4d6de5669e4",
            "6576d659cdce47c1aa3f12954af04dfa",
            "4ea231a42d8c493881570660e9104574",
            "a6ef88be60f64866a3172f425abfa9a5",
            "019f340272ec4667af8b4769b3aacc2b",
            "e27e00881a144936ab8d5de810919090",
            "d0282543f5e04a319fbb7b28bcf38c6e",
            "20cd753ce32c4a209f52cb2a7a3fb4fd",
            "6dda30e39c98403ab4e40edf6b4e18b3",
            "ef65d44ef3a442c39d45201490efa38f",
            "7fe0cb7372fc4985b81da288d5860d53",
            "4cb0ebd010714ee093a78aed9db89564",
            "4ab10bc732b04e668c3e9d391a633901",
            "4750379a0b3a4ac38ffed7541b69753e",
            "c3d9a610eae44c85ba3663c00be8e2f0",
            "ca797def91234b76add5818d5a5b323f",
            "da93c292ccae406cbfab12a4d60de362",
            "a6198c68685c4141b1dd0f221a3ddcc2",
            "0551276981564dd89f35107b9ad2bebe",
            "e049a86c474846f78481b00224cb7321",
            "da34efc3a8cc4c89ad798fd0b5170fba",
            "0a6895b6bd304160b66b71a45fb42c87",
            "347a1c5fdd534aed91601e4a805a8970",
            "30d87f4e855f4717a194bf18516b16f4"
          ]
        },
        "id": "4FoAUVfDpbI0",
        "outputId": "6856aafe-504a-4051-de8e-25ea8de0967b"
      },
      "execution_count": null,
      "outputs": [
        {
          "output_type": "display_data",
          "data": {
            "text/plain": [
              "config.json:   0%|          | 0.00/1.23k [00:00<?, ?B/s]"
            ],
            "application/vnd.jupyter.widget-view+json": {
              "version_major": 2,
              "version_minor": 0,
              "model_id": "c1aa78ab821b4e02a4a9f2d7df8f51d0"
            }
          },
          "metadata": {}
        },
        {
          "output_type": "stream",
          "name": "stderr",
          "text": [
            "The `xla_device` argument has been deprecated in v4.4.0 of Transformers. It is ignored and you can safely remove it from your `config.json` file.\n",
            "The `xla_device` argument has been deprecated in v4.4.0 of Transformers. It is ignored and you can safely remove it from your `config.json` file.\n"
          ]
        },
        {
          "output_type": "display_data",
          "data": {
            "text/plain": [
              "model.safetensors:   0%|          | 0.00/1.19G [00:00<?, ?B/s]"
            ],
            "application/vnd.jupyter.widget-view+json": {
              "version_major": 2,
              "version_minor": 0,
              "model_id": "c396445f8f694338b10b1a2b79b6fff2"
            }
          },
          "metadata": {}
        },
        {
          "output_type": "display_data",
          "data": {
            "text/plain": [
              "tokenizer_config.json:   0%|          | 0.00/25.0 [00:00<?, ?B/s]"
            ],
            "application/vnd.jupyter.widget-view+json": {
              "version_major": 2,
              "version_minor": 0,
              "model_id": "bc1f5896df8a4dd4a24166f900f93ebf"
            }
          },
          "metadata": {}
        },
        {
          "output_type": "stream",
          "name": "stderr",
          "text": [
            "The `xla_device` argument has been deprecated in v4.4.0 of Transformers. It is ignored and you can safely remove it from your `config.json` file.\n"
          ]
        },
        {
          "output_type": "display_data",
          "data": {
            "text/plain": [
              "spiece.model:   0%|          | 0.00/792k [00:00<?, ?B/s]"
            ],
            "application/vnd.jupyter.widget-view+json": {
              "version_major": 2,
              "version_minor": 0,
              "model_id": "4ea231a42d8c493881570660e9104574"
            }
          },
          "metadata": {}
        },
        {
          "output_type": "display_data",
          "data": {
            "text/plain": [
              "special_tokens_map.json:   0%|          | 0.00/1.79k [00:00<?, ?B/s]"
            ],
            "application/vnd.jupyter.widget-view+json": {
              "version_major": 2,
              "version_minor": 0,
              "model_id": "4750379a0b3a4ac38ffed7541b69753e"
            }
          },
          "metadata": {}
        },
        {
          "output_type": "stream",
          "name": "stderr",
          "text": [
            "The `xla_device` argument has been deprecated in v4.4.0 of Transformers. It is ignored and you can safely remove it from your `config.json` file.\n",
            "You are using the default legacy behaviour of the <class 'transformers.models.t5.tokenization_t5.T5Tokenizer'>. This is expected, and simply means that the `legacy` (previous) behavior will be used so nothing changes for you. If you want to use the new behaviour, set `legacy=False`. This should only be set if you understand what it means, and thoroughly read the reason why this was added as explained in https://github.com/huggingface/transformers/pull/24565\n",
            "The `xla_device` argument has been deprecated in v4.4.0 of Transformers. It is ignored and you can safely remove it from your `config.json` file.\n",
            "Device set to use cpu\n"
          ]
        }
      ]
    },
    {
      "cell_type": "code",
      "source": [
        "def generate_exam_question(context):\n",
        "    # Generate a question using the model\n",
        "    result = question_generator(\n",
        "        context,\n",
        "        max_length=100,  # Limit question length\n",
        "        num_return_sequences=1  # Generate 1 question\n",
        "    )\n",
        "    return result[0]['generated_text']\n",
        "\n",
        "# Test with a sample passage from RACE\n",
        "sample_passage = sample[\"article\"][:500]  # Use first 500 characters to avoid errors\n",
        "generated_question = generate_exam_question(sample_passage)\n",
        "print(\"\\nGenerated Question:\\n\", generated_question)"
      ],
      "metadata": {
        "colab": {
          "base_uri": "https://localhost:8080/"
        },
        "id": "-eg1O2dapsXU",
        "outputId": "19d83b3e-17c5-40e2-8c12-36a7811efd87"
      },
      "execution_count": null,
      "outputs": [
        {
          "output_type": "stream",
          "name": "stdout",
          "text": [
            "\n",
            "Generated Question:\n",
            " values and lifestyles are shown more clearly and strongly in the clothes that we choose to wear.\n"
          ]
        }
      ]
    }
  ]
}