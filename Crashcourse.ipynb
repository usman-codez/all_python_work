{
  "nbformat": 4,
  "nbformat_minor": 0,
  "metadata": {
    "colab": {
      "provenance": [],
      "gpuType": "T4",
      "authorship_tag": "ABX9TyMDLiCrUeU6bBYdA1UK5pX9",
      "include_colab_link": true
    },
    "kernelspec": {
      "name": "python3",
      "display_name": "Python 3"
    },
    "language_info": {
      "name": "python"
    },
    "widgets": {
      "application/vnd.jupyter.widget-state+json": {
        "e0fd340744b8403fa6b0480c43cce090": {
          "model_module": "@jupyter-widgets/controls",
          "model_name": "HBoxModel",
          "model_module_version": "1.5.0",
          "state": {
            "_dom_classes": [],
            "_model_module": "@jupyter-widgets/controls",
            "_model_module_version": "1.5.0",
            "_model_name": "HBoxModel",
            "_view_count": null,
            "_view_module": "@jupyter-widgets/controls",
            "_view_module_version": "1.5.0",
            "_view_name": "HBoxView",
            "box_style": "",
            "children": [
              "IPY_MODEL_7b765e9abdf44d77993f0b490076dd40",
              "IPY_MODEL_bafa4e0576c440aa9603a1c2328e6733",
              "IPY_MODEL_78988530b4ee457ca4b0f0a25ed0d5ee"
            ],
            "layout": "IPY_MODEL_7a627bdd1f314a9586dec3e090adfa62"
          }
        },
        "7b765e9abdf44d77993f0b490076dd40": {
          "model_module": "@jupyter-widgets/controls",
          "model_name": "HTMLModel",
          "model_module_version": "1.5.0",
          "state": {
            "_dom_classes": [],
            "_model_module": "@jupyter-widgets/controls",
            "_model_module_version": "1.5.0",
            "_model_name": "HTMLModel",
            "_view_count": null,
            "_view_module": "@jupyter-widgets/controls",
            "_view_module_version": "1.5.0",
            "_view_name": "HTMLView",
            "description": "",
            "description_tooltip": null,
            "layout": "IPY_MODEL_c31a9980f0494a87b9621f0e671a7ff0",
            "placeholder": "​",
            "style": "IPY_MODEL_81996a147b4741f39cfc1f3cfee49716",
            "value": "README.md: "
          }
        },
        "bafa4e0576c440aa9603a1c2328e6733": {
          "model_module": "@jupyter-widgets/controls",
          "model_name": "FloatProgressModel",
          "model_module_version": "1.5.0",
          "state": {
            "_dom_classes": [],
            "_model_module": "@jupyter-widgets/controls",
            "_model_module_version": "1.5.0",
            "_model_name": "FloatProgressModel",
            "_view_count": null,
            "_view_module": "@jupyter-widgets/controls",
            "_view_module_version": "1.5.0",
            "_view_name": "ProgressView",
            "bar_style": "success",
            "description": "",
            "description_tooltip": null,
            "layout": "IPY_MODEL_bed73daa6e0f4f40a43a8269dd4b6a04",
            "max": 1,
            "min": 0,
            "orientation": "horizontal",
            "style": "IPY_MODEL_3516171954f9443bb2348dc5423c45a6",
            "value": 1
          }
        },
        "78988530b4ee457ca4b0f0a25ed0d5ee": {
          "model_module": "@jupyter-widgets/controls",
          "model_name": "HTMLModel",
          "model_module_version": "1.5.0",
          "state": {
            "_dom_classes": [],
            "_model_module": "@jupyter-widgets/controls",
            "_model_module_version": "1.5.0",
            "_model_name": "HTMLModel",
            "_view_count": null,
            "_view_module": "@jupyter-widgets/controls",
            "_view_module_version": "1.5.0",
            "_view_name": "HTMLView",
            "description": "",
            "description_tooltip": null,
            "layout": "IPY_MODEL_41a2787a18024b85819b3f453d7cab3b",
            "placeholder": "​",
            "style": "IPY_MODEL_2dbaa36ccd874143b71e9a9fc67bde18",
            "value": " 11.0k/? [00:00&lt;00:00, 816kB/s]"
          }
        },
        "7a627bdd1f314a9586dec3e090adfa62": {
          "model_module": "@jupyter-widgets/base",
          "model_name": "LayoutModel",
          "model_module_version": "1.2.0",
          "state": {
            "_model_module": "@jupyter-widgets/base",
            "_model_module_version": "1.2.0",
            "_model_name": "LayoutModel",
            "_view_count": null,
            "_view_module": "@jupyter-widgets/base",
            "_view_module_version": "1.2.0",
            "_view_name": "LayoutView",
            "align_content": null,
            "align_items": null,
            "align_self": null,
            "border": null,
            "bottom": null,
            "display": null,
            "flex": null,
            "flex_flow": null,
            "grid_area": null,
            "grid_auto_columns": null,
            "grid_auto_flow": null,
            "grid_auto_rows": null,
            "grid_column": null,
            "grid_gap": null,
            "grid_row": null,
            "grid_template_areas": null,
            "grid_template_columns": null,
            "grid_template_rows": null,
            "height": null,
            "justify_content": null,
            "justify_items": null,
            "left": null,
            "margin": null,
            "max_height": null,
            "max_width": null,
            "min_height": null,
            "min_width": null,
            "object_fit": null,
            "object_position": null,
            "order": null,
            "overflow": null,
            "overflow_x": null,
            "overflow_y": null,
            "padding": null,
            "right": null,
            "top": null,
            "visibility": null,
            "width": null
          }
        },
        "c31a9980f0494a87b9621f0e671a7ff0": {
          "model_module": "@jupyter-widgets/base",
          "model_name": "LayoutModel",
          "model_module_version": "1.2.0",
          "state": {
            "_model_module": "@jupyter-widgets/base",
            "_model_module_version": "1.2.0",
            "_model_name": "LayoutModel",
            "_view_count": null,
            "_view_module": "@jupyter-widgets/base",
            "_view_module_version": "1.2.0",
            "_view_name": "LayoutView",
            "align_content": null,
            "align_items": null,
            "align_self": null,
            "border": null,
            "bottom": null,
            "display": null,
            "flex": null,
            "flex_flow": null,
            "grid_area": null,
            "grid_auto_columns": null,
            "grid_auto_flow": null,
            "grid_auto_rows": null,
            "grid_column": null,
            "grid_gap": null,
            "grid_row": null,
            "grid_template_areas": null,
            "grid_template_columns": null,
            "grid_template_rows": null,
            "height": null,
            "justify_content": null,
            "justify_items": null,
            "left": null,
            "margin": null,
            "max_height": null,
            "max_width": null,
            "min_height": null,
            "min_width": null,
            "object_fit": null,
            "object_position": null,
            "order": null,
            "overflow": null,
            "overflow_x": null,
            "overflow_y": null,
            "padding": null,
            "right": null,
            "top": null,
            "visibility": null,
            "width": null
          }
        },
        "81996a147b4741f39cfc1f3cfee49716": {
          "model_module": "@jupyter-widgets/controls",
          "model_name": "DescriptionStyleModel",
          "model_module_version": "1.5.0",
          "state": {
            "_model_module": "@jupyter-widgets/controls",
            "_model_module_version": "1.5.0",
            "_model_name": "DescriptionStyleModel",
            "_view_count": null,
            "_view_module": "@jupyter-widgets/base",
            "_view_module_version": "1.2.0",
            "_view_name": "StyleView",
            "description_width": ""
          }
        },
        "bed73daa6e0f4f40a43a8269dd4b6a04": {
          "model_module": "@jupyter-widgets/base",
          "model_name": "LayoutModel",
          "model_module_version": "1.2.0",
          "state": {
            "_model_module": "@jupyter-widgets/base",
            "_model_module_version": "1.2.0",
            "_model_name": "LayoutModel",
            "_view_count": null,
            "_view_module": "@jupyter-widgets/base",
            "_view_module_version": "1.2.0",
            "_view_name": "LayoutView",
            "align_content": null,
            "align_items": null,
            "align_self": null,
            "border": null,
            "bottom": null,
            "display": null,
            "flex": null,
            "flex_flow": null,
            "grid_area": null,
            "grid_auto_columns": null,
            "grid_auto_flow": null,
            "grid_auto_rows": null,
            "grid_column": null,
            "grid_gap": null,
            "grid_row": null,
            "grid_template_areas": null,
            "grid_template_columns": null,
            "grid_template_rows": null,
            "height": null,
            "justify_content": null,
            "justify_items": null,
            "left": null,
            "margin": null,
            "max_height": null,
            "max_width": null,
            "min_height": null,
            "min_width": null,
            "object_fit": null,
            "object_position": null,
            "order": null,
            "overflow": null,
            "overflow_x": null,
            "overflow_y": null,
            "padding": null,
            "right": null,
            "top": null,
            "visibility": null,
            "width": "20px"
          }
        },
        "3516171954f9443bb2348dc5423c45a6": {
          "model_module": "@jupyter-widgets/controls",
          "model_name": "ProgressStyleModel",
          "model_module_version": "1.5.0",
          "state": {
            "_model_module": "@jupyter-widgets/controls",
            "_model_module_version": "1.5.0",
            "_model_name": "ProgressStyleModel",
            "_view_count": null,
            "_view_module": "@jupyter-widgets/base",
            "_view_module_version": "1.2.0",
            "_view_name": "StyleView",
            "bar_color": null,
            "description_width": ""
          }
        },
        "41a2787a18024b85819b3f453d7cab3b": {
          "model_module": "@jupyter-widgets/base",
          "model_name": "LayoutModel",
          "model_module_version": "1.2.0",
          "state": {
            "_model_module": "@jupyter-widgets/base",
            "_model_module_version": "1.2.0",
            "_model_name": "LayoutModel",
            "_view_count": null,
            "_view_module": "@jupyter-widgets/base",
            "_view_module_version": "1.2.0",
            "_view_name": "LayoutView",
            "align_content": null,
            "align_items": null,
            "align_self": null,
            "border": null,
            "bottom": null,
            "display": null,
            "flex": null,
            "flex_flow": null,
            "grid_area": null,
            "grid_auto_columns": null,
            "grid_auto_flow": null,
            "grid_auto_rows": null,
            "grid_column": null,
            "grid_gap": null,
            "grid_row": null,
            "grid_template_areas": null,
            "grid_template_columns": null,
            "grid_template_rows": null,
            "height": null,
            "justify_content": null,
            "justify_items": null,
            "left": null,
            "margin": null,
            "max_height": null,
            "max_width": null,
            "min_height": null,
            "min_width": null,
            "object_fit": null,
            "object_position": null,
            "order": null,
            "overflow": null,
            "overflow_x": null,
            "overflow_y": null,
            "padding": null,
            "right": null,
            "top": null,
            "visibility": null,
            "width": null
          }
        },
        "2dbaa36ccd874143b71e9a9fc67bde18": {
          "model_module": "@jupyter-widgets/controls",
          "model_name": "DescriptionStyleModel",
          "model_module_version": "1.5.0",
          "state": {
            "_model_module": "@jupyter-widgets/controls",
            "_model_module_version": "1.5.0",
            "_model_name": "DescriptionStyleModel",
            "_view_count": null,
            "_view_module": "@jupyter-widgets/base",
            "_view_module_version": "1.2.0",
            "_view_name": "StyleView",
            "description_width": ""
          }
        },
        "05eda388b737454eb816ff975fab6f4d": {
          "model_module": "@jupyter-widgets/controls",
          "model_name": "HBoxModel",
          "model_module_version": "1.5.0",
          "state": {
            "_dom_classes": [],
            "_model_module": "@jupyter-widgets/controls",
            "_model_module_version": "1.5.0",
            "_model_name": "HBoxModel",
            "_view_count": null,
            "_view_module": "@jupyter-widgets/controls",
            "_view_module_version": "1.5.0",
            "_view_name": "HBoxView",
            "box_style": "",
            "children": [
              "IPY_MODEL_de0488fa8aed43768f98f81e67be7ef8",
              "IPY_MODEL_f449a9ba5cd84fc3a48e2d0a627abb86",
              "IPY_MODEL_76e2e48207784c7490b22e43ec99d4b3"
            ],
            "layout": "IPY_MODEL_df838ee622aa419d933b1ecf5593bb34"
          }
        },
        "de0488fa8aed43768f98f81e67be7ef8": {
          "model_module": "@jupyter-widgets/controls",
          "model_name": "HTMLModel",
          "model_module_version": "1.5.0",
          "state": {
            "_dom_classes": [],
            "_model_module": "@jupyter-widgets/controls",
            "_model_module_version": "1.5.0",
            "_model_name": "HTMLModel",
            "_view_count": null,
            "_view_module": "@jupyter-widgets/controls",
            "_view_module_version": "1.5.0",
            "_view_name": "HTMLView",
            "description": "",
            "description_tooltip": null,
            "layout": "IPY_MODEL_c221b8e5751f47098eb7d24a28932e20",
            "placeholder": "​",
            "style": "IPY_MODEL_b7e8dd177d004cf6bf4f9a73e1c86713",
            "value": "all/test-00000-of-00001.parquet: 100%"
          }
        },
        "f449a9ba5cd84fc3a48e2d0a627abb86": {
          "model_module": "@jupyter-widgets/controls",
          "model_name": "FloatProgressModel",
          "model_module_version": "1.5.0",
          "state": {
            "_dom_classes": [],
            "_model_module": "@jupyter-widgets/controls",
            "_model_module_version": "1.5.0",
            "_model_name": "FloatProgressModel",
            "_view_count": null,
            "_view_module": "@jupyter-widgets/controls",
            "_view_module_version": "1.5.0",
            "_view_name": "ProgressView",
            "bar_style": "success",
            "description": "",
            "description_tooltip": null,
            "layout": "IPY_MODEL_50db6d187bf3487d89bf6751e5ec913b",
            "max": 2075881,
            "min": 0,
            "orientation": "horizontal",
            "style": "IPY_MODEL_e97b6db927164395a7f3b38f5d4b2bbc",
            "value": 2075881
          }
        },
        "76e2e48207784c7490b22e43ec99d4b3": {
          "model_module": "@jupyter-widgets/controls",
          "model_name": "HTMLModel",
          "model_module_version": "1.5.0",
          "state": {
            "_dom_classes": [],
            "_model_module": "@jupyter-widgets/controls",
            "_model_module_version": "1.5.0",
            "_model_name": "HTMLModel",
            "_view_count": null,
            "_view_module": "@jupyter-widgets/controls",
            "_view_module_version": "1.5.0",
            "_view_name": "HTMLView",
            "description": "",
            "description_tooltip": null,
            "layout": "IPY_MODEL_3406fa2240e24eb0b37a2bef7c35a5c5",
            "placeholder": "​",
            "style": "IPY_MODEL_15859a5482f749e3b16df1c42d2d7bc1",
            "value": " 2.08M/2.08M [00:03&lt;00:00, 775kB/s]"
          }
        },
        "df838ee622aa419d933b1ecf5593bb34": {
          "model_module": "@jupyter-widgets/base",
          "model_name": "LayoutModel",
          "model_module_version": "1.2.0",
          "state": {
            "_model_module": "@jupyter-widgets/base",
            "_model_module_version": "1.2.0",
            "_model_name": "LayoutModel",
            "_view_count": null,
            "_view_module": "@jupyter-widgets/base",
            "_view_module_version": "1.2.0",
            "_view_name": "LayoutView",
            "align_content": null,
            "align_items": null,
            "align_self": null,
            "border": null,
            "bottom": null,
            "display": null,
            "flex": null,
            "flex_flow": null,
            "grid_area": null,
            "grid_auto_columns": null,
            "grid_auto_flow": null,
            "grid_auto_rows": null,
            "grid_column": null,
            "grid_gap": null,
            "grid_row": null,
            "grid_template_areas": null,
            "grid_template_columns": null,
            "grid_template_rows": null,
            "height": null,
            "justify_content": null,
            "justify_items": null,
            "left": null,
            "margin": null,
            "max_height": null,
            "max_width": null,
            "min_height": null,
            "min_width": null,
            "object_fit": null,
            "object_position": null,
            "order": null,
            "overflow": null,
            "overflow_x": null,
            "overflow_y": null,
            "padding": null,
            "right": null,
            "top": null,
            "visibility": null,
            "width": null
          }
        },
        "c221b8e5751f47098eb7d24a28932e20": {
          "model_module": "@jupyter-widgets/base",
          "model_name": "LayoutModel",
          "model_module_version": "1.2.0",
          "state": {
            "_model_module": "@jupyter-widgets/base",
            "_model_module_version": "1.2.0",
            "_model_name": "LayoutModel",
            "_view_count": null,
            "_view_module": "@jupyter-widgets/base",
            "_view_module_version": "1.2.0",
            "_view_name": "LayoutView",
            "align_content": null,
            "align_items": null,
            "align_self": null,
            "border": null,
            "bottom": null,
            "display": null,
            "flex": null,
            "flex_flow": null,
            "grid_area": null,
            "grid_auto_columns": null,
            "grid_auto_flow": null,
            "grid_auto_rows": null,
            "grid_column": null,
            "grid_gap": null,
            "grid_row": null,
            "grid_template_areas": null,
            "grid_template_columns": null,
            "grid_template_rows": null,
            "height": null,
            "justify_content": null,
            "justify_items": null,
            "left": null,
            "margin": null,
            "max_height": null,
            "max_width": null,
            "min_height": null,
            "min_width": null,
            "object_fit": null,
            "object_position": null,
            "order": null,
            "overflow": null,
            "overflow_x": null,
            "overflow_y": null,
            "padding": null,
            "right": null,
            "top": null,
            "visibility": null,
            "width": null
          }
        },
        "b7e8dd177d004cf6bf4f9a73e1c86713": {
          "model_module": "@jupyter-widgets/controls",
          "model_name": "DescriptionStyleModel",
          "model_module_version": "1.5.0",
          "state": {
            "_model_module": "@jupyter-widgets/controls",
            "_model_module_version": "1.5.0",
            "_model_name": "DescriptionStyleModel",
            "_view_count": null,
            "_view_module": "@jupyter-widgets/base",
            "_view_module_version": "1.2.0",
            "_view_name": "StyleView",
            "description_width": ""
          }
        },
        "50db6d187bf3487d89bf6751e5ec913b": {
          "model_module": "@jupyter-widgets/base",
          "model_name": "LayoutModel",
          "model_module_version": "1.2.0",
          "state": {
            "_model_module": "@jupyter-widgets/base",
            "_model_module_version": "1.2.0",
            "_model_name": "LayoutModel",
            "_view_count": null,
            "_view_module": "@jupyter-widgets/base",
            "_view_module_version": "1.2.0",
            "_view_name": "LayoutView",
            "align_content": null,
            "align_items": null,
            "align_self": null,
            "border": null,
            "bottom": null,
            "display": null,
            "flex": null,
            "flex_flow": null,
            "grid_area": null,
            "grid_auto_columns": null,
            "grid_auto_flow": null,
            "grid_auto_rows": null,
            "grid_column": null,
            "grid_gap": null,
            "grid_row": null,
            "grid_template_areas": null,
            "grid_template_columns": null,
            "grid_template_rows": null,
            "height": null,
            "justify_content": null,
            "justify_items": null,
            "left": null,
            "margin": null,
            "max_height": null,
            "max_width": null,
            "min_height": null,
            "min_width": null,
            "object_fit": null,
            "object_position": null,
            "order": null,
            "overflow": null,
            "overflow_x": null,
            "overflow_y": null,
            "padding": null,
            "right": null,
            "top": null,
            "visibility": null,
            "width": null
          }
        },
        "e97b6db927164395a7f3b38f5d4b2bbc": {
          "model_module": "@jupyter-widgets/controls",
          "model_name": "ProgressStyleModel",
          "model_module_version": "1.5.0",
          "state": {
            "_model_module": "@jupyter-widgets/controls",
            "_model_module_version": "1.5.0",
            "_model_name": "ProgressStyleModel",
            "_view_count": null,
            "_view_module": "@jupyter-widgets/base",
            "_view_module_version": "1.2.0",
            "_view_name": "StyleView",
            "bar_color": null,
            "description_width": ""
          }
        },
        "3406fa2240e24eb0b37a2bef7c35a5c5": {
          "model_module": "@jupyter-widgets/base",
          "model_name": "LayoutModel",
          "model_module_version": "1.2.0",
          "state": {
            "_model_module": "@jupyter-widgets/base",
            "_model_module_version": "1.2.0",
            "_model_name": "LayoutModel",
            "_view_count": null,
            "_view_module": "@jupyter-widgets/base",
            "_view_module_version": "1.2.0",
            "_view_name": "LayoutView",
            "align_content": null,
            "align_items": null,
            "align_self": null,
            "border": null,
            "bottom": null,
            "display": null,
            "flex": null,
            "flex_flow": null,
            "grid_area": null,
            "grid_auto_columns": null,
            "grid_auto_flow": null,
            "grid_auto_rows": null,
            "grid_column": null,
            "grid_gap": null,
            "grid_row": null,
            "grid_template_areas": null,
            "grid_template_columns": null,
            "grid_template_rows": null,
            "height": null,
            "justify_content": null,
            "justify_items": null,
            "left": null,
            "margin": null,
            "max_height": null,
            "max_width": null,
            "min_height": null,
            "min_width": null,
            "object_fit": null,
            "object_position": null,
            "order": null,
            "overflow": null,
            "overflow_x": null,
            "overflow_y": null,
            "padding": null,
            "right": null,
            "top": null,
            "visibility": null,
            "width": null
          }
        },
        "15859a5482f749e3b16df1c42d2d7bc1": {
          "model_module": "@jupyter-widgets/controls",
          "model_name": "DescriptionStyleModel",
          "model_module_version": "1.5.0",
          "state": {
            "_model_module": "@jupyter-widgets/controls",
            "_model_module_version": "1.5.0",
            "_model_name": "DescriptionStyleModel",
            "_view_count": null,
            "_view_module": "@jupyter-widgets/base",
            "_view_module_version": "1.2.0",
            "_view_name": "StyleView",
            "description_width": ""
          }
        },
        "0a15b36345414739a4da0f4e809f1552": {
          "model_module": "@jupyter-widgets/controls",
          "model_name": "HBoxModel",
          "model_module_version": "1.5.0",
          "state": {
            "_dom_classes": [],
            "_model_module": "@jupyter-widgets/controls",
            "_model_module_version": "1.5.0",
            "_model_name": "HBoxModel",
            "_view_count": null,
            "_view_module": "@jupyter-widgets/controls",
            "_view_module_version": "1.5.0",
            "_view_name": "HBoxView",
            "box_style": "",
            "children": [
              "IPY_MODEL_1d0958383e204c1abb9e0a484262ad90",
              "IPY_MODEL_ca7a137b8e39423f811ff7334b0570cd",
              "IPY_MODEL_55c5f1cfb42d4e3cb0944eab82b8bd73"
            ],
            "layout": "IPY_MODEL_8f451054c8474899b4aeb9c51912d1d4"
          }
        },
        "1d0958383e204c1abb9e0a484262ad90": {
          "model_module": "@jupyter-widgets/controls",
          "model_name": "HTMLModel",
          "model_module_version": "1.5.0",
          "state": {
            "_dom_classes": [],
            "_model_module": "@jupyter-widgets/controls",
            "_model_module_version": "1.5.0",
            "_model_name": "HTMLModel",
            "_view_count": null,
            "_view_module": "@jupyter-widgets/controls",
            "_view_module_version": "1.5.0",
            "_view_name": "HTMLView",
            "description": "",
            "description_tooltip": null,
            "layout": "IPY_MODEL_a4dda8f0324b41ad935ac07eaf2c64f7",
            "placeholder": "​",
            "style": "IPY_MODEL_c00c7b50e88b4658921b9105d73779bf",
            "value": "all/train-00000-of-00001.parquet: 100%"
          }
        },
        "ca7a137b8e39423f811ff7334b0570cd": {
          "model_module": "@jupyter-widgets/controls",
          "model_name": "FloatProgressModel",
          "model_module_version": "1.5.0",
          "state": {
            "_dom_classes": [],
            "_model_module": "@jupyter-widgets/controls",
            "_model_module_version": "1.5.0",
            "_model_name": "FloatProgressModel",
            "_view_count": null,
            "_view_module": "@jupyter-widgets/controls",
            "_view_module_version": "1.5.0",
            "_view_name": "ProgressView",
            "bar_style": "success",
            "description": "",
            "description_tooltip": null,
            "layout": "IPY_MODEL_57fa0301f4f84e368e8ed4fbe3584591",
            "max": 37378263,
            "min": 0,
            "orientation": "horizontal",
            "style": "IPY_MODEL_da7a3da5d123430a9852d49a1ea1275f",
            "value": 37378263
          }
        },
        "55c5f1cfb42d4e3cb0944eab82b8bd73": {
          "model_module": "@jupyter-widgets/controls",
          "model_name": "HTMLModel",
          "model_module_version": "1.5.0",
          "state": {
            "_dom_classes": [],
            "_model_module": "@jupyter-widgets/controls",
            "_model_module_version": "1.5.0",
            "_model_name": "HTMLModel",
            "_view_count": null,
            "_view_module": "@jupyter-widgets/controls",
            "_view_module_version": "1.5.0",
            "_view_name": "HTMLView",
            "description": "",
            "description_tooltip": null,
            "layout": "IPY_MODEL_06f6952763214def9117af6d5f9585dd",
            "placeholder": "​",
            "style": "IPY_MODEL_d8b851c583a947eda9ba2200b388f294",
            "value": " 37.4M/37.4M [00:04&lt;00:00, 10.2MB/s]"
          }
        },
        "8f451054c8474899b4aeb9c51912d1d4": {
          "model_module": "@jupyter-widgets/base",
          "model_name": "LayoutModel",
          "model_module_version": "1.2.0",
          "state": {
            "_model_module": "@jupyter-widgets/base",
            "_model_module_version": "1.2.0",
            "_model_name": "LayoutModel",
            "_view_count": null,
            "_view_module": "@jupyter-widgets/base",
            "_view_module_version": "1.2.0",
            "_view_name": "LayoutView",
            "align_content": null,
            "align_items": null,
            "align_self": null,
            "border": null,
            "bottom": null,
            "display": null,
            "flex": null,
            "flex_flow": null,
            "grid_area": null,
            "grid_auto_columns": null,
            "grid_auto_flow": null,
            "grid_auto_rows": null,
            "grid_column": null,
            "grid_gap": null,
            "grid_row": null,
            "grid_template_areas": null,
            "grid_template_columns": null,
            "grid_template_rows": null,
            "height": null,
            "justify_content": null,
            "justify_items": null,
            "left": null,
            "margin": null,
            "max_height": null,
            "max_width": null,
            "min_height": null,
            "min_width": null,
            "object_fit": null,
            "object_position": null,
            "order": null,
            "overflow": null,
            "overflow_x": null,
            "overflow_y": null,
            "padding": null,
            "right": null,
            "top": null,
            "visibility": null,
            "width": null
          }
        },
        "a4dda8f0324b41ad935ac07eaf2c64f7": {
          "model_module": "@jupyter-widgets/base",
          "model_name": "LayoutModel",
          "model_module_version": "1.2.0",
          "state": {
            "_model_module": "@jupyter-widgets/base",
            "_model_module_version": "1.2.0",
            "_model_name": "LayoutModel",
            "_view_count": null,
            "_view_module": "@jupyter-widgets/base",
            "_view_module_version": "1.2.0",
            "_view_name": "LayoutView",
            "align_content": null,
            "align_items": null,
            "align_self": null,
            "border": null,
            "bottom": null,
            "display": null,
            "flex": null,
            "flex_flow": null,
            "grid_area": null,
            "grid_auto_columns": null,
            "grid_auto_flow": null,
            "grid_auto_rows": null,
            "grid_column": null,
            "grid_gap": null,
            "grid_row": null,
            "grid_template_areas": null,
            "grid_template_columns": null,
            "grid_template_rows": null,
            "height": null,
            "justify_content": null,
            "justify_items": null,
            "left": null,
            "margin": null,
            "max_height": null,
            "max_width": null,
            "min_height": null,
            "min_width": null,
            "object_fit": null,
            "object_position": null,
            "order": null,
            "overflow": null,
            "overflow_x": null,
            "overflow_y": null,
            "padding": null,
            "right": null,
            "top": null,
            "visibility": null,
            "width": null
          }
        },
        "c00c7b50e88b4658921b9105d73779bf": {
          "model_module": "@jupyter-widgets/controls",
          "model_name": "DescriptionStyleModel",
          "model_module_version": "1.5.0",
          "state": {
            "_model_module": "@jupyter-widgets/controls",
            "_model_module_version": "1.5.0",
            "_model_name": "DescriptionStyleModel",
            "_view_count": null,
            "_view_module": "@jupyter-widgets/base",
            "_view_module_version": "1.2.0",
            "_view_name": "StyleView",
            "description_width": ""
          }
        },
        "57fa0301f4f84e368e8ed4fbe3584591": {
          "model_module": "@jupyter-widgets/base",
          "model_name": "LayoutModel",
          "model_module_version": "1.2.0",
          "state": {
            "_model_module": "@jupyter-widgets/base",
            "_model_module_version": "1.2.0",
            "_model_name": "LayoutModel",
            "_view_count": null,
            "_view_module": "@jupyter-widgets/base",
            "_view_module_version": "1.2.0",
            "_view_name": "LayoutView",
            "align_content": null,
            "align_items": null,
            "align_self": null,
            "border": null,
            "bottom": null,
            "display": null,
            "flex": null,
            "flex_flow": null,
            "grid_area": null,
            "grid_auto_columns": null,
            "grid_auto_flow": null,
            "grid_auto_rows": null,
            "grid_column": null,
            "grid_gap": null,
            "grid_row": null,
            "grid_template_areas": null,
            "grid_template_columns": null,
            "grid_template_rows": null,
            "height": null,
            "justify_content": null,
            "justify_items": null,
            "left": null,
            "margin": null,
            "max_height": null,
            "max_width": null,
            "min_height": null,
            "min_width": null,
            "object_fit": null,
            "object_position": null,
            "order": null,
            "overflow": null,
            "overflow_x": null,
            "overflow_y": null,
            "padding": null,
            "right": null,
            "top": null,
            "visibility": null,
            "width": null
          }
        },
        "da7a3da5d123430a9852d49a1ea1275f": {
          "model_module": "@jupyter-widgets/controls",
          "model_name": "ProgressStyleModel",
          "model_module_version": "1.5.0",
          "state": {
            "_model_module": "@jupyter-widgets/controls",
            "_model_module_version": "1.5.0",
            "_model_name": "ProgressStyleModel",
            "_view_count": null,
            "_view_module": "@jupyter-widgets/base",
            "_view_module_version": "1.2.0",
            "_view_name": "StyleView",
            "bar_color": null,
            "description_width": ""
          }
        },
        "06f6952763214def9117af6d5f9585dd": {
          "model_module": "@jupyter-widgets/base",
          "model_name": "LayoutModel",
          "model_module_version": "1.2.0",
          "state": {
            "_model_module": "@jupyter-widgets/base",
            "_model_module_version": "1.2.0",
            "_model_name": "LayoutModel",
            "_view_count": null,
            "_view_module": "@jupyter-widgets/base",
            "_view_module_version": "1.2.0",
            "_view_name": "LayoutView",
            "align_content": null,
            "align_items": null,
            "align_self": null,
            "border": null,
            "bottom": null,
            "display": null,
            "flex": null,
            "flex_flow": null,
            "grid_area": null,
            "grid_auto_columns": null,
            "grid_auto_flow": null,
            "grid_auto_rows": null,
            "grid_column": null,
            "grid_gap": null,
            "grid_row": null,
            "grid_template_areas": null,
            "grid_template_columns": null,
            "grid_template_rows": null,
            "height": null,
            "justify_content": null,
            "justify_items": null,
            "left": null,
            "margin": null,
            "max_height": null,
            "max_width": null,
            "min_height": null,
            "min_width": null,
            "object_fit": null,
            "object_position": null,
            "order": null,
            "overflow": null,
            "overflow_x": null,
            "overflow_y": null,
            "padding": null,
            "right": null,
            "top": null,
            "visibility": null,
            "width": null
          }
        },
        "d8b851c583a947eda9ba2200b388f294": {
          "model_module": "@jupyter-widgets/controls",
          "model_name": "DescriptionStyleModel",
          "model_module_version": "1.5.0",
          "state": {
            "_model_module": "@jupyter-widgets/controls",
            "_model_module_version": "1.5.0",
            "_model_name": "DescriptionStyleModel",
            "_view_count": null,
            "_view_module": "@jupyter-widgets/base",
            "_view_module_version": "1.2.0",
            "_view_name": "StyleView",
            "description_width": ""
          }
        },
        "e287a6405a1e463e885fa9d62001f3a2": {
          "model_module": "@jupyter-widgets/controls",
          "model_name": "HBoxModel",
          "model_module_version": "1.5.0",
          "state": {
            "_dom_classes": [],
            "_model_module": "@jupyter-widgets/controls",
            "_model_module_version": "1.5.0",
            "_model_name": "HBoxModel",
            "_view_count": null,
            "_view_module": "@jupyter-widgets/controls",
            "_view_module_version": "1.5.0",
            "_view_name": "HBoxView",
            "box_style": "",
            "children": [
              "IPY_MODEL_d84874ad2ed342c1b0cb53575f5a487f",
              "IPY_MODEL_32c9a341a9074c719092f463ceeb26bf",
              "IPY_MODEL_4ccc16378b784fb4bcfb94e10ee7d4fe"
            ],
            "layout": "IPY_MODEL_83a9e52ebea64ae68b144a09bbb39a57"
          }
        },
        "d84874ad2ed342c1b0cb53575f5a487f": {
          "model_module": "@jupyter-widgets/controls",
          "model_name": "HTMLModel",
          "model_module_version": "1.5.0",
          "state": {
            "_dom_classes": [],
            "_model_module": "@jupyter-widgets/controls",
            "_model_module_version": "1.5.0",
            "_model_name": "HTMLModel",
            "_view_count": null,
            "_view_module": "@jupyter-widgets/controls",
            "_view_module_version": "1.5.0",
            "_view_name": "HTMLView",
            "description": "",
            "description_tooltip": null,
            "layout": "IPY_MODEL_3854e1580b1f4e089d086fb136ed26e7",
            "placeholder": "​",
            "style": "IPY_MODEL_40831c86a7f0499ab8e593445731e93b",
            "value": "all/validation-00000-of-00001.parquet: 100%"
          }
        },
        "32c9a341a9074c719092f463ceeb26bf": {
          "model_module": "@jupyter-widgets/controls",
          "model_name": "FloatProgressModel",
          "model_module_version": "1.5.0",
          "state": {
            "_dom_classes": [],
            "_model_module": "@jupyter-widgets/controls",
            "_model_module_version": "1.5.0",
            "_model_name": "FloatProgressModel",
            "_view_count": null,
            "_view_module": "@jupyter-widgets/controls",
            "_view_module_version": "1.5.0",
            "_view_name": "ProgressView",
            "bar_style": "success",
            "description": "",
            "description_tooltip": null,
            "layout": "IPY_MODEL_cee6add5871544d38c69ae9d43fc7474",
            "max": 2046503,
            "min": 0,
            "orientation": "horizontal",
            "style": "IPY_MODEL_a0527b1b1dd942d180b4b54df3f93ed2",
            "value": 2046503
          }
        },
        "4ccc16378b784fb4bcfb94e10ee7d4fe": {
          "model_module": "@jupyter-widgets/controls",
          "model_name": "HTMLModel",
          "model_module_version": "1.5.0",
          "state": {
            "_dom_classes": [],
            "_model_module": "@jupyter-widgets/controls",
            "_model_module_version": "1.5.0",
            "_model_name": "HTMLModel",
            "_view_count": null,
            "_view_module": "@jupyter-widgets/controls",
            "_view_module_version": "1.5.0",
            "_view_name": "HTMLView",
            "description": "",
            "description_tooltip": null,
            "layout": "IPY_MODEL_ad207a96f33d4357afe4f7af7db12955",
            "placeholder": "​",
            "style": "IPY_MODEL_e170370ded584292bb774619407e9943",
            "value": " 2.05M/2.05M [00:02&lt;00:00, 3.34MB/s]"
          }
        },
        "83a9e52ebea64ae68b144a09bbb39a57": {
          "model_module": "@jupyter-widgets/base",
          "model_name": "LayoutModel",
          "model_module_version": "1.2.0",
          "state": {
            "_model_module": "@jupyter-widgets/base",
            "_model_module_version": "1.2.0",
            "_model_name": "LayoutModel",
            "_view_count": null,
            "_view_module": "@jupyter-widgets/base",
            "_view_module_version": "1.2.0",
            "_view_name": "LayoutView",
            "align_content": null,
            "align_items": null,
            "align_self": null,
            "border": null,
            "bottom": null,
            "display": null,
            "flex": null,
            "flex_flow": null,
            "grid_area": null,
            "grid_auto_columns": null,
            "grid_auto_flow": null,
            "grid_auto_rows": null,
            "grid_column": null,
            "grid_gap": null,
            "grid_row": null,
            "grid_template_areas": null,
            "grid_template_columns": null,
            "grid_template_rows": null,
            "height": null,
            "justify_content": null,
            "justify_items": null,
            "left": null,
            "margin": null,
            "max_height": null,
            "max_width": null,
            "min_height": null,
            "min_width": null,
            "object_fit": null,
            "object_position": null,
            "order": null,
            "overflow": null,
            "overflow_x": null,
            "overflow_y": null,
            "padding": null,
            "right": null,
            "top": null,
            "visibility": null,
            "width": null
          }
        },
        "3854e1580b1f4e089d086fb136ed26e7": {
          "model_module": "@jupyter-widgets/base",
          "model_name": "LayoutModel",
          "model_module_version": "1.2.0",
          "state": {
            "_model_module": "@jupyter-widgets/base",
            "_model_module_version": "1.2.0",
            "_model_name": "LayoutModel",
            "_view_count": null,
            "_view_module": "@jupyter-widgets/base",
            "_view_module_version": "1.2.0",
            "_view_name": "LayoutView",
            "align_content": null,
            "align_items": null,
            "align_self": null,
            "border": null,
            "bottom": null,
            "display": null,
            "flex": null,
            "flex_flow": null,
            "grid_area": null,
            "grid_auto_columns": null,
            "grid_auto_flow": null,
            "grid_auto_rows": null,
            "grid_column": null,
            "grid_gap": null,
            "grid_row": null,
            "grid_template_areas": null,
            "grid_template_columns": null,
            "grid_template_rows": null,
            "height": null,
            "justify_content": null,
            "justify_items": null,
            "left": null,
            "margin": null,
            "max_height": null,
            "max_width": null,
            "min_height": null,
            "min_width": null,
            "object_fit": null,
            "object_position": null,
            "order": null,
            "overflow": null,
            "overflow_x": null,
            "overflow_y": null,
            "padding": null,
            "right": null,
            "top": null,
            "visibility": null,
            "width": null
          }
        },
        "40831c86a7f0499ab8e593445731e93b": {
          "model_module": "@jupyter-widgets/controls",
          "model_name": "DescriptionStyleModel",
          "model_module_version": "1.5.0",
          "state": {
            "_model_module": "@jupyter-widgets/controls",
            "_model_module_version": "1.5.0",
            "_model_name": "DescriptionStyleModel",
            "_view_count": null,
            "_view_module": "@jupyter-widgets/base",
            "_view_module_version": "1.2.0",
            "_view_name": "StyleView",
            "description_width": ""
          }
        },
        "cee6add5871544d38c69ae9d43fc7474": {
          "model_module": "@jupyter-widgets/base",
          "model_name": "LayoutModel",
          "model_module_version": "1.2.0",
          "state": {
            "_model_module": "@jupyter-widgets/base",
            "_model_module_version": "1.2.0",
            "_model_name": "LayoutModel",
            "_view_count": null,
            "_view_module": "@jupyter-widgets/base",
            "_view_module_version": "1.2.0",
            "_view_name": "LayoutView",
            "align_content": null,
            "align_items": null,
            "align_self": null,
            "border": null,
            "bottom": null,
            "display": null,
            "flex": null,
            "flex_flow": null,
            "grid_area": null,
            "grid_auto_columns": null,
            "grid_auto_flow": null,
            "grid_auto_rows": null,
            "grid_column": null,
            "grid_gap": null,
            "grid_row": null,
            "grid_template_areas": null,
            "grid_template_columns": null,
            "grid_template_rows": null,
            "height": null,
            "justify_content": null,
            "justify_items": null,
            "left": null,
            "margin": null,
            "max_height": null,
            "max_width": null,
            "min_height": null,
            "min_width": null,
            "object_fit": null,
            "object_position": null,
            "order": null,
            "overflow": null,
            "overflow_x": null,
            "overflow_y": null,
            "padding": null,
            "right": null,
            "top": null,
            "visibility": null,
            "width": null
          }
        },
        "a0527b1b1dd942d180b4b54df3f93ed2": {
          "model_module": "@jupyter-widgets/controls",
          "model_name": "ProgressStyleModel",
          "model_module_version": "1.5.0",
          "state": {
            "_model_module": "@jupyter-widgets/controls",
            "_model_module_version": "1.5.0",
            "_model_name": "ProgressStyleModel",
            "_view_count": null,
            "_view_module": "@jupyter-widgets/base",
            "_view_module_version": "1.2.0",
            "_view_name": "StyleView",
            "bar_color": null,
            "description_width": ""
          }
        },
        "ad207a96f33d4357afe4f7af7db12955": {
          "model_module": "@jupyter-widgets/base",
          "model_name": "LayoutModel",
          "model_module_version": "1.2.0",
          "state": {
            "_model_module": "@jupyter-widgets/base",
            "_model_module_version": "1.2.0",
            "_model_name": "LayoutModel",
            "_view_count": null,
            "_view_module": "@jupyter-widgets/base",
            "_view_module_version": "1.2.0",
            "_view_name": "LayoutView",
            "align_content": null,
            "align_items": null,
            "align_self": null,
            "border": null,
            "bottom": null,
            "display": null,
            "flex": null,
            "flex_flow": null,
            "grid_area": null,
            "grid_auto_columns": null,
            "grid_auto_flow": null,
            "grid_auto_rows": null,
            "grid_column": null,
            "grid_gap": null,
            "grid_row": null,
            "grid_template_areas": null,
            "grid_template_columns": null,
            "grid_template_rows": null,
            "height": null,
            "justify_content": null,
            "justify_items": null,
            "left": null,
            "margin": null,
            "max_height": null,
            "max_width": null,
            "min_height": null,
            "min_width": null,
            "object_fit": null,
            "object_position": null,
            "order": null,
            "overflow": null,
            "overflow_x": null,
            "overflow_y": null,
            "padding": null,
            "right": null,
            "top": null,
            "visibility": null,
            "width": null
          }
        },
        "e170370ded584292bb774619407e9943": {
          "model_module": "@jupyter-widgets/controls",
          "model_name": "DescriptionStyleModel",
          "model_module_version": "1.5.0",
          "state": {
            "_model_module": "@jupyter-widgets/controls",
            "_model_module_version": "1.5.0",
            "_model_name": "DescriptionStyleModel",
            "_view_count": null,
            "_view_module": "@jupyter-widgets/base",
            "_view_module_version": "1.2.0",
            "_view_name": "StyleView",
            "description_width": ""
          }
        },
        "4ca3a3ca7f134a989ff219d907734ba4": {
          "model_module": "@jupyter-widgets/controls",
          "model_name": "HBoxModel",
          "model_module_version": "1.5.0",
          "state": {
            "_dom_classes": [],
            "_model_module": "@jupyter-widgets/controls",
            "_model_module_version": "1.5.0",
            "_model_name": "HBoxModel",
            "_view_count": null,
            "_view_module": "@jupyter-widgets/controls",
            "_view_module_version": "1.5.0",
            "_view_name": "HBoxView",
            "box_style": "",
            "children": [
              "IPY_MODEL_45a2d16f5f654305a0e847db20ff146a",
              "IPY_MODEL_4d47e7acf2f340efbb5aae8ff560512d",
              "IPY_MODEL_0811655d7d4c4e6f884ae967cb556735"
            ],
            "layout": "IPY_MODEL_c202780a541049789f74a86b0210e8db"
          }
        },
        "45a2d16f5f654305a0e847db20ff146a": {
          "model_module": "@jupyter-widgets/controls",
          "model_name": "HTMLModel",
          "model_module_version": "1.5.0",
          "state": {
            "_dom_classes": [],
            "_model_module": "@jupyter-widgets/controls",
            "_model_module_version": "1.5.0",
            "_model_name": "HTMLModel",
            "_view_count": null,
            "_view_module": "@jupyter-widgets/controls",
            "_view_module_version": "1.5.0",
            "_view_name": "HTMLView",
            "description": "",
            "description_tooltip": null,
            "layout": "IPY_MODEL_909d4c6377ce462d820bd9144737e448",
            "placeholder": "​",
            "style": "IPY_MODEL_fe0dc43e7d2c4852b229d5b60a241ef1",
            "value": "Generating test split: 100%"
          }
        },
        "4d47e7acf2f340efbb5aae8ff560512d": {
          "model_module": "@jupyter-widgets/controls",
          "model_name": "FloatProgressModel",
          "model_module_version": "1.5.0",
          "state": {
            "_dom_classes": [],
            "_model_module": "@jupyter-widgets/controls",
            "_model_module_version": "1.5.0",
            "_model_name": "FloatProgressModel",
            "_view_count": null,
            "_view_module": "@jupyter-widgets/controls",
            "_view_module_version": "1.5.0",
            "_view_name": "ProgressView",
            "bar_style": "success",
            "description": "",
            "description_tooltip": null,
            "layout": "IPY_MODEL_2100afb757b84f2ba7f2884e5ba48bb3",
            "max": 4934,
            "min": 0,
            "orientation": "horizontal",
            "style": "IPY_MODEL_bfb2627cd4c24189b37fefbdbe078d9a",
            "value": 4934
          }
        },
        "0811655d7d4c4e6f884ae967cb556735": {
          "model_module": "@jupyter-widgets/controls",
          "model_name": "HTMLModel",
          "model_module_version": "1.5.0",
          "state": {
            "_dom_classes": [],
            "_model_module": "@jupyter-widgets/controls",
            "_model_module_version": "1.5.0",
            "_model_name": "HTMLModel",
            "_view_count": null,
            "_view_module": "@jupyter-widgets/controls",
            "_view_module_version": "1.5.0",
            "_view_name": "HTMLView",
            "description": "",
            "description_tooltip": null,
            "layout": "IPY_MODEL_25c0e23b78f54df0a432e35b90b1a896",
            "placeholder": "​",
            "style": "IPY_MODEL_810ab0791a984533b45af62fee44a44e",
            "value": " 4934/4934 [00:00&lt;00:00, 55272.67 examples/s]"
          }
        },
        "c202780a541049789f74a86b0210e8db": {
          "model_module": "@jupyter-widgets/base",
          "model_name": "LayoutModel",
          "model_module_version": "1.2.0",
          "state": {
            "_model_module": "@jupyter-widgets/base",
            "_model_module_version": "1.2.0",
            "_model_name": "LayoutModel",
            "_view_count": null,
            "_view_module": "@jupyter-widgets/base",
            "_view_module_version": "1.2.0",
            "_view_name": "LayoutView",
            "align_content": null,
            "align_items": null,
            "align_self": null,
            "border": null,
            "bottom": null,
            "display": null,
            "flex": null,
            "flex_flow": null,
            "grid_area": null,
            "grid_auto_columns": null,
            "grid_auto_flow": null,
            "grid_auto_rows": null,
            "grid_column": null,
            "grid_gap": null,
            "grid_row": null,
            "grid_template_areas": null,
            "grid_template_columns": null,
            "grid_template_rows": null,
            "height": null,
            "justify_content": null,
            "justify_items": null,
            "left": null,
            "margin": null,
            "max_height": null,
            "max_width": null,
            "min_height": null,
            "min_width": null,
            "object_fit": null,
            "object_position": null,
            "order": null,
            "overflow": null,
            "overflow_x": null,
            "overflow_y": null,
            "padding": null,
            "right": null,
            "top": null,
            "visibility": null,
            "width": null
          }
        },
        "909d4c6377ce462d820bd9144737e448": {
          "model_module": "@jupyter-widgets/base",
          "model_name": "LayoutModel",
          "model_module_version": "1.2.0",
          "state": {
            "_model_module": "@jupyter-widgets/base",
            "_model_module_version": "1.2.0",
            "_model_name": "LayoutModel",
            "_view_count": null,
            "_view_module": "@jupyter-widgets/base",
            "_view_module_version": "1.2.0",
            "_view_name": "LayoutView",
            "align_content": null,
            "align_items": null,
            "align_self": null,
            "border": null,
            "bottom": null,
            "display": null,
            "flex": null,
            "flex_flow": null,
            "grid_area": null,
            "grid_auto_columns": null,
            "grid_auto_flow": null,
            "grid_auto_rows": null,
            "grid_column": null,
            "grid_gap": null,
            "grid_row": null,
            "grid_template_areas": null,
            "grid_template_columns": null,
            "grid_template_rows": null,
            "height": null,
            "justify_content": null,
            "justify_items": null,
            "left": null,
            "margin": null,
            "max_height": null,
            "max_width": null,
            "min_height": null,
            "min_width": null,
            "object_fit": null,
            "object_position": null,
            "order": null,
            "overflow": null,
            "overflow_x": null,
            "overflow_y": null,
            "padding": null,
            "right": null,
            "top": null,
            "visibility": null,
            "width": null
          }
        },
        "fe0dc43e7d2c4852b229d5b60a241ef1": {
          "model_module": "@jupyter-widgets/controls",
          "model_name": "DescriptionStyleModel",
          "model_module_version": "1.5.0",
          "state": {
            "_model_module": "@jupyter-widgets/controls",
            "_model_module_version": "1.5.0",
            "_model_name": "DescriptionStyleModel",
            "_view_count": null,
            "_view_module": "@jupyter-widgets/base",
            "_view_module_version": "1.2.0",
            "_view_name": "StyleView",
            "description_width": ""
          }
        },
        "2100afb757b84f2ba7f2884e5ba48bb3": {
          "model_module": "@jupyter-widgets/base",
          "model_name": "LayoutModel",
          "model_module_version": "1.2.0",
          "state": {
            "_model_module": "@jupyter-widgets/base",
            "_model_module_version": "1.2.0",
            "_model_name": "LayoutModel",
            "_view_count": null,
            "_view_module": "@jupyter-widgets/base",
            "_view_module_version": "1.2.0",
            "_view_name": "LayoutView",
            "align_content": null,
            "align_items": null,
            "align_self": null,
            "border": null,
            "bottom": null,
            "display": null,
            "flex": null,
            "flex_flow": null,
            "grid_area": null,
            "grid_auto_columns": null,
            "grid_auto_flow": null,
            "grid_auto_rows": null,
            "grid_column": null,
            "grid_gap": null,
            "grid_row": null,
            "grid_template_areas": null,
            "grid_template_columns": null,
            "grid_template_rows": null,
            "height": null,
            "justify_content": null,
            "justify_items": null,
            "left": null,
            "margin": null,
            "max_height": null,
            "max_width": null,
            "min_height": null,
            "min_width": null,
            "object_fit": null,
            "object_position": null,
            "order": null,
            "overflow": null,
            "overflow_x": null,
            "overflow_y": null,
            "padding": null,
            "right": null,
            "top": null,
            "visibility": null,
            "width": null
          }
        },
        "bfb2627cd4c24189b37fefbdbe078d9a": {
          "model_module": "@jupyter-widgets/controls",
          "model_name": "ProgressStyleModel",
          "model_module_version": "1.5.0",
          "state": {
            "_model_module": "@jupyter-widgets/controls",
            "_model_module_version": "1.5.0",
            "_model_name": "ProgressStyleModel",
            "_view_count": null,
            "_view_module": "@jupyter-widgets/base",
            "_view_module_version": "1.2.0",
            "_view_name": "StyleView",
            "bar_color": null,
            "description_width": ""
          }
        },
        "25c0e23b78f54df0a432e35b90b1a896": {
          "model_module": "@jupyter-widgets/base",
          "model_name": "LayoutModel",
          "model_module_version": "1.2.0",
          "state": {
            "_model_module": "@jupyter-widgets/base",
            "_model_module_version": "1.2.0",
            "_model_name": "LayoutModel",
            "_view_count": null,
            "_view_module": "@jupyter-widgets/base",
            "_view_module_version": "1.2.0",
            "_view_name": "LayoutView",
            "align_content": null,
            "align_items": null,
            "align_self": null,
            "border": null,
            "bottom": null,
            "display": null,
            "flex": null,
            "flex_flow": null,
            "grid_area": null,
            "grid_auto_columns": null,
            "grid_auto_flow": null,
            "grid_auto_rows": null,
            "grid_column": null,
            "grid_gap": null,
            "grid_row": null,
            "grid_template_areas": null,
            "grid_template_columns": null,
            "grid_template_rows": null,
            "height": null,
            "justify_content": null,
            "justify_items": null,
            "left": null,
            "margin": null,
            "max_height": null,
            "max_width": null,
            "min_height": null,
            "min_width": null,
            "object_fit": null,
            "object_position": null,
            "order": null,
            "overflow": null,
            "overflow_x": null,
            "overflow_y": null,
            "padding": null,
            "right": null,
            "top": null,
            "visibility": null,
            "width": null
          }
        },
        "810ab0791a984533b45af62fee44a44e": {
          "model_module": "@jupyter-widgets/controls",
          "model_name": "DescriptionStyleModel",
          "model_module_version": "1.5.0",
          "state": {
            "_model_module": "@jupyter-widgets/controls",
            "_model_module_version": "1.5.0",
            "_model_name": "DescriptionStyleModel",
            "_view_count": null,
            "_view_module": "@jupyter-widgets/base",
            "_view_module_version": "1.2.0",
            "_view_name": "StyleView",
            "description_width": ""
          }
        },
        "483d988ea9bb4aa3a343a23517a6811e": {
          "model_module": "@jupyter-widgets/controls",
          "model_name": "HBoxModel",
          "model_module_version": "1.5.0",
          "state": {
            "_dom_classes": [],
            "_model_module": "@jupyter-widgets/controls",
            "_model_module_version": "1.5.0",
            "_model_name": "HBoxModel",
            "_view_count": null,
            "_view_module": "@jupyter-widgets/controls",
            "_view_module_version": "1.5.0",
            "_view_name": "HBoxView",
            "box_style": "",
            "children": [
              "IPY_MODEL_8bc1d5a812be4c0986ce236ff9fc849d",
              "IPY_MODEL_2c35e5ad75ba495c99f646ec009962fb",
              "IPY_MODEL_ee1c8d89c659461882f9e97c6085e920"
            ],
            "layout": "IPY_MODEL_7e93c3622f424c02bf774e6234188800"
          }
        },
        "8bc1d5a812be4c0986ce236ff9fc849d": {
          "model_module": "@jupyter-widgets/controls",
          "model_name": "HTMLModel",
          "model_module_version": "1.5.0",
          "state": {
            "_dom_classes": [],
            "_model_module": "@jupyter-widgets/controls",
            "_model_module_version": "1.5.0",
            "_model_name": "HTMLModel",
            "_view_count": null,
            "_view_module": "@jupyter-widgets/controls",
            "_view_module_version": "1.5.0",
            "_view_name": "HTMLView",
            "description": "",
            "description_tooltip": null,
            "layout": "IPY_MODEL_e83ff84837274c0d88877b3a1fe175d3",
            "placeholder": "​",
            "style": "IPY_MODEL_6a051546560a4202903256243de4b464",
            "value": "Generating train split: 100%"
          }
        },
        "2c35e5ad75ba495c99f646ec009962fb": {
          "model_module": "@jupyter-widgets/controls",
          "model_name": "FloatProgressModel",
          "model_module_version": "1.5.0",
          "state": {
            "_dom_classes": [],
            "_model_module": "@jupyter-widgets/controls",
            "_model_module_version": "1.5.0",
            "_model_name": "FloatProgressModel",
            "_view_count": null,
            "_view_module": "@jupyter-widgets/controls",
            "_view_module_version": "1.5.0",
            "_view_name": "ProgressView",
            "bar_style": "success",
            "description": "",
            "description_tooltip": null,
            "layout": "IPY_MODEL_99b67bb2f7b84529b4e324a171d35e99",
            "max": 87866,
            "min": 0,
            "orientation": "horizontal",
            "style": "IPY_MODEL_2c1ca37abf5c48c5b8751e62973c4ab4",
            "value": 87866
          }
        },
        "ee1c8d89c659461882f9e97c6085e920": {
          "model_module": "@jupyter-widgets/controls",
          "model_name": "HTMLModel",
          "model_module_version": "1.5.0",
          "state": {
            "_dom_classes": [],
            "_model_module": "@jupyter-widgets/controls",
            "_model_module_version": "1.5.0",
            "_model_name": "HTMLModel",
            "_view_count": null,
            "_view_module": "@jupyter-widgets/controls",
            "_view_module_version": "1.5.0",
            "_view_name": "HTMLView",
            "description": "",
            "description_tooltip": null,
            "layout": "IPY_MODEL_037f360d4528463aa3093420f9c0d842",
            "placeholder": "​",
            "style": "IPY_MODEL_e1a7c84355cc4c6cbf6d28a9cac88eb4",
            "value": " 87866/87866 [00:00&lt;00:00, 166376.25 examples/s]"
          }
        },
        "7e93c3622f424c02bf774e6234188800": {
          "model_module": "@jupyter-widgets/base",
          "model_name": "LayoutModel",
          "model_module_version": "1.2.0",
          "state": {
            "_model_module": "@jupyter-widgets/base",
            "_model_module_version": "1.2.0",
            "_model_name": "LayoutModel",
            "_view_count": null,
            "_view_module": "@jupyter-widgets/base",
            "_view_module_version": "1.2.0",
            "_view_name": "LayoutView",
            "align_content": null,
            "align_items": null,
            "align_self": null,
            "border": null,
            "bottom": null,
            "display": null,
            "flex": null,
            "flex_flow": null,
            "grid_area": null,
            "grid_auto_columns": null,
            "grid_auto_flow": null,
            "grid_auto_rows": null,
            "grid_column": null,
            "grid_gap": null,
            "grid_row": null,
            "grid_template_areas": null,
            "grid_template_columns": null,
            "grid_template_rows": null,
            "height": null,
            "justify_content": null,
            "justify_items": null,
            "left": null,
            "margin": null,
            "max_height": null,
            "max_width": null,
            "min_height": null,
            "min_width": null,
            "object_fit": null,
            "object_position": null,
            "order": null,
            "overflow": null,
            "overflow_x": null,
            "overflow_y": null,
            "padding": null,
            "right": null,
            "top": null,
            "visibility": null,
            "width": null
          }
        },
        "e83ff84837274c0d88877b3a1fe175d3": {
          "model_module": "@jupyter-widgets/base",
          "model_name": "LayoutModel",
          "model_module_version": "1.2.0",
          "state": {
            "_model_module": "@jupyter-widgets/base",
            "_model_module_version": "1.2.0",
            "_model_name": "LayoutModel",
            "_view_count": null,
            "_view_module": "@jupyter-widgets/base",
            "_view_module_version": "1.2.0",
            "_view_name": "LayoutView",
            "align_content": null,
            "align_items": null,
            "align_self": null,
            "border": null,
            "bottom": null,
            "display": null,
            "flex": null,
            "flex_flow": null,
            "grid_area": null,
            "grid_auto_columns": null,
            "grid_auto_flow": null,
            "grid_auto_rows": null,
            "grid_column": null,
            "grid_gap": null,
            "grid_row": null,
            "grid_template_areas": null,
            "grid_template_columns": null,
            "grid_template_rows": null,
            "height": null,
            "justify_content": null,
            "justify_items": null,
            "left": null,
            "margin": null,
            "max_height": null,
            "max_width": null,
            "min_height": null,
            "min_width": null,
            "object_fit": null,
            "object_position": null,
            "order": null,
            "overflow": null,
            "overflow_x": null,
            "overflow_y": null,
            "padding": null,
            "right": null,
            "top": null,
            "visibility": null,
            "width": null
          }
        },
        "6a051546560a4202903256243de4b464": {
          "model_module": "@jupyter-widgets/controls",
          "model_name": "DescriptionStyleModel",
          "model_module_version": "1.5.0",
          "state": {
            "_model_module": "@jupyter-widgets/controls",
            "_model_module_version": "1.5.0",
            "_model_name": "DescriptionStyleModel",
            "_view_count": null,
            "_view_module": "@jupyter-widgets/base",
            "_view_module_version": "1.2.0",
            "_view_name": "StyleView",
            "description_width": ""
          }
        },
        "99b67bb2f7b84529b4e324a171d35e99": {
          "model_module": "@jupyter-widgets/base",
          "model_name": "LayoutModel",
          "model_module_version": "1.2.0",
          "state": {
            "_model_module": "@jupyter-widgets/base",
            "_model_module_version": "1.2.0",
            "_model_name": "LayoutModel",
            "_view_count": null,
            "_view_module": "@jupyter-widgets/base",
            "_view_module_version": "1.2.0",
            "_view_name": "LayoutView",
            "align_content": null,
            "align_items": null,
            "align_self": null,
            "border": null,
            "bottom": null,
            "display": null,
            "flex": null,
            "flex_flow": null,
            "grid_area": null,
            "grid_auto_columns": null,
            "grid_auto_flow": null,
            "grid_auto_rows": null,
            "grid_column": null,
            "grid_gap": null,
            "grid_row": null,
            "grid_template_areas": null,
            "grid_template_columns": null,
            "grid_template_rows": null,
            "height": null,
            "justify_content": null,
            "justify_items": null,
            "left": null,
            "margin": null,
            "max_height": null,
            "max_width": null,
            "min_height": null,
            "min_width": null,
            "object_fit": null,
            "object_position": null,
            "order": null,
            "overflow": null,
            "overflow_x": null,
            "overflow_y": null,
            "padding": null,
            "right": null,
            "top": null,
            "visibility": null,
            "width": null
          }
        },
        "2c1ca37abf5c48c5b8751e62973c4ab4": {
          "model_module": "@jupyter-widgets/controls",
          "model_name": "ProgressStyleModel",
          "model_module_version": "1.5.0",
          "state": {
            "_model_module": "@jupyter-widgets/controls",
            "_model_module_version": "1.5.0",
            "_model_name": "ProgressStyleModel",
            "_view_count": null,
            "_view_module": "@jupyter-widgets/base",
            "_view_module_version": "1.2.0",
            "_view_name": "StyleView",
            "bar_color": null,
            "description_width": ""
          }
        },
        "037f360d4528463aa3093420f9c0d842": {
          "model_module": "@jupyter-widgets/base",
          "model_name": "LayoutModel",
          "model_module_version": "1.2.0",
          "state": {
            "_model_module": "@jupyter-widgets/base",
            "_model_module_version": "1.2.0",
            "_model_name": "LayoutModel",
            "_view_count": null,
            "_view_module": "@jupyter-widgets/base",
            "_view_module_version": "1.2.0",
            "_view_name": "LayoutView",
            "align_content": null,
            "align_items": null,
            "align_self": null,
            "border": null,
            "bottom": null,
            "display": null,
            "flex": null,
            "flex_flow": null,
            "grid_area": null,
            "grid_auto_columns": null,
            "grid_auto_flow": null,
            "grid_auto_rows": null,
            "grid_column": null,
            "grid_gap": null,
            "grid_row": null,
            "grid_template_areas": null,
            "grid_template_columns": null,
            "grid_template_rows": null,
            "height": null,
            "justify_content": null,
            "justify_items": null,
            "left": null,
            "margin": null,
            "max_height": null,
            "max_width": null,
            "min_height": null,
            "min_width": null,
            "object_fit": null,
            "object_position": null,
            "order": null,
            "overflow": null,
            "overflow_x": null,
            "overflow_y": null,
            "padding": null,
            "right": null,
            "top": null,
            "visibility": null,
            "width": null
          }
        },
        "e1a7c84355cc4c6cbf6d28a9cac88eb4": {
          "model_module": "@jupyter-widgets/controls",
          "model_name": "DescriptionStyleModel",
          "model_module_version": "1.5.0",
          "state": {
            "_model_module": "@jupyter-widgets/controls",
            "_model_module_version": "1.5.0",
            "_model_name": "DescriptionStyleModel",
            "_view_count": null,
            "_view_module": "@jupyter-widgets/base",
            "_view_module_version": "1.2.0",
            "_view_name": "StyleView",
            "description_width": ""
          }
        },
        "f03daf8b4cb84acc8c821158a58f0223": {
          "model_module": "@jupyter-widgets/controls",
          "model_name": "HBoxModel",
          "model_module_version": "1.5.0",
          "state": {
            "_dom_classes": [],
            "_model_module": "@jupyter-widgets/controls",
            "_model_module_version": "1.5.0",
            "_model_name": "HBoxModel",
            "_view_count": null,
            "_view_module": "@jupyter-widgets/controls",
            "_view_module_version": "1.5.0",
            "_view_name": "HBoxView",
            "box_style": "",
            "children": [
              "IPY_MODEL_69fd5c71650040f4950c0ad959684536",
              "IPY_MODEL_91bd3470c2414d3eabe8270a837187e0",
              "IPY_MODEL_60c0414352364d2784b09d89abe6f93b"
            ],
            "layout": "IPY_MODEL_20a35349319647f494c9f05c0dd36a5c"
          }
        },
        "69fd5c71650040f4950c0ad959684536": {
          "model_module": "@jupyter-widgets/controls",
          "model_name": "HTMLModel",
          "model_module_version": "1.5.0",
          "state": {
            "_dom_classes": [],
            "_model_module": "@jupyter-widgets/controls",
            "_model_module_version": "1.5.0",
            "_model_name": "HTMLModel",
            "_view_count": null,
            "_view_module": "@jupyter-widgets/controls",
            "_view_module_version": "1.5.0",
            "_view_name": "HTMLView",
            "description": "",
            "description_tooltip": null,
            "layout": "IPY_MODEL_34cc6e9c09a54bf89a8db6552552fd33",
            "placeholder": "​",
            "style": "IPY_MODEL_04a4355a61664768a86e1308db17d413",
            "value": "Generating validation split: 100%"
          }
        },
        "91bd3470c2414d3eabe8270a837187e0": {
          "model_module": "@jupyter-widgets/controls",
          "model_name": "FloatProgressModel",
          "model_module_version": "1.5.0",
          "state": {
            "_dom_classes": [],
            "_model_module": "@jupyter-widgets/controls",
            "_model_module_version": "1.5.0",
            "_model_name": "FloatProgressModel",
            "_view_count": null,
            "_view_module": "@jupyter-widgets/controls",
            "_view_module_version": "1.5.0",
            "_view_name": "ProgressView",
            "bar_style": "success",
            "description": "",
            "description_tooltip": null,
            "layout": "IPY_MODEL_e4dafadf6ab64287b117f880adc7ecf6",
            "max": 4887,
            "min": 0,
            "orientation": "horizontal",
            "style": "IPY_MODEL_02cd23ba85794dc1b3129dbe9abedc03",
            "value": 4887
          }
        },
        "60c0414352364d2784b09d89abe6f93b": {
          "model_module": "@jupyter-widgets/controls",
          "model_name": "HTMLModel",
          "model_module_version": "1.5.0",
          "state": {
            "_dom_classes": [],
            "_model_module": "@jupyter-widgets/controls",
            "_model_module_version": "1.5.0",
            "_model_name": "HTMLModel",
            "_view_count": null,
            "_view_module": "@jupyter-widgets/controls",
            "_view_module_version": "1.5.0",
            "_view_name": "HTMLView",
            "description": "",
            "description_tooltip": null,
            "layout": "IPY_MODEL_55c9921495984b5ab0233a1f3c7c0ecd",
            "placeholder": "​",
            "style": "IPY_MODEL_54d5ee1d40d446618e4f1b08c7b34157",
            "value": " 4887/4887 [00:00&lt;00:00, 47996.02 examples/s]"
          }
        },
        "20a35349319647f494c9f05c0dd36a5c": {
          "model_module": "@jupyter-widgets/base",
          "model_name": "LayoutModel",
          "model_module_version": "1.2.0",
          "state": {
            "_model_module": "@jupyter-widgets/base",
            "_model_module_version": "1.2.0",
            "_model_name": "LayoutModel",
            "_view_count": null,
            "_view_module": "@jupyter-widgets/base",
            "_view_module_version": "1.2.0",
            "_view_name": "LayoutView",
            "align_content": null,
            "align_items": null,
            "align_self": null,
            "border": null,
            "bottom": null,
            "display": null,
            "flex": null,
            "flex_flow": null,
            "grid_area": null,
            "grid_auto_columns": null,
            "grid_auto_flow": null,
            "grid_auto_rows": null,
            "grid_column": null,
            "grid_gap": null,
            "grid_row": null,
            "grid_template_areas": null,
            "grid_template_columns": null,
            "grid_template_rows": null,
            "height": null,
            "justify_content": null,
            "justify_items": null,
            "left": null,
            "margin": null,
            "max_height": null,
            "max_width": null,
            "min_height": null,
            "min_width": null,
            "object_fit": null,
            "object_position": null,
            "order": null,
            "overflow": null,
            "overflow_x": null,
            "overflow_y": null,
            "padding": null,
            "right": null,
            "top": null,
            "visibility": null,
            "width": null
          }
        },
        "34cc6e9c09a54bf89a8db6552552fd33": {
          "model_module": "@jupyter-widgets/base",
          "model_name": "LayoutModel",
          "model_module_version": "1.2.0",
          "state": {
            "_model_module": "@jupyter-widgets/base",
            "_model_module_version": "1.2.0",
            "_model_name": "LayoutModel",
            "_view_count": null,
            "_view_module": "@jupyter-widgets/base",
            "_view_module_version": "1.2.0",
            "_view_name": "LayoutView",
            "align_content": null,
            "align_items": null,
            "align_self": null,
            "border": null,
            "bottom": null,
            "display": null,
            "flex": null,
            "flex_flow": null,
            "grid_area": null,
            "grid_auto_columns": null,
            "grid_auto_flow": null,
            "grid_auto_rows": null,
            "grid_column": null,
            "grid_gap": null,
            "grid_row": null,
            "grid_template_areas": null,
            "grid_template_columns": null,
            "grid_template_rows": null,
            "height": null,
            "justify_content": null,
            "justify_items": null,
            "left": null,
            "margin": null,
            "max_height": null,
            "max_width": null,
            "min_height": null,
            "min_width": null,
            "object_fit": null,
            "object_position": null,
            "order": null,
            "overflow": null,
            "overflow_x": null,
            "overflow_y": null,
            "padding": null,
            "right": null,
            "top": null,
            "visibility": null,
            "width": null
          }
        },
        "04a4355a61664768a86e1308db17d413": {
          "model_module": "@jupyter-widgets/controls",
          "model_name": "DescriptionStyleModel",
          "model_module_version": "1.5.0",
          "state": {
            "_model_module": "@jupyter-widgets/controls",
            "_model_module_version": "1.5.0",
            "_model_name": "DescriptionStyleModel",
            "_view_count": null,
            "_view_module": "@jupyter-widgets/base",
            "_view_module_version": "1.2.0",
            "_view_name": "StyleView",
            "description_width": ""
          }
        },
        "e4dafadf6ab64287b117f880adc7ecf6": {
          "model_module": "@jupyter-widgets/base",
          "model_name": "LayoutModel",
          "model_module_version": "1.2.0",
          "state": {
            "_model_module": "@jupyter-widgets/base",
            "_model_module_version": "1.2.0",
            "_model_name": "LayoutModel",
            "_view_count": null,
            "_view_module": "@jupyter-widgets/base",
            "_view_module_version": "1.2.0",
            "_view_name": "LayoutView",
            "align_content": null,
            "align_items": null,
            "align_self": null,
            "border": null,
            "bottom": null,
            "display": null,
            "flex": null,
            "flex_flow": null,
            "grid_area": null,
            "grid_auto_columns": null,
            "grid_auto_flow": null,
            "grid_auto_rows": null,
            "grid_column": null,
            "grid_gap": null,
            "grid_row": null,
            "grid_template_areas": null,
            "grid_template_columns": null,
            "grid_template_rows": null,
            "height": null,
            "justify_content": null,
            "justify_items": null,
            "left": null,
            "margin": null,
            "max_height": null,
            "max_width": null,
            "min_height": null,
            "min_width": null,
            "object_fit": null,
            "object_position": null,
            "order": null,
            "overflow": null,
            "overflow_x": null,
            "overflow_y": null,
            "padding": null,
            "right": null,
            "top": null,
            "visibility": null,
            "width": null
          }
        },
        "02cd23ba85794dc1b3129dbe9abedc03": {
          "model_module": "@jupyter-widgets/controls",
          "model_name": "ProgressStyleModel",
          "model_module_version": "1.5.0",
          "state": {
            "_model_module": "@jupyter-widgets/controls",
            "_model_module_version": "1.5.0",
            "_model_name": "ProgressStyleModel",
            "_view_count": null,
            "_view_module": "@jupyter-widgets/base",
            "_view_module_version": "1.2.0",
            "_view_name": "StyleView",
            "bar_color": null,
            "description_width": ""
          }
        },
        "55c9921495984b5ab0233a1f3c7c0ecd": {
          "model_module": "@jupyter-widgets/base",
          "model_name": "LayoutModel",
          "model_module_version": "1.2.0",
          "state": {
            "_model_module": "@jupyter-widgets/base",
            "_model_module_version": "1.2.0",
            "_model_name": "LayoutModel",
            "_view_count": null,
            "_view_module": "@jupyter-widgets/base",
            "_view_module_version": "1.2.0",
            "_view_name": "LayoutView",
            "align_content": null,
            "align_items": null,
            "align_self": null,
            "border": null,
            "bottom": null,
            "display": null,
            "flex": null,
            "flex_flow": null,
            "grid_area": null,
            "grid_auto_columns": null,
            "grid_auto_flow": null,
            "grid_auto_rows": null,
            "grid_column": null,
            "grid_gap": null,
            "grid_row": null,
            "grid_template_areas": null,
            "grid_template_columns": null,
            "grid_template_rows": null,
            "height": null,
            "justify_content": null,
            "justify_items": null,
            "left": null,
            "margin": null,
            "max_height": null,
            "max_width": null,
            "min_height": null,
            "min_width": null,
            "object_fit": null,
            "object_position": null,
            "order": null,
            "overflow": null,
            "overflow_x": null,
            "overflow_y": null,
            "padding": null,
            "right": null,
            "top": null,
            "visibility": null,
            "width": null
          }
        },
        "54d5ee1d40d446618e4f1b08c7b34157": {
          "model_module": "@jupyter-widgets/controls",
          "model_name": "DescriptionStyleModel",
          "model_module_version": "1.5.0",
          "state": {
            "_model_module": "@jupyter-widgets/controls",
            "_model_module_version": "1.5.0",
            "_model_name": "DescriptionStyleModel",
            "_view_count": null,
            "_view_module": "@jupyter-widgets/base",
            "_view_module_version": "1.2.0",
            "_view_name": "StyleView",
            "description_width": ""
          }
        },
        "da703570217f43e795f4429970720157": {
          "model_module": "@jupyter-widgets/controls",
          "model_name": "HBoxModel",
          "model_module_version": "1.5.0",
          "state": {
            "_dom_classes": [],
            "_model_module": "@jupyter-widgets/controls",
            "_model_module_version": "1.5.0",
            "_model_name": "HBoxModel",
            "_view_count": null,
            "_view_module": "@jupyter-widgets/controls",
            "_view_module_version": "1.5.0",
            "_view_name": "HBoxView",
            "box_style": "",
            "children": [
              "IPY_MODEL_eb1c0ff5980849c3ac4b156a71b01cc6",
              "IPY_MODEL_d8eec90411514b6796fdc117b9b0a946",
              "IPY_MODEL_ce82c2ac92a04ff9b14daf7d7b56049a"
            ],
            "layout": "IPY_MODEL_0484a4d1dfc3450d952bfd7bbea0c86a"
          }
        },
        "eb1c0ff5980849c3ac4b156a71b01cc6": {
          "model_module": "@jupyter-widgets/controls",
          "model_name": "HTMLModel",
          "model_module_version": "1.5.0",
          "state": {
            "_dom_classes": [],
            "_model_module": "@jupyter-widgets/controls",
            "_model_module_version": "1.5.0",
            "_model_name": "HTMLModel",
            "_view_count": null,
            "_view_module": "@jupyter-widgets/controls",
            "_view_module_version": "1.5.0",
            "_view_name": "HTMLView",
            "description": "",
            "description_tooltip": null,
            "layout": "IPY_MODEL_fb9a50217a0a496e9bab98699b2de78f",
            "placeholder": "​",
            "style": "IPY_MODEL_7e11dbde65014dffa1fe608b59f9bf59",
            "value": "config.json: "
          }
        },
        "d8eec90411514b6796fdc117b9b0a946": {
          "model_module": "@jupyter-widgets/controls",
          "model_name": "FloatProgressModel",
          "model_module_version": "1.5.0",
          "state": {
            "_dom_classes": [],
            "_model_module": "@jupyter-widgets/controls",
            "_model_module_version": "1.5.0",
            "_model_name": "FloatProgressModel",
            "_view_count": null,
            "_view_module": "@jupyter-widgets/controls",
            "_view_module_version": "1.5.0",
            "_view_name": "ProgressView",
            "bar_style": "success",
            "description": "",
            "description_tooltip": null,
            "layout": "IPY_MODEL_303c1f46f88245aa826b151c9f547194",
            "max": 1,
            "min": 0,
            "orientation": "horizontal",
            "style": "IPY_MODEL_897c7058092f4aaea86804da12d0194e",
            "value": 1
          }
        },
        "ce82c2ac92a04ff9b14daf7d7b56049a": {
          "model_module": "@jupyter-widgets/controls",
          "model_name": "HTMLModel",
          "model_module_version": "1.5.0",
          "state": {
            "_dom_classes": [],
            "_model_module": "@jupyter-widgets/controls",
            "_model_module_version": "1.5.0",
            "_model_name": "HTMLModel",
            "_view_count": null,
            "_view_module": "@jupyter-widgets/controls",
            "_view_module_version": "1.5.0",
            "_view_name": "HTMLView",
            "description": "",
            "description_tooltip": null,
            "layout": "IPY_MODEL_27bd7cd128664b97bdee8d92d2f4dfe4",
            "placeholder": "​",
            "style": "IPY_MODEL_1455cc28304d462fa3ac01ee83b5cf89",
            "value": " 1.23k/? [00:00&lt;00:00, 94.8kB/s]"
          }
        },
        "0484a4d1dfc3450d952bfd7bbea0c86a": {
          "model_module": "@jupyter-widgets/base",
          "model_name": "LayoutModel",
          "model_module_version": "1.2.0",
          "state": {
            "_model_module": "@jupyter-widgets/base",
            "_model_module_version": "1.2.0",
            "_model_name": "LayoutModel",
            "_view_count": null,
            "_view_module": "@jupyter-widgets/base",
            "_view_module_version": "1.2.0",
            "_view_name": "LayoutView",
            "align_content": null,
            "align_items": null,
            "align_self": null,
            "border": null,
            "bottom": null,
            "display": null,
            "flex": null,
            "flex_flow": null,
            "grid_area": null,
            "grid_auto_columns": null,
            "grid_auto_flow": null,
            "grid_auto_rows": null,
            "grid_column": null,
            "grid_gap": null,
            "grid_row": null,
            "grid_template_areas": null,
            "grid_template_columns": null,
            "grid_template_rows": null,
            "height": null,
            "justify_content": null,
            "justify_items": null,
            "left": null,
            "margin": null,
            "max_height": null,
            "max_width": null,
            "min_height": null,
            "min_width": null,
            "object_fit": null,
            "object_position": null,
            "order": null,
            "overflow": null,
            "overflow_x": null,
            "overflow_y": null,
            "padding": null,
            "right": null,
            "top": null,
            "visibility": null,
            "width": null
          }
        },
        "fb9a50217a0a496e9bab98699b2de78f": {
          "model_module": "@jupyter-widgets/base",
          "model_name": "LayoutModel",
          "model_module_version": "1.2.0",
          "state": {
            "_model_module": "@jupyter-widgets/base",
            "_model_module_version": "1.2.0",
            "_model_name": "LayoutModel",
            "_view_count": null,
            "_view_module": "@jupyter-widgets/base",
            "_view_module_version": "1.2.0",
            "_view_name": "LayoutView",
            "align_content": null,
            "align_items": null,
            "align_self": null,
            "border": null,
            "bottom": null,
            "display": null,
            "flex": null,
            "flex_flow": null,
            "grid_area": null,
            "grid_auto_columns": null,
            "grid_auto_flow": null,
            "grid_auto_rows": null,
            "grid_column": null,
            "grid_gap": null,
            "grid_row": null,
            "grid_template_areas": null,
            "grid_template_columns": null,
            "grid_template_rows": null,
            "height": null,
            "justify_content": null,
            "justify_items": null,
            "left": null,
            "margin": null,
            "max_height": null,
            "max_width": null,
            "min_height": null,
            "min_width": null,
            "object_fit": null,
            "object_position": null,
            "order": null,
            "overflow": null,
            "overflow_x": null,
            "overflow_y": null,
            "padding": null,
            "right": null,
            "top": null,
            "visibility": null,
            "width": null
          }
        },
        "7e11dbde65014dffa1fe608b59f9bf59": {
          "model_module": "@jupyter-widgets/controls",
          "model_name": "DescriptionStyleModel",
          "model_module_version": "1.5.0",
          "state": {
            "_model_module": "@jupyter-widgets/controls",
            "_model_module_version": "1.5.0",
            "_model_name": "DescriptionStyleModel",
            "_view_count": null,
            "_view_module": "@jupyter-widgets/base",
            "_view_module_version": "1.2.0",
            "_view_name": "StyleView",
            "description_width": ""
          }
        },
        "303c1f46f88245aa826b151c9f547194": {
          "model_module": "@jupyter-widgets/base",
          "model_name": "LayoutModel",
          "model_module_version": "1.2.0",
          "state": {
            "_model_module": "@jupyter-widgets/base",
            "_model_module_version": "1.2.0",
            "_model_name": "LayoutModel",
            "_view_count": null,
            "_view_module": "@jupyter-widgets/base",
            "_view_module_version": "1.2.0",
            "_view_name": "LayoutView",
            "align_content": null,
            "align_items": null,
            "align_self": null,
            "border": null,
            "bottom": null,
            "display": null,
            "flex": null,
            "flex_flow": null,
            "grid_area": null,
            "grid_auto_columns": null,
            "grid_auto_flow": null,
            "grid_auto_rows": null,
            "grid_column": null,
            "grid_gap": null,
            "grid_row": null,
            "grid_template_areas": null,
            "grid_template_columns": null,
            "grid_template_rows": null,
            "height": null,
            "justify_content": null,
            "justify_items": null,
            "left": null,
            "margin": null,
            "max_height": null,
            "max_width": null,
            "min_height": null,
            "min_width": null,
            "object_fit": null,
            "object_position": null,
            "order": null,
            "overflow": null,
            "overflow_x": null,
            "overflow_y": null,
            "padding": null,
            "right": null,
            "top": null,
            "visibility": null,
            "width": "20px"
          }
        },
        "897c7058092f4aaea86804da12d0194e": {
          "model_module": "@jupyter-widgets/controls",
          "model_name": "ProgressStyleModel",
          "model_module_version": "1.5.0",
          "state": {
            "_model_module": "@jupyter-widgets/controls",
            "_model_module_version": "1.5.0",
            "_model_name": "ProgressStyleModel",
            "_view_count": null,
            "_view_module": "@jupyter-widgets/base",
            "_view_module_version": "1.2.0",
            "_view_name": "StyleView",
            "bar_color": null,
            "description_width": ""
          }
        },
        "27bd7cd128664b97bdee8d92d2f4dfe4": {
          "model_module": "@jupyter-widgets/base",
          "model_name": "LayoutModel",
          "model_module_version": "1.2.0",
          "state": {
            "_model_module": "@jupyter-widgets/base",
            "_model_module_version": "1.2.0",
            "_model_name": "LayoutModel",
            "_view_count": null,
            "_view_module": "@jupyter-widgets/base",
            "_view_module_version": "1.2.0",
            "_view_name": "LayoutView",
            "align_content": null,
            "align_items": null,
            "align_self": null,
            "border": null,
            "bottom": null,
            "display": null,
            "flex": null,
            "flex_flow": null,
            "grid_area": null,
            "grid_auto_columns": null,
            "grid_auto_flow": null,
            "grid_auto_rows": null,
            "grid_column": null,
            "grid_gap": null,
            "grid_row": null,
            "grid_template_areas": null,
            "grid_template_columns": null,
            "grid_template_rows": null,
            "height": null,
            "justify_content": null,
            "justify_items": null,
            "left": null,
            "margin": null,
            "max_height": null,
            "max_width": null,
            "min_height": null,
            "min_width": null,
            "object_fit": null,
            "object_position": null,
            "order": null,
            "overflow": null,
            "overflow_x": null,
            "overflow_y": null,
            "padding": null,
            "right": null,
            "top": null,
            "visibility": null,
            "width": null
          }
        },
        "1455cc28304d462fa3ac01ee83b5cf89": {
          "model_module": "@jupyter-widgets/controls",
          "model_name": "DescriptionStyleModel",
          "model_module_version": "1.5.0",
          "state": {
            "_model_module": "@jupyter-widgets/controls",
            "_model_module_version": "1.5.0",
            "_model_name": "DescriptionStyleModel",
            "_view_count": null,
            "_view_module": "@jupyter-widgets/base",
            "_view_module_version": "1.2.0",
            "_view_name": "StyleView",
            "description_width": ""
          }
        },
        "81acf636f2354331a521fa25d390ae72": {
          "model_module": "@jupyter-widgets/controls",
          "model_name": "HBoxModel",
          "model_module_version": "1.5.0",
          "state": {
            "_dom_classes": [],
            "_model_module": "@jupyter-widgets/controls",
            "_model_module_version": "1.5.0",
            "_model_name": "HBoxModel",
            "_view_count": null,
            "_view_module": "@jupyter-widgets/controls",
            "_view_module_version": "1.5.0",
            "_view_name": "HBoxView",
            "box_style": "",
            "children": [
              "IPY_MODEL_e0ddc55a219d4a72b7a9c143f979b9ed",
              "IPY_MODEL_0c85a2f195e6446bacec13ea0ecd6588",
              "IPY_MODEL_8640e6b06e304c1e8cc3033a176b2939"
            ],
            "layout": "IPY_MODEL_2cd55a4756444f8fb3e9c6835bda10cf"
          }
        },
        "e0ddc55a219d4a72b7a9c143f979b9ed": {
          "model_module": "@jupyter-widgets/controls",
          "model_name": "HTMLModel",
          "model_module_version": "1.5.0",
          "state": {
            "_dom_classes": [],
            "_model_module": "@jupyter-widgets/controls",
            "_model_module_version": "1.5.0",
            "_model_name": "HTMLModel",
            "_view_count": null,
            "_view_module": "@jupyter-widgets/controls",
            "_view_module_version": "1.5.0",
            "_view_name": "HTMLView",
            "description": "",
            "description_tooltip": null,
            "layout": "IPY_MODEL_ff56f14019a44e359aec20183573c847",
            "placeholder": "​",
            "style": "IPY_MODEL_5cd16666586d40b5a4a5d2f6bbca07a5",
            "value": "model.safetensors: 100%"
          }
        },
        "0c85a2f195e6446bacec13ea0ecd6588": {
          "model_module": "@jupyter-widgets/controls",
          "model_name": "FloatProgressModel",
          "model_module_version": "1.5.0",
          "state": {
            "_dom_classes": [],
            "_model_module": "@jupyter-widgets/controls",
            "_model_module_version": "1.5.0",
            "_model_name": "FloatProgressModel",
            "_view_count": null,
            "_view_module": "@jupyter-widgets/controls",
            "_view_module_version": "1.5.0",
            "_view_name": "ProgressView",
            "bar_style": "success",
            "description": "",
            "description_tooltip": null,
            "layout": "IPY_MODEL_fdf9eacb1064462b9bbeae338da8dc0e",
            "max": 1187738330,
            "min": 0,
            "orientation": "horizontal",
            "style": "IPY_MODEL_bf198ac02b914c429fa31fd9efc6994f",
            "value": 1187738330
          }
        },
        "8640e6b06e304c1e8cc3033a176b2939": {
          "model_module": "@jupyter-widgets/controls",
          "model_name": "HTMLModel",
          "model_module_version": "1.5.0",
          "state": {
            "_dom_classes": [],
            "_model_module": "@jupyter-widgets/controls",
            "_model_module_version": "1.5.0",
            "_model_name": "HTMLModel",
            "_view_count": null,
            "_view_module": "@jupyter-widgets/controls",
            "_view_module_version": "1.5.0",
            "_view_name": "HTMLView",
            "description": "",
            "description_tooltip": null,
            "layout": "IPY_MODEL_f0a2a079a60546119be91e1d79f1b913",
            "placeholder": "​",
            "style": "IPY_MODEL_435318dbfb254545b6d1e594466b28b1",
            "value": " 1.19G/1.19G [00:27&lt;00:00, 34.9MB/s]"
          }
        },
        "2cd55a4756444f8fb3e9c6835bda10cf": {
          "model_module": "@jupyter-widgets/base",
          "model_name": "LayoutModel",
          "model_module_version": "1.2.0",
          "state": {
            "_model_module": "@jupyter-widgets/base",
            "_model_module_version": "1.2.0",
            "_model_name": "LayoutModel",
            "_view_count": null,
            "_view_module": "@jupyter-widgets/base",
            "_view_module_version": "1.2.0",
            "_view_name": "LayoutView",
            "align_content": null,
            "align_items": null,
            "align_self": null,
            "border": null,
            "bottom": null,
            "display": null,
            "flex": null,
            "flex_flow": null,
            "grid_area": null,
            "grid_auto_columns": null,
            "grid_auto_flow": null,
            "grid_auto_rows": null,
            "grid_column": null,
            "grid_gap": null,
            "grid_row": null,
            "grid_template_areas": null,
            "grid_template_columns": null,
            "grid_template_rows": null,
            "height": null,
            "justify_content": null,
            "justify_items": null,
            "left": null,
            "margin": null,
            "max_height": null,
            "max_width": null,
            "min_height": null,
            "min_width": null,
            "object_fit": null,
            "object_position": null,
            "order": null,
            "overflow": null,
            "overflow_x": null,
            "overflow_y": null,
            "padding": null,
            "right": null,
            "top": null,
            "visibility": null,
            "width": null
          }
        },
        "ff56f14019a44e359aec20183573c847": {
          "model_module": "@jupyter-widgets/base",
          "model_name": "LayoutModel",
          "model_module_version": "1.2.0",
          "state": {
            "_model_module": "@jupyter-widgets/base",
            "_model_module_version": "1.2.0",
            "_model_name": "LayoutModel",
            "_view_count": null,
            "_view_module": "@jupyter-widgets/base",
            "_view_module_version": "1.2.0",
            "_view_name": "LayoutView",
            "align_content": null,
            "align_items": null,
            "align_self": null,
            "border": null,
            "bottom": null,
            "display": null,
            "flex": null,
            "flex_flow": null,
            "grid_area": null,
            "grid_auto_columns": null,
            "grid_auto_flow": null,
            "grid_auto_rows": null,
            "grid_column": null,
            "grid_gap": null,
            "grid_row": null,
            "grid_template_areas": null,
            "grid_template_columns": null,
            "grid_template_rows": null,
            "height": null,
            "justify_content": null,
            "justify_items": null,
            "left": null,
            "margin": null,
            "max_height": null,
            "max_width": null,
            "min_height": null,
            "min_width": null,
            "object_fit": null,
            "object_position": null,
            "order": null,
            "overflow": null,
            "overflow_x": null,
            "overflow_y": null,
            "padding": null,
            "right": null,
            "top": null,
            "visibility": null,
            "width": null
          }
        },
        "5cd16666586d40b5a4a5d2f6bbca07a5": {
          "model_module": "@jupyter-widgets/controls",
          "model_name": "DescriptionStyleModel",
          "model_module_version": "1.5.0",
          "state": {
            "_model_module": "@jupyter-widgets/controls",
            "_model_module_version": "1.5.0",
            "_model_name": "DescriptionStyleModel",
            "_view_count": null,
            "_view_module": "@jupyter-widgets/base",
            "_view_module_version": "1.2.0",
            "_view_name": "StyleView",
            "description_width": ""
          }
        },
        "fdf9eacb1064462b9bbeae338da8dc0e": {
          "model_module": "@jupyter-widgets/base",
          "model_name": "LayoutModel",
          "model_module_version": "1.2.0",
          "state": {
            "_model_module": "@jupyter-widgets/base",
            "_model_module_version": "1.2.0",
            "_model_name": "LayoutModel",
            "_view_count": null,
            "_view_module": "@jupyter-widgets/base",
            "_view_module_version": "1.2.0",
            "_view_name": "LayoutView",
            "align_content": null,
            "align_items": null,
            "align_self": null,
            "border": null,
            "bottom": null,
            "display": null,
            "flex": null,
            "flex_flow": null,
            "grid_area": null,
            "grid_auto_columns": null,
            "grid_auto_flow": null,
            "grid_auto_rows": null,
            "grid_column": null,
            "grid_gap": null,
            "grid_row": null,
            "grid_template_areas": null,
            "grid_template_columns": null,
            "grid_template_rows": null,
            "height": null,
            "justify_content": null,
            "justify_items": null,
            "left": null,
            "margin": null,
            "max_height": null,
            "max_width": null,
            "min_height": null,
            "min_width": null,
            "object_fit": null,
            "object_position": null,
            "order": null,
            "overflow": null,
            "overflow_x": null,
            "overflow_y": null,
            "padding": null,
            "right": null,
            "top": null,
            "visibility": null,
            "width": null
          }
        },
        "bf198ac02b914c429fa31fd9efc6994f": {
          "model_module": "@jupyter-widgets/controls",
          "model_name": "ProgressStyleModel",
          "model_module_version": "1.5.0",
          "state": {
            "_model_module": "@jupyter-widgets/controls",
            "_model_module_version": "1.5.0",
            "_model_name": "ProgressStyleModel",
            "_view_count": null,
            "_view_module": "@jupyter-widgets/base",
            "_view_module_version": "1.2.0",
            "_view_name": "StyleView",
            "bar_color": null,
            "description_width": ""
          }
        },
        "f0a2a079a60546119be91e1d79f1b913": {
          "model_module": "@jupyter-widgets/base",
          "model_name": "LayoutModel",
          "model_module_version": "1.2.0",
          "state": {
            "_model_module": "@jupyter-widgets/base",
            "_model_module_version": "1.2.0",
            "_model_name": "LayoutModel",
            "_view_count": null,
            "_view_module": "@jupyter-widgets/base",
            "_view_module_version": "1.2.0",
            "_view_name": "LayoutView",
            "align_content": null,
            "align_items": null,
            "align_self": null,
            "border": null,
            "bottom": null,
            "display": null,
            "flex": null,
            "flex_flow": null,
            "grid_area": null,
            "grid_auto_columns": null,
            "grid_auto_flow": null,
            "grid_auto_rows": null,
            "grid_column": null,
            "grid_gap": null,
            "grid_row": null,
            "grid_template_areas": null,
            "grid_template_columns": null,
            "grid_template_rows": null,
            "height": null,
            "justify_content": null,
            "justify_items": null,
            "left": null,
            "margin": null,
            "max_height": null,
            "max_width": null,
            "min_height": null,
            "min_width": null,
            "object_fit": null,
            "object_position": null,
            "order": null,
            "overflow": null,
            "overflow_x": null,
            "overflow_y": null,
            "padding": null,
            "right": null,
            "top": null,
            "visibility": null,
            "width": null
          }
        },
        "435318dbfb254545b6d1e594466b28b1": {
          "model_module": "@jupyter-widgets/controls",
          "model_name": "DescriptionStyleModel",
          "model_module_version": "1.5.0",
          "state": {
            "_model_module": "@jupyter-widgets/controls",
            "_model_module_version": "1.5.0",
            "_model_name": "DescriptionStyleModel",
            "_view_count": null,
            "_view_module": "@jupyter-widgets/base",
            "_view_module_version": "1.2.0",
            "_view_name": "StyleView",
            "description_width": ""
          }
        },
        "1adebe1c4083410e9c56bebb9de27dfa": {
          "model_module": "@jupyter-widgets/controls",
          "model_name": "HBoxModel",
          "model_module_version": "1.5.0",
          "state": {
            "_dom_classes": [],
            "_model_module": "@jupyter-widgets/controls",
            "_model_module_version": "1.5.0",
            "_model_name": "HBoxModel",
            "_view_count": null,
            "_view_module": "@jupyter-widgets/controls",
            "_view_module_version": "1.5.0",
            "_view_name": "HBoxView",
            "box_style": "",
            "children": [
              "IPY_MODEL_ce3ba4d366654b3484ca7f250840255f",
              "IPY_MODEL_15e63abad69f4bbbabe0b6012ac4e69d",
              "IPY_MODEL_d7d2a34622534d859f879b122140f806"
            ],
            "layout": "IPY_MODEL_36c8238b2ece4471a6b8d65a6165a0ea"
          }
        },
        "ce3ba4d366654b3484ca7f250840255f": {
          "model_module": "@jupyter-widgets/controls",
          "model_name": "HTMLModel",
          "model_module_version": "1.5.0",
          "state": {
            "_dom_classes": [],
            "_model_module": "@jupyter-widgets/controls",
            "_model_module_version": "1.5.0",
            "_model_name": "HTMLModel",
            "_view_count": null,
            "_view_module": "@jupyter-widgets/controls",
            "_view_module_version": "1.5.0",
            "_view_name": "HTMLView",
            "description": "",
            "description_tooltip": null,
            "layout": "IPY_MODEL_6b56deceb0284a45ab8cb0e2c8216f88",
            "placeholder": "​",
            "style": "IPY_MODEL_3346d2d64ea74e2fb04c491ee793060d",
            "value": "tokenizer_config.json: 100%"
          }
        },
        "15e63abad69f4bbbabe0b6012ac4e69d": {
          "model_module": "@jupyter-widgets/controls",
          "model_name": "FloatProgressModel",
          "model_module_version": "1.5.0",
          "state": {
            "_dom_classes": [],
            "_model_module": "@jupyter-widgets/controls",
            "_model_module_version": "1.5.0",
            "_model_name": "FloatProgressModel",
            "_view_count": null,
            "_view_module": "@jupyter-widgets/controls",
            "_view_module_version": "1.5.0",
            "_view_name": "ProgressView",
            "bar_style": "success",
            "description": "",
            "description_tooltip": null,
            "layout": "IPY_MODEL_732126728b86473abc04fd4bbbc96cee",
            "max": 25,
            "min": 0,
            "orientation": "horizontal",
            "style": "IPY_MODEL_e1f3e5fc6bbf48329e7a1921d6319e02",
            "value": 25
          }
        },
        "d7d2a34622534d859f879b122140f806": {
          "model_module": "@jupyter-widgets/controls",
          "model_name": "HTMLModel",
          "model_module_version": "1.5.0",
          "state": {
            "_dom_classes": [],
            "_model_module": "@jupyter-widgets/controls",
            "_model_module_version": "1.5.0",
            "_model_name": "HTMLModel",
            "_view_count": null,
            "_view_module": "@jupyter-widgets/controls",
            "_view_module_version": "1.5.0",
            "_view_name": "HTMLView",
            "description": "",
            "description_tooltip": null,
            "layout": "IPY_MODEL_9316b10836884d1cad1818bb1b1ad15f",
            "placeholder": "​",
            "style": "IPY_MODEL_d8f8bd20abd34dfe95c160bb1f6ef207",
            "value": " 25.0/25.0 [00:00&lt;00:00, 2.18kB/s]"
          }
        },
        "36c8238b2ece4471a6b8d65a6165a0ea": {
          "model_module": "@jupyter-widgets/base",
          "model_name": "LayoutModel",
          "model_module_version": "1.2.0",
          "state": {
            "_model_module": "@jupyter-widgets/base",
            "_model_module_version": "1.2.0",
            "_model_name": "LayoutModel",
            "_view_count": null,
            "_view_module": "@jupyter-widgets/base",
            "_view_module_version": "1.2.0",
            "_view_name": "LayoutView",
            "align_content": null,
            "align_items": null,
            "align_self": null,
            "border": null,
            "bottom": null,
            "display": null,
            "flex": null,
            "flex_flow": null,
            "grid_area": null,
            "grid_auto_columns": null,
            "grid_auto_flow": null,
            "grid_auto_rows": null,
            "grid_column": null,
            "grid_gap": null,
            "grid_row": null,
            "grid_template_areas": null,
            "grid_template_columns": null,
            "grid_template_rows": null,
            "height": null,
            "justify_content": null,
            "justify_items": null,
            "left": null,
            "margin": null,
            "max_height": null,
            "max_width": null,
            "min_height": null,
            "min_width": null,
            "object_fit": null,
            "object_position": null,
            "order": null,
            "overflow": null,
            "overflow_x": null,
            "overflow_y": null,
            "padding": null,
            "right": null,
            "top": null,
            "visibility": null,
            "width": null
          }
        },
        "6b56deceb0284a45ab8cb0e2c8216f88": {
          "model_module": "@jupyter-widgets/base",
          "model_name": "LayoutModel",
          "model_module_version": "1.2.0",
          "state": {
            "_model_module": "@jupyter-widgets/base",
            "_model_module_version": "1.2.0",
            "_model_name": "LayoutModel",
            "_view_count": null,
            "_view_module": "@jupyter-widgets/base",
            "_view_module_version": "1.2.0",
            "_view_name": "LayoutView",
            "align_content": null,
            "align_items": null,
            "align_self": null,
            "border": null,
            "bottom": null,
            "display": null,
            "flex": null,
            "flex_flow": null,
            "grid_area": null,
            "grid_auto_columns": null,
            "grid_auto_flow": null,
            "grid_auto_rows": null,
            "grid_column": null,
            "grid_gap": null,
            "grid_row": null,
            "grid_template_areas": null,
            "grid_template_columns": null,
            "grid_template_rows": null,
            "height": null,
            "justify_content": null,
            "justify_items": null,
            "left": null,
            "margin": null,
            "max_height": null,
            "max_width": null,
            "min_height": null,
            "min_width": null,
            "object_fit": null,
            "object_position": null,
            "order": null,
            "overflow": null,
            "overflow_x": null,
            "overflow_y": null,
            "padding": null,
            "right": null,
            "top": null,
            "visibility": null,
            "width": null
          }
        },
        "3346d2d64ea74e2fb04c491ee793060d": {
          "model_module": "@jupyter-widgets/controls",
          "model_name": "DescriptionStyleModel",
          "model_module_version": "1.5.0",
          "state": {
            "_model_module": "@jupyter-widgets/controls",
            "_model_module_version": "1.5.0",
            "_model_name": "DescriptionStyleModel",
            "_view_count": null,
            "_view_module": "@jupyter-widgets/base",
            "_view_module_version": "1.2.0",
            "_view_name": "StyleView",
            "description_width": ""
          }
        },
        "732126728b86473abc04fd4bbbc96cee": {
          "model_module": "@jupyter-widgets/base",
          "model_name": "LayoutModel",
          "model_module_version": "1.2.0",
          "state": {
            "_model_module": "@jupyter-widgets/base",
            "_model_module_version": "1.2.0",
            "_model_name": "LayoutModel",
            "_view_count": null,
            "_view_module": "@jupyter-widgets/base",
            "_view_module_version": "1.2.0",
            "_view_name": "LayoutView",
            "align_content": null,
            "align_items": null,
            "align_self": null,
            "border": null,
            "bottom": null,
            "display": null,
            "flex": null,
            "flex_flow": null,
            "grid_area": null,
            "grid_auto_columns": null,
            "grid_auto_flow": null,
            "grid_auto_rows": null,
            "grid_column": null,
            "grid_gap": null,
            "grid_row": null,
            "grid_template_areas": null,
            "grid_template_columns": null,
            "grid_template_rows": null,
            "height": null,
            "justify_content": null,
            "justify_items": null,
            "left": null,
            "margin": null,
            "max_height": null,
            "max_width": null,
            "min_height": null,
            "min_width": null,
            "object_fit": null,
            "object_position": null,
            "order": null,
            "overflow": null,
            "overflow_x": null,
            "overflow_y": null,
            "padding": null,
            "right": null,
            "top": null,
            "visibility": null,
            "width": null
          }
        },
        "e1f3e5fc6bbf48329e7a1921d6319e02": {
          "model_module": "@jupyter-widgets/controls",
          "model_name": "ProgressStyleModel",
          "model_module_version": "1.5.0",
          "state": {
            "_model_module": "@jupyter-widgets/controls",
            "_model_module_version": "1.5.0",
            "_model_name": "ProgressStyleModel",
            "_view_count": null,
            "_view_module": "@jupyter-widgets/base",
            "_view_module_version": "1.2.0",
            "_view_name": "StyleView",
            "bar_color": null,
            "description_width": ""
          }
        },
        "9316b10836884d1cad1818bb1b1ad15f": {
          "model_module": "@jupyter-widgets/base",
          "model_name": "LayoutModel",
          "model_module_version": "1.2.0",
          "state": {
            "_model_module": "@jupyter-widgets/base",
            "_model_module_version": "1.2.0",
            "_model_name": "LayoutModel",
            "_view_count": null,
            "_view_module": "@jupyter-widgets/base",
            "_view_module_version": "1.2.0",
            "_view_name": "LayoutView",
            "align_content": null,
            "align_items": null,
            "align_self": null,
            "border": null,
            "bottom": null,
            "display": null,
            "flex": null,
            "flex_flow": null,
            "grid_area": null,
            "grid_auto_columns": null,
            "grid_auto_flow": null,
            "grid_auto_rows": null,
            "grid_column": null,
            "grid_gap": null,
            "grid_row": null,
            "grid_template_areas": null,
            "grid_template_columns": null,
            "grid_template_rows": null,
            "height": null,
            "justify_content": null,
            "justify_items": null,
            "left": null,
            "margin": null,
            "max_height": null,
            "max_width": null,
            "min_height": null,
            "min_width": null,
            "object_fit": null,
            "object_position": null,
            "order": null,
            "overflow": null,
            "overflow_x": null,
            "overflow_y": null,
            "padding": null,
            "right": null,
            "top": null,
            "visibility": null,
            "width": null
          }
        },
        "d8f8bd20abd34dfe95c160bb1f6ef207": {
          "model_module": "@jupyter-widgets/controls",
          "model_name": "DescriptionStyleModel",
          "model_module_version": "1.5.0",
          "state": {
            "_model_module": "@jupyter-widgets/controls",
            "_model_module_version": "1.5.0",
            "_model_name": "DescriptionStyleModel",
            "_view_count": null,
            "_view_module": "@jupyter-widgets/base",
            "_view_module_version": "1.2.0",
            "_view_name": "StyleView",
            "description_width": ""
          }
        },
        "a6207e004ead4d12b3446724d63a2cf8": {
          "model_module": "@jupyter-widgets/controls",
          "model_name": "HBoxModel",
          "model_module_version": "1.5.0",
          "state": {
            "_dom_classes": [],
            "_model_module": "@jupyter-widgets/controls",
            "_model_module_version": "1.5.0",
            "_model_name": "HBoxModel",
            "_view_count": null,
            "_view_module": "@jupyter-widgets/controls",
            "_view_module_version": "1.5.0",
            "_view_name": "HBoxView",
            "box_style": "",
            "children": [
              "IPY_MODEL_9a65d9f330d04e5da6d50322efddb9dc",
              "IPY_MODEL_acc72df7f96143a8bd7c1d972622008c",
              "IPY_MODEL_731f4e58d5cd403e83473cc42c6125e3"
            ],
            "layout": "IPY_MODEL_b13c9f176a314143a1db196ccfb2d8a0"
          }
        },
        "9a65d9f330d04e5da6d50322efddb9dc": {
          "model_module": "@jupyter-widgets/controls",
          "model_name": "HTMLModel",
          "model_module_version": "1.5.0",
          "state": {
            "_dom_classes": [],
            "_model_module": "@jupyter-widgets/controls",
            "_model_module_version": "1.5.0",
            "_model_name": "HTMLModel",
            "_view_count": null,
            "_view_module": "@jupyter-widgets/controls",
            "_view_module_version": "1.5.0",
            "_view_name": "HTMLView",
            "description": "",
            "description_tooltip": null,
            "layout": "IPY_MODEL_42a4948e8b9b4f5d999419cc442eac50",
            "placeholder": "​",
            "style": "IPY_MODEL_3d3f8fac41304841820aca2426ab2c04",
            "value": "spiece.model: 100%"
          }
        },
        "acc72df7f96143a8bd7c1d972622008c": {
          "model_module": "@jupyter-widgets/controls",
          "model_name": "FloatProgressModel",
          "model_module_version": "1.5.0",
          "state": {
            "_dom_classes": [],
            "_model_module": "@jupyter-widgets/controls",
            "_model_module_version": "1.5.0",
            "_model_name": "FloatProgressModel",
            "_view_count": null,
            "_view_module": "@jupyter-widgets/controls",
            "_view_module_version": "1.5.0",
            "_view_name": "ProgressView",
            "bar_style": "success",
            "description": "",
            "description_tooltip": null,
            "layout": "IPY_MODEL_487bed19494a44d3a520f7b1600fb5b0",
            "max": 791656,
            "min": 0,
            "orientation": "horizontal",
            "style": "IPY_MODEL_836eee149696407392472fe39a40fff9",
            "value": 791656
          }
        },
        "731f4e58d5cd403e83473cc42c6125e3": {
          "model_module": "@jupyter-widgets/controls",
          "model_name": "HTMLModel",
          "model_module_version": "1.5.0",
          "state": {
            "_dom_classes": [],
            "_model_module": "@jupyter-widgets/controls",
            "_model_module_version": "1.5.0",
            "_model_name": "HTMLModel",
            "_view_count": null,
            "_view_module": "@jupyter-widgets/controls",
            "_view_module_version": "1.5.0",
            "_view_name": "HTMLView",
            "description": "",
            "description_tooltip": null,
            "layout": "IPY_MODEL_f70f065e0c46475ba3dbfee404f4ce17",
            "placeholder": "​",
            "style": "IPY_MODEL_f99dbc10993b498c8513073b97a264ee",
            "value": " 792k/792k [00:00&lt;00:00, 7.89MB/s]"
          }
        },
        "b13c9f176a314143a1db196ccfb2d8a0": {
          "model_module": "@jupyter-widgets/base",
          "model_name": "LayoutModel",
          "model_module_version": "1.2.0",
          "state": {
            "_model_module": "@jupyter-widgets/base",
            "_model_module_version": "1.2.0",
            "_model_name": "LayoutModel",
            "_view_count": null,
            "_view_module": "@jupyter-widgets/base",
            "_view_module_version": "1.2.0",
            "_view_name": "LayoutView",
            "align_content": null,
            "align_items": null,
            "align_self": null,
            "border": null,
            "bottom": null,
            "display": null,
            "flex": null,
            "flex_flow": null,
            "grid_area": null,
            "grid_auto_columns": null,
            "grid_auto_flow": null,
            "grid_auto_rows": null,
            "grid_column": null,
            "grid_gap": null,
            "grid_row": null,
            "grid_template_areas": null,
            "grid_template_columns": null,
            "grid_template_rows": null,
            "height": null,
            "justify_content": null,
            "justify_items": null,
            "left": null,
            "margin": null,
            "max_height": null,
            "max_width": null,
            "min_height": null,
            "min_width": null,
            "object_fit": null,
            "object_position": null,
            "order": null,
            "overflow": null,
            "overflow_x": null,
            "overflow_y": null,
            "padding": null,
            "right": null,
            "top": null,
            "visibility": null,
            "width": null
          }
        },
        "42a4948e8b9b4f5d999419cc442eac50": {
          "model_module": "@jupyter-widgets/base",
          "model_name": "LayoutModel",
          "model_module_version": "1.2.0",
          "state": {
            "_model_module": "@jupyter-widgets/base",
            "_model_module_version": "1.2.0",
            "_model_name": "LayoutModel",
            "_view_count": null,
            "_view_module": "@jupyter-widgets/base",
            "_view_module_version": "1.2.0",
            "_view_name": "LayoutView",
            "align_content": null,
            "align_items": null,
            "align_self": null,
            "border": null,
            "bottom": null,
            "display": null,
            "flex": null,
            "flex_flow": null,
            "grid_area": null,
            "grid_auto_columns": null,
            "grid_auto_flow": null,
            "grid_auto_rows": null,
            "grid_column": null,
            "grid_gap": null,
            "grid_row": null,
            "grid_template_areas": null,
            "grid_template_columns": null,
            "grid_template_rows": null,
            "height": null,
            "justify_content": null,
            "justify_items": null,
            "left": null,
            "margin": null,
            "max_height": null,
            "max_width": null,
            "min_height": null,
            "min_width": null,
            "object_fit": null,
            "object_position": null,
            "order": null,
            "overflow": null,
            "overflow_x": null,
            "overflow_y": null,
            "padding": null,
            "right": null,
            "top": null,
            "visibility": null,
            "width": null
          }
        },
        "3d3f8fac41304841820aca2426ab2c04": {
          "model_module": "@jupyter-widgets/controls",
          "model_name": "DescriptionStyleModel",
          "model_module_version": "1.5.0",
          "state": {
            "_model_module": "@jupyter-widgets/controls",
            "_model_module_version": "1.5.0",
            "_model_name": "DescriptionStyleModel",
            "_view_count": null,
            "_view_module": "@jupyter-widgets/base",
            "_view_module_version": "1.2.0",
            "_view_name": "StyleView",
            "description_width": ""
          }
        },
        "487bed19494a44d3a520f7b1600fb5b0": {
          "model_module": "@jupyter-widgets/base",
          "model_name": "LayoutModel",
          "model_module_version": "1.2.0",
          "state": {
            "_model_module": "@jupyter-widgets/base",
            "_model_module_version": "1.2.0",
            "_model_name": "LayoutModel",
            "_view_count": null,
            "_view_module": "@jupyter-widgets/base",
            "_view_module_version": "1.2.0",
            "_view_name": "LayoutView",
            "align_content": null,
            "align_items": null,
            "align_self": null,
            "border": null,
            "bottom": null,
            "display": null,
            "flex": null,
            "flex_flow": null,
            "grid_area": null,
            "grid_auto_columns": null,
            "grid_auto_flow": null,
            "grid_auto_rows": null,
            "grid_column": null,
            "grid_gap": null,
            "grid_row": null,
            "grid_template_areas": null,
            "grid_template_columns": null,
            "grid_template_rows": null,
            "height": null,
            "justify_content": null,
            "justify_items": null,
            "left": null,
            "margin": null,
            "max_height": null,
            "max_width": null,
            "min_height": null,
            "min_width": null,
            "object_fit": null,
            "object_position": null,
            "order": null,
            "overflow": null,
            "overflow_x": null,
            "overflow_y": null,
            "padding": null,
            "right": null,
            "top": null,
            "visibility": null,
            "width": null
          }
        },
        "836eee149696407392472fe39a40fff9": {
          "model_module": "@jupyter-widgets/controls",
          "model_name": "ProgressStyleModel",
          "model_module_version": "1.5.0",
          "state": {
            "_model_module": "@jupyter-widgets/controls",
            "_model_module_version": "1.5.0",
            "_model_name": "ProgressStyleModel",
            "_view_count": null,
            "_view_module": "@jupyter-widgets/base",
            "_view_module_version": "1.2.0",
            "_view_name": "StyleView",
            "bar_color": null,
            "description_width": ""
          }
        },
        "f70f065e0c46475ba3dbfee404f4ce17": {
          "model_module": "@jupyter-widgets/base",
          "model_name": "LayoutModel",
          "model_module_version": "1.2.0",
          "state": {
            "_model_module": "@jupyter-widgets/base",
            "_model_module_version": "1.2.0",
            "_model_name": "LayoutModel",
            "_view_count": null,
            "_view_module": "@jupyter-widgets/base",
            "_view_module_version": "1.2.0",
            "_view_name": "LayoutView",
            "align_content": null,
            "align_items": null,
            "align_self": null,
            "border": null,
            "bottom": null,
            "display": null,
            "flex": null,
            "flex_flow": null,
            "grid_area": null,
            "grid_auto_columns": null,
            "grid_auto_flow": null,
            "grid_auto_rows": null,
            "grid_column": null,
            "grid_gap": null,
            "grid_row": null,
            "grid_template_areas": null,
            "grid_template_columns": null,
            "grid_template_rows": null,
            "height": null,
            "justify_content": null,
            "justify_items": null,
            "left": null,
            "margin": null,
            "max_height": null,
            "max_width": null,
            "min_height": null,
            "min_width": null,
            "object_fit": null,
            "object_position": null,
            "order": null,
            "overflow": null,
            "overflow_x": null,
            "overflow_y": null,
            "padding": null,
            "right": null,
            "top": null,
            "visibility": null,
            "width": null
          }
        },
        "f99dbc10993b498c8513073b97a264ee": {
          "model_module": "@jupyter-widgets/controls",
          "model_name": "DescriptionStyleModel",
          "model_module_version": "1.5.0",
          "state": {
            "_model_module": "@jupyter-widgets/controls",
            "_model_module_version": "1.5.0",
            "_model_name": "DescriptionStyleModel",
            "_view_count": null,
            "_view_module": "@jupyter-widgets/base",
            "_view_module_version": "1.2.0",
            "_view_name": "StyleView",
            "description_width": ""
          }
        },
        "70d40b0a44744c69b3dc516c5a30ea38": {
          "model_module": "@jupyter-widgets/controls",
          "model_name": "HBoxModel",
          "model_module_version": "1.5.0",
          "state": {
            "_dom_classes": [],
            "_model_module": "@jupyter-widgets/controls",
            "_model_module_version": "1.5.0",
            "_model_name": "HBoxModel",
            "_view_count": null,
            "_view_module": "@jupyter-widgets/controls",
            "_view_module_version": "1.5.0",
            "_view_name": "HBoxView",
            "box_style": "",
            "children": [
              "IPY_MODEL_6ef95203c3f94395993376342b959be5",
              "IPY_MODEL_8654e1662a3e4ba69004939f459a859d",
              "IPY_MODEL_512fc1056eb241afa775bd0a993918d0"
            ],
            "layout": "IPY_MODEL_8b535f3c3da344d4bc191a19f5554104"
          }
        },
        "6ef95203c3f94395993376342b959be5": {
          "model_module": "@jupyter-widgets/controls",
          "model_name": "HTMLModel",
          "model_module_version": "1.5.0",
          "state": {
            "_dom_classes": [],
            "_model_module": "@jupyter-widgets/controls",
            "_model_module_version": "1.5.0",
            "_model_name": "HTMLModel",
            "_view_count": null,
            "_view_module": "@jupyter-widgets/controls",
            "_view_module_version": "1.5.0",
            "_view_name": "HTMLView",
            "description": "",
            "description_tooltip": null,
            "layout": "IPY_MODEL_357f54b127664d3e874dc8cd0db810b8",
            "placeholder": "​",
            "style": "IPY_MODEL_795ece1bc9d44e1199f7bad82f1cca7e",
            "value": "special_tokens_map.json: "
          }
        },
        "8654e1662a3e4ba69004939f459a859d": {
          "model_module": "@jupyter-widgets/controls",
          "model_name": "FloatProgressModel",
          "model_module_version": "1.5.0",
          "state": {
            "_dom_classes": [],
            "_model_module": "@jupyter-widgets/controls",
            "_model_module_version": "1.5.0",
            "_model_name": "FloatProgressModel",
            "_view_count": null,
            "_view_module": "@jupyter-widgets/controls",
            "_view_module_version": "1.5.0",
            "_view_name": "ProgressView",
            "bar_style": "success",
            "description": "",
            "description_tooltip": null,
            "layout": "IPY_MODEL_0ec10fa15b63413c82c96786f5ead9dc",
            "max": 1,
            "min": 0,
            "orientation": "horizontal",
            "style": "IPY_MODEL_a104898d20704f759fdb7f410c80db8a",
            "value": 1
          }
        },
        "512fc1056eb241afa775bd0a993918d0": {
          "model_module": "@jupyter-widgets/controls",
          "model_name": "HTMLModel",
          "model_module_version": "1.5.0",
          "state": {
            "_dom_classes": [],
            "_model_module": "@jupyter-widgets/controls",
            "_model_module_version": "1.5.0",
            "_model_name": "HTMLModel",
            "_view_count": null,
            "_view_module": "@jupyter-widgets/controls",
            "_view_module_version": "1.5.0",
            "_view_name": "HTMLView",
            "description": "",
            "description_tooltip": null,
            "layout": "IPY_MODEL_7f7b3bc7fca24290b1b3a7babc50ed83",
            "placeholder": "​",
            "style": "IPY_MODEL_c544feeb160b45089cccf097cbc4dc03",
            "value": " 1.79k/? [00:00&lt;00:00, 114kB/s]"
          }
        },
        "8b535f3c3da344d4bc191a19f5554104": {
          "model_module": "@jupyter-widgets/base",
          "model_name": "LayoutModel",
          "model_module_version": "1.2.0",
          "state": {
            "_model_module": "@jupyter-widgets/base",
            "_model_module_version": "1.2.0",
            "_model_name": "LayoutModel",
            "_view_count": null,
            "_view_module": "@jupyter-widgets/base",
            "_view_module_version": "1.2.0",
            "_view_name": "LayoutView",
            "align_content": null,
            "align_items": null,
            "align_self": null,
            "border": null,
            "bottom": null,
            "display": null,
            "flex": null,
            "flex_flow": null,
            "grid_area": null,
            "grid_auto_columns": null,
            "grid_auto_flow": null,
            "grid_auto_rows": null,
            "grid_column": null,
            "grid_gap": null,
            "grid_row": null,
            "grid_template_areas": null,
            "grid_template_columns": null,
            "grid_template_rows": null,
            "height": null,
            "justify_content": null,
            "justify_items": null,
            "left": null,
            "margin": null,
            "max_height": null,
            "max_width": null,
            "min_height": null,
            "min_width": null,
            "object_fit": null,
            "object_position": null,
            "order": null,
            "overflow": null,
            "overflow_x": null,
            "overflow_y": null,
            "padding": null,
            "right": null,
            "top": null,
            "visibility": null,
            "width": null
          }
        },
        "357f54b127664d3e874dc8cd0db810b8": {
          "model_module": "@jupyter-widgets/base",
          "model_name": "LayoutModel",
          "model_module_version": "1.2.0",
          "state": {
            "_model_module": "@jupyter-widgets/base",
            "_model_module_version": "1.2.0",
            "_model_name": "LayoutModel",
            "_view_count": null,
            "_view_module": "@jupyter-widgets/base",
            "_view_module_version": "1.2.0",
            "_view_name": "LayoutView",
            "align_content": null,
            "align_items": null,
            "align_self": null,
            "border": null,
            "bottom": null,
            "display": null,
            "flex": null,
            "flex_flow": null,
            "grid_area": null,
            "grid_auto_columns": null,
            "grid_auto_flow": null,
            "grid_auto_rows": null,
            "grid_column": null,
            "grid_gap": null,
            "grid_row": null,
            "grid_template_areas": null,
            "grid_template_columns": null,
            "grid_template_rows": null,
            "height": null,
            "justify_content": null,
            "justify_items": null,
            "left": null,
            "margin": null,
            "max_height": null,
            "max_width": null,
            "min_height": null,
            "min_width": null,
            "object_fit": null,
            "object_position": null,
            "order": null,
            "overflow": null,
            "overflow_x": null,
            "overflow_y": null,
            "padding": null,
            "right": null,
            "top": null,
            "visibility": null,
            "width": null
          }
        },
        "795ece1bc9d44e1199f7bad82f1cca7e": {
          "model_module": "@jupyter-widgets/controls",
          "model_name": "DescriptionStyleModel",
          "model_module_version": "1.5.0",
          "state": {
            "_model_module": "@jupyter-widgets/controls",
            "_model_module_version": "1.5.0",
            "_model_name": "DescriptionStyleModel",
            "_view_count": null,
            "_view_module": "@jupyter-widgets/base",
            "_view_module_version": "1.2.0",
            "_view_name": "StyleView",
            "description_width": ""
          }
        },
        "0ec10fa15b63413c82c96786f5ead9dc": {
          "model_module": "@jupyter-widgets/base",
          "model_name": "LayoutModel",
          "model_module_version": "1.2.0",
          "state": {
            "_model_module": "@jupyter-widgets/base",
            "_model_module_version": "1.2.0",
            "_model_name": "LayoutModel",
            "_view_count": null,
            "_view_module": "@jupyter-widgets/base",
            "_view_module_version": "1.2.0",
            "_view_name": "LayoutView",
            "align_content": null,
            "align_items": null,
            "align_self": null,
            "border": null,
            "bottom": null,
            "display": null,
            "flex": null,
            "flex_flow": null,
            "grid_area": null,
            "grid_auto_columns": null,
            "grid_auto_flow": null,
            "grid_auto_rows": null,
            "grid_column": null,
            "grid_gap": null,
            "grid_row": null,
            "grid_template_areas": null,
            "grid_template_columns": null,
            "grid_template_rows": null,
            "height": null,
            "justify_content": null,
            "justify_items": null,
            "left": null,
            "margin": null,
            "max_height": null,
            "max_width": null,
            "min_height": null,
            "min_width": null,
            "object_fit": null,
            "object_position": null,
            "order": null,
            "overflow": null,
            "overflow_x": null,
            "overflow_y": null,
            "padding": null,
            "right": null,
            "top": null,
            "visibility": null,
            "width": "20px"
          }
        },
        "a104898d20704f759fdb7f410c80db8a": {
          "model_module": "@jupyter-widgets/controls",
          "model_name": "ProgressStyleModel",
          "model_module_version": "1.5.0",
          "state": {
            "_model_module": "@jupyter-widgets/controls",
            "_model_module_version": "1.5.0",
            "_model_name": "ProgressStyleModel",
            "_view_count": null,
            "_view_module": "@jupyter-widgets/base",
            "_view_module_version": "1.2.0",
            "_view_name": "StyleView",
            "bar_color": null,
            "description_width": ""
          }
        },
        "7f7b3bc7fca24290b1b3a7babc50ed83": {
          "model_module": "@jupyter-widgets/base",
          "model_name": "LayoutModel",
          "model_module_version": "1.2.0",
          "state": {
            "_model_module": "@jupyter-widgets/base",
            "_model_module_version": "1.2.0",
            "_model_name": "LayoutModel",
            "_view_count": null,
            "_view_module": "@jupyter-widgets/base",
            "_view_module_version": "1.2.0",
            "_view_name": "LayoutView",
            "align_content": null,
            "align_items": null,
            "align_self": null,
            "border": null,
            "bottom": null,
            "display": null,
            "flex": null,
            "flex_flow": null,
            "grid_area": null,
            "grid_auto_columns": null,
            "grid_auto_flow": null,
            "grid_auto_rows": null,
            "grid_column": null,
            "grid_gap": null,
            "grid_row": null,
            "grid_template_areas": null,
            "grid_template_columns": null,
            "grid_template_rows": null,
            "height": null,
            "justify_content": null,
            "justify_items": null,
            "left": null,
            "margin": null,
            "max_height": null,
            "max_width": null,
            "min_height": null,
            "min_width": null,
            "object_fit": null,
            "object_position": null,
            "order": null,
            "overflow": null,
            "overflow_x": null,
            "overflow_y": null,
            "padding": null,
            "right": null,
            "top": null,
            "visibility": null,
            "width": null
          }
        },
        "c544feeb160b45089cccf097cbc4dc03": {
          "model_module": "@jupyter-widgets/controls",
          "model_name": "DescriptionStyleModel",
          "model_module_version": "1.5.0",
          "state": {
            "_model_module": "@jupyter-widgets/controls",
            "_model_module_version": "1.5.0",
            "_model_name": "DescriptionStyleModel",
            "_view_count": null,
            "_view_module": "@jupyter-widgets/base",
            "_view_module_version": "1.2.0",
            "_view_name": "StyleView",
            "description_width": ""
          }
        }
      }
    }
  },
  "cells": [
    {
      "cell_type": "markdown",
      "metadata": {
        "id": "view-in-github",
        "colab_type": "text"
      },
      "source": [
        "<a href=\"https://colab.research.google.com/github/usman-codez/all_python_work/blob/main/Crashcourse.ipynb\" target=\"_parent\"><img src=\"https://colab.research.google.com/assets/colab-badge.svg\" alt=\"Open In Colab\"/></a>"
      ]
    },
    {
      "cell_type": "markdown",
      "source": [
        "String\n"
      ],
      "metadata": {
        "id": "YzObMy-cnL5G"
      }
    },
    {
      "cell_type": "code",
      "source": [
        "\n",
        "import numpy as np\n",
        "from scipy.integrate import solve_ivp\n",
        "import matplotlib.pyplot as plt\n",
        "\n",
        "# Define the system of equations\n",
        "def predator_prey(t, z):\n",
        "    x, y = z\n",
        "    dxdt = -0.16 * x + 0.08 * x * y\n",
        "    dydt = 4.5 * y - 0.9 * x * y\n",
        "    return [dxdt, dydt]\n",
        "\n",
        "# Initial conditions and time span\n",
        "z0 = [5, 2]\n",
        "t_span = (0, 50)\n",
        "\n",
        "# Solve the system\n",
        "sol = solve_ivp(predator_prey, t_span, z0, t_eval=np.linspace(0, 50, 1000))\n",
        "\n",
        "# Plot the results\n",
        "plt.plot(sol.t, sol.y[0], label='Predator (x)')\n",
        "plt.plot(sol.t, sol.y[1], label='Prey (y)')\n",
        "plt.xlabel('Time')\n",
        "plt.ylabel('Population')\n",
        "plt.legend()\n",
        "plt.title('Predator-Prey Dynamics')\n",
        "plt.show()"
      ],
      "metadata": {
        "colab": {
          "base_uri": "https://localhost:8080/",
          "height": 472
        },
        "id": "K027eqrFilty",
        "outputId": "03f79f80-3dcf-4697-8e01-ccdf31298c26"
      },
      "execution_count": 2,
      "outputs": [
        {
          "output_type": "display_data",
          "data": {
            "text/plain": [
              "<Figure size 640x480 with 1 Axes>"
            ],
            "image/png": "[encoded data removed]"
          },
          "metadata": {}
        }
      ]
    },
    {
      "cell_type": "code",
      "source": [
        "#string to list\n",
        "my_string = \"Pakistan won the match\"\n",
        "my_string.split(' ')"
      ],
      "metadata": {
        "colab": {
          "base_uri": "https://localhost:8080/"
        },
        "id": "fxwlzY_ksEXZ",
        "outputId": "2729ef0c-49a5-48cc-f502-051998b8ec71"
      },
      "execution_count": 3,
      "outputs": [
        {
          "output_type": "execute_result",
          "data": {
            "text/plain": [
              "['Pakistan', 'won', 'the', 'match']"
            ]
          },
          "metadata": {},
          "execution_count": 3
        }
      ]
    },
    {
      "cell_type": "code",
      "source": [
        "#list to string\n",
        "my_list = ['Pakistan', 'won', 'the', 'match']\n",
        "print(' '.join(my_list))"
      ],
      "metadata": {
        "colab": {
          "base_uri": "https://localhost:8080/"
        },
        "id": "43ziRu-OtM9A",
        "outputId": "8bcf41e7-7c74-464c-8c19-129b2c04f8e0"
      },
      "execution_count": 4,
      "outputs": [
        {
          "output_type": "stream",
          "name": "stdout",
          "text": [
            "Pakistan won the match\n"
          ]
        }
      ]
    },
    {
      "cell_type": "code",
      "source": [
        "print('Hello World')"
      ],
      "metadata": {
        "colab": {
          "base_uri": "https://localhost:8080/"
        },
        "id": "DbVXc4ITA1Ke",
        "outputId": "9f6eefe3-8467-48cb-c6df-1f8e8d2b7fbb"
      },
      "execution_count": 5,
      "outputs": [
        {
          "output_type": "stream",
          "name": "stdout",
          "text": [
            "Hello World\n"
          ]
        }
      ]
    },
    {
      "cell_type": "code",
      "source": [
        "a = 4\n",
        "b = 5\n",
        "print(a+b)"
      ],
      "metadata": {
        "colab": {
          "base_uri": "https://localhost:8080/"
        },
        "id": "OER48sAkBA_i",
        "outputId": "7a689c00-2715-4a31-cec2-c4158ebe59d7"
      },
      "execution_count": 6,
      "outputs": [
        {
          "output_type": "stream",
          "name": "stdout",
          "text": [
            "9\n"
          ]
        }
      ]
    },
    {
      "cell_type": "code",
      "source": [
        "sports = ['Cricket', 'Football', 'Hockey', 'Badminton']\n",
        "print(sports)"
      ],
      "metadata": {
        "colab": {
          "base_uri": "https://localhost:8080/"
        },
        "id": "IPsJVk8o_WIg",
        "outputId": "f3045e4b-2301-4252-8b9b-d9192fb2dde6"
      },
      "execution_count": 7,
      "outputs": [
        {
          "output_type": "stream",
          "name": "stdout",
          "text": [
            "['Cricket', 'Football', 'Hockey', 'Badminton']\n"
          ]
        }
      ]
    },
    {
      "cell_type": "code",
      "source": [
        "print(sports[2])\n"
      ],
      "metadata": {
        "colab": {
          "base_uri": "https://localhost:8080/"
        },
        "id": "Bsu0UJ7-_ntx",
        "outputId": "205b38a4-14dd-4390-9f25-703f73dbc0df"
      },
      "execution_count": 8,
      "outputs": [
        {
          "output_type": "stream",
          "name": "stdout",
          "text": [
            "Hockey\n"
          ]
        }
      ]
    },
    {
      "cell_type": "code",
      "source": [
        "print(sports[2:4])"
      ],
      "metadata": {
        "colab": {
          "base_uri": "https://localhost:8080/"
        },
        "id": "F_3uRi_b_vYi",
        "outputId": "83572e18-5ea2-4e68-8387-cf9c07ac3f07"
      },
      "execution_count": 9,
      "outputs": [
        {
          "output_type": "stream",
          "name": "stdout",
          "text": [
            "['Hockey', 'Badminton']\n"
          ]
        }
      ]
    },
    {
      "cell_type": "code",
      "source": [
        "sports[2] = 'Volyball'\n",
        "sports"
      ],
      "metadata": {
        "colab": {
          "base_uri": "https://localhost:8080/"
        },
        "id": "GW79iiQu__2Z",
        "outputId": "45b2819e-462c-4bab-fa6c-29cb509bc059"
      },
      "execution_count": 10,
      "outputs": [
        {
          "output_type": "execute_result",
          "data": {
            "text/plain": [
              "['Cricket', 'Football', 'Volyball', 'Badminton']"
            ]
          },
          "metadata": {},
          "execution_count": 10
        }
      ]
    },
    {
      "cell_type": "code",
      "source": [
        "sports.insert(2, 'Hockey')\n",
        "print(sports)"
      ],
      "metadata": {
        "colab": {
          "base_uri": "https://localhost:8080/"
        },
        "id": "1E8RUWx6D6Se",
        "outputId": "cd0828a2-89f0-4246-f4ed-57c12ceee08b"
      },
      "execution_count": 11,
      "outputs": [
        {
          "output_type": "stream",
          "name": "stdout",
          "text": [
            "['Cricket', 'Football', 'Hockey', 'Volyball', 'Badminton']\n"
          ]
        }
      ]
    },
    {
      "cell_type": "code",
      "source": [
        "sports.remove('Hockey')\n",
        "print(sports)"
      ],
      "metadata": {
        "colab": {
          "base_uri": "https://localhost:8080/"
        },
        "id": "_kZ5Mi8yEJ1k",
        "outputId": "4b7803a0-5e36-40b1-c491-8000086e7b2f"
      },
      "execution_count": 12,
      "outputs": [
        {
          "output_type": "stream",
          "name": "stdout",
          "text": [
            "['Cricket', 'Football', 'Volyball', 'Badminton']\n"
          ]
        }
      ]
    },
    {
      "cell_type": "code",
      "source": [
        "cube_Num = [x**3 for x in range(5)]\n",
        "print(cube_Num)"
      ],
      "metadata": {
        "colab": {
          "base_uri": "https://localhost:8080/"
        },
        "id": "Lcuq_wBSFtsP",
        "outputId": "4b71ca89-74c3-4ea9-df68-a97dd54ed5aa"
      },
      "execution_count": 13,
      "outputs": [
        {
          "output_type": "stream",
          "name": "stdout",
          "text": [
            "[0, 1, 8, 27, 64]\n"
          ]
        }
      ]
    },
    {
      "cell_type": "code",
      "execution_count": 14,
      "metadata": {
        "colab": {
          "base_uri": "https://localhost:8080/"
        },
        "id": "NL_XvdQjXJM1",
        "outputId": "0d172937-35e2-40f2-d06a-68ec7b2609cd"
      },
      "outputs": [
        {
          "output_type": "stream",
          "name": "stdout",
          "text": [
            "Hello,Gul! How are you doing\n",
            "Hello,Tyb! How are you doing\n",
            "Hello,Hsn! How are you doing\n",
            "Hello,Shah! How are you doing\n",
            "Hello,Hammad! How are you doing\n"
          ]
        }
      ],
      "source": [
        "names=['gul','tyb','hsn','shah','hammad']\n",
        "\n",
        "print(f'Hello,{names[0].title()}! How are you doing')\n",
        "print(f'Hello,{names[1].title()}! How are you doing')\n",
        "print(f'Hello,{names[2].title()}! How are you doing')\n",
        "print(f'Hello,{names[3].title()}! How are you doing')\n",
        "print(f'Hello,{names[4].title()}! How are you doing')"
      ]
    },
    {
      "cell_type": "code",
      "source": [
        "#list of my likes of transportation and argument about them\n",
        "transportations=['bike','car','plane','bus']\n",
        "print(f'I want a Honda 70 {transportations[0].title()} to buy ')\n",
        "print(f'I want a hundai Civic {transportations[1].title()} to buy ')"
      ],
      "metadata": {
        "colab": {
          "base_uri": "https://localhost:8080/"
        },
        "id": "eBKvH29iYlCy",
        "outputId": "76a8a369-04ae-422a-f94f-07feff1f3ed0"
      },
      "execution_count": 15,
      "outputs": [
        {
          "output_type": "stream",
          "name": "stdout",
          "text": [
            "I want a Honda 70 Bike to buy \n",
            "I want a hundai Civic Car to buy \n"
          ]
        }
      ]
    },
    {
      "cell_type": "code",
      "source": [
        "#To change the value in list\n",
        "bikes=['honda','yamaha','united']\n",
        "print(bikes)\n",
        "bikes[2]='prince'\n",
        "print(bikes)"
      ],
      "metadata": {
        "colab": {
          "base_uri": "https://localhost:8080/"
        },
        "id": "5hW3eAtkakzb",
        "outputId": "024f28aa-3ed7-4630-ad47-c82fc30d3310"
      },
      "execution_count": 16,
      "outputs": [
        {
          "output_type": "stream",
          "name": "stdout",
          "text": [
            "['honda', 'yamaha', 'united']\n",
            "['honda', 'yamaha', 'prince']\n"
          ]
        }
      ]
    },
    {
      "cell_type": "code",
      "source": [
        "del bikes[0]\n",
        "print(bikes)"
      ],
      "metadata": {
        "colab": {
          "base_uri": "https://localhost:8080/"
        },
        "id": "gfj2oHF2jBSQ",
        "outputId": "a51b8017-1f09-42ef-8954-a068d6c6fae9"
      },
      "execution_count": 17,
      "outputs": [
        {
          "output_type": "stream",
          "name": "stdout",
          "text": [
            "['yamaha', 'prince']\n"
          ]
        }
      ]
    },
    {
      "cell_type": "markdown",
      "source": [
        "**Exercise of list**"
      ],
      "metadata": {
        "id": "6WEWBu1znWTy"
      }
    },
    {
      "cell_type": "code",
      "source": [
        "invitition=['Tayyab','Gulsher','Hassan']\n",
        "invitition[0]='Hammad'\n",
        "print(f'{invitition[0]} your presence at the dinner will be very benifial for me')\n",
        "print(f'{invitition[1]} your presence at the dinner will be very benifial for me')\n",
        "print(f'{invitition[2]} your presence at the dinner will be very benifial for me')"
      ],
      "metadata": {
        "colab": {
          "base_uri": "https://localhost:8080/"
        },
        "id": "RyPv2Av_nVzT",
        "outputId": "00ab2d95-7ca0-4025-8686-bdfd84832876"
      },
      "execution_count": 18,
      "outputs": [
        {
          "output_type": "stream",
          "name": "stdout",
          "text": [
            "Hammad your presence at the dinner will be very benifial for me\n",
            "Gulsher your presence at the dinner will be very benifial for me\n",
            "Hassan your presence at the dinner will be very benifial for me\n"
          ]
        }
      ]
    },
    {
      "cell_type": "code",
      "source": [
        "locations=['mecca','madina','new zealand','dubai','hunza']\n",
        "for i in locations:\n",
        "  print(f'{i.title()} is my dream place to visit')\n",
        "  print(f'I am working hard to visit {i.title()}.\\n')\n"
      ],
      "metadata": {
        "colab": {
          "base_uri": "https://localhost:8080/"
        },
        "id": "ha3FmhHwpcEN",
        "outputId": "02587c40-2982-4c01-b070-1cf4b21518f5"
      },
      "execution_count": 19,
      "outputs": [
        {
          "output_type": "stream",
          "name": "stdout",
          "text": [
            "Mecca is my dream place to visit\n",
            "I am working hard to visit Mecca.\n",
            "\n",
            "Madina is my dream place to visit\n",
            "I am working hard to visit Madina.\n",
            "\n",
            "New Zealand is my dream place to visit\n",
            "I am working hard to visit New Zealand.\n",
            "\n",
            "Dubai is my dream place to visit\n",
            "I am working hard to visit Dubai.\n",
            "\n",
            "Hunza is my dream place to visit\n",
            "I am working hard to visit Hunza.\n",
            "\n"
          ]
        }
      ]
    },
    {
      "cell_type": "code",
      "source": [
        "pizzas=['fijita','tikka','chicken spicy']\n",
        "for pizza in pizzas:\n",
        "  print(f'I like {pizza} pizza.')\n",
        "print('\\nI really like pizza because there taste always make me hungry. there are differrent kinds of pizzas but i like which are mentioned at above.')\n",
        "print('I really love pizza')"
      ],
      "metadata": {
        "colab": {
          "base_uri": "https://localhost:8080/"
        },
        "id": "rzsANzvI0H_w",
        "outputId": "882b937c-aff7-4c1b-e365-f3ff9c670075"
      },
      "execution_count": 20,
      "outputs": [
        {
          "output_type": "stream",
          "name": "stdout",
          "text": [
            "I like fijita pizza.\n",
            "I like tikka pizza.\n",
            "I like chicken spicy pizza.\n",
            "\n",
            "I really like pizza because there taste always make me hungry. there are differrent kinds of pizzas but i like which are mentioned at above.\n",
            "I really love pizza\n"
          ]
        }
      ]
    },
    {
      "cell_type": "code",
      "source": [
        "animals=['dog','cat','cow']\n",
        "for animal in animals:\n",
        "  print(f'{animal} is a animal')"
      ],
      "metadata": {
        "colab": {
          "base_uri": "https://localhost:8080/"
        },
        "id": "hM369M3B2Ayt",
        "outputId": "3ca375ee-6a85-4e24-dbcf-d112eae87a9d"
      },
      "execution_count": 21,
      "outputs": [
        {
          "output_type": "stream",
          "name": "stdout",
          "text": [
            "dog is a animal\n",
            "cat is a animal\n",
            "cow is a animal\n"
          ]
        }
      ]
    },
    {
      "cell_type": "code",
      "source": [
        "squires=[]\n",
        "for value in range(1,11):\n",
        "  squire=value**2\n",
        "  squires.append(squire)\n",
        "print(squires)\n",
        "print(min(squires))\n",
        "print(max(squires))\n",
        "print(sum(squires))"
      ],
      "metadata": {
        "colab": {
          "base_uri": "https://localhost:8080/"
        },
        "id": "JFhw30schUp0",
        "outputId": "c08442e1-2acd-4929-8f2c-ed0a08d5f49f"
      },
      "execution_count": 22,
      "outputs": [
        {
          "output_type": "stream",
          "name": "stdout",
          "text": [
            "[1, 4, 9, 16, 25, 36, 49, 64, 81, 100]\n",
            "1\n",
            "100\n",
            "385\n"
          ]
        }
      ]
    },
    {
      "cell_type": "code",
      "source": [
        "squires=[value**2 for value in range(1,11)]\n",
        "print(squires)"
      ],
      "metadata": {
        "colab": {
          "base_uri": "https://localhost:8080/"
        },
        "id": "WVUqWgKVmHWU",
        "outputId": "0d645944-b8ba-407c-dbb8-0077d546dce3"
      },
      "execution_count": 23,
      "outputs": [
        {
          "output_type": "stream",
          "name": "stdout",
          "text": [
            "[1, 4, 9, 16, 25, 36, 49, 64, 81, 100]\n"
          ]
        }
      ]
    },
    {
      "cell_type": "code",
      "source": [
        "for i in range(1,21):\n",
        "  print(i)"
      ],
      "metadata": {
        "colab": {
          "base_uri": "https://localhost:8080/"
        },
        "id": "pTFKsXjEnVpU",
        "outputId": "e648de93-50a1-4e40-cfb0-73d6ada396f6"
      },
      "execution_count": 24,
      "outputs": [
        {
          "output_type": "stream",
          "name": "stdout",
          "text": [
            "1\n",
            "2\n",
            "3\n",
            "4\n",
            "5\n",
            "6\n",
            "7\n",
            "8\n",
            "9\n",
            "10\n",
            "11\n",
            "12\n",
            "13\n",
            "14\n",
            "15\n",
            "16\n",
            "17\n",
            "18\n",
            "19\n",
            "20\n"
          ]
        }
      ]
    },
    {
      "cell_type": "code",
      "source": [
        "millions=list(range(1,1000000))\n",
        "\n",
        "print(min(millions))\n",
        "print(max(millions))\n",
        "print(sum(millions))\n"
      ],
      "metadata": {
        "colab": {
          "base_uri": "https://localhost:8080/"
        },
        "id": "8QDTsSsYnpX5",
        "outputId": "fd2ce608-7d43-4d6f-ab3c-65ccdef31fa9"
      },
      "execution_count": 25,
      "outputs": [
        {
          "output_type": "stream",
          "name": "stdout",
          "text": [
            "1\n",
            "999999\n",
            "499999500000\n"
          ]
        }
      ]
    },
    {
      "cell_type": "code",
      "source": [
        "odd=list(range(1,21,2))\n",
        "for i in odd:\n",
        "  print(i)"
      ],
      "metadata": {
        "colab": {
          "base_uri": "https://localhost:8080/"
        },
        "id": "ecU4YfNWq5KY",
        "outputId": "355ee2bb-7137-4c55-fc7f-954f9db5797a"
      },
      "execution_count": 26,
      "outputs": [
        {
          "output_type": "stream",
          "name": "stdout",
          "text": [
            "1\n",
            "3\n",
            "5\n",
            "7\n",
            "9\n",
            "11\n",
            "13\n",
            "15\n",
            "17\n",
            "19\n"
          ]
        }
      ]
    },
    {
      "cell_type": "code",
      "source": [
        "threes=list(range(3,31,3))\n",
        "for three in threes:\n",
        "  print(three)"
      ],
      "metadata": {
        "colab": {
          "base_uri": "https://localhost:8080/"
        },
        "id": "Iik54abKrjTX",
        "outputId": "2955090b-d9c7-47ef-86a3-25933e77c807"
      },
      "execution_count": 27,
      "outputs": [
        {
          "output_type": "stream",
          "name": "stdout",
          "text": [
            "3\n",
            "6\n",
            "9\n",
            "12\n",
            "15\n",
            "18\n",
            "21\n",
            "24\n",
            "27\n",
            "30\n"
          ]
        }
      ]
    },
    {
      "cell_type": "code",
      "source": [
        "list=[]\n",
        "for i in range(1,11):\n",
        "  list.append(i**3)\n",
        "print(list)\n",
        "for j in list:\n",
        "  print(j)\n"
      ],
      "metadata": {
        "colab": {
          "base_uri": "https://localhost:8080/"
        },
        "id": "7H7RzH7QsRpi",
        "outputId": "f3d56ee1-75d4-42f1-e160-3129075fa643"
      },
      "execution_count": 28,
      "outputs": [
        {
          "output_type": "stream",
          "name": "stdout",
          "text": [
            "[1, 8, 27, 64, 125, 216, 343, 512, 729, 1000]\n",
            "1\n",
            "8\n",
            "27\n",
            "64\n",
            "125\n",
            "216\n",
            "343\n",
            "512\n",
            "729\n",
            "1000\n"
          ]
        }
      ]
    },
    {
      "cell_type": "code",
      "source": [
        "list=[value**3 for value in range(1,11)]\n",
        "print(list)"
      ],
      "metadata": {
        "colab": {
          "base_uri": "https://localhost:8080/"
        },
        "id": "GfGc4k_-qhdh",
        "outputId": "659a5d92-ed92-4872-aee3-5d5478469a33"
      },
      "execution_count": 29,
      "outputs": [
        {
          "output_type": "stream",
          "name": "stdout",
          "text": [
            "[1, 8, 27, 64, 125, 216, 343, 512, 729, 1000]\n"
          ]
        }
      ]
    },
    {
      "cell_type": "code",
      "source": [
        "list=['a','b','c','d','e','f','g','h']\n",
        "print('The 1st three items are : ')\n",
        "print(list[0:3])\n",
        "print('The middle three items are : ')\n",
        "print(list[3:6])\n",
        "print('The last three items are : ')\n",
        "print(list[-3:])\n",
        "\n"
      ],
      "metadata": {
        "colab": {
          "base_uri": "https://localhost:8080/"
        },
        "id": "Qt4muMSDtUT0",
        "outputId": "452cf9e4-dda4-4635-978a-bd85a64619af"
      },
      "execution_count": 30,
      "outputs": [
        {
          "output_type": "stream",
          "name": "stdout",
          "text": [
            "The 1st three items are : \n",
            "['a', 'b', 'c']\n",
            "The middle three items are : \n",
            "['d', 'e', 'f']\n",
            "The last three items are : \n",
            "['f', 'g', 'h']\n"
          ]
        }
      ]
    },
    {
      "cell_type": "code",
      "source": [
        "pizza=['fajita','tikka','spicy']\n",
        "frind=pizza[:]\n",
        "pizza.append('vegetable')\n",
        "frind.append('kabab')\n",
        "print(\"My favourite pizza are : \")\n",
        "for i in pizza:\n",
        "  print(i)\n",
        "print('My frind favt are : ')\n",
        "for j in frind:\n",
        "  print(j)"
      ],
      "metadata": {
        "colab": {
          "base_uri": "https://localhost:8080/"
        },
        "id": "rGqHTKbs3_AZ",
        "outputId": "79797159-6b2d-4f67-8194-cc98463e3db2"
      },
      "execution_count": 31,
      "outputs": [
        {
          "output_type": "stream",
          "name": "stdout",
          "text": [
            "My favourite pizza are : \n",
            "fajita\n",
            "tikka\n",
            "spicy\n",
            "vegetable\n",
            "My frind favt are : \n",
            "fajita\n",
            "tikka\n",
            "spicy\n",
            "kabab\n"
          ]
        }
      ]
    },
    {
      "cell_type": "markdown",
      "source": [
        "# ***Tuples***\n"
      ],
      "metadata": {
        "id": "nsSEbAMpBYI4"
      }
    },
    {
      "cell_type": "code",
      "source": [
        "tup=('Hammad',23,45)\n",
        "for i in tup:\n",
        "  print(i)"
      ],
      "metadata": {
        "colab": {
          "base_uri": "https://localhost:8080/"
        },
        "id": "UjyBxc2WB8M3",
        "outputId": "a2360289-7b7c-4711-c536-db260c808265"
      },
      "execution_count": 32,
      "outputs": [
        {
          "output_type": "stream",
          "name": "stdout",
          "text": [
            "Hammad\n",
            "23\n",
            "45\n"
          ]
        }
      ]
    },
    {
      "cell_type": "code",
      "source": [
        "dimen=(200,50)\n",
        "print('Original Dimensions: ')\n",
        "for i in dimen:\n",
        "  print(i)\n",
        "\n",
        "dimen=(201,51)\n",
        "print('\\nModofied Dimensions : ')\n",
        "for i in dimen:\n",
        "  print(i)"
      ],
      "metadata": {
        "colab": {
          "base_uri": "https://localhost:8080/"
        },
        "id": "YvkNSZeCI_jB",
        "outputId": "3bce3d0a-58c7-47a1-df76-ddc96bd246f8"
      },
      "execution_count": 33,
      "outputs": [
        {
          "output_type": "stream",
          "name": "stdout",
          "text": [
            "Original Dimensions: \n",
            "200\n",
            "50\n",
            "\n",
            "Modofied Dimensions : \n",
            "201\n",
            "51\n"
          ]
        }
      ]
    },
    {
      "cell_type": "code",
      "source": [
        "menu=('karahi','kabab','kheer','biryani','zarda')\n",
        "for i in menu:\n",
        "  print(i)\n",
        "\n",
        "print('\\nRevised menu')\n",
        "menu=('karahi','tikka','kheer','biryani','zarda')\n",
        "for i in menu:\n",
        "  print(i)"
      ],
      "metadata": {
        "colab": {
          "base_uri": "https://localhost:8080/"
        },
        "id": "FPsi1c5TKQJE",
        "outputId": "11f7a302-e659-49f2-df29-2c337a6e0646"
      },
      "execution_count": 34,
      "outputs": [
        {
          "output_type": "stream",
          "name": "stdout",
          "text": [
            "karahi\n",
            "kabab\n",
            "kheer\n",
            "biryani\n",
            "zarda\n",
            "\n",
            "Revised menu\n",
            "karahi\n",
            "tikka\n",
            "kheer\n",
            "biryani\n",
            "zarda\n"
          ]
        }
      ]
    },
    {
      "cell_type": "markdown",
      "source": [
        "# ***IF STATMENTS***"
      ],
      "metadata": {
        "id": "qfg9o4IcjpkE"
      }
    },
    {
      "cell_type": "code",
      "source": [
        "cars=['tyota','hundai','bmw']\n",
        "for i in cars:\n",
        "  if i=='bmw':\n",
        "    print(i.upper())\n",
        "  else:\n",
        "    print(i.title())"
      ],
      "metadata": {
        "colab": {
          "base_uri": "https://localhost:8080/"
        },
        "id": "ujIRD6n_jvdw",
        "outputId": "fd5b09d8-ea45-40f4-d6aa-8b049b37735d"
      },
      "execution_count": 35,
      "outputs": [
        {
          "output_type": "stream",
          "name": "stdout",
          "text": [
            "Tyota\n",
            "Hundai\n",
            "BMW\n"
          ]
        }
      ]
    },
    {
      "cell_type": "code",
      "source": [
        "cars='Tyota'\n",
        "cars.lower()=='tyota'"
      ],
      "metadata": {
        "colab": {
          "base_uri": "https://localhost:8080/"
        },
        "id": "6stGetLM6gj9",
        "outputId": "711af895-7304-4095-825f-5250a7c38ff9"
      },
      "execution_count": 36,
      "outputs": [
        {
          "output_type": "execute_result",
          "data": {
            "text/plain": [
              "True"
            ]
          },
          "metadata": {},
          "execution_count": 36
        }
      ]
    },
    {
      "cell_type": "code",
      "source": [
        "pizza= ['fijita','tikka','kabab']\n",
        "'fijita' in pizza\n"
      ],
      "metadata": {
        "colab": {
          "base_uri": "https://localhost:8080/"
        },
        "id": "5sbFF3aQAHe0",
        "outputId": "3397f106-4c2e-4470-878c-c6390ad351ad"
      },
      "execution_count": 37,
      "outputs": [
        {
          "output_type": "execute_result",
          "data": {
            "text/plain": [
              "True"
            ]
          },
          "metadata": {},
          "execution_count": 37
        }
      ]
    },
    {
      "cell_type": "code",
      "source": [
        "'vegetable' in pizza"
      ],
      "metadata": {
        "colab": {
          "base_uri": "https://localhost:8080/"
        },
        "id": "Qna5YAKTAYkK",
        "outputId": "fbe007c0-4cc0-426a-ab48-26193e48d074"
      },
      "execution_count": 38,
      "outputs": [
        {
          "output_type": "execute_result",
          "data": {
            "text/plain": [
              "False"
            ]
          },
          "metadata": {},
          "execution_count": 38
        }
      ]
    },
    {
      "cell_type": "code",
      "source": [
        "banned=['tayyab','hasnain','gulsher','ali']\n",
        "user='Hammad'\n",
        "if user not in banned:\n",
        "  print(f'{user.title()} You can comment')\n",
        "else:\n",
        "  print('Sorry you are banned')"
      ],
      "metadata": {
        "colab": {
          "base_uri": "https://localhost:8080/"
        },
        "id": "Gk1fBovnAuVk",
        "outputId": "accd48ce-375c-4e3f-a333-ef1b3db65b0f"
      },
      "execution_count": 39,
      "outputs": [
        {
          "output_type": "stream",
          "name": "stdout",
          "text": [
            "Hammad You can comment\n"
          ]
        }
      ]
    },
    {
      "cell_type": "code",
      "source": [
        "string='slam!'\n",
        "string=='slam!'"
      ],
      "metadata": {
        "colab": {
          "base_uri": "https://localhost:8080/"
        },
        "id": "LwVgeWBBCUgk",
        "outputId": "ac456aff-9e84-4d0e-fb8f-9317dcdd446c"
      },
      "execution_count": 40,
      "outputs": [
        {
          "output_type": "execute_result",
          "data": {
            "text/plain": [
              "True"
            ]
          },
          "metadata": {},
          "execution_count": 40
        }
      ]
    },
    {
      "cell_type": "code",
      "source": [
        "age=12\n",
        "if age<4:\n",
        "  price=0\n",
        "elif age<18:\n",
        "  price=25\n",
        "else:\n",
        "  price=40\n",
        "\n",
        "print(f'Your fee for this is {price} ')"
      ],
      "metadata": {
        "colab": {
          "base_uri": "https://localhost:8080/"
        },
        "id": "p5l3_zgYFpMQ",
        "outputId": "d985b523-6101-4ffe-9ffb-a8332df57786"
      },
      "execution_count": 41,
      "outputs": [
        {
          "output_type": "stream",
          "name": "stdout",
          "text": [
            "Your fee for this is 25 \n"
          ]
        }
      ]
    },
    {
      "cell_type": "code",
      "source": [
        "alien_color='yellow'\n",
        "if alien_color=='green':\n",
        "  print('The player got 5 points')\n",
        "elif alien_color=='red':\n",
        "  print('The player got 10 points')\n",
        "elif alien_color=='yellow':\n",
        "  print('The player got 15 points')"
      ],
      "metadata": {
        "colab": {
          "base_uri": "https://localhost:8080/"
        },
        "id": "H91cMdnbPkL_",
        "outputId": "07773b5d-9b64-43e2-b955-16941d758d2a"
      },
      "execution_count": 42,
      "outputs": [
        {
          "output_type": "stream",
          "name": "stdout",
          "text": [
            "The player got 15 points\n"
          ]
        }
      ]
    },
    {
      "cell_type": "code",
      "source": [
        "age=20\n",
        "if age<2:\n",
        "  print('Person is baby')\n",
        "elif 2<=age<4:\n",
        "  print('Person is toddler')\n",
        "elif 4<=age<13:\n",
        "  print('Person is kid')\n",
        "elif 13<=age<20:\n",
        "  print('Person is teenager')\n",
        "elif 20<=age<65:\n",
        "  print('Person is adult')\n",
        "else:\n",
        "  print('Person is elder')"
      ],
      "metadata": {
        "colab": {
          "base_uri": "https://localhost:8080/"
        },
        "id": "VoDPyt3gUx_8",
        "outputId": "fcfc97c2-e902-4e82-e7f9-ec9b486b2d54"
      },
      "execution_count": 43,
      "outputs": [
        {
          "output_type": "stream",
          "name": "stdout",
          "text": [
            "Person is adult\n"
          ]
        }
      ]
    },
    {
      "cell_type": "code",
      "source": [
        "fvt_fruits=['Apple','Banana','Mango']\n",
        "if 'cherry' in fvt_fruits:\n",
        "  print(f'You really like cherry')\n",
        "if 'Mango' in fvt_fruits:\n",
        "  print(f'You really like cherry')\n",
        "if 'guava' in fvt_fruits:\n",
        "  print(f'You really like cherry')"
      ],
      "metadata": {
        "colab": {
          "base_uri": "https://localhost:8080/"
        },
        "id": "dfeZXZHbWTKB",
        "outputId": "e9ebea45-0538-4867-a3f1-d558de32be13"
      },
      "execution_count": 44,
      "outputs": [
        {
          "output_type": "stream",
          "name": "stdout",
          "text": [
            "You really like cherry\n"
          ]
        }
      ]
    },
    {
      "cell_type": "code",
      "source": [
        "toppings=['cheese','masala','kabab']\n",
        "for i in toppings:\n",
        "  if i=='kabab':\n",
        "    print('Sorry! kabab ran out')\n",
        "  else:\n",
        "    print(f'adding {i}')"
      ],
      "metadata": {
        "colab": {
          "base_uri": "https://localhost:8080/"
        },
        "id": "svTga6u2X1aG",
        "outputId": "df622a87-39ac-494e-caec-87b382e87e0b"
      },
      "execution_count": 45,
      "outputs": [
        {
          "output_type": "stream",
          "name": "stdout",
          "text": [
            "adding cheese\n",
            "adding masala\n",
            "Sorry! kabab ran out\n"
          ]
        }
      ]
    },
    {
      "cell_type": "code",
      "source": [
        "toppings=[]\n",
        "if toppings:\n",
        "  for i in toppings:\n",
        "    print(f'Adding {i}')\n",
        "  print('Making pizza')\n",
        "else:\n",
        "  print(\"Are you sure you want plain pizza\")"
      ],
      "metadata": {
        "colab": {
          "base_uri": "https://localhost:8080/"
        },
        "id": "rcHR19ARabCr",
        "outputId": "61741e57-f84c-48b4-eb4e-60d436511814"
      },
      "execution_count": 46,
      "outputs": [
        {
          "output_type": "stream",
          "name": "stdout",
          "text": [
            "Are you sure you want plain pizza\n"
          ]
        }
      ]
    },
    {
      "cell_type": "code",
      "source": [
        "available_toppings = ['mushrooms', 'olives', 'green peppers', 'pepperoni', 'pineapple', 'extra cheese']\n",
        "requested_toppings = ['mushrooms', 'french fries', 'extra cheese']\n",
        "for i in requested_toppings:\n",
        "  if i in available_toppings:\n",
        "    print(f'Adding {i}')\n",
        "  else:\n",
        "    print(f'Sorry! {i} is not available right now')"
      ],
      "metadata": {
        "colab": {
          "base_uri": "https://localhost:8080/"
        },
        "id": "PyaX2KskcOyo",
        "outputId": "ae573ed6-820a-421e-afdc-270131fac37a"
      },
      "execution_count": 47,
      "outputs": [
        {
          "output_type": "stream",
          "name": "stdout",
          "text": [
            "Adding mushrooms\n",
            "Sorry! french fries is not available right now\n",
            "Adding extra cheese\n"
          ]
        }
      ]
    },
    {
      "cell_type": "code",
      "source": [
        "username=['Hammad','tayyab','Usman','hsn','kami']\n",
        "for i in username:\n",
        "  if i=='Hammad':\n",
        "    print(f'Hello {i}! Would you like monthly report')\n",
        "  else:\n",
        "    print(f'Hello {i}! Thank you for logging again')"
      ],
      "metadata": {
        "colab": {
          "base_uri": "https://localhost:8080/"
        },
        "id": "vx9cMm33f5ov",
        "outputId": "970d634a-fc8e-4e22-98db-1ae1036e9163"
      },
      "execution_count": 48,
      "outputs": [
        {
          "output_type": "stream",
          "name": "stdout",
          "text": [
            "Hello Hammad! Would you like monthly report\n",
            "Hello tayyab! Thank you for logging again\n",
            "Hello Usman! Thank you for logging again\n",
            "Hello hsn! Thank you for logging again\n",
            "Hello kami! Thank you for logging again\n"
          ]
        }
      ]
    },
    {
      "cell_type": "code",
      "source": [
        "username=[]\n",
        "if username:\n",
        "  for i in username:\n",
        "    print(f'Hello {i}! Would you like monthly report')\n",
        "else:\n",
        "  print('We need to find some users!')"
      ],
      "metadata": {
        "colab": {
          "base_uri": "https://localhost:8080/"
        },
        "id": "vh5HEi2lgveH",
        "outputId": "7a26bf0d-e3d8-4d2b-adb8-32e80f18d39e"
      },
      "execution_count": 49,
      "outputs": [
        {
          "output_type": "stream",
          "name": "stdout",
          "text": [
            "We need to find some users!\n"
          ]
        }
      ]
    },
    {
      "cell_type": "code",
      "source": [
        "current_users=['Hammad','usman','tayyab','shan','hassan']\n",
        "new_users=['shah','usman','mudassar','shan','gul']\n",
        "for i in new_users:\n",
        "    if i in current_users:\n",
        "      print(f\"{i} Enter another username\")\n",
        "    else:\n",
        "      print(f'{i} username is available')"
      ],
      "metadata": {
        "colab": {
          "base_uri": "https://localhost:8080/"
        },
        "id": "_jNnePq2xZ8A",
        "outputId": "f2840968-7234-4522-c11e-dfd5fbe84a64"
      },
      "execution_count": 50,
      "outputs": [
        {
          "output_type": "stream",
          "name": "stdout",
          "text": [
            "shah username is available\n",
            "usman Enter another username\n",
            "mudassar username is available\n",
            "shan Enter another username\n",
            "gul username is available\n"
          ]
        }
      ]
    },
    {
      "cell_type": "code",
      "source": [
        "number=[1,2,3,4,5,6,7,8,9]\n",
        "for i in number:\n",
        "  if i==1:\n",
        "    print(f'{i}st')\n",
        "  elif i==2:\n",
        "    print(f'{i}nd')\n",
        "  elif i==3:\n",
        "    print(f'{i}rd')\n",
        "  else:\n",
        "    print(f'{i}th')"
      ],
      "metadata": {
        "colab": {
          "base_uri": "https://localhost:8080/"
        },
        "id": "bao7860PzrQu",
        "outputId": "99237af7-834c-40e2-c799-b7a4a4f47f27"
      },
      "execution_count": 51,
      "outputs": [
        {
          "output_type": "stream",
          "name": "stdout",
          "text": [
            "1st\n",
            "2nd\n",
            "3rd\n",
            "4th\n",
            "5th\n",
            "6th\n",
            "7th\n",
            "8th\n",
            "9th\n"
          ]
        }
      ]
    },
    {
      "cell_type": "code",
      "source": [
        "def check(userpassword):\n",
        "  if userpassword=='ali786':\n",
        "    print('Correct!')\n",
        "  else:\n",
        "    print('Incorrect!')\n",
        "\n",
        "check('ali786')"
      ],
      "metadata": {
        "colab": {
          "base_uri": "https://localhost:8080/"
        },
        "id": "PONGqxOhCils",
        "outputId": "7cb93f03-17ae-477c-a032-e2f3a0bf36ed"
      },
      "execution_count": 52,
      "outputs": [
        {
          "output_type": "stream",
          "name": "stdout",
          "text": [
            "Correct!\n"
          ]
        }
      ]
    },
    {
      "cell_type": "markdown",
      "source": [
        "# ***DICTIONARIES***"
      ],
      "metadata": {
        "id": "2hmc1oXZtsLA"
      }
    },
    {
      "cell_type": "code",
      "source": [
        "alien_0={'color':'green','points':5}\n",
        "points=alien_0['points']\n",
        "print(f'You just earned {points} points' )"
      ],
      "metadata": {
        "colab": {
          "base_uri": "https://localhost:8080/"
        },
        "id": "L8abXxU_ohwF",
        "outputId": "e6d7b8da-d9fa-45d7-a34b-b3d351a86a7b"
      },
      "execution_count": 53,
      "outputs": [
        {
          "output_type": "stream",
          "name": "stdout",
          "text": [
            "You just earned 5 points\n"
          ]
        }
      ]
    },
    {
      "cell_type": "code",
      "source": [
        "alien_0['x_position']=0\n",
        "alien_0['y_position']=25\n",
        "print(alien_0)"
      ],
      "metadata": {
        "colab": {
          "base_uri": "https://localhost:8080/"
        },
        "id": "lLqITsCep-Nc",
        "outputId": "98367b67-31f8-40e4-c6f1-968bdaccfa2e"
      },
      "execution_count": 54,
      "outputs": [
        {
          "output_type": "stream",
          "name": "stdout",
          "text": [
            "{'color': 'green', 'points': 5, 'x_position': 0, 'y_position': 25}\n"
          ]
        }
      ]
    },
    {
      "cell_type": "code",
      "source": [
        "alien_0={'color':'green'}\n",
        "print(f\"The alien is {alien_0['color']}\")\n",
        "alien_0['color']='yellow'\n",
        "print(f\"Now the alien is {alien_0['color']}\")"
      ],
      "metadata": {
        "colab": {
          "base_uri": "https://localhost:8080/"
        },
        "id": "WrNBLmlWrMea",
        "outputId": "c27990bc-cef8-4d54-afd9-790a03b20787"
      },
      "execution_count": 55,
      "outputs": [
        {
          "output_type": "stream",
          "name": "stdout",
          "text": [
            "The alien is green\n",
            "Now the alien is yellow\n"
          ]
        }
      ]
    },
    {
      "cell_type": "code",
      "source": [
        "alien_0={'x_position':0,'y_position':25,'speed':'fast'}\n",
        "print(f\"original position: {alien_0['x_position']}\")\n",
        "\n",
        "if alien_0['speed']=='slow':\n",
        "  x_increment=1\n",
        "elif alien_0['speed']=='medium':\n",
        "  x_increment=2\n",
        "else:\n",
        "  x_increment=3\n",
        "\n",
        "alien_0['x_position']=alien_0['x_position']+x_increment\n",
        "print(f\"New position: {alien_0['x_position']}\")"
      ],
      "metadata": {
        "colab": {
          "base_uri": "https://localhost:8080/"
        },
        "id": "5-_K4Fz6sMUw",
        "outputId": "4ade22bb-0af0-4965-a2d7-ed9e7d769abe"
      },
      "execution_count": 56,
      "outputs": [
        {
          "output_type": "stream",
          "name": "stdout",
          "text": [
            "original position: 0\n",
            "New position: 3\n"
          ]
        }
      ]
    },
    {
      "cell_type": "code",
      "source": [
        "favt_language={\n",
        "    'hammad':'python',\n",
        "    'tyb':'c++',\n",
        "    'gul':'matlab',\n",
        "    'shah':'c'\n",
        "}\n",
        "#language=favt_language['ali'].tilte()\n",
        "print(f\"Hammad's favourite language is {favt_language['hammad']}\")"
      ],
      "metadata": {
        "colab": {
          "base_uri": "https://localhost:8080/"
        },
        "id": "ITrvrHNXzDBF",
        "outputId": "776d876a-eefd-4b15-e715-5432e47c2354"
      },
      "execution_count": 57,
      "outputs": [
        {
          "output_type": "stream",
          "name": "stdout",
          "text": [
            "Hammad's favourite language is python\n"
          ]
        }
      ]
    },
    {
      "cell_type": "code",
      "source": [
        "alien_0={'color':'green','speed':'fast'}\n",
        "point_value=alien_0.get('point','No point is assigned')\n",
        "print(point_value)\n"
      ],
      "metadata": {
        "colab": {
          "base_uri": "https://localhost:8080/"
        },
        "id": "rHdoLYSb10PS",
        "outputId": "6bafe680-0a2e-4c94-8907-9994debde25a"
      },
      "execution_count": 58,
      "outputs": [
        {
          "output_type": "stream",
          "name": "stdout",
          "text": [
            "No point is assigned\n"
          ]
        }
      ]
    },
    {
      "cell_type": "code",
      "source": [
        "friend={\n",
        "    'fname':'Hammad',\n",
        "    'lname':'Hassan',\n",
        "    'age':20,\n",
        "    'city':'Lahore'\n",
        "}\n",
        "print(friend['fname'])\n",
        "print(friend['lname'])\n",
        "print(friend['age'])\n",
        "print(friend['city'])"
      ],
      "metadata": {
        "colab": {
          "base_uri": "https://localhost:8080/"
        },
        "id": "kh3i47jo43t5",
        "outputId": "a478b088-47e0-4ff6-9707-831eea2b1362"
      },
      "execution_count": 59,
      "outputs": [
        {
          "output_type": "stream",
          "name": "stdout",
          "text": [
            "Hammad\n",
            "Hassan\n",
            "20\n",
            "Lahore\n"
          ]
        }
      ]
    },
    {
      "cell_type": "code",
      "source": [
        "user={\n",
        "    'username':'hh',\n",
        "    'fname':'Hammad',\n",
        "    'lname':'Hassan'\n",
        "}\n",
        "print(user)"
      ],
      "metadata": {
        "id": "xqN8l1bb696K",
        "colab": {
          "base_uri": "https://localhost:8080/"
        },
        "outputId": "4a3820bc-3ba1-44ad-e751-fccb8cee623d"
      },
      "execution_count": 60,
      "outputs": [
        {
          "output_type": "stream",
          "name": "stdout",
          "text": [
            "{'username': 'hh', 'fname': 'Hammad', 'lname': 'Hassan'}\n"
          ]
        }
      ]
    },
    {
      "cell_type": "code",
      "source": [
        "for key,value in user.items():\n",
        "  print('Key:',key,'\\nvalue:',value)"
      ],
      "metadata": {
        "colab": {
          "base_uri": "https://localhost:8080/"
        },
        "id": "_T-MOvYgS_qY",
        "outputId": "8cd1e0f1-9e29-4bef-d377-dc2f44a8447a"
      },
      "execution_count": 61,
      "outputs": [
        {
          "output_type": "stream",
          "name": "stdout",
          "text": [
            "Key: username \n",
            "value: hh\n",
            "Key: fname \n",
            "value: Hammad\n",
            "Key: lname \n",
            "value: Hassan\n"
          ]
        }
      ]
    },
    {
      "cell_type": "code",
      "source": [
        "languages={\n",
        "   'Hammad':'python',\n",
        "    'tyb':'c++',\n",
        "    'gul':'matlab',\n",
        "    'shah':'c'\n",
        "}\n",
        "for k,v in languages.items():\n",
        "  print(f'{k.title()} favourite language is {v.title()}')"
      ],
      "metadata": {
        "colab": {
          "base_uri": "https://localhost:8080/"
        },
        "id": "G7sEorgJp2N2",
        "outputId": "cc4d0fd1-eec8-4440-e05a-48a205b7347e"
      },
      "execution_count": 62,
      "outputs": [
        {
          "output_type": "stream",
          "name": "stdout",
          "text": [
            "Hammad favourite language is Python\n",
            "Tyb favourite language is C++\n",
            "Gul favourite language is Matlab\n",
            "Shah favourite language is C\n"
          ]
        }
      ]
    },
    {
      "cell_type": "code",
      "source": [
        "for name in languages.keys():\n",
        "  print(name)"
      ],
      "metadata": {
        "colab": {
          "base_uri": "https://localhost:8080/"
        },
        "id": "9rDlfGFZrFBZ",
        "outputId": "c62e6443-1356-418a-86c7-06fe7726d639"
      },
      "execution_count": 63,
      "outputs": [
        {
          "output_type": "stream",
          "name": "stdout",
          "text": [
            "Hammad\n",
            "tyb\n",
            "gul\n",
            "shah\n"
          ]
        }
      ]
    },
    {
      "cell_type": "code",
      "source": [
        "friends=['hammad','tyb']\n",
        "for name in languages.keys():\n",
        "  print(name.title())\n",
        "  if name in friends:\n",
        "    language=languages[name].title()\n",
        "    print(f'{name.title()}, I see your favourite language is {language}')"
      ],
      "metadata": {
        "colab": {
          "base_uri": "https://localhost:8080/"
        },
        "id": "Ps351LYwr6ct",
        "outputId": "e08b3e20-f313-4e06-d31c-1c2ed757bd1c"
      },
      "execution_count": 64,
      "outputs": [
        {
          "output_type": "stream",
          "name": "stdout",
          "text": [
            "Hammad\n",
            "Tyb\n",
            "Tyb, I see your favourite language is C++\n",
            "Gul\n",
            "Shah\n"
          ]
        }
      ]
    },
    {
      "cell_type": "code",
      "source": [
        "for name in sorted(languages.keys()):\n",
        "  print(f'{name} Thank you for taling the poll')\n"
      ],
      "metadata": {
        "colab": {
          "base_uri": "https://localhost:8080/"
        },
        "id": "0eJfSPmmtRc0",
        "outputId": "15f993e6-14e1-4c8b-f04d-ae99be629c62"
      },
      "execution_count": 65,
      "outputs": [
        {
          "output_type": "stream",
          "name": "stdout",
          "text": [
            "Hammad Thank you for taling the poll\n",
            "gul Thank you for taling the poll\n",
            "shah Thank you for taling the poll\n",
            "tyb Thank you for taling the poll\n"
          ]
        }
      ]
    },
    {
      "cell_type": "code",
      "source": [
        "dictionary={\n",
        "    'unity':'oneness',\n",
        "    'faith':'yaqeen',\n",
        "    'dicipline':'zabt',\n",
        "    'firm':'determine',\n",
        "    'strong':'mazboot'\n",
        "}\n",
        "dictionary['weak']='kamzoor'\n",
        "dictionary['high']='buland'\n",
        "for k,v in dictionary.items():\n",
        "  print('\\n',k)\n",
        "  print(v)"
      ],
      "metadata": {
        "id": "Q4EmoumsyxAV",
        "colab": {
          "base_uri": "https://localhost:8080/"
        },
        "outputId": "9bfc21c1-c47a-4246-dfee-7fde4e6c7788"
      },
      "execution_count": 66,
      "outputs": [
        {
          "output_type": "stream",
          "name": "stdout",
          "text": [
            "\n",
            " unity\n",
            "oneness\n",
            "\n",
            " faith\n",
            "yaqeen\n",
            "\n",
            " dicipline\n",
            "zabt\n",
            "\n",
            " firm\n",
            "determine\n",
            "\n",
            " strong\n",
            "mazboot\n",
            "\n",
            " weak\n",
            "kamzoor\n",
            "\n",
            " high\n",
            "buland\n"
          ]
        }
      ]
    },
    {
      "cell_type": "code",
      "source": [
        "rivers={\n",
        "    'nile':'egypt',\n",
        "    'indus':'pakistan',\n",
        "    'amazon':'brazil'\n",
        "}\n",
        "for r,c in rivers.items():\n",
        "  print(f'{r.title()} runs through {c.title()}')\n",
        "for r in rivers.keys():\n",
        "  print(r.title())\n",
        "for c in rivers.values():\n",
        "  print(c.title())"
      ],
      "metadata": {
        "colab": {
          "base_uri": "https://localhost:8080/"
        },
        "id": "78NmnkYwBLGk",
        "outputId": "52a0a883-9e5b-40ed-8d41-2519c0c6b09e"
      },
      "execution_count": 67,
      "outputs": [
        {
          "output_type": "stream",
          "name": "stdout",
          "text": [
            "Nile runs through Egypt\n",
            "Indus runs through Pakistan\n",
            "Amazon runs through Brazil\n",
            "Nile\n",
            "Indus\n",
            "Amazon\n",
            "Egypt\n",
            "Pakistan\n",
            "Brazil\n"
          ]
        }
      ]
    },
    {
      "cell_type": "code",
      "source": [
        "langu={\n",
        "    'ali':'python',\n",
        "    'tyb':'c++',\n",
        "    'gul':'matlab',\n",
        "    'shah':'c'\n",
        "}\n",
        "li=['ali','hsn','shah','mud']\n",
        "for k in langu.keys():\n",
        "  if k in li:\n",
        "    print(f'{k} thanks for giving your response')\n",
        "  else:\n",
        "    print(f'{k} kindly give your response')"
      ],
      "metadata": {
        "colab": {
          "base_uri": "https://localhost:8080/"
        },
        "id": "YHBXNdczCVEM",
        "outputId": "bb87d83b-e431-40f9-c604-db09c099518d"
      },
      "execution_count": 68,
      "outputs": [
        {
          "output_type": "stream",
          "name": "stdout",
          "text": [
            "ali thanks for giving your response\n",
            "tyb kindly give your response\n",
            "gul kindly give your response\n",
            "shah thanks for giving your response\n"
          ]
        }
      ]
    },
    {
      "cell_type": "code",
      "source": [
        "aliens=[]\n",
        "for alien_ in range(30):\n",
        "  new={'color':'green','points':5,'speed':'slow'}\n",
        "  aliens.append(new)\n",
        "for alien in aliens[:5]:\n",
        "  print(alien)\n",
        "\n",
        "print(f'Total aliens: {len(aliens)}')\n",
        "\n"
      ],
      "metadata": {
        "colab": {
          "base_uri": "https://localhost:8080/"
        },
        "id": "1T8ftDXxDy94",
        "outputId": "c7ede29c-2074-48ce-eab4-0eeb877b57f7"
      },
      "execution_count": 69,
      "outputs": [
        {
          "output_type": "stream",
          "name": "stdout",
          "text": [
            "{'color': 'green', 'points': 5, 'speed': 'slow'}\n",
            "{'color': 'green', 'points': 5, 'speed': 'slow'}\n",
            "{'color': 'green', 'points': 5, 'speed': 'slow'}\n",
            "{'color': 'green', 'points': 5, 'speed': 'slow'}\n",
            "{'color': 'green', 'points': 5, 'speed': 'slow'}\n",
            "Total aliens: 30\n"
          ]
        }
      ]
    },
    {
      "cell_type": "code",
      "source": [
        "pizza={\n",
        "    'crust':'thick',\n",
        "    'toppings':['mushrooms','extra cheese']\n",
        "}\n",
        "print(f\"You order the {pizza['crust']} pizza\"\n",
        "       \" With the following Toppings: \")\n",
        "for i in pizza['toppings']:\n",
        "  print(i)"
      ],
      "metadata": {
        "colab": {
          "base_uri": "https://localhost:8080/"
        },
        "id": "uIGQn8UGGwxa",
        "outputId": "d7b3afe2-fc6e-4317-b59a-2d3c1dbca396"
      },
      "execution_count": 70,
      "outputs": [
        {
          "output_type": "stream",
          "name": "stdout",
          "text": [
            "You order the thick pizza With the following Toppings: \n",
            "mushrooms\n",
            "extra cheese\n"
          ]
        }
      ]
    },
    {
      "cell_type": "code",
      "source": [
        "favorite_languages = {\n",
        "       'ali': ['python', 'ruby'],\n",
        "       'tyb': ['c'],\n",
        "       'gul': ['ruby', 'go'],\n",
        "       'shah': ['python', 'haskell'],\n",
        "       }\n",
        "for name,languages in favorite_languages.items():\n",
        "  print(f'{name.title()} favourite language are')\n",
        "  for language in languages:\n",
        "    print(language)\n",
        "\n"
      ],
      "metadata": {
        "colab": {
          "base_uri": "https://localhost:8080/"
        },
        "id": "jwH0XQrRJ3bn",
        "outputId": "df119f67-0117-410b-c3ac-7f7142f2542f"
      },
      "execution_count": 71,
      "outputs": [
        {
          "output_type": "stream",
          "name": "stdout",
          "text": [
            "Ali favourite language are\n",
            "python\n",
            "ruby\n",
            "Tyb favourite language are\n",
            "c\n",
            "Gul favourite language are\n",
            "ruby\n",
            "go\n",
            "Shah favourite language are\n",
            "python\n",
            "haskell\n"
          ]
        }
      ]
    },
    {
      "cell_type": "code",
      "source": [
        "users = {\n",
        "    'aeinstein': {\n",
        "        'first': 'albert',\n",
        "        'last': 'einstein',\n",
        "           'location': 'princeton',\n",
        "           },\n",
        "       'mcurie': {\n",
        "           'first': 'marie',\n",
        "           'last': 'curie',\n",
        "           'location': 'paris',\n",
        "           },\n",
        "}\n",
        "for username,user_info in users.items():\n",
        "  print(f\"\\nUsername: {username}\")\n",
        "  fullname=f\"{user_info['first']} {user_info['last']}\"\n",
        "  location=user_info['location']\n",
        "  print(f'\\t{fullname}')\n",
        "  print(f'\\t{location}')"
      ],
      "metadata": {
        "colab": {
          "base_uri": "https://localhost:8080/"
        },
        "id": "vyhWptVWZk-H",
        "outputId": "b02c86c3-d6a8-4be6-abc8-17ac33295716"
      },
      "execution_count": 72,
      "outputs": [
        {
          "output_type": "stream",
          "name": "stdout",
          "text": [
            "\n",
            "Username: aeinstein\n",
            "\talbert einstein\n",
            "\tprinceton\n",
            "\n",
            "Username: mcurie\n",
            "\tmarie curie\n",
            "\tparis\n"
          ]
        }
      ]
    },
    {
      "cell_type": "code",
      "source": [
        "pets=[jac:={'animal':'dog','owner':'ali'},billo:={'animal':'cow','owner':'peer'}]\n",
        "for pet in pets:\n",
        "  print(pet)\n"
      ],
      "metadata": {
        "colab": {
          "base_uri": "https://localhost:8080/"
        },
        "id": "pxfNsWbLcnQ-",
        "outputId": "54a2c534-bfd2-4a71-fb2c-61c9674a6036"
      },
      "execution_count": 73,
      "outputs": [
        {
          "output_type": "stream",
          "name": "stdout",
          "text": [
            "{'animal': 'dog', 'owner': 'ali'}\n",
            "{'animal': 'cow', 'owner': 'peer'}\n"
          ]
        }
      ]
    },
    {
      "cell_type": "markdown",
      "source": [
        "# ***Ch#7: User input and while loop***"
      ],
      "metadata": {
        "id": "MocVwmVajj7v"
      }
    },
    {
      "cell_type": "code",
      "source": [
        "prompt = \"If you tell us who you are, we can personalize the messages you see.\"\n",
        "prompt += \"\\nWhat is your first name? \"\n",
        "name=input(prompt)\n",
        "print(name)\n"
      ],
      "metadata": {
        "colab": {
          "base_uri": "https://localhost:8080/"
        },
        "id": "ibK8B5NFjtNQ",
        "outputId": "24668180-38f7-4d45-b624-00f64840bd09"
      },
      "execution_count": 74,
      "outputs": [
        {
          "output_type": "stream",
          "name": "stdout",
          "text": [
            "If you tell us who you are, we can personalize the messages you see.\n",
            "What is your first name? ali\n",
            "ali\n"
          ]
        }
      ]
    },
    {
      "cell_type": "code",
      "source": [
        "car=input('What kind of rental car: ')\n",
        "print(f'Let me see if I can find a {car.title()}')"
      ],
      "metadata": {
        "colab": {
          "base_uri": "https://localhost:8080/"
        },
        "id": "0gf5STLdx2vg",
        "outputId": "0b346bb6-8b68-4034-ecb7-65269dea8e95"
      },
      "execution_count": 75,
      "outputs": [
        {
          "output_type": "stream",
          "name": "stdout",
          "text": [
            "What kind of rental car: toury\n",
            "Let me see if I can find a Toury\n"
          ]
        }
      ]
    },
    {
      "cell_type": "code",
      "source": [
        "member=int(input('How many people there in your group: '))\n",
        "if member>8:\n",
        "  print('You have to wait for a table to get free')\n",
        "else:\n",
        "  print('Your table is ready')\n"
      ],
      "metadata": {
        "colab": {
          "base_uri": "https://localhost:8080/"
        },
        "id": "j944LLsTyUg2",
        "outputId": "5b2d62c2-396d-436a-f14d-22905a00e596"
      },
      "execution_count": 76,
      "outputs": [
        {
          "output_type": "stream",
          "name": "stdout",
          "text": [
            "How many people there in your group: 3\n",
            "Your table is ready\n"
          ]
        }
      ]
    },
    {
      "cell_type": "code",
      "source": [
        "number=int(input('Enter your number: '))\n",
        "if number%10==0:\n",
        "  print(f'{number} is a multiple of 10')\n",
        "else:\n",
        "  print('Not a multiple of 10')"
      ],
      "metadata": {
        "colab": {
          "base_uri": "https://localhost:8080/"
        },
        "id": "P14uvvF_yzQ3",
        "outputId": "7223be30-a8c8-4cb6-d06f-82169b4af3c6"
      },
      "execution_count": 77,
      "outputs": [
        {
          "output_type": "stream",
          "name": "stdout",
          "text": [
            "Enter your number: 25\n",
            "Not a multiple of 10\n"
          ]
        }
      ]
    },
    {
      "cell_type": "code",
      "source": [
        "i=1\n",
        "while i<=10:\n",
        "  print(i)\n",
        "  i+=2"
      ],
      "metadata": {
        "colab": {
          "base_uri": "https://localhost:8080/"
        },
        "id": "HsEJXCHy6We1",
        "outputId": "ffe4eea5-8a1a-4ae7-9e81-ad97442b9662"
      },
      "execution_count": 78,
      "outputs": [
        {
          "output_type": "stream",
          "name": "stdout",
          "text": [
            "1\n",
            "3\n",
            "5\n",
            "7\n",
            "9\n"
          ]
        }
      ]
    },
    {
      "cell_type": "code",
      "source": [
        "prompt='Tell me something: '\n",
        "prompt+=\"\\nEnter 'quit' to close program\"\n",
        "message=''\n",
        "while message!='quit':\n",
        "  message=(input(prompt))\n",
        "  print(message)\n"
      ],
      "metadata": {
        "colab": {
          "base_uri": "https://localhost:8080/"
        },
        "id": "TXMCFWgD96HX",
        "outputId": "99a2aa3a-0740-4c54-c52f-1d609209589c"
      },
      "execution_count": 79,
      "outputs": [
        {
          "output_type": "stream",
          "name": "stdout",
          "text": [
            "Tell me something: \n",
            "Enter 'quit' to close programI am Pakistani\n",
            "I am Pakistani\n",
            "Tell me something: \n",
            "Enter 'quit' to close programhi\n",
            "hi\n",
            "Tell me something: \n",
            "Enter 'quit' to close programquit\n",
            "quit\n"
          ]
        }
      ]
    },
    {
      "cell_type": "code",
      "source": [
        "prompt='Tell me something: '\n",
        "prompt+=\"\\nEnter 'quit' to close program \"\n",
        "active=True\n",
        "while active:\n",
        "  message=input(prompt)\n",
        "  if message=='quit':\n",
        "    active=False\n",
        "  else:\n",
        "    print(message)"
      ],
      "metadata": {
        "colab": {
          "base_uri": "https://localhost:8080/"
        },
        "id": "8TQBf_wcERvg",
        "outputId": "0dbe4e27-7201-467c-e613-3b3fb0e080d0"
      },
      "execution_count": 80,
      "outputs": [
        {
          "name": "stdout",
          "output_type": "stream",
          "text": [
            "Tell me something: \n",
            "Enter 'quit' to close program what \n",
            "what \n",
            "Tell me something: \n",
            "Enter 'quit' to close program hi i am ALi \n",
            "hi i am ALi \n",
            "Tell me something: \n",
            "Enter 'quit' to close program quit\n"
          ]
        }
      ]
    },
    {
      "cell_type": "code",
      "source": [
        "prompt='Enter the city you visited'\n",
        "prompt+=\"\\nEnter 'quit' to pull out: \"\n",
        "while True:\n",
        "  message=input(prompt)\n",
        "  if message=='quit':\n",
        "    break\n",
        "  else:\n",
        "    print(f\"I'd love to go to {message.title()}\")"
      ],
      "metadata": {
        "colab": {
          "base_uri": "https://localhost:8080/"
        },
        "id": "nOeCjjtYKpkp",
        "outputId": "51fe3f9a-5352-466d-d906-b4fe4936aefb"
      },
      "execution_count": 81,
      "outputs": [
        {
          "name": "stdout",
          "output_type": "stream",
          "text": [
            "Enter the city you visited\n",
            "Enter 'quit' to pull out: Lahore\n",
            "I'd love to go to Lahore\n",
            "Enter the city you visited\n",
            "Enter 'quit' to pull out: Islamabad\n",
            "I'd love to go to Islamabad\n",
            "Enter the city you visited\n",
            "Enter 'quit' to pull out: quit\n"
          ]
        }
      ]
    },
    {
      "cell_type": "code",
      "source": [
        "n=0\n",
        "while n<10:\n",
        "  n+=1\n",
        "  if n%2==0:\n",
        "    continue\n",
        "\n",
        "  print(n)"
      ],
      "metadata": {
        "colab": {
          "base_uri": "https://localhost:8080/"
        },
        "id": "6jpQwzEP8205",
        "outputId": "a19fcd0e-a2c6-46d7-c546-9d1bbb1f8bee"
      },
      "execution_count": 82,
      "outputs": [
        {
          "output_type": "stream",
          "name": "stdout",
          "text": [
            "1\n",
            "3\n",
            "5\n",
            "7\n",
            "9\n"
          ]
        }
      ]
    },
    {
      "cell_type": "code",
      "source": [
        "active=True\n",
        "while active:\n",
        "  topping=input('Enter your Topping you want: ')\n",
        "  if topping=='quit':\n",
        "    active=False\n",
        "  else:\n",
        "    print(f'{topping} is added on your pizza')"
      ],
      "metadata": {
        "colab": {
          "base_uri": "https://localhost:8080/"
        },
        "id": "-Z9Nnmk8_NIs",
        "outputId": "9a87e180-9aa3-48a7-c55e-8c19d4425ec3"
      },
      "execution_count": 83,
      "outputs": [
        {
          "name": "stdout",
          "output_type": "stream",
          "text": [
            "Enter your Topping you want: cheese\n",
            "cheese is added on your pizza\n",
            "Enter your Topping you want: quit\n"
          ]
        }
      ]
    },
    {
      "cell_type": "code",
      "source": [
        "active = True\n",
        "while active:\n",
        "  price=input('Enter your age: ')\n",
        "  if price=='end':\n",
        "    active = False\n",
        "  elif int(price)<(3):\n",
        "    print('Your ticket is free')\n",
        "  elif int(price)<(13):\n",
        "    print('$10')\n",
        "  else:\n",
        "    print('$15')\n"
      ],
      "metadata": {
        "colab": {
          "base_uri": "https://localhost:8080/"
        },
        "id": "aM_eCSOmBVqT",
        "outputId": "b6febf30-609f-461b-b46f-965326a5281d"
      },
      "execution_count": 84,
      "outputs": [
        {
          "name": "stdout",
          "output_type": "stream",
          "text": [
            "Enter your age: 21\n",
            "$15\n",
            "Enter your age: 22\n",
            "$15\n",
            "Enter your age: end\n"
          ]
        }
      ]
    },
    {
      "cell_type": "code",
      "source": [
        "un=['hammad','tyb','ali']\n",
        "c=[]\n",
        "while un:\n",
        "  new=un.pop()\n",
        "  print(f'Verifying users: {new}')\n",
        "  c.append(new)\n",
        "print(c)"
      ],
      "metadata": {
        "colab": {
          "base_uri": "https://localhost:8080/"
        },
        "id": "qUjsJg7FJiHr",
        "outputId": "ce26916c-0aeb-46c8-bfad-9138ea092556"
      },
      "execution_count": 85,
      "outputs": [
        {
          "output_type": "stream",
          "name": "stdout",
          "text": [
            "Verifying users: ali\n",
            "Verifying users: tyb\n",
            "Verifying users: hammad\n",
            "['ali', 'tyb', 'hammad']\n"
          ]
        }
      ]
    },
    {
      "cell_type": "code",
      "source": [
        "pets = ['dog', 'cat', 'dog', 'goldfish', 'cat', 'rabbit', 'cat']\n",
        "while 'cat' in pets:\n",
        "  pets.remove('cat')\n",
        "print(pets)"
      ],
      "metadata": {
        "colab": {
          "base_uri": "https://localhost:8080/"
        },
        "id": "RIwL4bvSKkqd",
        "outputId": "e46350fd-ccd2-4596-cd21-5a853d04fe19"
      },
      "execution_count": 86,
      "outputs": [
        {
          "output_type": "stream",
          "name": "stdout",
          "text": [
            "['dog', 'dog', 'goldfish', 'rabbit']\n"
          ]
        }
      ]
    },
    {
      "cell_type": "code",
      "source": [
        "responses={}\n",
        "active=True\n",
        "while active:\n",
        "  name=input('Enter your name: ')\n",
        "  response=input('How old are you? ')\n",
        "\n",
        "  responses[name]=response\n",
        "  repeat=input('Do you want another entry y/n: ')\n",
        "  if repeat=='n':\n",
        "    break\n",
        "for name,response in responses.items():\n",
        "  print(f'{name} has {responses}')\n"
      ],
      "metadata": {
        "colab": {
          "base_uri": "https://localhost:8080/"
        },
        "id": "265o2dfbK7SU",
        "outputId": "c1c6e8c6-e4ca-4553-992c-360dd8e0b72b"
      },
      "execution_count": 87,
      "outputs": [
        {
          "output_type": "stream",
          "name": "stdout",
          "text": [
            "Enter your name: ali\n",
            "How old are you? 21\n",
            "Do you want another entry y/n: n\n",
            "ali has {'ali': '21'}\n"
          ]
        }
      ]
    },
    {
      "cell_type": "code",
      "source": [
        "sandwich=['club','simple','shami','chicken']\n",
        "finished=[]\n",
        "while sandwich:\n",
        "  made=sandwich.pop()\n",
        "  print(f'I made your {made} sandwich')\n",
        "  finished.append(made)\n",
        "\n",
        "for f in finished:\n",
        "  print(f'\\nYour {f} has been made')\n",
        "\n"
      ],
      "metadata": {
        "colab": {
          "base_uri": "https://localhost:8080/"
        },
        "id": "UtW3I7w96Dmx",
        "outputId": "33535c6d-643b-4563-83ff-f1a96668c678"
      },
      "execution_count": 88,
      "outputs": [
        {
          "output_type": "stream",
          "name": "stdout",
          "text": [
            "I made your chicken sandwich\n",
            "I made your shami sandwich\n",
            "I made your simple sandwich\n",
            "I made your club sandwich\n",
            "\n",
            "Your chicken has been made\n",
            "\n",
            "Your shami has been made\n",
            "\n",
            "Your simple has been made\n",
            "\n",
            "Your club has been made\n"
          ]
        }
      ]
    },
    {
      "cell_type": "code",
      "source": [
        "vacation={}\n",
        "flag=True\n",
        "while flag:\n",
        "  name=input('Enter your name: ')\n",
        "  place=input('Which place do you want to visit? ')\n",
        "  vacation[name]=place\n",
        "\n",
        "  repeat=input('Do you want another user y/n? ')\n",
        "  if repeat=='n':\n",
        "    flag=False\n",
        "print('\\nPoll result')\n",
        "for name,place in vacation.items():\n",
        "  print(f'{name.title()} want to visit {place.title()}')\n"
      ],
      "metadata": {
        "colab": {
          "base_uri": "https://localhost:8080/"
        },
        "id": "cDRVH5mn8lTY",
        "outputId": "9893a4b5-82ce-4231-b004-8f96e34fde7d"
      },
      "execution_count": 89,
      "outputs": [
        {
          "output_type": "stream",
          "name": "stdout",
          "text": [
            "Enter your name: ali\n",
            "Which place do you want to visit? france\n",
            "Do you want another user y/n? n\n",
            "\n",
            "Poll result\n",
            "Ali want to visit France\n"
          ]
        }
      ]
    },
    {
      "cell_type": "markdown",
      "source": [
        "# ***Functions***"
      ],
      "metadata": {
        "id": "p_N2zyTgDpAy"
      }
    },
    {
      "cell_type": "code",
      "source": [
        "def greet(username):\n",
        "  print(f'Hello! {username.title()}')\n",
        "greet('Hammad')\n",
        "greet('usman')\n",
        "greet('tyb')"
      ],
      "metadata": {
        "colab": {
          "base_uri": "https://localhost:8080/"
        },
        "id": "cvCEDwhSDvKs",
        "outputId": "d5ea57cd-8a66-4ce2-e3c2-10166a911e79"
      },
      "execution_count": 90,
      "outputs": [
        {
          "output_type": "stream",
          "name": "stdout",
          "text": [
            "Hello! Hammad\n",
            "Hello! Usman\n",
            "Hello! Tyb\n"
          ]
        }
      ]
    },
    {
      "cell_type": "code",
      "source": [
        "def message():\n",
        "  print(\"I'm learning functions in this chapter.\")\n",
        "message()\n"
      ],
      "metadata": {
        "colab": {
          "base_uri": "https://localhost:8080/"
        },
        "id": "CwB7hnsrERM6",
        "outputId": "49ad3998-6ae1-40cf-b04e-944427280a9d"
      },
      "execution_count": 91,
      "outputs": [
        {
          "output_type": "stream",
          "name": "stdout",
          "text": [
            "I'm learning functions in this chapter.\n"
          ]
        }
      ]
    },
    {
      "cell_type": "code",
      "source": [
        "def book(title):\n",
        "  print(f\"One of my favourite book is {title.title()}\")\n",
        "book('rich dad poor dad')"
      ],
      "metadata": {
        "colab": {
          "base_uri": "https://localhost:8080/"
        },
        "id": "DT0u1avfGyvH",
        "outputId": "52473df7-a091-405b-bdc9-49e42c23a5da"
      },
      "execution_count": 92,
      "outputs": [
        {
          "output_type": "stream",
          "name": "stdout",
          "text": [
            "One of my favourite book is Rich Dad Poor Dad\n"
          ]
        }
      ]
    },
    {
      "cell_type": "code",
      "source": [
        "def animal(type,name):\n",
        "  print(f'I have a {type}')\n",
        "  print(f\"My {type}'s name is {name.title()}\")\n",
        "animal(type='dog',name='jacky')\n",
        "animal(name='lolo',type='donkey')"
      ],
      "metadata": {
        "colab": {
          "base_uri": "https://localhost:8080/"
        },
        "id": "aEiCF0r3LqQH",
        "outputId": "a1e47398-0244-4a1e-d43b-35ba603eb510"
      },
      "execution_count": 93,
      "outputs": [
        {
          "output_type": "stream",
          "name": "stdout",
          "text": [
            "I have a dog\n",
            "My dog's name is Jacky\n",
            "I have a donkey\n",
            "My donkey's name is Lolo\n"
          ]
        }
      ]
    },
    {
      "cell_type": "code",
      "source": [
        "def animal(name,type='dog'):\n",
        "  print(f'I have a {type}')\n",
        "  print(f\"My {type}'s name is {name.title()}\")\n",
        "animal(name='jacky')\n",
        "animal(name='lolo')"
      ],
      "metadata": {
        "colab": {
          "base_uri": "https://localhost:8080/"
        },
        "id": "bOdgIWxGSxp0",
        "outputId": "814f0ce0-c20e-4b13-bb42-c815cb3343b2"
      },
      "execution_count": 94,
      "outputs": [
        {
          "output_type": "stream",
          "name": "stdout",
          "text": [
            "I have a dog\n",
            "My dog's name is Jacky\n",
            "I have a dog\n",
            "My dog's name is Lolo\n"
          ]
        }
      ]
    },
    {
      "cell_type": "code",
      "source": [
        "def shirt(size,text):\n",
        "  print(f\"The size of the shirt is {size} and the text is {text}\")\n",
        "shirt(size='M',text='Pakistan')"
      ],
      "metadata": {
        "colab": {
          "base_uri": "https://localhost:8080/"
        },
        "id": "IxdXDlNwdV-E",
        "outputId": "135bbcb7-d0c9-4e8e-fc70-09a38f746ce8"
      },
      "execution_count": 95,
      "outputs": [
        {
          "output_type": "stream",
          "name": "stdout",
          "text": [
            "The size of the shirt is M and the text is Pakistan\n"
          ]
        }
      ]
    },
    {
      "cell_type": "code",
      "source": [
        "def shirt(size='Larger',text='I love Python'):\n",
        "  print(f\"The size of the shirt is {size} and the text is {text}\")\n",
        "shirt()"
      ],
      "metadata": {
        "colab": {
          "base_uri": "https://localhost:8080/"
        },
        "id": "PfXRLnojeA9A",
        "outputId": "df644bf6-77a7-4845-96f3-3896cc59f986"
      },
      "execution_count": 96,
      "outputs": [
        {
          "output_type": "stream",
          "name": "stdout",
          "text": [
            "The size of the shirt is Larger and the text is I love Python\n"
          ]
        }
      ]
    },
    {
      "cell_type": "code",
      "source": [
        "def shirt(size='Larger',text='I love Python'):\n",
        "  print(f\"The size of the shirt is {size} and the text is {text}\")\n",
        "shirt(size='small')"
      ],
      "metadata": {
        "colab": {
          "base_uri": "https://localhost:8080/"
        },
        "id": "N4k6xfYsec_e",
        "outputId": "caad892f-0dca-4616-86b7-b9ca0e96ed69"
      },
      "execution_count": 97,
      "outputs": [
        {
          "output_type": "stream",
          "name": "stdout",
          "text": [
            "The size of the shirt is small and the text is I love Python\n"
          ]
        }
      ]
    },
    {
      "cell_type": "code",
      "source": [
        "def fullname(first,last):\n",
        "  name=f\"{first.title()} {last.title()}\"\n",
        "  return name\n",
        "\n",
        "a=fullname('Hammad','Hassan')\n",
        "print(a)\n",
        "\n"
      ],
      "metadata": {
        "colab": {
          "base_uri": "https://localhost:8080/"
        },
        "id": "n3nAyqpnGEbz",
        "outputId": "4d02fdc1-4832-4c50-9d1d-755b7b2504a1"
      },
      "execution_count": 98,
      "outputs": [
        {
          "output_type": "stream",
          "name": "stdout",
          "text": [
            "Hammad Hassan\n"
          ]
        }
      ]
    },
    {
      "cell_type": "code",
      "source": [
        "def fullname(first,last,middle=''):\n",
        "  if middle:\n",
        "    name=f'{first} {middle} {last}'\n",
        "  else:\n",
        "    name=f'{first} {last}'\n",
        "\n",
        "  return name\n",
        "fullname('ali','usman','peer')"
      ],
      "metadata": {
        "colab": {
          "base_uri": "https://localhost:8080/",
          "height": 35
        },
        "id": "nrN7uDEXH2gf",
        "outputId": "20d2b4b5-8696-4a3a-fb6c-58fc83111cf5"
      },
      "execution_count": 99,
      "outputs": [
        {
          "output_type": "execute_result",
          "data": {
            "text/plain": [
              "'ali peer usman'"
            ],
            "application/vnd.google.colaboratory.intrinsic+json": {
              "type": "string"
            }
          },
          "metadata": {},
          "execution_count": 99
        }
      ]
    },
    {
      "cell_type": "code",
      "source": [
        "fullname('ali','usman')"
      ],
      "metadata": {
        "colab": {
          "base_uri": "https://localhost:8080/",
          "height": 35
        },
        "id": "jfkO_94eI_S0",
        "outputId": "7e6cd573-08df-4d07-9ad7-f8e66c94f291"
      },
      "execution_count": 100,
      "outputs": [
        {
          "output_type": "execute_result",
          "data": {
            "text/plain": [
              "'ali usman'"
            ],
            "application/vnd.google.colaboratory.intrinsic+json": {
              "type": "string"
            }
          },
          "metadata": {},
          "execution_count": 100
        }
      ]
    },
    {
      "cell_type": "code",
      "source": [
        "def name(first,last):\n",
        "  full={'firstname':first.title(),'lastname':last.title()}\n",
        "  return full\n",
        "a=name('ali','usman')\n",
        "print(a)"
      ],
      "metadata": {
        "colab": {
          "base_uri": "https://localhost:8080/"
        },
        "id": "t2lQMrtRK9HS",
        "outputId": "313b45fc-42d4-4016-d247-d84012b8a59d"
      },
      "execution_count": 101,
      "outputs": [
        {
          "output_type": "stream",
          "name": "stdout",
          "text": [
            "{'firstname': 'Ali', 'lastname': 'Usman'}\n"
          ]
        }
      ]
    },
    {
      "cell_type": "code",
      "source": [
        "def person(first,last,age=None):\n",
        "  if age:\n",
        "    full={'firstname':first.title(),'lastname':last.title(),'age':age}\n",
        "  else:\n",
        "    full={'firstname':first.title(),'lastname':last.title()}\n",
        "  return full\n",
        "person('ali','usman',20)\n"
      ],
      "metadata": {
        "colab": {
          "base_uri": "https://localhost:8080/"
        },
        "id": "8OsspMZULqW9",
        "outputId": "30e5f9c1-ac4b-426a-dfe7-0b6f01fe8b01"
      },
      "execution_count": 102,
      "outputs": [
        {
          "output_type": "execute_result",
          "data": {
            "text/plain": [
              "{'firstname': 'Ali', 'lastname': 'Usman', 'age': 20}"
            ]
          },
          "metadata": {},
          "execution_count": 102
        }
      ]
    },
    {
      "cell_type": "code",
      "source": [
        "def full(first,last):\n",
        "  name=f'{first} {last}'\n",
        "  return name\n",
        "flag=True\n",
        "while flag:\n",
        "  print('(Enter q to quit)')\n",
        "  f=input('Enter your first name: ')\n",
        "  l=input('Enter your last name: ')\n",
        "  if f=='q' or l=='q':\n",
        "    flag=False\n",
        "  else:\n",
        "   a=full(f.title(),l.title())\n",
        "   print(f'Hello {a}')"
      ],
      "metadata": {
        "colab": {
          "base_uri": "https://localhost:8080/"
        },
        "id": "RNLQ8Tf9PMQZ",
        "outputId": "82730e4c-99bd-4aaf-c5ed-81575ab63413"
      },
      "execution_count": 103,
      "outputs": [
        {
          "name": "stdout",
          "output_type": "stream",
          "text": [
            "(Enter q to quit)\n",
            "Enter your first name: ali\n",
            "Enter your last name: usman\n",
            "Hello Ali Usman\n",
            "(Enter q to quit)\n",
            "Enter your first name: q\n",
            "Enter your last name: q\n"
          ]
        }
      ]
    },
    {
      "cell_type": "code",
      "source": [
        "def country(city,coun):\n",
        "  name=f\"'{city.title()}', '{coun.title()}'\"\n",
        "  print(name)\n",
        "country('lahore','pakistan')\n",
        "country('dehli','india')\n",
        "country('londan','england')"
      ],
      "metadata": {
        "colab": {
          "base_uri": "https://localhost:8080/"
        },
        "id": "-zrDArRaW6gS",
        "outputId": "26f612a5-1b83-44b3-9a23-bdd49b4c4cfb"
      },
      "execution_count": 104,
      "outputs": [
        {
          "output_type": "stream",
          "name": "stdout",
          "text": [
            "'Lahore', 'Pakistan'\n",
            "'Dehli', 'India'\n",
            "'Londan', 'England'\n"
          ]
        }
      ]
    },
    {
      "cell_type": "code",
      "source": [
        "def song(name,singer,year=None):\n",
        "  if year:\n",
        "    full={\"Song Name\":name.title(),\"Singer\":singer.title(),\"Year\":year}\n",
        "  else:\n",
        "    full={\"Song Name\":name.title(),\"Singer\":singer.title()}\n",
        "  print(full)\n",
        "song('husn','anuv',2023)\n",
        "song('52 Bars','karan aujla')"
      ],
      "metadata": {
        "colab": {
          "base_uri": "https://localhost:8080/"
        },
        "id": "HV6UUeGUYViJ",
        "outputId": "e122dac9-0f21-4c1c-c9d6-7510fe5b7952"
      },
      "execution_count": 105,
      "outputs": [
        {
          "output_type": "stream",
          "name": "stdout",
          "text": [
            "{'Song Name': 'Husn', 'Singer': 'Anuv', 'Year': 2023}\n",
            "{'Song Name': '52 Bars', 'Singer': 'Karan Aujla'}\n"
          ]
        }
      ]
    },
    {
      "cell_type": "code",
      "source": [
        "def song(name,singer,year=None):\n",
        "  if year:\n",
        "    full={\"Name\":name.title(),\"Singer\":singer.title(),\"Year\":year}\n",
        "  else:\n",
        "    full={\"Name\":name.title(),\"Singer\":singer.title()}\n",
        "  return(full)\n",
        "\n",
        "while True:\n",
        "  print('(Enter n to quit)')\n",
        "  name=input('Enter the song name: ')\n",
        "  if name=='n':\n",
        "    break\n",
        "  singer=input('Enter the singer: ')\n",
        "  if singer=='n':\n",
        "    break\n",
        "  a=song(name,singer)\n",
        "  print(a)\n",
        "\n"
      ],
      "metadata": {
        "colab": {
          "base_uri": "https://localhost:8080/"
        },
        "id": "MDxqWCYubKSR",
        "outputId": "a36737d8-4cf1-4500-d1c5-4bf1128677e0"
      },
      "execution_count": 106,
      "outputs": [
        {
          "name": "stdout",
          "output_type": "stream",
          "text": [
            "(Enter n to quit)\n",
            "Enter the song name: dooria\n",
            "Enter the singer: atif\n",
            "{'Name': 'Dooria', 'Singer': 'Atif'}\n",
            "(Enter n to quit)\n",
            "Enter the song name: n\n"
          ]
        }
      ]
    },
    {
      "cell_type": "code",
      "source": [
        "def greeting(names):\n",
        "  for name in names:\n",
        "    greet=f'Hello {name.title()}'\n",
        "    print(greet)\n",
        "usernames=['ali','usman','me']\n",
        "greeting(usernames)\n",
        "greeting(['zaman','arslan','peer'])"
      ],
      "metadata": {
        "colab": {
          "base_uri": "https://localhost:8080/"
        },
        "id": "ARr2QXdkjItM",
        "outputId": "da227ae5-db31-4c5b-a906-92bf64937eea"
      },
      "execution_count": 107,
      "outputs": [
        {
          "output_type": "stream",
          "name": "stdout",
          "text": [
            "Hello Ali\n",
            "Hello Usman\n",
            "Hello Me\n",
            "Hello Zaman\n",
            "Hello Arslan\n",
            "Hello Peer\n"
          ]
        }
      ]
    },
    {
      "cell_type": "code",
      "source": [
        "def models(unprinted,complete):\n",
        "  while unprinted:\n",
        "    done=unprinted.pop()\n",
        "    print(f'Printing model: {done}')\n",
        "    complete.append(done)\n",
        "def show(complete):\n",
        "  print('\\nAfter printing')\n",
        "  for i in complete:\n",
        "    print(i)\n",
        "\n",
        "unprinted = ['phone case', 'robot pendant', 'alpha']\n",
        "complete=[]\n",
        "models(unprinted,complete)\n",
        "show(complete)"
      ],
      "metadata": {
        "colab": {
          "base_uri": "https://localhost:8080/"
        },
        "id": "g-YWLNahm0KD",
        "outputId": "6abd1398-0698-4dad-b9e4-94a8dc25f92e"
      },
      "execution_count": 108,
      "outputs": [
        {
          "output_type": "stream",
          "name": "stdout",
          "text": [
            "Printing model: alpha\n",
            "Printing model: robot pendant\n",
            "Printing model: phone case\n",
            "\n",
            "After printing\n",
            "alpha\n",
            "robot pendant\n",
            "phone case\n"
          ]
        }
      ]
    },
    {
      "cell_type": "code",
      "source": [
        "fruits=['apple','banana','peech']\n",
        "complete=[]\n",
        "models(fruits,complete)\n",
        "show(complete)"
      ],
      "metadata": {
        "colab": {
          "base_uri": "https://localhost:8080/"
        },
        "id": "eVV7bIoCsg-B",
        "outputId": "648a9290-d548-480f-cca0-c01752ad90c9"
      },
      "execution_count": 109,
      "outputs": [
        {
          "output_type": "stream",
          "name": "stdout",
          "text": [
            "Printing model: peech\n",
            "Printing model: banana\n",
            "Printing model: apple\n",
            "\n",
            "After printing\n",
            "peech\n",
            "banana\n",
            "apple\n"
          ]
        }
      ]
    },
    {
      "cell_type": "code",
      "source": [
        "models(fruits[:],complete)\n",
        "show (complete)"
      ],
      "metadata": {
        "colab": {
          "base_uri": "https://localhost:8080/"
        },
        "id": "045B61cMkjCZ",
        "outputId": "12aebaa2-7c89-47ef-85f8-0d8a232a7139"
      },
      "execution_count": 110,
      "outputs": [
        {
          "output_type": "stream",
          "name": "stdout",
          "text": [
            "\n",
            "After printing\n",
            "peech\n",
            "banana\n",
            "apple\n"
          ]
        }
      ]
    },
    {
      "cell_type": "code",
      "source": [
        "def show_text(messages):\n",
        "  for i in messages:\n",
        "    print(i)\n",
        "messages=['Hello','How are you','can i help you','Doing great']\n",
        "show_text(messages)"
      ],
      "metadata": {
        "colab": {
          "base_uri": "https://localhost:8080/"
        },
        "id": "ZqF-8mavlh6f",
        "outputId": "aa81bced-018c-46b8-fbba-898c93fe99a9"
      },
      "execution_count": 111,
      "outputs": [
        {
          "output_type": "stream",
          "name": "stdout",
          "text": [
            "Hello\n",
            "How are you\n",
            "can i help you\n",
            "Doing great\n"
          ]
        }
      ]
    },
    {
      "cell_type": "code",
      "source": [
        "def show_text(messages):\n",
        "  for i in messages:\n",
        "    print(i)\n",
        "def send_text(messages,sent):\n",
        "  while messages:\n",
        "    done=messages.pop()\n",
        "    print(f'Sending message: {done}')\n",
        "    sent.append(done)\n",
        "messages=['Hello','How are you','can i help you','Doing great']\n",
        "sent=[]\n",
        "show_text(messages)\n",
        "send_text(messages,sent)\n",
        "print(f'\\n{messages}')\n",
        "print(f'\\n{sent}')"
      ],
      "metadata": {
        "colab": {
          "base_uri": "https://localhost:8080/"
        },
        "id": "nAhsbVHJnC1a",
        "outputId": "611af78b-e49a-4d45-c55d-57eee74f5c6a"
      },
      "execution_count": 112,
      "outputs": [
        {
          "output_type": "stream",
          "name": "stdout",
          "text": [
            "Hello\n",
            "How are you\n",
            "can i help you\n",
            "Doing great\n",
            "Sending message: Doing great\n",
            "Sending message: can i help you\n",
            "Sending message: How are you\n",
            "Sending message: Hello\n",
            "\n",
            "[]\n",
            "\n",
            "['Doing great', 'can i help you', 'How are you', 'Hello']\n"
          ]
        }
      ]
    },
    {
      "cell_type": "code",
      "source": [
        "def show_text(messages):\n",
        "  for i in messages:\n",
        "    print(i)\n",
        "def send_text(messages,sent):\n",
        "  while messages:\n",
        "    done=messages.pop()\n",
        "    print(f'Sending message: {done}')\n",
        "    sent.append(done)\n",
        "messages=['Hello','How are you','can i help you','Doing great']\n",
        "sent=[]\n",
        "show_text(messages)\n",
        "send_text(messages[:],sent)\n",
        "print(f'\\n{messages}')\n",
        "print(f'\\n{sent}')"
      ],
      "metadata": {
        "colab": {
          "base_uri": "https://localhost:8080/"
        },
        "id": "o2FKNVWSJI8a",
        "outputId": "2f739259-ea6e-4314-dde7-9100e4ec2fb3"
      },
      "execution_count": 113,
      "outputs": [
        {
          "output_type": "stream",
          "name": "stdout",
          "text": [
            "Hello\n",
            "How are you\n",
            "can i help you\n",
            "Doing great\n",
            "Sending message: Doing great\n",
            "Sending message: can i help you\n",
            "Sending message: How are you\n",
            "Sending message: Hello\n",
            "\n",
            "['Hello', 'How are you', 'can i help you', 'Doing great']\n",
            "\n",
            "['Doing great', 'can i help you', 'How are you', 'Hello']\n"
          ]
        }
      ]
    },
    {
      "cell_type": "code",
      "source": [
        "def pizza(*toppings):\n",
        "  print(toppings)\n",
        "pizza('slice','fries','kabab')"
      ],
      "metadata": {
        "colab": {
          "base_uri": "https://localhost:8080/"
        },
        "id": "Ai2g5ficLbqO",
        "outputId": "2f1e7b8b-241e-4b82-c51a-24c974db4da9"
      },
      "execution_count": 114,
      "outputs": [
        {
          "output_type": "stream",
          "name": "stdout",
          "text": [
            "('slice', 'fries', 'kabab')\n"
          ]
        }
      ]
    },
    {
      "cell_type": "code",
      "source": [
        "def pizza(size,*toppings):\n",
        "  print(f'The {size}-inch pizza is making with the following toppings: ')\n",
        "  for topping in toppings:\n",
        "    print(topping)\n",
        "pizza(22,'slice','fries','kabab')"
      ],
      "metadata": {
        "colab": {
          "base_uri": "https://localhost:8080/"
        },
        "id": "5Z_1WbBKMK23",
        "outputId": "6c622b95-f453-43d1-f341-192a2ce9fa0f"
      },
      "execution_count": 115,
      "outputs": [
        {
          "output_type": "stream",
          "name": "stdout",
          "text": [
            "The 22-inch pizza is making with the following toppings: \n",
            "slice\n",
            "fries\n",
            "kabab\n"
          ]
        }
      ]
    },
    {
      "cell_type": "code",
      "source": [
        "def user_profile(first,last,**user_info):\n",
        "  user_info['first_']=first\n",
        "  user_info['last_']=last\n",
        "  return user_info\n",
        "\n",
        "user=user_profile('ali','usman',location='lahore',contact=123,field='DS')\n",
        "print(user)"
      ],
      "metadata": {
        "colab": {
          "base_uri": "https://localhost:8080/"
        },
        "id": "55d4CejDPV-m",
        "outputId": "cd321a9b-ad5e-45db-f37a-f49cf48585ea"
      },
      "execution_count": 116,
      "outputs": [
        {
          "output_type": "stream",
          "name": "stdout",
          "text": [
            "{'location': 'lahore', 'contact': 123, 'field': 'DS', 'first_': 'ali', 'last_': 'usman'}\n"
          ]
        }
      ]
    },
    {
      "cell_type": "code",
      "source": [
        "def sandwitches(*things):\n",
        "  print(f' the following things on sand {things}')\n",
        "sandwitches('slices','chicken','cheese')\n",
        "sandwitches('X','Y','Z')\n",
        "sandwitches('A','B','C')"
      ],
      "metadata": {
        "colab": {
          "base_uri": "https://localhost:8080/"
        },
        "id": "W_cFx5PiXI04",
        "outputId": "76091332-514f-4d9b-d085-b270d6cadff4"
      },
      "execution_count": 117,
      "outputs": [
        {
          "output_type": "stream",
          "name": "stdout",
          "text": [
            " the following things on sand ('slices', 'chicken', 'cheese')\n",
            " the following things on sand ('X', 'Y', 'Z')\n",
            " the following things on sand ('A', 'B', 'C')\n"
          ]
        }
      ]
    },
    {
      "cell_type": "code",
      "source": [
        "def build_profile(first,last,**info):\n",
        "  info['First_name']=first\n",
        "  info['last_name']=last\n",
        "  return info\n",
        "myself=build_profile('Hammad','Hassan',Uni='GCU',Aim=\"DS\",Country='PAKISTAN')\n",
        "print(myself)"
      ],
      "metadata": {
        "colab": {
          "base_uri": "https://localhost:8080/"
        },
        "id": "3ehmalZQYBT0",
        "outputId": "e3df996a-98ca-4be1-f2e1-49783f48870b"
      },
      "execution_count": 118,
      "outputs": [
        {
          "output_type": "stream",
          "name": "stdout",
          "text": [
            "{'Uni': 'GCU', 'Aim': 'DS', 'Country': 'PAKISTAN', 'First_name': 'Hammad', 'last_name': 'Hassan'}\n"
          ]
        }
      ]
    },
    {
      "cell_type": "code",
      "source": [
        "def features(manufacturere,model,**car_info):\n",
        "  car_info['manufacturere']=manufacturere\n",
        "  car_info['Model']=model\n",
        "  return car_info\n",
        "car=features('Hundai','Civic',Color='Black',headlights='High')\n",
        "print(car)"
      ],
      "metadata": {
        "colab": {
          "base_uri": "https://localhost:8080/"
        },
        "id": "XGYycxMoZtV7",
        "outputId": "8af409a8-27b8-48a0-ff0b-fc5fc3fe0dcb"
      },
      "execution_count": 119,
      "outputs": [
        {
          "output_type": "stream",
          "name": "stdout",
          "text": [
            "{'Color': 'Black', 'headlights': 'High', 'manufacturere': 'Hundai', 'Model': 'Civic'}\n"
          ]
        }
      ]
    },
    {
      "cell_type": "code",
      "source": [
        "n = int(input())\n",
        "i=1\n",
        "while i<=n:\n",
        "  print(str(i),end='')\n",
        "  i+=1"
      ],
      "metadata": {
        "colab": {
          "base_uri": "https://localhost:8080/"
        },
        "id": "oXYMd61BsrG5",
        "outputId": "d2aa5e2d-6968-4f04-85b7-bbfbe4a68eb4"
      },
      "execution_count": 120,
      "outputs": [
        {
          "output_type": "stream",
          "name": "stdout",
          "text": [
            "5\n",
            "12345"
          ]
        }
      ]
    },
    {
      "cell_type": "markdown",
      "source": [
        "# ***Chapter#9 Classes***"
      ],
      "metadata": {
        "id": "Bgs5AYSnJfQl"
      }
    },
    {
      "cell_type": "code",
      "source": [
        "class Dog:\n",
        "  def init(self,name,age):\n",
        "    self.name='Jacky'\n",
        "    self.age=3\n",
        "\n",
        "  def sit(self):\n",
        "    print(f'{self.name} is sitting')\n",
        "\n",
        "  def roll_over(self):\n",
        "    print(f'{self.name} rolled over')\n",
        "\n",
        "my_dog = Dog()\n",
        "  #print(f\"My dog's name is {my_dog.name}.\")\n",
        "  #print(f\"My dog is {my_dog.age} years old.\")\n",
        "my_dog.init('Jacjy',2)\n",
        "my_dog.sit()\n",
        "my_dog.roll_over()"
      ],
      "metadata": {
        "id": "g56V4rAnJmMb",
        "colab": {
          "base_uri": "https://localhost:8080/"
        },
        "outputId": "ce83dae4-156d-4c46-b3fc-122a6ae5f0ae"
      },
      "execution_count": 121,
      "outputs": [
        {
          "output_type": "stream",
          "name": "stdout",
          "text": [
            "Jacky is sitting\n",
            "Jacky rolled over\n"
          ]
        }
      ]
    },
    {
      "cell_type": "code",
      "source": [
        "class Faculty:\n",
        "  def data(self):\n",
        "    self.name=input('Enter employee name: ')\n",
        "    self.id=int(input('Enter its Id: '))\n",
        "    self.salary=float(input('Enter employee salary: '))\n",
        "\n",
        "  def display(self):\n",
        "    print('Name:',self.name)\n",
        "    print('Id:',self.id)\n",
        "    print('Salary:',self.salary)\n",
        "\n",
        "a=Faculty()\n",
        "a.data()\n",
        "a.display()\n"
      ],
      "metadata": {
        "colab": {
          "base_uri": "https://localhost:8080/"
        },
        "id": "4mYH3b6IMgWk",
        "outputId": "a7bfe33d-9aa8-462c-951f-78f4ed412f4b"
      },
      "execution_count": 122,
      "outputs": [
        {
          "output_type": "stream",
          "name": "stdout",
          "text": [
            "Enter employee name: ali\n",
            "Enter its Id: 6\n",
            "Enter employee salary: 24000\n",
            "Name: ali\n",
            "Id: 6\n",
            "Salary: 24000.0\n"
          ]
        }
      ]
    },
    {
      "cell_type": "code",
      "source": [
        "class Student:\n",
        "  def __init__(self,name,roll_num,grades):\n",
        "    self.name=name\n",
        "    self.roll=roll_num\n",
        "    self.num=grades\n",
        "\n",
        "  def avg(self):\n",
        "    avg=sum(self.num)/len(self.num)\n",
        "    return avg\n",
        "\n",
        "first_std=Student('ali',1009,[88,87,90])\n",
        "secnd_std=Student('Hammad',1041,[100,100,100])\n",
        "print(first_std.name)\n",
        "print(first_std.avg())\n",
        "print(secnd_std.name)\n",
        "print(secnd_std.avg())\n"
      ],
      "metadata": {
        "colab": {
          "base_uri": "https://localhost:8080/"
        },
        "id": "XFYSFr_hBWX4",
        "outputId": "1a299ecd-f14e-4ad3-aa6f-5f86c088e588"
      },
      "execution_count": 123,
      "outputs": [
        {
          "output_type": "stream",
          "name": "stdout",
          "text": [
            "ali\n",
            "88.33333333333333\n",
            "Hammad\n",
            "100.0\n"
          ]
        }
      ]
    },
    {
      "cell_type": "code",
      "source": [
        "class Resturant:\n",
        "  def __init__(self,restaurant_name,cuisine_type):\n",
        "    self.name=restaurant_name\n",
        "    self.cuisine=cuisine_type\n",
        "\n",
        "  def describe_resturant(self):\n",
        "    print(f'{self.name} has only {self.cuisine} cuisine')\n",
        "\n",
        "  def open_restaurant(self):\n",
        "    print(f'{self.name} is open now')\n",
        "\n",
        "rest=Resturant('PC','Pakistani')\n",
        "print(rest.name)\n",
        "print(rest.cuisine)\n",
        "rest.describe_resturant()\n",
        "rest.open_restaurant()"
      ],
      "metadata": {
        "colab": {
          "base_uri": "https://localhost:8080/"
        },
        "id": "u0N2EwCUD-_n",
        "outputId": "25ed42ae-09c2-46f1-a997-0378a72b9d43"
      },
      "execution_count": 124,
      "outputs": [
        {
          "output_type": "stream",
          "name": "stdout",
          "text": [
            "PC\n",
            "Pakistani\n",
            "PC has only Pakistani cuisine\n",
            "PC is open now\n"
          ]
        }
      ]
    },
    {
      "cell_type": "code",
      "source": [
        "class Resturant:\n",
        "  def __init__(self,restaurant_name,cuisine_type):\n",
        "    self.name=restaurant_name\n",
        "    self.cuisine=cuisine_type\n",
        "\n",
        "  def describe_resturant(self):\n",
        "    print(f'{self.name} has only {self.cuisine} cuisine')\n",
        "\n",
        "  def open_restaurant(self):\n",
        "    print(f'{self.name} is open now')\n",
        "\n",
        "rest1 = Resturant('PC', 'Pakistani')\n",
        "rest2 = Resturant('Dhbi', 'Indian')\n",
        "rest3 = Resturant('Yamm', 'Italian')\n",
        "\n",
        "rest1.describe_resturant()\n",
        "rest2.describe_resturant()\n",
        "rest3.describe_resturant()\n",
        "\n"
      ],
      "metadata": {
        "colab": {
          "base_uri": "https://localhost:8080/"
        },
        "id": "QPkrPAIcIIig",
        "outputId": "bcc44cae-8b8e-4018-89a8-3b272f80067d"
      },
      "execution_count": 125,
      "outputs": [
        {
          "output_type": "stream",
          "name": "stdout",
          "text": [
            "PC has only Pakistani cuisine\n",
            "Dhbi has only Indian cuisine\n",
            "Yamm has only Italian cuisine\n"
          ]
        }
      ]
    },
    {
      "cell_type": "code",
      "source": [
        "class User:\n",
        "  def __init__(self,first_name,last_name,id,app):\n",
        "    self.fname=first_name\n",
        "    self.lname=last_name\n",
        "    self.id=id\n",
        "    self.application=app\n",
        "\n",
        "  def describe_user(self):\n",
        "    print(f'User named with {self.fname} {self.lname} has id {self.id} and use mostly {self.application}')\n",
        "\n",
        "  def greet_user(self):\n",
        "    print(f'Hello! {self.fname} {self.lname} welcome to our website')\n",
        "\n",
        "user1=User('Ali','Usman',1,'youtube')\n",
        "user2=User('Tayyab','Hassan',2,'whatsapp')\n",
        "user3=User('Mudassar','shah',3,'tiktok')\n",
        "\n",
        "user1.describe_user()\n",
        "user1.greet_user()\n",
        "\n",
        "user2.describe_user()\n",
        "user2.greet_user()\n",
        "\n",
        "user3.describe_user()\n",
        "user3.greet_user()"
      ],
      "metadata": {
        "colab": {
          "base_uri": "https://localhost:8080/"
        },
        "id": "ds0CVVoQJt_x",
        "outputId": "0ea09e3e-b82a-460b-96b5-05c0d1a15c94"
      },
      "execution_count": 126,
      "outputs": [
        {
          "output_type": "stream",
          "name": "stdout",
          "text": [
            "User named with Ali Usman has id 1 and use mostly youtube\n",
            "Hello! Ali Usman welcome to our website\n",
            "User named with Tayyab Hassan has id 2 and use mostly whatsapp\n",
            "Hello! Tayyab Hassan welcome to our website\n",
            "User named with Mudassar shah has id 3 and use mostly tiktok\n",
            "Hello! Mudassar shah welcome to our website\n"
          ]
        }
      ]
    },
    {
      "cell_type": "code",
      "source": [
        "class Car:\n",
        "  def __init__(self,make,model,year):\n",
        "    self.manufacturere=make\n",
        "    self.model=model\n",
        "    self.year=year\n",
        "    self.odometer=0\n",
        "\n",
        "  def get_descriptive_name(self):\n",
        "    long_name=f'{self.year} {self.manufacturere} {self.model}'\n",
        "    return long_name.title()\n",
        "\n",
        "  def read_odometer(self):\n",
        "    print(f'This car has {self.odometer} miles on it.')\n",
        "\n",
        "  def updated_odometer(self,milage):\n",
        "    self.odometer=milage\n",
        "\n",
        "  def incremented(self,miles):\n",
        "    self.odometer+=miles\n",
        "\n",
        "\n",
        "car=Car('audi','a4',2021)\n",
        "print(car.get_descriptive_name())\n",
        "car.updated_odometer(25)\n",
        "car.read_odometer()\n",
        "\n",
        "car.incremented(10)\n",
        "car.read_odometer()\n"
      ],
      "metadata": {
        "colab": {
          "base_uri": "https://localhost:8080/"
        },
        "id": "dNY2L8PkRbYG",
        "outputId": "bf70188b-585f-4248-fc8c-60024c31e950"
      },
      "execution_count": 127,
      "outputs": [
        {
          "output_type": "stream",
          "name": "stdout",
          "text": [
            "2021 Audi A4\n",
            "This car has 25 miles on it.\n",
            "This car has 35 miles on it.\n"
          ]
        }
      ]
    },
    {
      "cell_type": "code",
      "source": [
        "#Change Attribute directly in instance\n",
        "car.odometer=23\n",
        "car.read_odometer()"
      ],
      "metadata": {
        "colab": {
          "base_uri": "https://localhost:8080/"
        },
        "id": "LnC24lLVXptZ",
        "outputId": "1628112d-b340-4192-ebe1-cb9ebf1d506a"
      },
      "execution_count": 128,
      "outputs": [
        {
          "output_type": "stream",
          "name": "stdout",
          "text": [
            "This car has 23 miles on it.\n"
          ]
        }
      ]
    },
    {
      "cell_type": "code",
      "source": [
        "#Updating value thorough method\n",
        "def updated_odometer(self,milage):\n",
        "  self.odometer=milage\n",
        "\n",
        "  car.updated_odometer(25)\n",
        "  car.read_odometer()\n"
      ],
      "metadata": {
        "id": "w_NIHV86YIrX"
      },
      "execution_count": 129,
      "outputs": []
    },
    {
      "cell_type": "code",
      "source": [
        "class Resturant:\n",
        "  def __init__(self,restaurant_name,cuisine_type):\n",
        "    self.name=restaurant_name\n",
        "    self.cuisine=cuisine_type\n",
        "    self.served=0\n",
        "\n",
        "  def service(self):\n",
        "    print(f'This restaurant has {self.served} customers')\n",
        "\n",
        "  def describe_resturant(self):\n",
        "    print(f'{self.name} has only {self.cuisine} cuisine')\n",
        "\n",
        "  def open_restaurant(self):\n",
        "    print(f'{self.name} is open now')\n",
        "\n",
        "  def customer_served(self,num):\n",
        "    self.served=num\n",
        "\n",
        "  def increment_number_served(self,number):\n",
        "    self.served+=number\n",
        "\n",
        "\n",
        "restaurant=Resturant('PC','Pakistani')\n",
        "print(restaurant.describe_resturant())\n",
        "print(restaurant.open_restaurant())\n",
        "\n",
        "restaurant.service()\n",
        "restaurant.served=10\n",
        "restaurant.service()\n",
        "\n",
        "restaurant.customer_served(20)\n",
        "restaurant.service()\n",
        "\n",
        "restaurant.increment_number_served(10)\n",
        "restaurant.service()\n",
        "\n",
        "\n"
      ],
      "metadata": {
        "colab": {
          "base_uri": "https://localhost:8080/"
        },
        "id": "LFdQ19naYrCo",
        "outputId": "fdd416ec-cde7-4d5f-dfc9-06b253fa983e"
      },
      "execution_count": 130,
      "outputs": [
        {
          "output_type": "stream",
          "name": "stdout",
          "text": [
            "PC has only Pakistani cuisine\n",
            "None\n",
            "PC is open now\n",
            "None\n",
            "This restaurant has 0 customers\n",
            "This restaurant has 10 customers\n",
            "This restaurant has 20 customers\n",
            "This restaurant has 30 customers\n"
          ]
        }
      ]
    },
    {
      "cell_type": "code",
      "source": [
        "class User:\n",
        "  def __init__(self,first_name,last_name,id,app):\n",
        "    self.fname=first_name\n",
        "    self.lname=last_name\n",
        "    self.id=id\n",
        "    self.application=app\n",
        "    self.login_attempts=0\n",
        "\n",
        "  def describe_user(self):\n",
        "    print(f'User named with {self.fname} {self.lname} has id {self.id} and use mostly {self.application}')\n",
        "\n",
        "  def greet_user(self):\n",
        "    print(f'Hello! {self.fname} {self.lname} welcome to our website')\n",
        "\n",
        "  def increment_login_attempts(self):\n",
        "    self.login_attempts+=1\n",
        "\n",
        "  def reset_login_attempts(self):\n",
        "    self.login_attempts=0\n",
        "\n",
        "user=User('ali','usman',1,'whatsapp')\n",
        "user.increment_login_attempts()\n",
        "print(user.login_attempts)\n",
        "user.increment_login_attempts()\n",
        "print(user.login_attempts)\n",
        "user.reset_login_attempts()\n",
        "print(user.login_attempts)\n",
        "\n",
        "\n"
      ],
      "metadata": {
        "colab": {
          "base_uri": "https://localhost:8080/"
        },
        "id": "H3GDeGHVa5xP",
        "outputId": "ee7a7ed0-ebe7-4de5-ffdd-2bfb0752b044"
      },
      "execution_count": 131,
      "outputs": [
        {
          "output_type": "stream",
          "name": "stdout",
          "text": [
            "1\n",
            "2\n",
            "0\n"
          ]
        }
      ]
    },
    {
      "cell_type": "markdown",
      "source": [
        "# ***Inheritence***"
      ],
      "metadata": {
        "id": "K8wAJAtIc3dw"
      }
    },
    {
      "cell_type": "code",
      "source": [
        "class Car:\n",
        "  def __init__(self,make,model,year):\n",
        "    self.manufacturere=make\n",
        "    self.model=model\n",
        "    self.year=year\n",
        "    self.odometer=0\n",
        "\n",
        "  def get_descriptive_name(self):\n",
        "    long_name=f'{self.year} {self.manufacturere} {self.model}'\n",
        "    return long_name.title()\n",
        "\n",
        "  def read_odometer(self):\n",
        "    print(f'This car has {self.odometer} miles on it.')\n",
        "\n",
        "  def updated_odometer(self,milage):\n",
        "    self.odometer=milage\n",
        "\n",
        "  def incremented(self,miles):\n",
        "    self.odometer+=miles\n",
        "\n",
        "class ElectricCar(Car):\n",
        "  def __init__(self,make,model,year):\n",
        "    super().__init__(make,model,year)\n",
        "    self.battery=75\n",
        "\n",
        "  def define_battery(self):\n",
        "    print(f'This car has {self.battery}-Kwh battery')\n",
        "\n",
        "my_tesla=ElectricCar('Tesla','t1',2021)\n",
        "print(my_tesla.get_descriptive_name())\n",
        "my_tesla.define_battery()\n"
      ],
      "metadata": {
        "colab": {
          "base_uri": "https://localhost:8080/"
        },
        "id": "4_b9uI_Ec74t",
        "outputId": "84f4b983-9c9d-477e-c8e1-8fd22f06fae5"
      },
      "execution_count": 132,
      "outputs": [
        {
          "output_type": "stream",
          "name": "stdout",
          "text": [
            "2021 Tesla T1\n",
            "This car has 75-Kwh battery\n"
          ]
        }
      ]
    },
    {
      "cell_type": "code",
      "source": [
        "class Car:\n",
        "  def __init__(self,make,model,year):\n",
        "    self.manu=make\n",
        "    self.model=model\n",
        "    self.year=year\n",
        "    self.odometer=0\n",
        "\n",
        "  def describe_car(self):\n",
        "    long_name=(f'{self.year} {self.manu} {self.model}')\n",
        "    return long_name\n",
        "\n",
        "\n",
        "class Battery:\n",
        "  def __init__(self,battery_size=75):\n",
        "    self.battery=battery_size\n",
        "\n",
        "  def describe_battery(self):\n",
        "    print(f'The size of the battery is {self.battery}')\n",
        "\n",
        "  def range(self):\n",
        "    if self.battery==75:\n",
        "      range=260\n",
        "    elif self.battery==100:\n",
        "      range=300\n",
        "\n",
        "    print(f'This car can go about {range} miles on a full charge.')\n",
        "\n",
        "  def upgrade_battery(self):\n",
        "    if self.battery!=100:\n",
        "      self.battery=100\n",
        "\n",
        "\n",
        "class ElectricCar(Car):\n",
        "  def __init__(self,make,model,year):\n",
        "    super().__init__(make,model,year)\n",
        "    self.battery=Battery()\n",
        "\n",
        "my_tesla=ElectricCar('Tesla','T1',2021)\n",
        "print(my_tesla.describe_car())\n",
        "my_tesla.battery.describe_battery()\n",
        "my_tesla.battery.range()\n",
        "my_tesla.battery.upgrade_battery()\n",
        "my_tesla.battery.range()\n"
      ],
      "metadata": {
        "colab": {
          "base_uri": "https://localhost:8080/"
        },
        "id": "v_vYtrVFbRUO",
        "outputId": "9dcd39be-e644-4d45-d1a6-efc4501314f7"
      },
      "execution_count": 133,
      "outputs": [
        {
          "output_type": "stream",
          "name": "stdout",
          "text": [
            "2021 Tesla T1\n",
            "The size of the battery is 75\n",
            "This car can go about 260 miles on a full charge.\n",
            "This car can go about 300 miles on a full charge.\n"
          ]
        }
      ]
    },
    {
      "cell_type": "code",
      "source": [
        "class Resturant:\n",
        "  def __init__(self,restaurant_name,cuisine_type):\n",
        "    self.name=restaurant_name\n",
        "    self.cuisine=cuisine_type\n",
        "    self.served=0\n",
        "\n",
        "  def service(self):\n",
        "    print(f'This restaurant has {self.served} customers')\n",
        "\n",
        "  def describe_resturant(self):\n",
        "    print(f'{self.name} has only {self.cuisine} cuisine')\n",
        "\n",
        "  def open_restaurant(self):\n",
        "    print(f'{self.name} is open now')\n",
        "\n",
        "  def customer_served(self,num):\n",
        "    self.served=num\n",
        "\n",
        "  def increment_number_served(self,number):\n",
        "    self.served+=number\n",
        "\n",
        "class IceCreamStand(Resturant):\n",
        "  def __init__(self,restaurant_name,cuisine_type):\n",
        "    super().__init__(restaurant_name,cuisine_type)\n",
        "    self.flavors=['vanila','choclate','strawberry']\n",
        "\n",
        "  def flavors1(self):\n",
        "    for i in self.flavors:\n",
        "      print(f'We have available flavor is {i}')\n",
        "\n",
        "fav_flav=IceCreamStand(\"PC\",\"Pak\")\n",
        "fav_flav.flavors1()"
      ],
      "metadata": {
        "colab": {
          "base_uri": "https://localhost:8080/"
        },
        "id": "Jaf_tNxd7ZAw",
        "outputId": "d07e4af0-c76c-4332-e330-837bd5ce5807"
      },
      "execution_count": 134,
      "outputs": [
        {
          "output_type": "stream",
          "name": "stdout",
          "text": [
            "We have available flavor is vanila\n",
            "We have available flavor is choclate\n",
            "We have available flavor is strawberry\n"
          ]
        }
      ]
    },
    {
      "cell_type": "code",
      "source": [
        "class User:\n",
        "  def __init__(self,first_name,last_name,id,app):\n",
        "    self.fname=first_name\n",
        "    self.lname=last_name\n",
        "    self.id=id\n",
        "    self.application=app\n",
        "    self.login_attempts=0\n",
        "\n",
        "  def describe_user(self):\n",
        "    print(f'User named with {self.fname} {self.lname} has id {self.id} and use mostly {self.application}')\n",
        "\n",
        "  def greet_user(self):\n",
        "    print(f'Hello! {self.fname} {self.lname} welcome to our website')\n",
        "\n",
        "  def increment_login_attempts(self):\n",
        "    self.login_attempts+=1\n",
        "\n",
        "  def reset_login_attempts(self):\n",
        "    self.login_attempts=0\n",
        "\n",
        "class Admin(User):\n",
        "  def __init__(self,first_name,last_name,id,app):\n",
        "    super().__init__(first_name,last_name,id,app)\n",
        "    self.privileges=[\"can add post\", \"can delete post\", \"can ban user\",\"can remove users\"]\n",
        "\n",
        "  def show_privilege(self):\n",
        "    for i in self.privileges:\n",
        "      print(f'Admin {i}')\n",
        "\n",
        "Administrator=Admin('Ali','Usman',1,'whatsapp')\n",
        "Administrator.show_privilege()\n"
      ],
      "metadata": {
        "colab": {
          "base_uri": "https://localhost:8080/"
        },
        "id": "iSK8npI1_Qb7",
        "outputId": "2d9d26b9-8bb3-4a47-b3ca-a878718e643f"
      },
      "execution_count": 135,
      "outputs": [
        {
          "output_type": "stream",
          "name": "stdout",
          "text": [
            "Admin can add post\n",
            "Admin can delete post\n",
            "Admin can ban user\n",
            "Admin can remove users\n"
          ]
        }
      ]
    },
    {
      "cell_type": "code",
      "source": [
        "class Privileges:\n",
        "  def __init__(self,privileges=None):\n",
        "    if privileges is None:\n",
        "      self.privileges = [\"can add post\", \"can delete post\", \"can ban user\",\"can remove users\"]\n",
        "    else:\n",
        "      self.privileges = privileges\n",
        "\n",
        "  def show_privilege(self):\n",
        "    for i in self.privileges:\n",
        "      print(f'Admin {i}')\n",
        "\n",
        "\n",
        "class Admin(User):\n",
        "  def __init__(self,first_name,last_name,id,app):\n",
        "    super().__init__(first_name,last_name,id,app)\n",
        "    self.privileges = Privileges()\n",
        "    #self.privileges=[\"can add post\", \"can delete post\", \"can ban user\",\"can remove users\"]\n",
        "\n",
        "\n",
        "adm=Admin('Ali','uSman',1,'what')\n",
        "adm.privileges.show_privilege()\n"
      ],
      "metadata": {
        "colab": {
          "base_uri": "https://localhost:8080/"
        },
        "id": "22SeJT-qCieG",
        "outputId": "4373f871-74c0-4749-b866-1dc3d9375759"
      },
      "execution_count": 136,
      "outputs": [
        {
          "output_type": "stream",
          "name": "stdout",
          "text": [
            "Admin can add post\n",
            "Admin can delete post\n",
            "Admin can ban user\n",
            "Admin can remove users\n"
          ]
        }
      ]
    },
    {
      "cell_type": "markdown",
      "source": [
        "***Python Library***"
      ],
      "metadata": {
        "id": "1LiQ-l7gQ8aW"
      }
    },
    {
      "cell_type": "code",
      "source": [
        "from random import randint\n",
        "class Dice:\n",
        "  def __init__(self,sides=6):\n",
        "    self.sides=sides\n",
        "\n",
        "  def roll_die(self):\n",
        "    return randint(1,self.sides)\n",
        "\n",
        "dice=Dice()\n",
        "for i in range(10):\n",
        "  print(dice.roll_die())\n",
        "\n",
        "print('-------------------')\n",
        "\n",
        "dice.sides=10\n",
        "for i in range(10):\n",
        "  print(dice.roll_die())\n",
        "\n",
        "print('-------------------')\n",
        "\n",
        "dice.sides=20\n",
        "for i in range(10):\n",
        "  print(dice.roll_die())\n",
        "\n"
      ],
      "metadata": {
        "colab": {
          "base_uri": "https://localhost:8080/"
        },
        "id": "ByKbZyEyI7CW",
        "outputId": "58b42454-bb28-4d5f-e501-abb6661518a0"
      },
      "execution_count": 137,
      "outputs": [
        {
          "output_type": "stream",
          "name": "stdout",
          "text": [
            "2\n",
            "5\n",
            "2\n",
            "3\n",
            "4\n",
            "4\n",
            "2\n",
            "4\n",
            "1\n",
            "1\n",
            "-------------------\n",
            "7\n",
            "7\n",
            "2\n",
            "5\n",
            "1\n",
            "6\n",
            "5\n",
            "6\n",
            "3\n",
            "6\n",
            "-------------------\n",
            "8\n",
            "19\n",
            "17\n",
            "2\n",
            "4\n",
            "4\n",
            "2\n",
            "20\n",
            "17\n",
            "9\n"
          ]
        }
      ]
    },
    {
      "cell_type": "code",
      "source": [
        "from random import choice\n",
        "lst=[1,2,3,4,5,6,7,8,9,10,'hero','shs','kmall','uhu','oko']\n",
        "\n",
        "winners=[]\n",
        "for i in range(4):\n",
        "  lucky=choice(lst)\n",
        "  winners.append(lucky)\n",
        "\n",
        "print(f\"The lucky ones who have these {winners} tickts win prizes.\")\n",
        "\n"
      ],
      "metadata": {
        "colab": {
          "base_uri": "https://localhost:8080/"
        },
        "id": "HZNxu9ZOUXPw",
        "outputId": "50f92bcd-cce1-4ff1-9ed5-634fb99948c0"
      },
      "execution_count": 138,
      "outputs": [
        {
          "output_type": "stream",
          "name": "stdout",
          "text": [
            "The lucky ones who have these [7, 4, 1, 'hero'] tickts win prizes.\n"
          ]
        }
      ]
    },
    {
      "cell_type": "code",
      "source": [],
      "metadata": {
        "id": "_TB8ISnXZLKZ"
      },
      "execution_count": 138,
      "outputs": []
    },
    {
      "cell_type": "markdown",
      "source": [
        "# ***Chapter#10 Files and Exceptions***"
      ],
      "metadata": {
        "id": "0czWJtxUcBib"
      }
    },
    {
      "cell_type": "code",
      "source": [
        "try:\n",
        "  print(5/0)\n",
        "except ZeroDivisionError:\n",
        "  print(\"You can't divide by zero!\")\n",
        "\n"
      ],
      "metadata": {
        "colab": {
          "base_uri": "https://localhost:8080/"
        },
        "id": "EZbWKIsOcIhg",
        "outputId": "5b743c2a-2d50-442f-f911-921226732400"
      },
      "execution_count": 139,
      "outputs": [
        {
          "output_type": "stream",
          "name": "stdout",
          "text": [
            "You can't divide by zero!\n"
          ]
        }
      ]
    },
    {
      "cell_type": "code",
      "source": [
        "print('Give me two number and I\"ll divide them')\n",
        "print('Enter q to quit: ')\n",
        "while True:\n",
        "  num1=input('\\nEnter your num1: ')\n",
        "  if num1=='q':\n",
        "    break\n",
        "\n",
        "  num2=input('Enter your num2: ')\n",
        "  if num2=='q':\n",
        "    break\n",
        "  try:\n",
        "    res=int(num1)/int(num2)\n",
        "  except:\n",
        "    print('You cant divide with 0')\n",
        "\n",
        "  else:\n",
        "    print(res)"
      ],
      "metadata": {
        "colab": {
          "base_uri": "https://localhost:8080/"
        },
        "id": "uPaNYZrqDKCD",
        "outputId": "94b25560-ff8f-4d36-d2c4-8a2eb19c9283"
      },
      "execution_count": 140,
      "outputs": [
        {
          "name": "stdout",
          "output_type": "stream",
          "text": [
            "Give me two number and I\"ll divide them\n",
            "Enter q to quit: \n",
            "\n",
            "Enter your num1: 45\n",
            "Enter your num2: 9\n",
            "5.0\n",
            "\n",
            "Enter your num1: q\n"
          ]
        }
      ]
    },
    {
      "cell_type": "code",
      "source": [
        "try:\n",
        "  with open('alice.txt','r') as f:\n",
        "    f.read()\n",
        "except FileNotFoundError:\n",
        "  print(f'file does not exist')"
      ],
      "metadata": {
        "colab": {
          "base_uri": "https://localhost:8080/"
        },
        "id": "EO4impPxfNzg",
        "outputId": "4c45399d-f737-41f5-8f09-4f8a3eb722a3"
      },
      "execution_count": 141,
      "outputs": [
        {
          "output_type": "stream",
          "name": "stdout",
          "text": [
            "file does not exist\n"
          ]
        }
      ]
    },
    {
      "cell_type": "code",
      "source": [
        "while True:\n",
        "  try:\n",
        "    num1=int(input('Enter your 1st number: '))\n",
        "    num2=int(input('Enter your 2nd number: '))\n",
        "    sum = num1+num2\n",
        "    print(sum)\n",
        "  except ValueError:\n",
        "    print('Kindly enter integer')"
      ],
      "metadata": {
        "colab": {
          "base_uri": "https://localhost:8080/",
          "height": 443
        },
        "id": "24c7gjQLoqdy",
        "outputId": "4d308dea-f57a-4bcb-821b-24531a051430"
      },
      "execution_count": 142,
      "outputs": [
        {
          "output_type": "stream",
          "name": "stdout",
          "text": [
            "Enter your 1st number: 46\n",
            "Enter your 2nd number: 2\n",
            "48\n",
            "Enter your 1st number: w\n",
            "Kindly enter integer\n"
          ]
        },
        {
          "output_type": "error",
          "ename": "KeyboardInterrupt",
          "evalue": "Interrupted by user",
          "traceback": [
            "\u001b[0;31m---------------------------------------------------------------------------\u001b[0m",
            "\u001b[0;31mKeyboardInterrupt\u001b[0m                         Traceback (most recent call last)",
            "\u001b[0;32m/tmp/ipython-input-1637044162.py\u001b[0m in \u001b[0;36m<cell line: 0>\u001b[0;34m()\u001b[0m\n\u001b[1;32m      1\u001b[0m \u001b[0;32mwhile\u001b[0m \u001b[0;32mTrue\u001b[0m\u001b[0;34m:\u001b[0m\u001b[0;34m\u001b[0m\u001b[0;34m\u001b[0m\u001b[0m\n\u001b[1;32m      2\u001b[0m   \u001b[0;32mtry\u001b[0m\u001b[0;34m:\u001b[0m\u001b[0;34m\u001b[0m\u001b[0;34m\u001b[0m\u001b[0m\n\u001b[0;32m----> 3\u001b[0;31m     \u001b[0mnum1\u001b[0m\u001b[0;34m=\u001b[0m\u001b[0mint\u001b[0m\u001b[0;34m(\u001b[0m\u001b[0minput\u001b[0m\u001b[0;34m(\u001b[0m\u001b[0;34m'Enter your 1st number: '\u001b[0m\u001b[0;34m)\u001b[0m\u001b[0;34m)\u001b[0m\u001b[0;34m\u001b[0m\u001b[0;34m\u001b[0m\u001b[0m\n\u001b[0m\u001b[1;32m      4\u001b[0m     \u001b[0mnum2\u001b[0m\u001b[0;34m=\u001b[0m\u001b[0mint\u001b[0m\u001b[0;34m(\u001b[0m\u001b[0minput\u001b[0m\u001b[0;34m(\u001b[0m\u001b[0;34m'Enter your 2nd number: '\u001b[0m\u001b[0;34m)\u001b[0m\u001b[0;34m)\u001b[0m\u001b[0;34m\u001b[0m\u001b[0;34m\u001b[0m\u001b[0m\n\u001b[1;32m      5\u001b[0m     \u001b[0msum\u001b[0m \u001b[0;34m=\u001b[0m \u001b[0mnum1\u001b[0m\u001b[0;34m+\u001b[0m\u001b[0mnum2\u001b[0m\u001b[0;34m\u001b[0m\u001b[0;34m\u001b[0m\u001b[0m\n",
            "\u001b[0;32m/usr/local/lib/python3.12/dist-packages/ipykernel/kernelbase.py\u001b[0m in \u001b[0;36mraw_input\u001b[0;34m(self, prompt)\u001b[0m\n\u001b[1;32m   1175\u001b[0m                 \u001b[0;34m\"raw_input was called, but this frontend does not support input requests.\"\u001b[0m\u001b[0;34m\u001b[0m\u001b[0;34m\u001b[0m\u001b[0m\n\u001b[1;32m   1176\u001b[0m             )\n\u001b[0;32m-> 1177\u001b[0;31m         return self._input_request(\n\u001b[0m\u001b[1;32m   1178\u001b[0m             \u001b[0mstr\u001b[0m\u001b[0;34m(\u001b[0m\u001b[0mprompt\u001b[0m\u001b[0;34m)\u001b[0m\u001b[0;34m,\u001b[0m\u001b[0;34m\u001b[0m\u001b[0;34m\u001b[0m\u001b[0m\n\u001b[1;32m   1179\u001b[0m             \u001b[0mself\u001b[0m\u001b[0;34m.\u001b[0m\u001b[0m_parent_ident\u001b[0m\u001b[0;34m[\u001b[0m\u001b[0;34m\"shell\"\u001b[0m\u001b[0;34m]\u001b[0m\u001b[0;34m,\u001b[0m\u001b[0;34m\u001b[0m\u001b[0;34m\u001b[0m\u001b[0m\n",
            "\u001b[0;32m/usr/local/lib/python3.12/dist-packages/ipykernel/kernelbase.py\u001b[0m in \u001b[0;36m_input_request\u001b[0;34m(self, prompt, ident, parent, password)\u001b[0m\n\u001b[1;32m   1217\u001b[0m             \u001b[0;32mexcept\u001b[0m \u001b[0mKeyboardInterrupt\u001b[0m\u001b[0;34m:\u001b[0m\u001b[0;34m\u001b[0m\u001b[0;34m\u001b[0m\u001b[0m\n\u001b[1;32m   1218\u001b[0m                 \u001b[0;31m# re-raise KeyboardInterrupt, to truncate traceback\u001b[0m\u001b[0;34m\u001b[0m\u001b[0;34m\u001b[0m\u001b[0m\n\u001b[0;32m-> 1219\u001b[0;31m                 \u001b[0;32mraise\u001b[0m \u001b[0mKeyboardInterrupt\u001b[0m\u001b[0;34m(\u001b[0m\u001b[0;34m\"Interrupted by user\"\u001b[0m\u001b[0;34m)\u001b[0m \u001b[0;32mfrom\u001b[0m \u001b[0;32mNone\u001b[0m\u001b[0;34m\u001b[0m\u001b[0;34m\u001b[0m\u001b[0m\n\u001b[0m\u001b[1;32m   1220\u001b[0m             \u001b[0;32mexcept\u001b[0m \u001b[0mException\u001b[0m\u001b[0;34m:\u001b[0m\u001b[0;34m\u001b[0m\u001b[0;34m\u001b[0m\u001b[0m\n\u001b[1;32m   1221\u001b[0m                 \u001b[0mself\u001b[0m\u001b[0;34m.\u001b[0m\u001b[0mlog\u001b[0m\u001b[0;34m.\u001b[0m\u001b[0mwarning\u001b[0m\u001b[0;34m(\u001b[0m\u001b[0;34m\"Invalid Message:\"\u001b[0m\u001b[0;34m,\u001b[0m \u001b[0mexc_info\u001b[0m\u001b[0;34m=\u001b[0m\u001b[0;32mTrue\u001b[0m\u001b[0;34m)\u001b[0m\u001b[0;34m\u001b[0m\u001b[0;34m\u001b[0m\u001b[0m\n",
            "\u001b[0;31mKeyboardInterrupt\u001b[0m: Interrupted by user"
          ]
        }
      ]
    },
    {
      "cell_type": "code",
      "source": [
        "import json\n",
        "numbers=[2, 3, 5, 7, 11, 13]\n",
        "filename='numbers.json'\n",
        "with open(filename,'w') as f:\n",
        "  json.dump(numbers,f)"
      ],
      "metadata": {
        "id": "fS4de4P48O2D"
      },
      "execution_count": 143,
      "outputs": []
    },
    {
      "cell_type": "code",
      "source": [
        "import json\n",
        "filename='numbers.json'\n",
        "with open(filename) as f:\n",
        "  numbers=json.load(f)\n",
        "  print(numbers)"
      ],
      "metadata": {
        "colab": {
          "base_uri": "https://localhost:8080/"
        },
        "id": "G6iLPxbg9jeF",
        "outputId": "5b1f594d-2de3-4483-d037-b5792a6521ed"
      },
      "execution_count": 144,
      "outputs": [
        {
          "output_type": "stream",
          "name": "stdout",
          "text": [
            "[2, 3, 5, 7, 11, 13]\n"
          ]
        }
      ]
    },
    {
      "cell_type": "code",
      "source": [
        "import json\n",
        "\n",
        "username=input('Enter your nmae: ')\n",
        "filename='numbers.json'\n",
        "with open(filename,'w') as f:\n",
        "  json.dump(username,f)\n",
        "  print(f'We remember you {username}')\n"
      ],
      "metadata": {
        "colab": {
          "base_uri": "https://localhost:8080/"
        },
        "id": "6mNr2Qmx4ocn",
        "outputId": "14b60c12-7faf-4c0d-e592-2b0937236337"
      },
      "execution_count": 145,
      "outputs": [
        {
          "output_type": "stream",
          "name": "stdout",
          "text": [
            "Enter your nmae: ali\n",
            "We remember you ali\n"
          ]
        }
      ]
    },
    {
      "cell_type": "code",
      "source": [
        "import json\n",
        "filename='numbers.json'\n",
        "with open(filename) as f:\n",
        "  # numbers=\n",
        "  print(f'Welcome {json.load(f)}')"
      ],
      "metadata": {
        "colab": {
          "base_uri": "https://localhost:8080/"
        },
        "id": "5yIFp9X75jNt",
        "outputId": "7ecddb95-8923-413b-a094-da1de2357813"
      },
      "execution_count": 146,
      "outputs": [
        {
          "output_type": "stream",
          "name": "stdout",
          "text": [
            "Welcome ali\n"
          ]
        }
      ]
    },
    {
      "cell_type": "code",
      "source": [
        "import json\n",
        "def greet_user():\n",
        "  \"\"\"Greet user by its name\"\"\"\n",
        "\n",
        "  filename='username.txt'\n",
        "  try:\n",
        "    with open(filename) as f:\n",
        "      username=json.load(f)\n",
        "  except FileNotFoundError:\n",
        "    with open(filename,'w') as f:\n",
        "      username=input('enter your name: ')\n",
        "      json.dump(username,f)\n",
        "      print(f\"We'll remember you {username}\")\n",
        "  else:\n",
        "    print(f'Welcome {username}')\n",
        "\n",
        "greet_user()"
      ],
      "metadata": {
        "colab": {
          "base_uri": "https://localhost:8080/"
        },
        "id": "Z_DI4xbd6Z_b",
        "outputId": "e768cc0d-fd22-4268-a6b6-3b862ccf92e4"
      },
      "execution_count": 147,
      "outputs": [
        {
          "output_type": "stream",
          "name": "stdout",
          "text": [
            "enter your name: ali\n",
            "We'll remember you ali\n"
          ]
        }
      ]
    },
    {
      "cell_type": "code",
      "source": [
        "import json\n",
        "filename = 'favrt_num'\n",
        "num=input('Enter your number: ')\n",
        "with open(filename,'w') as f:\n",
        "  json.dump(num,f)"
      ],
      "metadata": {
        "colab": {
          "base_uri": "https://localhost:8080/"
        },
        "id": "MLkCZqCv-lDL",
        "outputId": "887890f1-dd27-4848-d904-eb7b5c83fc69"
      },
      "execution_count": 148,
      "outputs": [
        {
          "name": "stdout",
          "output_type": "stream",
          "text": [
            "Enter your number: 44\n"
          ]
        }
      ]
    },
    {
      "cell_type": "code",
      "source": [
        "import json\n",
        "filename = 'favrt_num'\n",
        "with open(filename) as f:\n",
        "  number=json.load(f)\n",
        "  print(f'I remember your favrt number is {number}')"
      ],
      "metadata": {
        "colab": {
          "base_uri": "https://localhost:8080/"
        },
        "id": "6TOXbpnu_IBw",
        "outputId": "ac3be824-9b75-4c9a-90db-5d85ec3a5816"
      },
      "execution_count": 149,
      "outputs": [
        {
          "output_type": "stream",
          "name": "stdout",
          "text": [
            "I remember your favrt number is 44\n"
          ]
        }
      ]
    },
    {
      "cell_type": "code",
      "source": [
        "import json\n",
        "filename = 'favrt_num'\n",
        "try:\n",
        "  with open(filename) as f:\n",
        "    number=json.load(f)\n",
        "except FileNotFoundError:\n",
        "  number=input('Enter your favrt number: ')\n",
        "  with open(filename,'w') as f:\n",
        "    json.dump(number,f)\n",
        "    print(f'Ill remember your favrt number {number}')\n",
        "else:\n",
        "  print(f'I know your favrt number is {number}')"
      ],
      "metadata": {
        "colab": {
          "base_uri": "https://localhost:8080/"
        },
        "id": "MnRGV5amAP25",
        "outputId": "be779af7-be90-482a-ae95-78d8ed8c69cf"
      },
      "execution_count": 150,
      "outputs": [
        {
          "output_type": "stream",
          "name": "stdout",
          "text": [
            "I know your favrt number is 44\n"
          ]
        }
      ]
    },
    {
      "cell_type": "code",
      "source": [
        "import json\n",
        "\n",
        "filename = 'username.json'\n",
        "\n",
        "def get_stored_username():\n",
        "    \"\"\"Get the stored username if available.\"\"\"\n",
        "    try:\n",
        "        with open(filename) as f:\n",
        "            username = json.load(f)\n",
        "    except FileNotFoundError:\n",
        "        return None\n",
        "    return username\n",
        "\n",
        "def get_new_username():\n",
        "    \"\"\"Prompt for a new username.\"\"\"\n",
        "    username = input(\"What is your name? \")\n",
        "    with open(filename, 'w') as f:\n",
        "        json.dump(username, f)\n",
        "    return username\n",
        "\n",
        "def greet_user():\n",
        "    \"\"\"Greet the user by name.\"\"\"\n",
        "    username = get_stored_username()\n",
        "    if username:\n",
        "        is_correct = input(f\"Is this your username: {username}? (yes/no) \").lower()\n",
        "        if is_correct == 'yes':\n",
        "            print(f\"Welcome back, {username}!\")\n",
        "        else:\n",
        "            username = get_new_username()\n",
        "            print(f\"We'll remember you when you come back, {username}!\")\n",
        "    else:\n",
        "        username = get_new_username()\n",
        "        print(f\"We'll remember you when you come back, {username}!\")\n",
        "\n",
        "greet_user()\n"
      ],
      "metadata": {
        "colab": {
          "base_uri": "https://localhost:8080/"
        },
        "id": "2cVlbzbJClxV",
        "outputId": "f194e3ee-96b6-4993-df24-9169cd73a90a"
      },
      "execution_count": 151,
      "outputs": [
        {
          "output_type": "stream",
          "name": "stdout",
          "text": [
            "What is your name? ali\n",
            "We'll remember you when you come back, ali!\n"
          ]
        }
      ]
    },
    {
      "cell_type": "markdown",
      "source": [
        "# ***CH#Project***"
      ],
      "metadata": {
        "id": "KQdpRGtMxczq"
      }
    },
    {
      "cell_type": "code",
      "source": [
        "import matplotlib.pyplot as plt\n",
        "x_values = [1, 2, 3, 4, 5]\n",
        "y_values = [1, 4, 9, 16, 25]\n",
        "input = [1,2,3,4,5]\n",
        "sq = [1,4,9,16,25]\n",
        "plt.style.use('seaborn-v0_8') #For styling\n",
        "fig,ax = plt.subplots() #To make a charts\n",
        "ax.plot(input,sq,linewidth = 3) #Making its figure\n",
        "ax.scatter(x_values, y_values, c='green' , s=100) #For plotting single plots on the graph\n",
        "\n",
        "#Labling axes and giving Title\n",
        "ax.set_title('Square Numbers',fontsize = 24)\n",
        "ax.set_xlabel('Value',fontsize = 14)\n",
        "ax.set_ylabel('Squares',fontsize = 14)\n",
        "\n",
        "#Size of tick lables\n",
        "ax.tick_params(axis='both',which = 'major',labelsize = 10)\n",
        "plt.show()"
      ],
      "metadata": {
        "id": "w_KpYyESxipU",
        "colab": {
          "base_uri": "https://localhost:8080/",
          "height": 539
        },
        "outputId": "573c8a47-cd95-4409-f545-ce257d12e509"
      },
      "execution_count": 152,
      "outputs": [
        {
          "output_type": "display_data",
          "data": {
            "text/plain": [
              "<Figure size 800x550 with 1 Axes>"
            ],
            "image/png": "[encoded data removed]"
          },
          "metadata": {}
        }
      ]
    },
    {
      "cell_type": "code",
      "source": [
        "#If you want to draw too many points so we'll use loop\n",
        "\n",
        "import matplotlib.pyplot as plt\n",
        "x_values = range(1,1001)\n",
        "y_values = [x**2 for x in x_values]\n",
        "input = [1,2,3,4,5]\n",
        "sq = [1,4,9,16,25]\n",
        "plt.style.use('seaborn-v0_8') #For styling\n",
        "fig,ax = plt.subplots() #To make a charts\n",
        "ax.plot(input,sq,linewidth = 3) #Making its figure\n",
        "ax.scatter(x_values, y_values, c=y_values, cmap=plt.cm.Reds , s=10) #For plotting single plots on the graph\n",
        "\n",
        "#Labling axes and giving Title\n",
        "ax.set_title('Square Numbers',fontsize = 24)\n",
        "ax.set_xlabel('Value',fontsize = 14)\n",
        "ax.set_ylabel('Squares',fontsize = 14)\n",
        "\n",
        "#Size of tick lables\n",
        "ax.tick_params(axis='both',which = 'major',labelsize = 10)\n",
        "\n",
        "#set range for each axis\n",
        "ax.axis([0, 1100, 0, 1100000])\n",
        "plt.show()"
      ],
      "metadata": {
        "colab": {
          "base_uri": "https://localhost:8080/",
          "height": 539
        },
        "id": "xPOJxWDIPNFD",
        "outputId": "4514e5d3-ca43-4621-ef72-b7e3d5694bd8"
      },
      "execution_count": 153,
      "outputs": [
        {
          "output_type": "display_data",
          "data": {
            "text/plain": [
              "<Figure size 800x550 with 1 Axes>"
            ],
            "image/png": "[encoded data removed]"
          },
          "metadata": {}
        }
      ]
    },
    {
      "cell_type": "code",
      "source": [
        "import matplotlib.pyplot as plt\n",
        "x_values = range(1,5001)\n",
        "y_values = [x**3 for x in x_values]\n",
        "fig,ax = plt.subplots()\n",
        "ax.plot(x_values,y_values)\n",
        "ax.scatter(x_values,y_values, c=y_values, cmap = plt.cm.Greens , s=10)\n",
        "#Showing there title and lables\n",
        "ax.set_title('Cubes of num',fontsize=24)\n",
        "ax.set_xlabel('Numbers',fontsize=14)\n",
        "ax.set_ylabel('Cubes',fontsize=14)\n",
        "plt.show()"
      ],
      "metadata": {
        "colab": {
          "base_uri": "https://localhost:8080/",
          "height": 539
        },
        "id": "LhGyShN8dFyO",
        "outputId": "5b463341-ab7d-4222-aa3c-fa6374474c3c"
      },
      "execution_count": 154,
      "outputs": [
        {
          "output_type": "display_data",
          "data": {
            "text/plain": [
              "<Figure size 800x550 with 1 Axes>"
            ],
            "image/png": "[encoded data removed]"
          },
          "metadata": {}
        }
      ]
    },
    {
      "cell_type": "markdown",
      "source": [
        "***Random Walk***"
      ],
      "metadata": {
        "id": "Dd1TCne-QN7R"
      }
    },
    {
      "cell_type": "code",
      "source": [
        "from random import choice\n",
        "class RandomWalk:\n",
        "  '''A class to generate random walks'''\n",
        "  def __init__(self,num_points=5000):\n",
        "    self.num_points = num_points\n",
        "    self.x_values = [0]\n",
        "    self.y_values = [0]\n",
        "\n",
        "  def fill_walk(self):\n",
        "    while len(self.x_values)<self.num_points:\n",
        "      x_direction = choice([1,-1])\n",
        "      x_distance = ([0,1,2,3,4])\n",
        "      x_step = x_direction * x_direction\n",
        "\n",
        "      y_direction = choice([1,-1])\n",
        "      y_distance = ([0,1,2,3,4])\n",
        "      y_step = y_direction * y_direction\n",
        "\n",
        "      if x_step==0 or y_step==0:\n",
        "        continue\n",
        "\n",
        "      #Calculate new position\n",
        "      x = self.x_values[-1] + x_step\n",
        "      y = self.y_values[-1] + y_step\n",
        "\n",
        "      self.x_values.append(x)\n",
        "      self.y_values.append(y)"
      ],
      "metadata": {
        "id": "8j6mZH_uQSr2"
      },
      "execution_count": 155,
      "outputs": []
    },
    {
      "cell_type": "code",
      "source": [
        "import matplotlib.pyplot as plt\n",
        "\n",
        "rw = RandomWalk()\n",
        "rw.fill_walk()\n",
        "\n",
        "plt.style.use('classic')\n",
        "fig,ax = plt.subplots()\n",
        "ax.scatter(rw.x_values,rw.y_values,s=15)\n",
        "plt.show()"
      ],
      "metadata": {
        "colab": {
          "base_uri": "https://localhost:8080/",
          "height": 440
        },
        "id": "OsRGCHNJelxC",
        "outputId": "339c3827-e26b-47f5-f583-3b6b7e938075"
      },
      "execution_count": 156,
      "outputs": [
        {
          "output_type": "display_data",
          "data": {
            "text/plain": [
              "<Figure size 640x480 with 1 Axes>"
            ],
            "image/png": "[encoded data removed]"
          },
          "metadata": {}
        }
      ]
    },
    {
      "cell_type": "code",
      "source": [
        "!pip install transformers datasets"
      ],
      "metadata": {
        "id": "qrtPcxEloxx3"
      },
      "execution_count": null,
      "outputs": []
    },
    {
      "cell_type": "code",
      "source": [
        "from datasets import load_dataset\n",
        "\n",
        "# Load the RACE dataset (test split for simplicity)\n",
        "dataset = load_dataset(\"ehovy/race\", \"all\", split=\"test\")\n",
        "\n",
        "# Print a sample passage and question\n",
        "sample = dataset[5]\n",
        "print(\"Passage:\\n\", sample[\"article\"])\n",
        "print(\"\\nQuestion:\", sample[\"question\"][0])\n",
        "print(\"Options:\", sample[\"options\"][0])\n",
        "print(\"Correct Answer:\", sample[\"answer\"][0])"
      ],
      "metadata": {
        "colab": {
          "base_uri": "https://localhost:8080/",
          "height": 504,
          "referenced_widgets": [
            "e0fd340744b8403fa6b0480c43cce090",
            "7b765e9abdf44d77993f0b490076dd40",
            "bafa4e0576c440aa9603a1c2328e6733",
            "78988530b4ee457ca4b0f0a25ed0d5ee",
            "7a627bdd1f314a9586dec3e090adfa62",
            "c31a9980f0494a87b9621f0e671a7ff0",
            "81996a147b4741f39cfc1f3cfee49716",
            "bed73daa6e0f4f40a43a8269dd4b6a04",
            "3516171954f9443bb2348dc5423c45a6",
            "41a2787a18024b85819b3f453d7cab3b",
            "2dbaa36ccd874143b71e9a9fc67bde18",
            "05eda388b737454eb816ff975fab6f4d",
            "de0488fa8aed43768f98f81e67be7ef8",
            "f449a9ba5cd84fc3a48e2d0a627abb86",
            "76e2e48207784c7490b22e43ec99d4b3",
            "df838ee622aa419d933b1ecf5593bb34",
            "c221b8e5751f47098eb7d24a28932e20",
            "b7e8dd177d004cf6bf4f9a73e1c86713",
            "50db6d187bf3487d89bf6751e5ec913b",
            "e97b6db927164395a7f3b38f5d4b2bbc",
            "3406fa2240e24eb0b37a2bef7c35a5c5",
            "15859a5482f749e3b16df1c42d2d7bc1",
            "0a15b36345414739a4da0f4e809f1552",
            "1d0958383e204c1abb9e0a484262ad90",
            "ca7a137b8e39423f811ff7334b0570cd",
            "55c5f1cfb42d4e3cb0944eab82b8bd73",
            "8f451054c8474899b4aeb9c51912d1d4",
            "a4dda8f0324b41ad935ac07eaf2c64f7",
            "c00c7b50e88b4658921b9105d73779bf",
            "57fa0301f4f84e368e8ed4fbe3584591",
            "da7a3da5d123430a9852d49a1ea1275f",
            "06f6952763214def9117af6d5f9585dd",
            "d8b851c583a947eda9ba2200b388f294",
            "e287a6405a1e463e885fa9d62001f3a2",
            "d84874ad2ed342c1b0cb53575f5a487f",
            "32c9a341a9074c719092f463ceeb26bf",
            "4ccc16378b784fb4bcfb94e10ee7d4fe",
            "83a9e52ebea64ae68b144a09bbb39a57",
            "3854e1580b1f4e089d086fb136ed26e7",
            "40831c86a7f0499ab8e593445731e93b",
            "cee6add5871544d38c69ae9d43fc7474",
            "a0527b1b1dd942d180b4b54df3f93ed2",
            "ad207a96f33d4357afe4f7af7db12955",
            "e170370ded584292bb774619407e9943",
            "4ca3a3ca7f134a989ff219d907734ba4",
            "45a2d16f5f654305a0e847db20ff146a",
            "4d47e7acf2f340efbb5aae8ff560512d",
            "0811655d7d4c4e6f884ae967cb556735",
            "c202780a541049789f74a86b0210e8db",
            "909d4c6377ce462d820bd9144737e448",
            "fe0dc43e7d2c4852b229d5b60a241ef1",
            "2100afb757b84f2ba7f2884e5ba48bb3",
            "bfb2627cd4c24189b37fefbdbe078d9a",
            "25c0e23b78f54df0a432e35b90b1a896",
            "810ab0791a984533b45af62fee44a44e",
            "483d988ea9bb4aa3a343a23517a6811e",
            "8bc1d5a812be4c0986ce236ff9fc849d",
            "2c35e5ad75ba495c99f646ec009962fb",
            "ee1c8d89c659461882f9e97c6085e920",
            "7e93c3622f424c02bf774e6234188800",
            "e83ff84837274c0d88877b3a1fe175d3",
            "6a051546560a4202903256243de4b464",
            "99b67bb2f7b84529b4e324a171d35e99",
            "2c1ca37abf5c48c5b8751e62973c4ab4",
            "037f360d4528463aa3093420f9c0d842",
            "e1a7c84355cc4c6cbf6d28a9cac88eb4",
            "f03daf8b4cb84acc8c821158a58f0223",
            "69fd5c71650040f4950c0ad959684536",
            "91bd3470c2414d3eabe8270a837187e0",
            "60c0414352364d2784b09d89abe6f93b",
            "20a35349319647f494c9f05c0dd36a5c",
            "34cc6e9c09a54bf89a8db6552552fd33",
            "04a4355a61664768a86e1308db17d413",
            "e4dafadf6ab64287b117f880adc7ecf6",
            "02cd23ba85794dc1b3129dbe9abedc03",
            "55c9921495984b5ab0233a1f3c7c0ecd",
            "54d5ee1d40d446618e4f1b08c7b34157"
          ]
        },
        "id": "P8G5Xxuuo3bg",
        "outputId": "15770c27-523c-4923-c703-24753587067d"
      },
      "execution_count": 157,
      "outputs": [
        {
          "output_type": "stream",
          "name": "stderr",
          "text": [
            "/usr/local/lib/python3.12/dist-packages/huggingface_hub/utils/_auth.py:94: UserWarning: \n",
            "The secret `HF_TOKEN` does not exist in your Colab secrets.\n",
            "To authenticate with the Hugging Face Hub, create a token in your settings tab (https://huggingface.co/settings/tokens), set it as secret in your Google Colab and restart your session.\n",
            "You will be able to reuse this secret in all of your notebooks.\n",
            "Please note that authentication is recommended but still optional to access public models or datasets.\n",
            "  warnings.warn(\n"
          ]
        },
        {
          "output_type": "display_data",
          "data": {
            "text/plain": [
              "README.md: 0.00B [00:00, ?B/s]"
            ],
            "application/vnd.jupyter.widget-view+json": {
              "version_major": 2,
              "version_minor": 0,
              "model_id": "e0fd340744b8403fa6b0480c43cce090"
            }
          },
          "metadata": {}
        },
        {
          "output_type": "display_data",
          "data": {
            "text/plain": [
              "all/test-00000-of-00001.parquet:   0%|          | 0.00/2.08M [00:00<?, ?B/s]"
            ],
            "application/vnd.jupyter.widget-view+json": {
              "version_major": 2,
              "version_minor": 0,
              "model_id": "05eda388b737454eb816ff975fab6f4d"
            }
          },
          "metadata": {}
        },
        {
          "output_type": "display_data",
          "data": {
            "text/plain": [
              "all/train-00000-of-00001.parquet:   0%|          | 0.00/37.4M [00:00<?, ?B/s]"
            ],
            "application/vnd.jupyter.widget-view+json": {
              "version_major": 2,
              "version_minor": 0,
              "model_id": "0a15b36345414739a4da0f4e809f1552"
            }
          },
          "metadata": {}
        },
        {
          "output_type": "display_data",
          "data": {
            "text/plain": [
              "all/validation-00000-of-00001.parquet:   0%|          | 0.00/2.05M [00:00<?, ?B/s]"
            ],
            "application/vnd.jupyter.widget-view+json": {
              "version_major": 2,
              "version_minor": 0,
              "model_id": "e287a6405a1e463e885fa9d62001f3a2"
            }
          },
          "metadata": {}
        },
        {
          "output_type": "display_data",
          "data": {
            "text/plain": [
              "Generating test split:   0%|          | 0/4934 [00:00<?, ? examples/s]"
            ],
            "application/vnd.jupyter.widget-view+json": {
              "version_major": 2,
              "version_minor": 0,
              "model_id": "4ca3a3ca7f134a989ff219d907734ba4"
            }
          },
          "metadata": {}
        },
        {
          "output_type": "display_data",
          "data": {
            "text/plain": [
              "Generating train split:   0%|          | 0/87866 [00:00<?, ? examples/s]"
            ],
            "application/vnd.jupyter.widget-view+json": {
              "version_major": 2,
              "version_minor": 0,
              "model_id": "483d988ea9bb4aa3a343a23517a6811e"
            }
          },
          "metadata": {}
        },
        {
          "output_type": "display_data",
          "data": {
            "text/plain": [
              "Generating validation split:   0%|          | 0/4887 [00:00<?, ? examples/s]"
            ],
            "application/vnd.jupyter.widget-view+json": {
              "version_major": 2,
              "version_minor": 0,
              "model_id": "f03daf8b4cb84acc8c821158a58f0223"
            }
          },
          "metadata": {}
        },
        {
          "output_type": "stream",
          "name": "stdout",
          "text": [
            "Passage:\n",
            " There is probably no field of human activity in which our values and lifestyles are shown more clearly and strongly than they are in the clothes that we choose to wear.The dress of an individual is a kind of \"sign language\" that communicates a set of information and is usually the basis on which immediate impressions are formed.Traditionally,a concern for clothes was considered to be an affair of females,while men took pride in the fact that they were completely lacking in clothes consciousness .\n",
            "This type of American culture is by degrees changing as man dress takes on greater variety and color.Even as early as 1955,a researcher in Michigan said that _ White collar workers in particular viewed dress as a symbol of ability,which could be used to impress or influence others,especially in the work situation.The white collar worker was described as extremely concerned about the impression his clothing made on his superiors .Although blue collar workers were less aware that they might be judged on the basis of their clothing,they recognized that any difference from the accepted pattern of dress would be made fun of by fellow workers.\n",
            "Since that time,of course,the patterns have changed:the typical office worker may now be wearing the blue shirt,and the laborer a white shirt;but the importance of dress has not become less.Other researchers in recent years have helped to prove its importance in the lives of individuals at various age levels and in different social and economic status groups .\n",
            "\n",
            "Question: B\n",
            "Options: they are concerned about the impression their clothes make on their superiors\n",
            "Correct Answer: D\n"
          ]
        }
      ]
    },
    {
      "cell_type": "code",
      "source": [
        "from transformers import pipeline\n",
        "\n",
        "# Load a question-generation model (no training needed!)\n",
        "question_generator = pipeline(\n",
        "    \"text2text-generation\",\n",
        "    model=\"mrm8488/t5-base-finetuned-question-generation-ap\"\n",
        ")"
      ],
      "metadata": {
        "colab": {
          "base_uri": "https://localhost:8080/",
          "height": 232,
          "referenced_widgets": [
            "da703570217f43e795f4429970720157",
            "eb1c0ff5980849c3ac4b156a71b01cc6",
            "d8eec90411514b6796fdc117b9b0a946",
            "ce82c2ac92a04ff9b14daf7d7b56049a",
            "0484a4d1dfc3450d952bfd7bbea0c86a",
            "fb9a50217a0a496e9bab98699b2de78f",
            "7e11dbde65014dffa1fe608b59f9bf59",
            "303c1f46f88245aa826b151c9f547194",
            "897c7058092f4aaea86804da12d0194e",
            "27bd7cd128664b97bdee8d92d2f4dfe4",
            "1455cc28304d462fa3ac01ee83b5cf89",
            "81acf636f2354331a521fa25d390ae72",
            "e0ddc55a219d4a72b7a9c143f979b9ed",
            "0c85a2f195e6446bacec13ea0ecd6588",
            "8640e6b06e304c1e8cc3033a176b2939",
            "2cd55a4756444f8fb3e9c6835bda10cf",
            "ff56f14019a44e359aec20183573c847",
            "5cd16666586d40b5a4a5d2f6bbca07a5",
            "fdf9eacb1064462b9bbeae338da8dc0e",
            "bf198ac02b914c429fa31fd9efc6994f",
            "f0a2a079a60546119be91e1d79f1b913",
            "435318dbfb254545b6d1e594466b28b1",
            "1adebe1c4083410e9c56bebb9de27dfa",
            "ce3ba4d366654b3484ca7f250840255f",
            "15e63abad69f4bbbabe0b6012ac4e69d",
            "d7d2a34622534d859f879b122140f806",
            "36c8238b2ece4471a6b8d65a6165a0ea",
            "6b56deceb0284a45ab8cb0e2c8216f88",
            "3346d2d64ea74e2fb04c491ee793060d",
            "732126728b86473abc04fd4bbbc96cee",
            "e1f3e5fc6bbf48329e7a1921d6319e02",
            "9316b10836884d1cad1818bb1b1ad15f",
            "d8f8bd20abd34dfe95c160bb1f6ef207",
            "a6207e004ead4d12b3446724d63a2cf8",
            "9a65d9f330d04e5da6d50322efddb9dc",
            "acc72df7f96143a8bd7c1d972622008c",
            "731f4e58d5cd403e83473cc42c6125e3",
            "b13c9f176a314143a1db196ccfb2d8a0",
            "42a4948e8b9b4f5d999419cc442eac50",
            "3d3f8fac41304841820aca2426ab2c04",
            "487bed19494a44d3a520f7b1600fb5b0",
            "836eee149696407392472fe39a40fff9",
            "f70f065e0c46475ba3dbfee404f4ce17",
            "f99dbc10993b498c8513073b97a264ee",
            "70d40b0a44744c69b3dc516c5a30ea38",
            "6ef95203c3f94395993376342b959be5",
            "8654e1662a3e4ba69004939f459a859d",
            "512fc1056eb241afa775bd0a993918d0",
            "8b535f3c3da344d4bc191a19f5554104",
            "357f54b127664d3e874dc8cd0db810b8",
            "795ece1bc9d44e1199f7bad82f1cca7e",
            "0ec10fa15b63413c82c96786f5ead9dc",
            "a104898d20704f759fdb7f410c80db8a",
            "7f7b3bc7fca24290b1b3a7babc50ed83",
            "c544feeb160b45089cccf097cbc4dc03"
          ]
        },
        "id": "4FoAUVfDpbI0",
        "outputId": "16372f14-a889-4156-d1ed-308dac59cb61"
      },
      "execution_count": 158,
      "outputs": [
        {
          "output_type": "display_data",
          "data": {
            "text/plain": [
              "config.json: 0.00B [00:00, ?B/s]"
            ],
            "application/vnd.jupyter.widget-view+json": {
              "version_major": 2,
              "version_minor": 0,
              "model_id": "da703570217f43e795f4429970720157"
            }
          },
          "metadata": {}
        },
        {
          "output_type": "display_data",
          "data": {
            "text/plain": [
              "model.safetensors:   0%|          | 0.00/1.19G [00:00<?, ?B/s]"
            ],
            "application/vnd.jupyter.widget-view+json": {
              "version_major": 2,
              "version_minor": 0,
              "model_id": "81acf636f2354331a521fa25d390ae72"
            }
          },
          "metadata": {}
        },
        {
          "output_type": "display_data",
          "data": {
            "text/plain": [
              "tokenizer_config.json:   0%|          | 0.00/25.0 [00:00<?, ?B/s]"
            ],
            "application/vnd.jupyter.widget-view+json": {
              "version_major": 2,
              "version_minor": 0,
              "model_id": "1adebe1c4083410e9c56bebb9de27dfa"
            }
          },
          "metadata": {}
        },
        {
          "output_type": "display_data",
          "data": {
            "text/plain": [
              "spiece.model:   0%|          | 0.00/792k [00:00<?, ?B/s]"
            ],
            "application/vnd.jupyter.widget-view+json": {
              "version_major": 2,
              "version_minor": 0,
              "model_id": "a6207e004ead4d12b3446724d63a2cf8"
            }
          },
          "metadata": {}
        },
        {
          "output_type": "display_data",
          "data": {
            "text/plain": [
              "special_tokens_map.json: 0.00B [00:00, ?B/s]"
            ],
            "application/vnd.jupyter.widget-view+json": {
              "version_major": 2,
              "version_minor": 0,
              "model_id": "70d40b0a44744c69b3dc516c5a30ea38"
            }
          },
          "metadata": {}
        },
        {
          "output_type": "stream",
          "name": "stderr",
          "text": [
            "You are using the default legacy behaviour of the <class 'transformers.models.t5.tokenization_t5.T5Tokenizer'>. This is expected, and simply means that the `legacy` (previous) behavior will be used so nothing changes for you. If you want to use the new behaviour, set `legacy=False`. This should only be set if you understand what it means, and thoroughly read the reason why this was added as explained in https://github.com/huggingface/transformers/pull/24565\n",
            "Device set to use cpu\n"
          ]
        }
      ]
    },
    {
      "cell_type": "code",
      "source": [
        "def generate_exam_question(context):\n",
        "    # Generate a question using the model\n",
        "    result = question_generator(\n",
        "        context,\n",
        "        max_length=100,  # Limit question length\n",
        "        num_return_sequences=1  # Generate 1 question\n",
        "    )\n",
        "    return result[0]['generated_text']\n",
        "\n",
        "# Test with a sample passage from RACE\n",
        "sample_passage = sample[\"article\"][:500]  # Use first 500 characters to avoid errors\n",
        "generated_question = generate_exam_question(sample_passage)\n",
        "print(\"\\nGenerated Question:\\n\", generated_question)"
      ],
      "metadata": {
        "colab": {
          "base_uri": "https://localhost:8080/"
        },
        "id": "-eg1O2dapsXU",
        "outputId": "3456f8d4-cb19-46fc-c7da-ce44fd8ba627"
      },
      "execution_count": 159,
      "outputs": [
        {
          "output_type": "stream",
          "name": "stderr",
          "text": [
            "Both `max_new_tokens` (=256) and `max_length`(=100) seem to have been set. `max_new_tokens` will take precedence. Please refer to the documentation for more information. (https://huggingface.co/docs/transformers/main/en/main_classes/text_generation)\n"
          ]
        },
        {
          "output_type": "stream",
          "name": "stdout",
          "text": [
            "\n",
            "Generated Question:\n",
            " our values and lifestyles are shown more clearly and strongly in the clothes that we choose to wear.\n"
          ]
        }
      ]
    }
  ]
}